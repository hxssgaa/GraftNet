{
 "cells": [
  {
   "cell_type": "code",
   "execution_count": 1,
   "metadata": {
    "scrolled": true
   },
   "outputs": [],
   "source": [
    "import sys\n",
    "import time\n",
    "\n",
    "\n",
    "from pullnet import PullNet\n",
    "from graftnet import GraftNet\n",
    "from pullnet_data_loader import DataLoader\n",
    "from fpnet_data_loader import FpNetDataLoader\n",
    "from relreasoner_data_loader import RelReasonerDataLoader\n",
    "from fpnet import FactsPullNet\n",
    "from util import *\n",
    "from multiprocessing.pool import Pool\n",
    "\n",
    "\n",
    "import warnings\n",
    "warnings.filterwarnings(\"ignore\")"
   ]
  },
  {
   "cell_type": "markdown",
   "metadata": {},
   "source": [
    "## Load data"
   ]
  },
  {
   "cell_type": "code",
   "execution_count": 2,
   "metadata": {
    "scrolled": true
   },
   "outputs": [],
   "source": [
    "cfg = get_config('config/webqsp.yml')\n",
    "facts = load_json('datasets/complexwebq/all_facts_all_new2.json')\n",
    "word2id = load_dict(cfg['data_folder'] + cfg['word2id'])\n",
    "relation2id = load_dict(cfg['data_folder'] + cfg['relation2id'])\n",
    "entity2id = load_dict(cfg['data_folder'] + cfg['entity2id'])\n",
    "features = load_json('datasets/complexwebq/features.json')\n",
    "num_hop = cfg['num_hop']"
   ]
  },
  {
   "cell_type": "code",
   "execution_count": 3,
   "metadata": {},
   "outputs": [],
   "source": [
    "facts2 = load_json('datasets/webqsp/facts.json')"
   ]
  },
  {
   "cell_type": "code",
   "execution_count": 4,
   "metadata": {},
   "outputs": [],
   "source": [
    "def load_fact3(file):\n",
    "    kb = dict()\n",
    "    with open(file) as f:\n",
    "        for line in f.readlines():\n",
    "            line = line.strip()\n",
    "            line = line.replace('www.freebase.com/', '')\n",
    "            line = line.replace('/', '.')\n",
    "            triple = line.split()\n",
    "            triple = list(map(str.strip, triple))\n",
    "            if len(triple) < 3:\n",
    "                continue\n",
    "            s, p, o = triple[:3]\n",
    "            # s = s.replace('%', '')\n",
    "            # o = o.replace('%', '')\n",
    "            if s not in kb:\n",
    "                kb[s] = dict()\n",
    "            if p not in kb[s]:\n",
    "                kb[s][p] = dict()\n",
    "            if o not in kb[s][p]:\n",
    "                kb[s][p][o] = 0\n",
    "            if o not in kb:\n",
    "                kb[o] = dict()\n",
    "            if p not in kb[o]:\n",
    "                kb[o][p] = dict()\n",
    "            if s not in kb[o][p]:\n",
    "                kb[o][p][s] = 1\n",
    "    return kb\n",
    "facts3 = load_fact3('datasets/webqsp/freebase-FB5M.txt')"
   ]
  },
  {
   "cell_type": "code",
   "execution_count": 6,
   "metadata": {},
   "outputs": [
    {
     "output_type": "execute_result",
     "data": {
      "text/plain": "(7624604, 7083673, 2249337)"
     },
     "metadata": {},
     "execution_count": 6
    }
   ],
   "source": [
    "len(facts), len(facts2), len(facts3)"
   ]
  },
  {
   "cell_type": "code",
   "execution_count": 7,
   "metadata": {},
   "outputs": [],
   "source": [
    "merged = facts.copy()\n",
    "for s in facts2:\n",
    "    if s not in merged:\n",
    "        merged[s] = dict()\n",
    "    for p in facts2[s]:\n",
    "        if p not in merged[s]:\n",
    "            merged[s][p] = dict()\n",
    "        for o in facts2[s][p]:\n",
    "            if o not in merged[s][p]:\n",
    "                merged[s][p][o] = facts2[s][p][o]\n",
    "for s in facts3:\n",
    "    if s not in merged:\n",
    "        merged[s] = dict()\n",
    "    for p in facts3[s]:\n",
    "        if p not in merged[s]:\n",
    "            merged[s][p] = dict()\n",
    "        for o in facts3[s][p]:\n",
    "            if o not in merged[s][p]:\n",
    "                merged[s][p][o] = facts3[s][p][o]"
   ]
  },
  {
   "cell_type": "code",
   "execution_count": 8,
   "metadata": {},
   "outputs": [
    {
     "output_type": "execute_result",
     "data": {
      "text/plain": "(7624604, 7083673, 13163105)"
     },
     "metadata": {},
     "execution_count": 8
    }
   ],
   "source": [
    "len(facts), len(facts2), len(merged)"
   ]
  },
  {
   "cell_type": "code",
   "execution_count": 11,
   "metadata": {},
   "outputs": [
    {
     "output_type": "stream",
     "name": "stderr",
     "text": "100%|██████████| 2848/2848 [00:00<00:00, 601176.54it/s]\n728it [00:00, 3631.93it/s]loading data from datasets/webqsp/train_new.json\nbuilding word index ...\nmax_local_path_rel: 647\npreparing data ...\n3454it [00:00, 3569.36it/s]\n100%|██████████| 250/250 [00:00<00:00, 321649.08it/s]\n304it [00:00, 3541.92it/s]\n100%|██████████| 1639/1639 [00:00<00:00, 737920.16it/s]\n0it [00:00, ?it/s]avg_total_words_recall 0.8946149392009262\navg_question_words_recall 0.9997828604516502\nloading data from datasets/webqsp/dev_new.json\nbuilding word index ...\nmax_local_path_rel: 647\npreparing data ...\navg_total_words_recall 0.8963815789473685\navg_question_words_recall 1.0\nloading data from datasets/webqsp/test_new.json\nbuilding word index ...\nmax_local_path_rel: 647\npreparing data ...\n1984it [00:00, 3514.44it/s]avg_total_words_recall 0.900957661290323\navg_question_words_recall 1.0\n\n"
    }
   ],
   "source": [
    "train_data = RelReasonerDataLoader(cfg['data_folder'] + cfg['train_data'], facts, features, num_hop,\n",
    "                        word2id, relation2id, cfg['max_query_word'], cfg['use_inverse_relation'], 1, teacher_force=True)\n",
    "\n",
    "valid_data = RelReasonerDataLoader(cfg['data_folder'] + cfg['dev_data'], facts, features, num_hop,\n",
    "                        word2id, relation2id, cfg['max_query_word'], cfg['use_inverse_relation'], 1, teacher_force=False)\n",
    "\n",
    "test_data = RelReasonerDataLoader(cfg['data_folder'] + cfg['test_data'], facts, features, num_hop,\n",
    "                        word2id, relation2id, cfg['max_query_word'], cfg['use_inverse_relation'], 1, teacher_force=False)"
   ]
  },
  {
   "cell_type": "code",
   "execution_count": 64,
   "metadata": {
    "tags": [
     "outputPrepend"
    ]
   },
   "outputs": [
    {
     "output_type": "stream",
     "name": "stdout",
     "text": "0.009608091024020228\n"
    }
   ],
   "source": [
    "wrong = 0\n",
    "total = 0\n",
    "for e in train_data.data + valid_data.data + test_data.data:\n",
    "    if 'rel_chain_map' not in e:\n",
    "        continue\n",
    "    if '1' not in e['rel_chain_map']:\n",
    "        continue\n",
    "    for entity in e['rel_chain_map']['1']:\n",
    "        gt_rel = e['rel_chain_map']['1'][entity]['ground_truth'][0][0]\n",
    "        if entity not in facts or gt_rel not in facts[entity]:\n",
    "            # print(entity)\n",
    "            # print(gt_rel)\n",
    "            # print(e['sparql'])\n",
    "            # asdasd\n",
    "            wrong += 1\n",
    "        total += 1\n",
    "print(wrong / total)"
   ]
  },
  {
   "cell_type": "code",
   "execution_count": 62,
   "metadata": {
    "tags": [
     "outputPrepend",
     "outputPrepend",
     "outputPrepend",
     "outputPrepend",
     "outputPrepend",
     "outputPrepend",
     "outputPrepend",
     "outputPrepend",
     "outputPrepend",
     "outputPrepend",
     "outputPrepend",
     "outputPrepend",
     "outputPrepend",
     "outputPrepend",
     "outputPrepend",
     "outputPrepend",
     "outputPrepend",
     "outputPrepend",
     "outputPrepend",
     "outputPrepend",
     "outputPrepend",
     "outputPrepend",
     "outputPrepend",
     "outputPrepend",
     "outputPrepend",
     "outputPrepend",
     "outputPrepend",
     "outputPrepend",
     "outputPrepend",
     "outputPrepend",
     "outputPrepend",
     "outputPrepend",
     "outputPrepend",
     "outputPrepend",
     "outputPrepend",
     "outputPrepend",
     "outputPrepend",
     "outputPrepend",
     "outputPrepend",
     "outputPrepend",
     "outputPrepend",
     "outputPrepend",
     "outputPrepend",
     "outputPrepend",
     "outputPrepend",
     "outputPrepend",
     "outputPrepend",
     "outputPrepend",
     "outputPrepend",
     "outputPrepend",
     "outputPrepend",
     "outputPrepend",
     "outputPrepend",
     "outputPrepend",
     "outputPrepend",
     "outputPrepend",
     "outputPrepend",
     "outputPrepend",
     "outputPrepend",
     "outputPrepend",
     "outputPrepend",
     "outputPrepend",
     "outputPrepend",
     "outputPrepend",
     "outputPrepend",
     "outputPrepend",
     "outputPrepend",
     "outputPrepend",
     "outputPrepend",
     "outputPrepend",
     "outputPrepend",
     "outputPrepend",
     "outputPrepend",
     "outputPrepend",
     "outputPrepend",
     "outputPrepend",
     "outputPrepend",
     "outputPrepend",
     "outputPrepend",
     "outputPrepend",
     "outputPrepend",
     "outputPrepend",
     "outputPrepend",
     "outputPrepend",
     "outputPrepend",
     "outputPrepend",
     "outputPrepend",
     "outputPrepend",
     "outputPrepend",
     "outputPrepend",
     "outputPrepend",
     "outputPrepend",
     "outputPrepend",
     "outputPrepend",
     "outputPrepend",
     "outputPrepend",
     "outputPrepend",
     "outputPrepend",
     "outputPrepend",
     "outputPrepend",
     "outputPrepend",
     "outputPrepend",
     "outputPrepend",
     "outputPrepend",
     "outputPrepend",
     "outputPrepend",
     "outputPrepend",
     "outputPrepend",
     "outputPrepend",
     "outputPrepend",
     "outputPrepend",
     "outputPrepend",
     "outputPrepend",
     "outputPrepend",
     "outputPrepend",
     "outputPrepend",
     "outputPrepend",
     "outputPrepend",
     "outputPrepend",
     "outputPrepend",
     "outputPrepend",
     "outputPrepend",
     "outputPrepend",
     "outputPrepend",
     "outputPrepend",
     "outputPrepend",
     "outputPrepend",
     "outputPrepend",
     "outputPrepend",
     "outputPrepend",
     "outputPrepend",
     "outputPrepend",
     "outputPrepend",
     "outputPrepend",
     "outputPrepend",
     "outputPrepend",
     "outputPrepend",
     "outputPrepend",
     "outputPrepend",
     "outputPrepend",
     "outputPrepend",
     "outputPrepend",
     "outputPrepend",
     "outputPrepend",
     "outputPrepend",
     "outputPrepend",
     "outputPrepend",
     "outputPrepend",
     "outputPrepend",
     "outputPrepend",
     "outputPrepend",
     "outputPrepend",
     "outputPrepend",
     "outputPrepend",
     "outputPrepend",
     "outputPrepend",
     "outputPrepend",
     "outputPrepend",
     "outputPrepend",
     "outputPrepend",
     "outputPrepend",
     "outputPrepend",
     "outputPrepend",
     "outputPrepend",
     "outputPrepend",
     "outputPrepend",
     "outputPrepend",
     "outputPrepend",
     "outputPrepend",
     "outputPrepend",
     "outputPrepend",
     "outputPrepend",
     "outputPrepend",
     "outputPrepend",
     "outputPrepend",
     "outputPrepend",
     "outputPrepend",
     "outputPrepend",
     "outputPrepend",
     "outputPrepend",
     "outputPrepend",
     "outputPrepend",
     "outputPrepend",
     "outputPrepend",
     "outputPrepend",
     "outputPrepend",
     "outputPrepend",
     "outputPrepend",
     "outputPrepend",
     "outputPrepend",
     "outputPrepend",
     "outputPrepend",
     "outputPrepend",
     "outputPrepend",
     "outputPrepend",
     "outputPrepend",
     "outputPrepend",
     "outputPrepend",
     "outputPrepend",
     "outputPrepend",
     "outputPrepend",
     "outputPrepend",
     "outputPrepend",
     "outputPrepend",
     "outputPrepend",
     "outputPrepend",
     "outputPrepend",
     "outputPrepend",
     "outputPrepend",
     "outputPrepend",
     "outputPrepend",
     "outputPrepend",
     "outputPrepend",
     "outputPrepend",
     "outputPrepend",
     "outputPrepend",
     "outputPrepend",
     "outputPrepend",
     "outputPrepend",
     "outputPrepend",
     "outputPrepend",
     "outputPrepend",
     "outputPrepend",
     "outputPrepend",
     "outputPrepend",
     "outputPrepend",
     "outputPrepend",
     "outputPrepend",
     "outputPrepend",
     "outputPrepend",
     "outputPrepend",
     "outputPrepend",
     "outputPrepend",
     "outputPrepend",
     "outputPrepend",
     "outputPrepend",
     "outputPrepend",
     "outputPrepend",
     "outputPrepend",
     "outputPrepend",
     "outputPrepend",
     "outputPrepend",
     "outputPrepend",
     "outputPrepend",
     "outputPrepend",
     "outputPrepend",
     "outputPrepend",
     "outputPrepend",
     "outputPrepend",
     "outputPrepend",
     "outputPrepend",
     "outputPrepend",
     "outputPrepend",
     "outputPrepend",
     "outputPrepend",
     "outputPrepend",
     "outputPrepend",
     "outputPrepend",
     "outputPrepend",
     "outputPrepend",
     "outputPrepend",
     "outputPrepend",
     "outputPrepend",
     "outputPrepend",
     "outputPrepend",
     "outputPrepend",
     "outputPrepend",
     "outputPrepend",
     "outputPrepend",
     "outputPrepend",
     "outputPrepend",
     "outputPrepend",
     "outputPrepend",
     "outputPrepend",
     "outputPrepend",
     "outputPrepend",
     "outputPrepend",
     "outputPrepend",
     "outputPrepend",
     "outputPrepend",
     "outputPrepend",
     "outputPrepend",
     "outputPrepend",
     "outputPrepend",
     "outputPrepend",
     "outputPrepend",
     "outputPrepend",
     "outputPrepend",
     "outputPrepend",
     "outputPrepend",
     "outputPrepend",
     "outputPrepend",
     "outputPrepend",
     "outputPrepend",
     "outputPrepend",
     "outputPrepend",
     "outputPrepend",
     "outputPrepend",
     "outputPrepend",
     "outputPrepend",
     "outputPrepend",
     "outputPrepend",
     "outputPrepend",
     "outputPrepend",
     "outputPrepend",
     "outputPrepend",
     "outputPrepend",
     "outputPrepend",
     "outputPrepend",
     "outputPrepend",
     "outputPrepend",
     "outputPrepend",
     "outputPrepend",
     "outputPrepend",
     "outputPrepend",
     "outputPrepend",
     "outputPrepend",
     "outputPrepend",
     "outputPrepend",
     "outputPrepend",
     "outputPrepend",
     "outputPrepend",
     "outputPrepend",
     "outputPrepend",
     "outputPrepend",
     "outputPrepend",
     "outputPrepend",
     "outputPrepend",
     "outputPrepend",
     "outputPrepend",
     "outputPrepend",
     "outputPrepend",
     "outputPrepend",
     "outputPrepend",
     "outputPrepend",
     "outputPrepend",
     "outputPrepend",
     "outputPrepend",
     "outputPrepend",
     "outputPrepend",
     "outputPrepend",
     "outputPrepend",
     "outputPrepend",
     "outputPrepend",
     "outputPrepend",
     "outputPrepend",
     "outputPrepend",
     "outputPrepend",
     "outputPrepend",
     "outputPrepend",
     "outputPrepend",
     "outputPrepend",
     "outputPrepend",
     "outputPrepend",
     "outputPrepend",
     "outputPrepend",
     "outputPrepend",
     "outputPrepend",
     "outputPrepend",
     "outputPrepend",
     "outputPrepend",
     "outputPrepend",
     "outputPrepend",
     "outputPrepend",
     "outputPrepend",
     "outputPrepend",
     "outputPrepend",
     "outputPrepend",
     "outputPrepend",
     "outputPrepend",
     "outputPrepend",
     "outputPrepend",
     "outputPrepend",
     "outputPrepend",
     "outputPrepend"
    ]
   },
   "outputs": [
    {
     "output_type": "stream",
     "name": "stderr",
     "text": "\n\n\n\n\n\n0it [00:00, ?it/s]\u001b[A\u001b[A\u001b[A\u001b[A\u001b[A\u001b[A\n\n\n\n\n\n73it [00:00, 354.42it/s]\u001b[A\u001b[A\u001b[A\u001b[A\u001b[A\u001b[APREFIX ns: <http://rdf.freebase.com/ns/>\nSELECT DISTINCT ?x\nWHERE {\nFILTER (?x != ns:m.01g65g)\nFILTER (!isLiteral(?x) OR lang(?x) = '' OR langMatches(lang(?x), 'en'))\nns:m.01g65g ns:film.person_or_entity_appearing_in_film.films ?y .\n?y ns:film.personal_film_appearance.film ?x .\n}\n\n['m.0gyqzbv']\n[]\n\nPREFIX ns: <http://rdf.freebase.com/ns/>\nSELECT DISTINCT ?x\nWHERE {\nFILTER (?x != ns:m.05yqrl)\nFILTER (!isLiteral(?x) OR lang(?x) = '' OR langMatches(lang(?x), 'en'))\nns:m.05yqrl ns:people.person.places_lived ?y .\n?y ns:people.place_lived.location ?x .\nFILTER(NOT EXISTS {?y ns:people.place_lived.end_date ?sk0} || \nEXISTS {?y ns:people.place_lived.end_date ?sk1 . \nFILTER(xsd:datetime(?sk1) >= \"2015-08-10\"^^xsd:dateTime) })\nFILTER(NOT EXISTS {?y ns:people.place_lived.start_date ?sk2} || \nEXISTS {?y ns:people.place_lived.start_date ?sk3 . \nFILTER(xsd:datetime(?sk3) <= \"2015-08-10\"^^xsd:dateTime) })\n}\n\n['m.0r_g0']\n[]\n\nPREFIX ns: <http://rdf.freebase.com/ns/>\nSELECT DISTINCT ?x\nWHERE {\nFILTER (?x != ns:m.035szd)\nFILTER (!isLiteral(?x) OR lang(?x) = '' OR langMatches(lang(?x), 'en'))\nns:m.035szd ns:tv.tv_character.appeared_in_tv_program ?y .\n?y ns:tv.regular_tv_appearance.actor ?x .\n?y ns:tv.regular_tv_appearance.series ns:m.019nnl .\nFILTER(NOT EXISTS {?y ns:tv.regular_tv_appearance.from ?sk0} || \nEXISTS {?y ns:tv.regular_tv_appearance.from ?sk1 . \nFILTER(xsd:datetime(?sk1) <= \"2015-08-10\"^^xsd:dateTime) })\nFILTER(NOT EXISTS {?y ns:tv.regular_tv_appearance.to ?sk2} || \nEXISTS {?y ns:tv.regular_tv_appearance.to ?sk3 . \nFILTER(xsd:datetime(?sk3) >= \"2015-08-10\"^^xsd:dateTime) })\n}\n\n['m.023v4_']\n[]\n\nPREFIX ns: <http://rdf.freebase.com/ns/>\nSELECT DISTINCT ?x\nWHERE {\nFILTER (?x != ns:m.035szd)\nFILTER (!isLiteral(?x) OR lang(?x) = '' OR langMatches(lang(?x), 'en'))\nns:m.035szd ns:tv.tv_character.appeared_in_tv_program ?y .\n?y ns:tv.regular_tv_appearance.actor ?x .\n?y ns:tv.regular_tv_appearance.series ns:m.019nnl .\nFILTER(NOT EXISTS {?y ns:tv.regular_tv_appearance.from ?sk0} || \nEXISTS {?y ns:tv.regular_tv_appearance.from ?sk1 . \nFILTER(xsd:datetime(?sk1) <= \"2015-08-10\"^^xsd:dateTime) })\nFILTER(NOT EXISTS {?y ns:tv.regular_tv_appearance.to ?sk2} || \nEXISTS {?y ns:tv.regular_tv_appearance.to ?sk3 . \nFILTER(xsd:datetime(?sk3) >= \"2015-08-10\"^^xsd:dateTime) })\n}\n\n['m.023v4_']\n[]\n\nPREFIX ns: <http://rdf.freebase.com/ns/>\nSELECT DISTINCT ?x\nWHERE {\nFILTER (?x != ns:m.01xyt7)\nFILTER (!isLiteral(?x) OR lang(?x) = '' OR langMatches(lang(?x), 'en'))\nns:m.01xyt7 ns:sports.pro_athlete.teams ?y .\n?y ns:sports.sports_team_roster.from ?x .\n?y ns:sports.sports_team_roster.team ns:m.05g3b .\n}\n\n['2000']\n[]\n\nPREFIX ns: <http://rdf.freebase.com/ns/>\nSELECT DISTINCT ?x\nWHERE {\nFILTER (?x != ns:m.01xyt7)\nFILTER (!isLiteral(?x) OR lang(?x) = '' OR langMatches(lang(?x), 'en'))\nns:m.01xyt7 ns:sports.pro_athlete.teams ?y .\n?y ns:sports.sports_team_roster.from ?x .\n?y ns:sports.sports_team_roster.team ns:m.05g3b .\n}\n\n['2000']\n[]\n\nPREFIX ns: <http://rdf.freebase.com/ns/>\nSELECT DISTINCT ?x\nWHERE {\nFILTER (?x != ns:m.02_p0)\nFILTER (!isLiteral(?x) OR lang(?x) = '' OR langMatches(lang(?x), 'en'))\nns:m.02_p0 ns:sports.sports_award_type.winners ?y .\n?y ns:sports.sports_award.award_winner ?x .\n?y ns:sports.sports_award.season ns:m.02rmn9t .\n}\n\n['m.02qhlm']\n[]\n\nPREFIX ns: <http://rdf.freebase.com/ns/>\nSELECT DISTINCT ?x\nWHERE {\nFILTER (?x != ns:m.02_p0)\nFILTER (!isLiteral(?x) OR lang(?x) = '' OR langMatches(lang(?x), 'en'))\nns:m.02_p0 ns:sports.sports_award_type.winners ?y .\n?y ns:sports.sports_award.award_winner ?x .\n?y ns:sports.sports_award.season ns:m.02rmn9t .\n}\n\n['m.02qhlm']\n[]\n\n\n\n\n\n\n\n84it [00:00, 139.43it/s]\u001b[A\u001b[A\u001b[A\u001b[A\u001b[A\u001b[A\n\n\n\n\n\n94it [00:00, 104.99it/s]\u001b[A\u001b[A\u001b[A\u001b[A\u001b[A\u001b[A#MANUAL SPARQL\nPREFIX ns: <http://rdf.freebase.com/ns/>\nSELECT DISTINCT ?x\nWHERE {\n\tns:m.09c7w0 ns:location.location.adjoin_s ?y .\n\t?y ns:location.adjoining_relationship.adjoins ?x .\n\tns:m.09c7w0 ns:location.location.geolocation ?g .\n\t?g ns:location.geocode.latitude ?l .\n\t?x ns:location.location.geolocation ?gx .\n        ?gx ns:location.geocode.latitude ?xl .\n        Filter(xsd:float(?xl) > xsd:float(?l)) .\n}\n['m.0d060g']\n[]\n\n\n\n\n\n\n\n103it [00:00, 73.19it/s]\u001b[A\u001b[A\u001b[A\u001b[A\u001b[A\u001b[A#MANUAL SPARQL\nPREFIX ns: <http://rdf.freebase.com/ns/>\nSELECT DISTINCT  ?x\nWHERE {\n  ns:m.060d2 ns:government.government_office_or_title.office_holders ?y1 .  # President of the United States\n  ?y1 ns:government.government_position_held.office_holder ns:m.083p7 ; # William McKinley\n      ns:government.government_position_held.to ?to .\n\n  ns:m.060d2 ns:government.government_office_or_title.office_holders ?y2 .  # President of the United States\n  ?y2 ns:government.government_position_held.office_holder ?x ;\n      ns:government.government_position_held.to ?from .\n  \n  FILTER(xsd:dateTime(?from) - xsd:dateTime(?to) > 0)\n}\nORDER BY xsd:dateTime(?from)\nLIMIT 1\n['m.07hyk']\n[]\n\n#MANUAL SPARQL\nPREFIX ns: <http://rdf.freebase.com/ns/>\nSELECT DISTINCT  ?x\nWHERE {\n  ns:m.060d2 ns:government.government_office_or_title.office_holders ?y1 .  # President of the United States\n  ?y1 ns:government.government_position_held.office_holder ns:m.083p7 ; # William McKinley\n      ns:government.government_position_held.to ?to .\n\n  ns:m.060d2 ns:government.government_office_or_title.office_holders ?y2 .  # President of the United States\n  ?y2 ns:government.government_position_held.office_holder ?x ;\n      ns:government.government_position_held.to ?from .\n  \n  FILTER(xsd:dateTime(?from) - xsd:dateTime(?to) > 0)\n}\nORDER BY xsd:dateTime(?from)\nLIMIT 1\n['m.07hyk']\n[]\n\nPREFIX ns: <http://rdf.freebase.com/ns/>\nSELECT DISTINCT ?x\nWHERE {\nFILTER (?x != ns:m.02xt6q)\nFILTER (!isLiteral(?x) OR lang(?x) = '' OR langMatches(lang(?x), 'en'))\nns:m.02xt6q ns:sports.pro_athlete.teams ?y .\n?y ns:sports.sports_team_roster.team ?x .\nFILTER(NOT EXISTS {?y ns:sports.sports_team_roster.from ?sk0} || \nEXISTS {?y ns:sports.sports_team_roster.from ?sk1 . \nFILTER(xsd:datetime(?sk1) <= \"2015-08-10\"^^xsd:dateTime) })\nFILTER(NOT EXISTS {?y ns:sports.sports_team_roster.to ?sk2} || \nEXISTS {?y ns:sports.sports_team_roster.to ?sk3 . \nFILTER(xsd:datetime(?sk3) >= \"2015-08-10\"^^xsd:dateTime) })\n}\n\n['m.02rqxc', 'm.06l22']\n[]\n\n#MANUAL SPARQL\nPREFIX ns: <http://rdf.freebase.com/ns/>\nSELECT DISTINCT ?x\nWHERE {\nns:m.0ddqw ns:fictional_universe.fictional_character.parents ?y .\n?y ns:fictional_universe.fictional_character.gender ns:m.02zsn .\n?y ns:film.film_character.portrayed_in_films ?z .\n?z ns:film.performance.actor ?x .\n}\n['m.041fcq', 'm.09l3p']\n['m.041fcq', 'm.0k3qy8', 'm.0k3qzz', 'm.0k3r0b']\n\n#MANUAL SPARQL\nPREFIX ns: <http://rdf.freebase.com/ns/>\nSELECT DISTINCT ?x\nWHERE {\nns:m.0ddqw ns:fictional_universe.fictional_character.parents ?y .\n?y ns:fictional_universe.fictional_character.gender ns:m.02zsn .\n?y ns:film.film_character.portrayed_in_films ?z .\n?z ns:film.performance.actor ?x .\n}\n['m.041fcq', 'm.09l3p']\n['m.041fcq', 'm.0k3qy8', 'm.0k3qzz', 'm.0k3r0b']\n\nPREFIX ns: <http://rdf.freebase.com/ns/>\nSELECT DISTINCT ?x\nWHERE {\nFILTER (?x != ns:m.06_73l)\nFILTER (!isLiteral(?x) OR lang(?x) = '' OR langMatches(lang(?x), 'en'))\nns:m.06_73l ns:sports.sports_team_coach.teams_coached ?y .\n?y ns:sports.sports_team_coach_tenure.team ?x .\n}\n\n['m.01y3c', 'm.0289q']\n[]\n\nPREFIX ns: <http://rdf.freebase.com/ns/>\nSELECT DISTINCT ?x\nWHERE {\nFILTER (?x != ns:m.06q5t7)\nFILTER (!isLiteral(?x) OR lang(?x) = '' OR langMatches(lang(?x), 'en'))\nns:m.06q5t7 ns:base.popstra.celebrity.dated ?y .\n?y ns:base.popstra.dated.participant ?x .\n}\n\n['m.02pjvc']\n[]\n\nPREFIX ns: <http://rdf.freebase.com/ns/>\nSELECT DISTINCT ?x\nWHERE {\nFILTER (?x != ns:m.043zg)\nFILTER (!isLiteral(?x) OR lang(?x) = '' OR langMatches(lang(?x), 'en'))\nns:m.043zg ns:tv.tv_actor.starring_roles ?y .\n?y ns:tv.regular_tv_appearance.from ?x .\n?y ns:tv.regular_tv_appearance.seasons ns:m.04dq5zq .\n}\n\n['1991']\n[]\n\nPREFIX ns: <http://rdf.freebase.com/ns/>\nSELECT DISTINCT ?x\nWHERE {\nFILTER (?x != ns:m.043zg)\nFILTER (!isLiteral(?x) OR lang(?x) = '' OR langMatches(lang(?x), 'en'))\nns:m.043zg ns:tv.tv_actor.starring_roles ?y .\n?y ns:tv.regular_tv_appearance.from ?x .\n?y ns:tv.regular_tv_appearance.seasons ns:m.04dq5zq .\n}\n\n['1991']\n[]\n\nPREFIX ns: <http://rdf.freebase.com/ns/>\nSELECT DISTINCT ?x\nWHERE {\nFILTER (?x != ns:m.0f8l9c)\nFILTER (!isLiteral(?x) OR lang(?x) = '' OR langMatches(lang(?x), 'en'))\nns:m.0f8l9c ns:government.governmental_jurisdiction.governing_officials ?y .\n?y ns:government.government_position_held.office_holder ?x .\n?y ns:government.government_position_held.basic_title ns:m.060c4 .\nFILTER(NOT EXISTS {?y ns:government.government_position_held.from ?sk0} || \nEXISTS {?y ns:government.government_position_held.from ?sk1 . \nFILTER(xsd:datetime(?sk1) <= \"2015-08-10\"^^xsd:dateTime) })\nFILTER(NOT EXISTS {?y ns:government.government_position_held.to ?sk2} || \nEXISTS {?y ns:government.government_position_held.to ?sk3 . \nFILTER(xsd:datetime(?sk3) >= \"2015-08-10\"^^xsd:dateTime) })\n}\n\n['m.02qg4z']\n['m.02ps9k']\n\nPREFIX ns: <http://rdf.freebase.com/ns/>\nSELECT DISTINCT ?x\nWHERE {\nFILTER (?x != ns:m.0f8l9c)\nFILTER (!isLiteral(?x) OR lang(?x) = '' OR langMatches(lang(?x), 'en'))\nns:m.0f8l9c ns:government.governmental_jurisdiction.governing_officials ?y .\n?y ns:government.government_position_held.office_holder ?x .\n?y ns:government.government_position_held.basic_title ns:m.060c4 .\nFILTER(NOT EXISTS {?y ns:government.government_position_held.from ?sk0} || \nEXISTS {?y ns:government.government_position_held.from ?sk1 . \nFILTER(xsd:datetime(?sk1) <= \"2015-08-10\"^^xsd:dateTime) })\nFILTER(NOT EXISTS {?y ns:government.government_position_held.to ?sk2} || \nEXISTS {?y ns:government.government_position_held.to ?sk3 . \nFILTER(xsd:datetime(?sk3) >= \"2015-08-10\"^^xsd:dateTime) })\n}\n\n['m.02qg4z']\n['m.02ps9k']\n\n\n\n\n\n\n\n204it [00:01, 86.63it/s]\u001b[A\u001b[A\u001b[A\u001b[A\u001b[A\u001b[A\n\n\n\n\n\n214it [00:02, 34.65it/s]\u001b[A\u001b[A\u001b[A\u001b[A\u001b[A\u001b[A\n\n\n\n\n\n279it [00:02, 47.24it/s]\u001b[A\u001b[A\u001b[A\u001b[A\u001b[A\u001b[A\n\n\n\n\n\n294it [00:02, 53.80it/s]\u001b[A\u001b[A\u001b[A\u001b[A\u001b[A\u001b[A\n\n\n\n\n\n461it [00:02, 75.06it/s]\u001b[A\u001b[A\u001b[A\u001b[A\u001b[A\u001b[A\n\n\n\n\n\n499it [00:02, 88.50it/s]\u001b[A\u001b[A\u001b[A\u001b[A\u001b[A\u001b[A\n\n\n\n\n\n530it [00:03, 87.67it/s]\u001b[A\u001b[A\u001b[A\u001b[A\u001b[A\u001b[A\n\n\n\n\n\n567it [00:12, 12.05it/s]\u001b[A\u001b[A\u001b[A\u001b[A\u001b[A\u001b[A\n\n\n\n\n\n585it [00:14, 12.07it/s]\u001b[A\u001b[A\u001b[A\u001b[A\u001b[A\u001b[A\n\n\n\n\n\n630it [00:14, 16.89it/s]\u001b[A\u001b[A\u001b[A\u001b[A\u001b[A\u001b[A\n\n\n\n\n\n647it [00:14, 22.19it/s]\u001b[A\u001b[A\u001b[A\u001b[A\u001b[A\u001b[A\n\n\n\n\n\n685it [00:14, 30.28it/s]\u001b[A\u001b[A\u001b[A\u001b[A\u001b[A\u001b[A\n\n\n\n\n\n701it [00:14, 36.79it/s]\u001b[A\u001b[A\u001b[A\u001b[A\u001b[A\u001b[A\n\n\n\n\n\n719it [00:15, 45.44it/s]\u001b[A\u001b[A\u001b[A\u001b[A\u001b[A\u001b[A\n\n\n\n\n\n732it [00:15, 50.84it/s]\u001b[A\u001b[A\u001b[A\u001b[A\u001b[A\u001b[A\n\n\n\n\n\n860it [00:15, 71.27it/s]\u001b[A\u001b[A\u001b[A\u001b[A\u001b[A\u001b[A\n\n\n\n\n\n988it [00:15, 96.69it/s]\u001b[A\u001b[A\u001b[A\u001b[A\u001b[A\u001b[A\n\n\n\n\n\n1035it [00:16, 79.36it/s]\u001b[A\u001b[A\u001b[A\u001b[A\u001b[A\u001b[A\n\n\n\n\n\n1070it [00:16, 73.39it/s]\u001b[A\u001b[A\u001b[A\u001b[A\u001b[A\u001b[A\n\n\n\n\n\n1096it [00:18, 39.04it/s]\u001b[A\u001b[A\u001b[A\u001b[A\u001b[A\u001b[A\n\n\n\n\n\n1182it [00:18, 53.27it/s]\u001b[A\u001b[A\u001b[A\u001b[A\u001b[A\u001b[A\n\n\n\n\n\n1206it [00:18, 63.20it/s]\u001b[A\u001b[A\u001b[A\u001b[A\u001b[A\u001b[A\n\n\n\n\n\n1226it [00:20, 32.97it/s]\u001b[A\u001b[A\u001b[A\u001b[A\u001b[A\u001b[A\n\n\n\n\n\n1366it [00:20, 46.61it/s]\u001b[A\u001b[A\u001b[A\u001b[A\u001b[A\u001b[A\n\n\n\n\n\n1549it [00:20, 62.13it/s]\u001b[A\u001b[A\u001b[A\u001b[A\u001b[A\u001b[A\n\n\n\n\n\n1593it [00:21, 61.66it/s]\u001b[A\u001b[A\u001b[A\u001b[A\u001b[A\u001b[A\n\n\n\n\n\n1812it [00:21, 87.03it/s]\u001b[A\u001b[A\u001b[A\u001b[A\u001b[A\u001b[A\n\n\n\n\n\n1900it [00:32, 23.04it/s]\u001b[A\u001b[A\u001b[A\u001b[A\u001b[A\u001b[A\n\n\n\n\n\n1912it [00:32, 21.79it/s]\u001b[A\u001b[A\u001b[A\u001b[A\u001b[A\u001b[A\n\n\n\n\n\n1914it [00:33,  7.00it/s]\u001b[A\u001b[A\u001b[A\u001b[A\u001b[A\u001b[A\n\n\n\n\n\n1982it [00:33,  9.91it/s]\u001b[A\u001b[A\u001b[A\u001b[A\u001b[A\u001b[A\n\n\n\n\n\n1993it [00:33, 13.17it/s]\u001b[A\u001b[A\u001b[A\u001b[A\u001b[A\u001b[A\n\n\n\n\n\n2017it [00:33, 18.16it/s]\u001b[A\u001b[A\u001b[A\u001b[A\u001b[A\u001b[A\n\n\n\n\n\n2028it [00:34, 18.84it/s]\u001b[A\u001b[A\u001b[A\u001b[A\u001b[A\u001b[A\n\n\n\n\n\n2057it [00:35, 21.28it/s]\u001b[A\u001b[A\u001b[A\u001b[A\u001b[A\u001b[A\n\n\n\n\n\n2064it [00:36, 12.95it/s]\u001b[A\u001b[A\u001b[A\u001b[A\u001b[A\u001b[A\n\n\n\n\n\n2069it [00:37,  7.38it/s]\u001b[A\u001b[A\u001b[A\u001b[A\u001b[A\u001b[A\n\n\n\n\n\n2113it [00:37, 10.41it/s]\u001b[A\u001b[A\u001b[A\u001b[A\u001b[A\u001b[A\n\n\n\n\n\n2124it [00:38, 13.66it/s]\u001b[A\u001b[A\u001b[A\u001b[A\u001b[A\u001b[A\n\n\n\n\n\n2153it [00:38, 17.25it/s]\u001b[A\u001b[A\u001b[A\u001b[A\u001b[A\u001b[A\n\n\n\n\n\n2161it [00:39, 14.61it/s]\u001b[A\u001b[A\u001b[A\u001b[A\u001b[A\u001b[A\n\n\n\n\n\n2338it [00:39, 20.79it/s]\u001b[A\u001b[A\u001b[A\u001b[A\u001b[A\u001b[A\n\n\n\n\n\n2394it [00:41, 22.37it/s]\u001b[A\u001b[A\u001b[A\u001b[A\u001b[A\u001b[A\n\n\n\n\n\n2434it [00:53,  8.65it/s]\u001b[A\u001b[A\u001b[A\u001b[A\u001b[A\u001b[A\n\n\n\n\n\n2517it [00:53, 12.23it/s]\u001b[A\u001b[A\u001b[A\u001b[A\u001b[A\u001b[A\n\n\n\n\n\n2529it [00:53, 16.19it/s]\u001b[A\u001b[A\u001b[A\u001b[A\u001b[A\u001b[A\n\n\n\n\n\n2611it [00:53, 22.93it/s]\u001b[A\u001b[A\u001b[A\u001b[A\u001b[A\u001b[A\n\n\n\n\n\n2643it [00:53, 30.01it/s]\u001b[A\u001b[A\u001b[A\u001b[A\u001b[A\u001b[A\n\n\n\n\n\n2668it [00:54, 36.60it/s]\u001b[A\u001b[A\u001b[A\u001b[A\u001b[A\u001b[A\n\n\n\n\n\n2707it [00:54, 41.03it/s]\u001b[A\u001b[A\u001b[A\u001b[A\u001b[A\u001b[A\n\n\n\n\n\n2723it [00:56, 17.65it/s]\u001b[A\u001b[A\u001b[A\u001b[A\u001b[A\u001b[A\n\n\n\n\n\n2778it [00:57, 24.83it/s]\u001b[A\u001b[A\u001b[A\u001b[A\u001b[A\u001b[A\n\n\n\n\n\n2811it [00:57, 28.93it/s]\u001b[A\u001b[A\u001b[A\u001b[A\u001b[A\u001b[A\n\n\n\n\n\n2829it [00:58, 27.10it/s]\u001b[A\u001b[A\u001b[A\u001b[A\u001b[A\u001b[A\n\n\n\n\n\n2877it [00:58, 36.93it/s]\u001b[A\u001b[A\u001b[A\u001b[A\u001b[A\u001b[A\n\n\n\n\n\n2894it [00:58, 43.74it/s]\u001b[A\u001b[A\u001b[A\u001b[A\u001b[A\u001b[A\n\n\n\n\n\n2908it [01:00, 22.21it/s]\u001b[A\u001b[A\u001b[A\u001b[A\u001b[A\u001b[A\n\n\n\n\n\n2961it [01:00, 31.00it/s]\u001b[A\u001b[A\u001b[A\u001b[A\u001b[A\u001b[A\n\n\n\n\n\n2981it [01:09,  6.50it/s]\u001b[A\u001b[A\u001b[A\u001b[A\u001b[A\u001b[A\n\n\n\n\n\n2995it [01:09,  8.38it/s]\u001b[A\u001b[A\u001b[A\u001b[A\u001b[A\u001b[A\n\n\n\n\n\n3037it [01:10, 11.31it/s]\u001b[A\u001b[A\u001b[A\u001b[A\u001b[A\u001b[A\n\n\n\n\n\n3046it [01:11, 11.40it/s]\u001b[A\u001b[A\u001b[A\u001b[A\u001b[A\u001b[A\n\n\n\n\n\n3053it [01:11, 13.07it/s]\u001b[A\u001b[A\u001b[A\u001b[A\u001b[A\u001b[A\n\n\n\n\n\n3169it [01:11, 18.50it/s]\u001b[A\u001b[A\u001b[A\u001b[A\u001b[A\u001b[A\n\n\n\n\n\n3191it [01:11, 24.78it/s]\u001b[A\u001b[A\u001b[A\u001b[A\u001b[A\u001b[A\n\n\n\n\n\n3247it [01:12, 34.53it/s]\u001b[A\u001b[A\u001b[A\u001b[A\u001b[A\u001b[A\n\n\n\n\n\n3273it [01:12, 39.21it/s]\u001b[A\u001b[A\u001b[A\u001b[A\u001b[A\u001b[A\n\n\n\n\n\n3317it [01:13, 44.77it/s]\u001b[A\u001b[A\u001b[A\u001b[A\u001b[A\u001b[A\n\n\n\n\n\n3333it [01:13, 33.94it/s]\u001b[A\u001b[A\u001b[A\u001b[A\u001b[A\u001b[A\n\n\n\n\n\n3488it [01:13, 47.99it/s]\u001b[A\u001b[A\u001b[A\u001b[A\u001b[A\u001b[A\n\n\n\n\n\n3553it [01:14, 63.82it/s]\u001b[A\u001b[A\u001b[A\u001b[A\u001b[A\u001b[A\n\n\n\n\n\n3597it [01:15, 61.41it/s]\u001b[A\u001b[A\u001b[A\u001b[A\u001b[A\u001b[A\n\n\n\n\n\n3630it [01:15, 78.63it/s]\u001b[A\u001b[A\u001b[A\u001b[A\u001b[A\u001b[A\n\n\n\n\n\n3660it [01:15, 93.31it/s]\u001b[A\u001b[A\u001b[A\u001b[A\u001b[A\u001b[A\n\n\n\n\n\n3803it [01:15, 129.57it/s]\u001b[A\u001b[A\u001b[A\u001b[A\u001b[A\u001b[A\n\n\n\n\n\n3863it [01:16, 77.88it/s]\u001b[A\u001b[A\u001b[A\u001b[A\u001b[A\u001b[A\n\n\n\n\n\n3906it [01:18, 52.31it/s]\u001b[A\u001b[A\u001b[A\u001b[A\u001b[A\u001b[A\n\n\n\n\n\n4073it [01:18, 73.65it/s]\u001b[A\u001b[A\u001b[A\u001b[A\u001b[A\u001b[A\n\n\n\n\n\n4141it [01:28, 18.57it/s]\u001b[A\u001b[A\u001b[A\u001b[A\u001b[A\u001b[A\n\n\n\n\n\n4169it [01:29, 19.76it/s]\u001b[A\u001b[A\u001b[A\u001b[A\u001b[A\u001b[A\n\n\n\n\n\n4171it [01:31,  4.28it/s]\u001b[A\u001b[A\u001b[A\u001b[A\u001b[A\u001b[A\n\n\n\n\n\n4208it [01:31,  6.07it/s]\u001b[A\u001b[A\u001b[A\u001b[A\u001b[A\u001b[A\n\n\n\n\n\n4217it [01:31,  8.38it/s]\u001b[A\u001b[A\u001b[A\u001b[A\u001b[A\u001b[A\n\n\n\n\n\n4248it [01:31, 11.77it/s]\u001b[A\u001b[A\u001b[A\u001b[A\u001b[A\u001b[A\n\n\n\n\n\n4261it [01:31, 16.02it/s]\u001b[A\u001b[A\u001b[A\u001b[A\u001b[A\u001b[A\n\n\n\n\n\n4428it [01:31, 22.79it/s]\u001b[A\u001b[A\u001b[A\u001b[A\u001b[A\u001b[A\n\n\n\n\n\n4580it [01:31, 32.33it/s]\u001b[A\u001b[A\u001b[A\u001b[A\u001b[A\u001b[A\n\n\n\n\n\n4664it [01:31, 45.38it/s]\u001b[A\u001b[A\u001b[A\u001b[A\u001b[A\u001b[A\n\n\n\n\n\n4745it [01:33, 48.61it/s]\u001b[A\u001b[A\u001b[A\u001b[A\u001b[A\u001b[A\n\n\n\n\n\n4835it [01:33, 65.69it/s]\u001b[A\u001b[A\u001b[A\u001b[A\u001b[A\u001b[A\n\n\n\n\n\n4887it [01:35, 50.74it/s]\u001b[A\u001b[A\u001b[A\u001b[A\u001b[A\u001b[A\n\n\n\n\n\n4929it [01:35, 68.23it/s]\u001b[A\u001b[A\u001b[A\u001b[A\u001b[A\u001b[A\n\n\n\n\n\n4966it [01:35, 88.76it/s]\u001b[A\u001b[A\u001b[A\u001b[A\u001b[A\u001b[A\n\n\n\n\n\n5001it [01:35, 91.64it/s]\u001b[A\u001b[A\u001b[A\u001b[A\u001b[A\u001b[A\n\n\n\n\n\n5132it [01:35, 125.09it/s]\u001b[A\u001b[A\u001b[A\u001b[A\u001b[A\u001b[A\n\n\n\n\n\n5177it [01:37, 65.04it/s]\u001b[A\u001b[A\u001b[A\u001b[A\u001b[A\u001b[A\n\n\n\n\n\n5214it [01:37, 82.56it/s]\u001b[A\u001b[A\u001b[A\u001b[A\u001b[A\u001b[A\n\n\n\n\n\n5243it [01:37, 94.58it/s]\u001b[A\u001b[A\u001b[A\u001b[A\u001b[A\u001b[A\n\n\n\n\n\n5268it [01:38, 68.21it/s]\u001b[A\u001b[A\u001b[A\u001b[A\u001b[A\u001b[A\n\n\n\n\n\n5278it [01:49,  2.93it/s]\u001b[A\u001b[A\u001b[A\u001b[A\u001b[A\u001b[A\n\n\n\n\n\n5278it [01:49,  2.93it/s]\u001b[A\u001b[A\u001b[A\u001b[A\u001b[A\u001b[A\n\n\n\n\n\n5279it [01:50,  2.27it/s]\u001b[A\u001b[A\u001b[A\u001b[A\u001b[A\u001b[A\n\n\n\n\n\n5317it [01:50,  3.19it/s]\u001b[A\u001b[A\u001b[A\u001b[A\u001b[A\u001b[A\n\n\n\n\n\n5319it [01:51,  3.06it/s]\u001b[A\u001b[A\u001b[A\u001b[A\u001b[A\u001b[A\n\n\n\n\n\n5369it [01:51,  4.35it/s]\u001b[A\u001b[A\u001b[A\u001b[A\u001b[A\u001b[A\n\n\n\n\n\n5378it [01:51,  5.98it/s]\u001b[A\u001b[A\u001b[A\u001b[A\u001b[A\u001b[A\n\n\n\n\n\n5475it [01:52,  8.30it/s]\u001b[A\u001b[A\u001b[A\u001b[A\u001b[A\u001b[A\n\n\n\n\n\n5483it [01:54,  7.81it/s]\u001b[A\u001b[A\u001b[A\u001b[A\u001b[A\u001b[A\n\n\n\n\n\n5505it [01:54, 10.90it/s]\u001b[A\u001b[A\u001b[A\u001b[A\u001b[A\u001b[A\n\n\n\n\n\n5514it [01:54, 14.16it/s]\u001b[A\u001b[A\u001b[A\u001b[A\u001b[A\u001b[A\n\n\n\n\n\n5602it [01:54, 20.01it/s]\u001b[A\u001b[A\u001b[A\u001b[A\u001b[A\u001b[A\n\n\n\n\n\n5624it [01:56, 15.31it/s]\u001b[A\u001b[A\u001b[A\u001b[A\u001b[A\u001b[A\n\n\n\n\n\n5646it [01:56, 20.83it/s]\u001b[A\u001b[A\u001b[A\u001b[A\u001b[A\u001b[A\n\n\n\n\n\n5661it [01:57, 26.69it/s]\u001b[A\u001b[A\u001b[A\u001b[A\u001b[A\u001b[A\n\n\n\n\n\n5705it [01:57, 32.65it/s]\u001b[A\u001b[A\u001b[A\u001b[A\u001b[A\u001b[A\n\n\n\n\n\n5742it [01:58, 48.44it/s]0.90891675374434\n\n"
    }
   ],
   "source": [
    "from collections import defaultdict\n",
    "wrong = 0\n",
    "total = 0\n",
    "avg_hit_at_one = 0\n",
    "print_cnt = 0\n",
    "remove_triples = set()\n",
    "add_triples = set()\n",
    "is_entity = lambda x: not x.startswith('?') \n",
    "for i, e in tqdm(enumerate(train_data.data + valid_data.data + test_data.data)):\n",
    "    if 'rel_chain_map' not in e:\n",
    "        continue\n",
    "    rel_chain_map = e['rel_chain_map']\n",
    "    last_hop_gt = {k: v['ground_truth'][0] for k, v in rel_chain_map[str(len(rel_chain_map))].items()}\n",
    "    last_hop_pred_ans = dict()\n",
    "    entity2prev = defaultdict(set)\n",
    "    for k in last_hop_gt:\n",
    "        flag = True\n",
    "        if k not in merged:\n",
    "            flag = False\n",
    "        prev_entities = [k]\n",
    "        for v in last_hop_gt[k]:\n",
    "            if 'EOD' == v:\n",
    "                continue\n",
    "            next_entities = set()\n",
    "            for prev_entity in prev_entities:\n",
    "                if prev_entity in merged and v in merged[prev_entity]:\n",
    "                    next_entities.update(list(merged[prev_entity][v].keys()))\n",
    "                    for kk in list(merged[prev_entity][v].keys()):\n",
    "                        entity2prev[kk].add((prev_entity, v))\n",
    "            prev_entities = list(next_entities)\n",
    "        last_hop_pred_ans[k] = prev_entities\n",
    "    merged_answers = None\n",
    "    for k, v in last_hop_pred_ans.items():\n",
    "        if merged_answers is None:\n",
    "            merged_answers = set(v)\n",
    "        else:\n",
    "            merged_answers &= set(v)\n",
    "    # print([len(last_hop_pred_ans[k]) for k in last_hop_pred_ans])\n",
    "    hit_at_one = list(merged_answers)[0] in e['answers'] if len(merged_answers) > 0 else 0\n",
    "    # if hit_at_one == 0:\n",
    "    #     answers = set(e['answers'])\n",
    "    #     if len(answers & merged_answers) == len(answers) and answers != merged_answers:\n",
    "    #         outliers = merged_answers - answers\n",
    "    #         for outlier in outliers:\n",
    "    #             for s, p in entity2prev[outlier]:\n",
    "    #                 remove_triples.add((s, p, outlier))\n",
    "    # _-------------------------------------\n",
    "    # if hit_at_one == 0:\n",
    "    #     if e['sparql'].count('FILTER') <= 2 and 'filter(' not in e['sparql'].lower() and 'ORDER BY' not in e['sparql'] and 'UNION' not in e['sparql']:\n",
    "    #         sparql = e['sparql']\n",
    "    #         sparql = sparql.replace('PREFIX ns:', '').replace('SELECT DISTINCT ?x', '').replace('WHERE {', '')\n",
    "    #         sparql = [sss.strip().replace('ns:', '') for sss in sparql.split('\\n') if not sss.strip().lower().startswith('filter') and not sss.strip().lower().startswith('select') and sss.strip() != '}']\n",
    "    #         for lll in sparql:\n",
    "    #             if not lll.strip():\n",
    "    #                 continue\n",
    "    #             lll = list(map(str.strip, lll.split()))[:3]\n",
    "    #             if len(lll) != 3:\n",
    "    #                 continue\n",
    "    #             topic = None\n",
    "    #             if is_entity(lll[0]) and lll[2] == '?x':\n",
    "    #                 topic = lll[0]\n",
    "    #             elif is_entity(lll[2]) and lll[0] == '?x':\n",
    "    #                 topic = lll[2]\n",
    "    #             for answer in e['answers']:\n",
    "    #                 if topic is not None and (topic not in merged or lll[1] not in merged[topic] or answer not in merged[topic][lll[1]]):\n",
    "    #                     add_triples.add((topic, lll[1], answer))\n",
    "    # _-------------------------------------\n",
    "            # print()\n",
    "            # print(e['answers'])\n",
    "            # print(merged_answers)\n",
    "            # print_cnt += 1\n",
    "\n",
    "    if hit_at_one == 0 and print_cnt < 20:\n",
    "        print(e['sparql'])\n",
    "        print(sorted(e['answers'])[:10])\n",
    "        print(sorted(list(merged_answers))[:10])\n",
    "        print()\n",
    "        print_cnt += 1\n",
    "    avg_hit_at_one += int(hit_at_one)\n",
    "    total += 1\n",
    "print(avg_hit_at_one / total)"
   ]
  },
  {
   "cell_type": "code",
   "execution_count": 34,
   "metadata": {},
   "outputs": [
    {
     "output_type": "stream",
     "name": "stdout",
     "text": "{'ground_truth': [['government.government_position_held.office_holder', 'government.government_office_or_title.office_holders']], 'cands': [['government.government_position_held.office_holder', 'government.government_position_held.district_represented'], ['government.government_position_held.office_holder', 'government.political_district.representatives'], ['government.government_position_held.office_holder', 'government.government_office_or_title.office_holders'], ['government.government_position_held.office_holder', 'government.government_position_held.basic_title'], ['government.government_position_held.office_holder', 'government.governmental_jurisdiction.governing_officials'], ['government.government_position_held.office_holder', 'government.government_position_held.office_position_or_title'], ['government.government_position_held.office_holder', 'government.government_position_held.from'], ['government.government_position_held.office_holder', 'government.politician.government_positions_held'], ['government.government_position_held.office_holder', 'government.government_position_held.office_holder'], ['government.government_position_held.office_holder', 'EOD'], ['government.government_position_held.office_holder', 'government.government_position_held.jurisdiction_of_office']]}\n"
    }
   ],
   "source": [
    "for e in train_data.data:\n",
    "    if 'ORDER BY' in e['sparql']:\n",
    "        print(e['rel_chain_map']['2']['m.083p7'])\n",
    "        break"
   ]
  },
  {
   "cell_type": "code",
   "execution_count": 61,
   "metadata": {},
   "outputs": [],
   "source": [
    "for s, p, o in add_triples:\n",
    "    if s not in merged:\n",
    "        merged[s] = dict()\n",
    "    if p not in merged[s]:\n",
    "        merged[s][p] = dict()\n",
    "    if o not in merged[s][p]:\n",
    "        merged[s][p][o] = 0\n",
    "    if o not in merged:\n",
    "        merged[o] = dict()\n",
    "    if p not in merged[o]:\n",
    "        merged[o][p] = dict()\n",
    "    if s not in merged[o][p]:\n",
    "        merged[o][p][s] = 1"
   ]
  },
  {
   "cell_type": "code",
   "execution_count": 63,
   "metadata": {},
   "outputs": [],
   "source": [
    "save_json(merged, 'datasets/webqsp/merged_facts.json')"
   ]
  },
  {
   "cell_type": "code",
   "execution_count": 100,
   "metadata": {},
   "outputs": [
    {
     "output_type": "execute_result",
     "data": {
      "text/plain": "('m.09c7w0', 'location.location.contains', 'm.04c2z61')"
     },
     "metadata": {},
     "execution_count": 100
    }
   ],
   "source": [
    "list(remove_triples)[0]"
   ]
  },
  {
   "cell_type": "code",
   "execution_count": 66,
   "metadata": {},
   "outputs": [
    {
     "output_type": "stream",
     "name": "stdout",
     "text": "613\n"
    }
   ],
   "source": [
    "all_relations = set()\n",
    "for e in train_data.data + valid_data.data + test_data.data:\n",
    "    rel_chain_map = e['rel_chain_map']\n",
    "    last_hop_gt = {k: v['ground_truth'][0] for k, v in rel_chain_map[str(len(rel_chain_map))].items()}\n",
    "    for rels in last_hop_gt.values():\n",
    "        all_relations.update(rels)\n",
    "all_relations.add('EOD')\n",
    "all_relations.add('SOS')\n",
    "with open('datasets/webqsp/relations_v2.txt', 'w') as f:\n",
    "    for e in sorted(all_relations):\n",
    "        f.writelines(e + '\\n')\n",
    "print(len(all_relations))"
   ]
  },
  {
   "cell_type": "code",
   "execution_count": 124,
   "metadata": {},
   "outputs": [
    {
     "output_type": "stream",
     "name": "stdout",
     "text": "{'a': {'d': {'j': 1, 'k': 1}, 'e': {}}, 'b': {'f': {'l': 1}, 'g': {}}, 'c': {'h': {'i': 1}}}\n"
    }
   ],
   "source": [
    "test_facts = dict()\n",
    "test_facts['a'] = dict()\n",
    "test_facts['b'] = dict()\n",
    "test_facts['c'] = dict()\n",
    "test_facts['a']['d'] = dict()\n",
    "test_facts['a']['e'] = dict()\n",
    "test_facts['a']['d']['j'] = 1\n",
    "test_facts['a']['d']['k'] = 1\n",
    "test_facts['b']['f'] = dict()\n",
    "test_facts['b']['g'] = dict()\n",
    "test_facts['b']['f']['l'] = 1\n",
    "test_facts['b']['g']['k'] = 0\n",
    "test_facts['c']['h'] = dict()\n",
    "test_facts['c']['h']['i'] = 1\n",
    "\n",
    "for s in list(test_facts):\n",
    "    for p in list(test_facts[s]):\n",
    "        for o in list(test_facts[s][p]):\n",
    "            if (s, p, o) == ('b', 'g', 'k'):\n",
    "                del test_facts[s][p][o]\n",
    "print(test_facts)\n"
   ]
  },
  {
   "cell_type": "code",
   "execution_count": 17,
   "metadata": {
    "tags": [
     "outputPrepend",
     "outputPrepend",
     "outputPrepend",
     "outputPrepend",
     "outputPrepend",
     "outputPrepend",
     "outputPrepend",
     "outputPrepend",
     "outputPrepend",
     "outputPrepend",
     "outputPrepend",
     "outputPrepend",
     "outputPrepend",
     "outputPrepend",
     "outputPrepend",
     "outputPrepend",
     "outputPrepend",
     "outputPrepend",
     "outputPrepend",
     "outputPrepend",
     "outputPrepend",
     "outputPrepend",
     "outputPrepend",
     "outputPrepend",
     "outputPrepend",
     "outputPrepend",
     "outputPrepend",
     "outputPrepend",
     "outputPrepend",
     "outputPrepend",
     "outputPrepend",
     "outputPrepend",
     "outputPrepend",
     "outputPrepend",
     "outputPrepend",
     "outputPrepend",
     "outputPrepend",
     "outputPrepend",
     "outputPrepend",
     "outputPrepend",
     "outputPrepend",
     "outputPrepend",
     "outputPrepend",
     "outputPrepend",
     "outputPrepend",
     "outputPrepend",
     "outputPrepend",
     "outputPrepend",
     "outputPrepend",
     "outputPrepend",
     "outputPrepend",
     "outputPrepend",
     "outputPrepend",
     "outputPrepend",
     "outputPrepend",
     "outputPrepend",
     "outputPrepend",
     "outputPrepend",
     "outputPrepend",
     "outputPrepend",
     "outputPrepend",
     "outputPrepend",
     "outputPrepend",
     "outputPrepend",
     "outputPrepend",
     "outputPrepend",
     "outputPrepend",
     "outputPrepend",
     "outputPrepend",
     "outputPrepend",
     "outputPrepend",
     "outputPrepend",
     "outputPrepend",
     "outputPrepend",
     "outputPrepend",
     "outputPrepend",
     "outputPrepend",
     "outputPrepend",
     "outputPrepend",
     "outputPrepend",
     "outputPrepend",
     "outputPrepend",
     "outputPrepend",
     "outputPrepend",
     "outputPrepend",
     "outputPrepend",
     "outputPrepend",
     "outputPrepend",
     "outputPrepend",
     "outputPrepend",
     "outputPrepend",
     "outputPrepend",
     "outputPrepend",
     "outputPrepend",
     "outputPrepend",
     "outputPrepend",
     "outputPrepend",
     "outputPrepend",
     "outputPrepend",
     "outputPrepend",
     "outputPrepend",
     "outputPrepend",
     "outputPrepend",
     "outputPrepend",
     "outputPrepend",
     "outputPrepend",
     "outputPrepend",
     "outputPrepend",
     "outputPrepend",
     "outputPrepend",
     "outputPrepend",
     "outputPrepend",
     "outputPrepend",
     "outputPrepend",
     "outputPrepend",
     "outputPrepend",
     "outputPrepend",
     "outputPrepend",
     "outputPrepend",
     "outputPrepend",
     "outputPrepend",
     "outputPrepend",
     "outputPrepend",
     "outputPrepend",
     "outputPrepend",
     "outputPrepend",
     "outputPrepend",
     "outputPrepend",
     "outputPrepend",
     "outputPrepend",
     "outputPrepend",
     "outputPrepend",
     "outputPrepend",
     "outputPrepend",
     "outputPrepend",
     "outputPrepend",
     "outputPrepend",
     "outputPrepend",
     "outputPrepend",
     "outputPrepend",
     "outputPrepend",
     "outputPrepend",
     "outputPrepend",
     "outputPrepend",
     "outputPrepend",
     "outputPrepend",
     "outputPrepend",
     "outputPrepend",
     "outputPrepend",
     "outputPrepend",
     "outputPrepend",
     "outputPrepend",
     "outputPrepend",
     "outputPrepend",
     "outputPrepend",
     "outputPrepend",
     "outputPrepend",
     "outputPrepend",
     "outputPrepend",
     "outputPrepend",
     "outputPrepend",
     "outputPrepend",
     "outputPrepend",
     "outputPrepend",
     "outputPrepend",
     "outputPrepend",
     "outputPrepend",
     "outputPrepend",
     "outputPrepend",
     "outputPrepend",
     "outputPrepend",
     "outputPrepend",
     "outputPrepend",
     "outputPrepend",
     "outputPrepend",
     "outputPrepend",
     "outputPrepend",
     "outputPrepend",
     "outputPrepend",
     "outputPrepend",
     "outputPrepend",
     "outputPrepend",
     "outputPrepend",
     "outputPrepend",
     "outputPrepend",
     "outputPrepend",
     "outputPrepend",
     "outputPrepend",
     "outputPrepend",
     "outputPrepend",
     "outputPrepend",
     "outputPrepend",
     "outputPrepend",
     "outputPrepend",
     "outputPrepend",
     "outputPrepend",
     "outputPrepend",
     "outputPrepend",
     "outputPrepend",
     "outputPrepend",
     "outputPrepend",
     "outputPrepend",
     "outputPrepend",
     "outputPrepend",
     "outputPrepend",
     "outputPrepend",
     "outputPrepend",
     "outputPrepend",
     "outputPrepend",
     "outputPrepend",
     "outputPrepend",
     "outputPrepend",
     "outputPrepend",
     "outputPrepend",
     "outputPrepend",
     "outputPrepend",
     "outputPrepend",
     "outputPrepend",
     "outputPrepend",
     "outputPrepend",
     "outputPrepend",
     "outputPrepend",
     "outputPrepend",
     "outputPrepend",
     "outputPrepend"
    ]
   },
   "outputs": [
    {
     "output_type": "stream",
     "name": "stderr",
     "text": "05 [00:09<01:38, 124662.40it/s]\u001b[A\n  7%|▋         | 910665/13163105 [00:09<01:41, 121245.44it/s]\u001b[A\n  7%|▋         | 922828/13163105 [00:09<01:41, 120485.67it/s]\u001b[A\n  7%|▋         | 934905/13163105 [00:09<01:45, 115975.36it/s]\u001b[A\n  7%|▋         | 947630/13163105 [00:10<01:42, 119141.00it/s]\u001b[A\n  7%|▋         | 959605/13163105 [00:10<01:48, 112355.93it/s]\u001b[A\n  7%|▋         | 972953/13163105 [00:10<01:43, 117951.75it/s]\u001b[A\n  7%|▋         | 984908/13163105 [00:10<01:43, 117894.40it/s]\u001b[A\n  8%|▊         | 996809/13163105 [00:10<01:43, 117935.80it/s]\u001b[A\n  8%|▊         | 1009807/13163105 [00:10<01:40, 121306.08it/s]\u001b[A\n  8%|▊         | 1022536/13163105 [00:10<01:38, 123040.94it/s]\u001b[A\n  8%|▊         | 1034902/13163105 [00:10<01:38, 122942.31it/s]\u001b[A\n  8%|▊         | 1047689/13163105 [00:10<01:37, 124379.35it/s]\u001b[A\n  8%|▊         | 1060161/13163105 [00:11<03:05, 65092.17it/s]\u001b[A\n  8%|▊         | 1071629/13163105 [00:11<02:45, 73199.03it/s]\u001b[A\n  8%|▊         | 1081483/13163105 [00:11<02:32, 79080.52it/s]\u001b[A\n  8%|▊         | 1094580/13163105 [00:11<02:14, 89746.90it/s]\u001b[A\n  8%|▊         | 1106413/13163105 [00:11<02:04, 96757.58it/s]\u001b[A\n  9%|▊         | 1118886/13163105 [00:11<01:56, 103698.01it/s]\u001b[A\n  9%|▊         | 1130434/13163105 [00:11<01:52, 106868.50it/s]\u001b[A\n  9%|▊         | 1142632/13163105 [00:12<01:48, 110990.34it/s]\u001b[A\n  9%|▉         | 1154350/13163105 [00:12<01:49, 109892.58it/s]\u001b[A\n  9%|▉         | 1165775/13163105 [00:12<02:00, 99477.12it/s]\u001b[A\n  9%|▉         | 1179211/13163105 [00:12<01:51, 107878.85it/s]\u001b[A\n  9%|▉         | 1190551/13163105 [00:12<01:54, 104401.43it/s]\u001b[A\n  9%|▉         | 1203574/13163105 [00:12<01:47, 111005.55it/s]\u001b[A\n  9%|▉         | 1215855/13163105 [00:12<01:44, 114301.03it/s]\u001b[A\n  9%|▉         | 1235162/13163105 [00:12<01:31, 130241.19it/s]\u001b[A\n 10%|▉         | 1268208/13163105 [00:12<01:14, 159172.45it/s]\u001b[A\n 10%|▉         | 1299394/13163105 [00:12<01:03, 186575.96it/s]\u001b[A\n 10%|█         | 1329289/13163105 [00:13<00:56, 210288.56it/s]\u001b[A\n 10%|█         | 1358757/13163105 [00:13<00:51, 230046.35it/s]\u001b[A\n 11%|█         | 1389462/13163105 [00:13<00:47, 248762.03it/s]\u001b[A\n 11%|█         | 1421722/13163105 [00:13<00:43, 267102.12it/s]\u001b[A\n 11%|█         | 1455078/13163105 [00:13<00:41, 284081.15it/s]\u001b[A\n 11%|█▏        | 1489023/13163105 [00:13<00:39, 298695.63it/s]\u001b[A\n 12%|█▏        | 1521440/13163105 [00:13<00:38, 305907.28it/s]\u001b[A\n 12%|█▏        | 1554855/13163105 [00:13<00:36, 313865.00it/s]\u001b[A\n 12%|█▏        | 1587095/13163105 [00:13<00:37, 309983.00it/s]\u001b[A\n 12%|█▏        | 1620033/13163105 [00:14<00:36, 315556.48it/s]\u001b[A\n 13%|█▎        | 1653772/13163105 [00:14<00:35, 321801.18it/s]\u001b[A\n 13%|█▎        | 1687273/13163105 [00:14<00:35, 325652.34it/s]\u001b[A\n 13%|█▎        | 1720091/13163105 [00:14<00:35, 325894.27it/s]\u001b[A\n 13%|█▎        | 1752858/13163105 [00:14<00:35, 325880.08it/s]\u001b[A\n 14%|█▎        | 1785731/13163105 [00:14<00:34, 326729.48it/s]\u001b[A\n 14%|█▍        | 1818495/13163105 [00:14<00:34, 327001.03it/s]\u001b[A\n 14%|█▍        | 1852295/13163105 [00:14<00:34, 330223.76it/s]\u001b[A\n 14%|█▍        | 1885368/13163105 [00:14<00:34, 325528.46it/s]\u001b[A\n 15%|█▍        | 1918840/13163105 [00:14<00:34, 328230.49it/s]\u001b[A\n 15%|█▍        | 1952356/13163105 [00:15<00:33, 330277.77it/s]\u001b[A\n 15%|█▌        | 1985416/13163105 [00:15<00:33, 330155.00it/s]\u001b[A\n 15%|█▌        | 2018649/13163105 [00:15<00:33, 330799.42it/s]\u001b[A\n 16%|█▌        | 2051745/13163105 [00:15<00:33, 329798.79it/s]\u001b[A\n 16%|█▌        | 2084737/13163105 [00:15<00:34, 321836.84it/s]\u001b[A\n 16%|█▌        | 2117258/13163105 [00:15<00:34, 322840.36it/s]\u001b[A\n 16%|█▋        | 2149579/13163105 [00:15<00:34, 320772.23it/s]\u001b[A\n 17%|█▋        | 2182565/13163105 [00:15<00:33, 323444.50it/s]\u001b[A\n 17%|█▋        | 2216147/13163105 [00:15<00:33, 327056.53it/s]\u001b[A\n 17%|█▋        | 2249134/13163105 [00:15<00:33, 327893.98it/s]\u001b[A\n 17%|█▋        | 2282126/13163105 [00:16<00:33, 328496.45it/s]\u001b[A\n 18%|█▊        | 2315738/13163105 [00:16<00:32, 330744.49it/s]\u001b[A\n 18%|█▊        | 2349637/13163105 [00:16<00:32, 333172.76it/s]\u001b[A\n 18%|█▊        | 2383192/13163105 [00:16<00:32, 333882.25it/s]\u001b[A\n 18%|█▊        | 2416939/13163105 [00:16<00:32, 334948.49it/s]\u001b[A\n 19%|█▊        | 2450442/13163105 [00:16<00:32, 333642.13it/s]\u001b[A\n 19%|█▉        | 2483934/13163105 [00:16<00:31, 334023.85it/s]\u001b[A\n 19%|█▉        | 2517342/13163105 [00:16<00:32, 325619.37it/s]\u001b[A\n 19%|█▉        | 2549954/13163105 [00:16<00:32, 322616.41it/s]\u001b[A\n 20%|█▉        | 2582500/13163105 [00:16<00:32, 323463.20it/s]\u001b[A\n 20%|█▉        | 2614876/13163105 [00:17<00:32, 320741.94it/s]\u001b[A\n 20%|██        | 2647187/13163105 [00:17<00:32, 321448.34it/s]\u001b[A\n 20%|██        | 2680133/13163105 [00:17<00:32, 323807.30it/s]\u001b[A\n 21%|██        | 2713027/13163105 [00:17<00:32, 325329.38it/s]\u001b[A\n 21%|██        | 2745974/13163105 [00:17<00:31, 326559.07it/s]\u001b[A\n 21%|██        | 2778641/13163105 [00:17<00:31, 324565.80it/s]\u001b[A\n 21%|██▏       | 2811667/13163105 [00:17<00:31, 326252.74it/s]\u001b[A\n 22%|██▏       | 2844393/13163105 [00:17<00:31, 326550.16it/s]\u001b[A\n 22%|██▏       | 2877055/13163105 [00:17<00:31, 325017.37it/s]\u001b[A\n 22%|██▏       | 2909563/13163105 [00:17<00:32, 319366.95it/s]\u001b[A\n 22%|██▏       | 2942238/13163105 [00:18<00:31, 321531.29it/s]\u001b[A\n 23%|██▎       | 2975106/13163105 [00:18<00:31, 323641.31it/s]\u001b[A\n 23%|██▎       | 3008484/13163105 [00:18<00:31, 326617.05it/s]\u001b[A\n 23%|██▎       | 3041166/13163105 [00:18<00:31, 317327.27it/s]\u001b[A\n 23%|██▎       | 3072971/13163105 [00:18<00:31, 316818.71it/s]\u001b[A\n 24%|██▎       | 3105306/13163105 [00:18<00:31, 318746.50it/s]\u001b[A\n 24%|██▍       | 3137829/13163105 [00:18<00:31, 320663.65it/s]\u001b[A\n 24%|██▍       | 3169925/13163105 [00:18<00:43, 230209.28it/s]\u001b[A\n 24%|██▍       | 3201543/13163105 [00:18<00:39, 250654.93it/s]\u001b[A\n 25%|██▍       | 3232181/13163105 [00:19<00:37, 265121.08it/s]\u001b[A\n 25%|██▍       | 3264049/13163105 [00:19<00:35, 279196.59it/s]\u001b[A\n 25%|██▌       | 3296444/13163105 [00:19<00:33, 291266.51it/s]\u001b[A\n 25%|██▌       | 3329666/13163105 [00:19<00:32, 302450.18it/s]\u001b[A\n 26%|██▌       | 3362998/13163105 [00:19<00:31, 311092.63it/s]\u001b[A\n 26%|██▌       | 3396490/13163105 [00:19<00:30, 317876.75it/s]\u001b[A\n 26%|██▌       | 3429089/13163105 [00:19<00:30, 320266.97it/s]\u001b[A\n 26%|██▋       | 3461978/13163105 [00:19<00:30, 322803.85it/s]\u001b[A\n 27%|██▋       | 3494573/13163105 [00:19<00:30, 317681.99it/s]\u001b[A\n 27%|██▋       | 3527718/13163105 [00:19<00:29, 321689.08it/s]\u001b[A\n 27%|██▋       | 3560066/13163105 [00:20<00:30, 319522.35it/s]\u001b[A\n 27%|██▋       | 3592147/13163105 [00:20<00:30, 317864.27it/s]\u001b[A\n 28%|██▊       | 3624650/13163105 [00:20<00:29, 319979.56it/s]\u001b[A\n 28%|██▊       | 3657098/13163105 [00:20<00:29, 321315.48it/s]\u001b[A\n 28%|██▊       | 3689890/13163105 [00:20<00:29, 323267.68it/s]\u001b[A\n 28%|██▊       | 3722620/13163105 [00:20<00:29, 322435.87it/s]\u001b[A\n 29%|██▊       | 3754890/13163105 [00:20<00:29, 322146.01it/s]\u001b[A\n 29%|██▉       | 3787124/13163105 [00:20<00:29, 322202.89it/s]\u001b[A\n 29%|██▉       | 3819669/13163105 [00:20<00:28, 323169.37it/s]\u001b[A\n 29%|██▉       | 3852622/13163105 [00:21<00:28, 325050.12it/s]\u001b[A\n 30%|██▉       | 3885229/13163105 [00:21<00:28, 325353.41it/s]\u001b[A\n 30%|██▉       | 3917787/13163105 [00:21<00:28, 325420.05it/s]\u001b[A\n 30%|███       | 3950673/13163105 [00:21<00:28, 326441.54it/s]\u001b[A\n 30%|███       | 3983322/13163105 [00:21<00:28, 324909.98it/s]\u001b[A\n 31%|███       | 4015818/13163105 [00:21<00:28, 321119.42it/s]\u001b[A\n 31%|███       | 4049320/13163105 [00:21<00:28, 325162.52it/s]\u001b[A\n 31%|███       | 4081858/13163105 [00:21<00:28, 317425.16it/s]\u001b[A\n 31%|███▏      | 4113657/13163105 [00:21<00:28, 315769.14it/s]\u001b[A\n 31%|███▏      | 4145275/13163105 [00:21<00:29, 303644.18it/s]\u001b[A\n 32%|███▏      | 4178265/13163105 [00:22<00:28, 311068.31it/s]\u001b[A\n 32%|███▏      | 4210947/13163105 [00:22<00:28, 315630.61it/s]\u001b[A\n 32%|███▏      | 4242996/13163105 [00:22<00:28, 317071.63it/s]\u001b[A\n 32%|███▏      | 4275497/13163105 [00:22<00:27, 319411.99it/s]\u001b[A\n 33%|███▎      | 4307867/13163105 [00:22<00:27, 319146.67it/s]\u001b[A\n 33%|███▎      | 4340184/13163105 [00:22<00:27, 320341.84it/s]\u001b[A\n 33%|███▎      | 4373013/13163105 [00:22<00:27, 322683.63it/s]\u001b[A\n 33%|███▎      | 4405307/13163105 [00:22<00:27, 322229.87it/s]\u001b[A\n 34%|███▎      | 4437548/13163105 [00:22<00:27, 319333.45it/s]\u001b[A\n 34%|███▍      | 4469500/13163105 [00:22<00:27, 314269.01it/s]\u001b[A\n 34%|███▍      | 4500999/13163105 [00:23<00:27, 314481.90it/s]\u001b[A\n 34%|███▍      | 4533541/13163105 [00:23<00:27, 317682.54it/s]\u001b[A\n 35%|███▍      | 4565654/13163105 [00:23<00:26, 318706.58it/s]\u001b[A\n 35%|███▍      | 4597542/13163105 [00:23<00:27, 312972.43it/s]\u001b[A\n 35%|███▌      | 4629688/13163105 [00:23<00:27, 315469.58it/s]\u001b[A\n 35%|███▌      | 4661265/13163105 [00:23<00:27, 310487.74it/s]\u001b[A\n 36%|███▌      | 4693539/13163105 [00:23<00:26, 314063.61it/s]\u001b[A\n 36%|███▌      | 4725473/13163105 [00:23<00:26, 315576.01it/s]\u001b[A\n 36%|███▌      | 4757407/13163105 [00:23<00:26, 316691.91it/s]\u001b[A\n 36%|███▋      | 4789547/13163105 [00:23<00:26, 318088.53it/s]\u001b[A\n 37%|███▋      | 4821372/13163105 [00:24<00:26, 317094.12it/s]\u001b[A\n 37%|███▋      | 4853093/13163105 [00:24<00:26, 307789.79it/s]\u001b[A\n 37%|███▋      | 4886511/13163105 [00:24<00:26, 315256.97it/s]\u001b[A\n 37%|███▋      | 4919437/13163105 [00:24<00:25, 319331.07it/s]\u001b[A\n 38%|███▊      | 4951990/13163105 [00:24<00:25, 321164.09it/s]\u001b[A\n 38%|███▊      | 4984163/13163105 [00:24<00:25, 320504.00it/s]\u001b[A\n 38%|███▊      | 5016776/13163105 [00:24<00:25, 322170.72it/s]\u001b[A\n 38%|███▊      | 5049267/13163105 [00:24<00:25, 322987.04it/s]\u001b[A\n 39%|███▊      | 5082122/13163105 [00:24<00:24, 324628.34it/s]\u001b[A\n 39%|███▉      | 5115043/13163105 [00:24<00:24, 325986.25it/s]\u001b[A\n 39%|███▉      | 5147655/13163105 [00:25<00:24, 324494.37it/s]\u001b[A\n 39%|███▉      | 5180116/13163105 [00:25<00:24, 322616.67it/s]\u001b[A\n 40%|███▉      | 5212388/13163105 [00:25<00:25, 317159.21it/s]\u001b[A\n 40%|███▉      | 5244132/13163105 [00:25<00:24, 316951.45it/s]\u001b[A\n 40%|████      | 5277656/13163105 [00:25<00:24, 322223.77it/s]\u001b[A\n 40%|████      | 5310574/13163105 [00:25<00:24, 324278.98it/s]\u001b[A\n 41%|████      | 5343989/13163105 [00:25<00:23, 327175.39it/s]\u001b[A\n 41%|████      | 5377345/13163105 [00:25<00:23, 329061.34it/s]\u001b[A\n 41%|████      | 5410426/13163105 [00:25<00:23, 329583.15it/s]\u001b[A\n 41%|████▏     | 5443399/13163105 [00:25<00:23, 329399.05it/s]\u001b[A\n 42%|████▏     | 5476944/13163105 [00:26<00:23, 331186.94it/s]\u001b[A\n 42%|████▏     | 5510073/13163105 [00:26<00:23, 327217.37it/s]\u001b[A\n 42%|████▏     | 5542813/13163105 [00:26<00:23, 327121.61it/s]\u001b[A\n 42%|████▏     | 5575706/13163105 [00:26<00:23, 327611.47it/s]\u001b[A\n 43%|████▎     | 5608476/13163105 [00:26<00:23, 326047.94it/s]\u001b[A\n 43%|████▎     | 5641089/13163105 [00:26<00:23, 322866.49it/s]\u001b[A\n 43%|████▎     | 5673389/13163105 [00:26<00:23, 321843.64it/s]\u001b[A\n 43%|████▎     | 5705583/13163105 [00:26<00:23, 316043.96it/s]\u001b[A\n 44%|████▎     | 5737218/13163105 [00:26<00:23, 314640.69it/s]\u001b[A\n 44%|████▍     | 5768977/13163105 [00:26<00:23, 315516.89it/s]\u001b[A\n 44%|████▍     | 5800546/13163105 [00:27<00:23, 315113.56it/s]\u001b[A\n 44%|████▍     | 5832240/13163105 [00:27<00:23, 315643.85it/s]\u001b[A\n 45%|████▍     | 5863813/13163105 [00:27<00:23, 315610.20it/s]\u001b[A\n 45%|████▍     | 5895622/13163105 [00:27<00:22, 316347.01it/s]\u001b[A\n 45%|████▌     | 5927694/13163105 [00:27<00:22, 317645.07it/s]\u001b[A\n 45%|████▌     | 5959463/13163105 [00:27<00:22, 316115.41it/s]\u001b[A\n 46%|████▌     | 5991080/13163105 [00:27<00:22, 315124.04it/s]\u001b[A\n 46%|████▌     | 6022597/13163105 [00:27<00:22, 312303.99it/s]\u001b[A\n 46%|████▌     | 6053878/13163105 [00:27<00:22, 312453.93it/s]\u001b[A\n 46%|████▌     | 6085583/13163105 [00:28<00:22, 313814.34it/s]\u001b[A\n 46%|████▋     | 6117681/13163105 [00:28<00:22, 315918.52it/s]\u001b[A\n 47%|████▋     | 6149281/13163105 [00:28<00:22, 315814.09it/s]\u001b[A\n 47%|████▋     | 6180939/13163105 [00:28<00:22, 316042.66it/s]\u001b[A\n 47%|████▋     | 6212547/13163105 [00:28<00:22, 310814.93it/s]\u001b[A\n 47%|████▋     | 6244268/13163105 [00:28<00:22, 312704.10it/s]\u001b[A\n 48%|████▊     | 6276224/13163105 [00:28<00:21, 314727.65it/s]\u001b[A\n 48%|████▊     | 6307713/13163105 [00:28<00:21, 314771.70it/s]\u001b[A\n 48%|████▊     | 6339220/13163105 [00:28<00:21, 314858.75it/s]\u001b[A\n 48%|████▊     | 6370714/13163105 [00:28<00:21, 312168.39it/s]\u001b[A\n 49%|████▊     | 6401963/13163105 [00:29<00:21, 312264.67it/s]\u001b[A\n 49%|████▉     | 6433351/13163105 [00:29<00:21, 312747.16it/s]\u001b[A\n 49%|████▉     | 6464632/13163105 [00:29<00:21, 312197.43it/s]\u001b[A\n 49%|████▉     | 6496891/13163105 [00:29<00:21, 315243.63it/s]\u001b[A\n 50%|████▉     | 6529287/13163105 [00:29<00:20, 317807.20it/s]\u001b[A\n 50%|████▉     | 6561080/13163105 [00:29<00:20, 316674.32it/s]\u001b[A\n 50%|█████     | 6592757/13163105 [00:29<00:20, 314028.78it/s]\u001b[A\n 50%|█████     | 6624172/13163105 [00:29<00:21, 309255.93it/s]\u001b[A\n 51%|█████     | 6656208/13163105 [00:29<00:20, 312505.35it/s]\u001b[A\n 51%|█████     | 6688723/13163105 [00:29<00:20, 316193.03it/s]\u001b[A\n 51%|█████     | 6720371/13163105 [00:30<00:20, 314735.16it/s]\u001b[A\n 51%|█████▏    | 6751866/13163105 [00:30<00:20, 313415.18it/s]\u001b[A\n 52%|█████▏    | 6783762/13163105 [00:30<00:20, 315057.03it/s]\u001b[A\n 52%|█████▏    | 6815336/13163105 [00:30<00:20, 315259.90it/s]\u001b[A\n 52%|█████▏    | 6847361/13163105 [00:30<00:19, 316738.60it/s]\u001b[A\n 52%|█████▏    | 6879044/13163105 [00:30<00:20, 313045.07it/s]\u001b[A\n 53%|█████▎    | 6910721/13163105 [00:30<00:19, 314145.38it/s]\u001b[A\n 53%|█████▎    | 6943425/13163105 [00:30<00:19, 317905.37it/s]\u001b[A\n 53%|█████▎    | 6975235/13163105 [00:30<00:19, 317569.22it/s]\u001b[A\n 53%|█████▎    | 7007006/13163105 [00:30<00:19, 315819.19it/s]\u001b[A\n 53%|█████▎    | 7038600/13163105 [00:31<00:21, 290435.66it/s]\u001b[A\n 54%|█████▎    | 7071274/13163105 [00:31<00:20, 300449.74it/s]\u001b[A\n 54%|█████▍    | 7103688/13163105 [00:31<00:19, 307184.11it/s]\u001b[A\n 54%|█████▍    | 7135714/13163105 [00:31<00:19, 310992.60it/s]\u001b[A\n 54%|█████▍    | 7167034/13163105 [00:31<00:19, 311357.13it/s]\u001b[A\n 55%|█████▍    | 7199535/13163105 [00:31<00:18, 315330.00it/s]\u001b[A\n 55%|█████▍    | 7232231/13163105 [00:31<00:18, 318728.84it/s]\u001b[A\n 55%|█████▌    | 7264197/13163105 [00:31<00:18, 318042.20it/s]\u001b[A\n 55%|█████▌    | 7296174/13163105 [00:31<00:18, 318558.22it/s]\u001b[A\n 56%|█████▌    | 7328998/13163105 [00:31<00:18, 321401.43it/s]\u001b[A\n 56%|█████▌    | 7361636/13163105 [00:32<00:17, 322876.56it/s]\u001b[A\n 56%|█████▌    | 7394258/13163105 [00:32<00:19, 298900.02it/s]\u001b[A\n 56%|█████▋    | 7429279/13163105 [00:32<00:18, 312638.64it/s]\u001b[A\n 57%|█████▋    | 7478987/13163105 [00:32<00:16, 351798.48it/s]\u001b[A\n 57%|█████▋    | 7536706/13163105 [00:32<00:14, 398476.92it/s]\u001b[A\n 58%|█████▊    | 7602840/13163105 [00:32<00:12, 452423.74it/s]\u001b[A\n 58%|█████▊    | 7656106/13163105 [00:32<00:11, 473833.79it/s]\u001b[A\n 59%|█████▊    | 7717465/13163105 [00:32<00:10, 508582.76it/s]\u001b[A\n 59%|█████▉    | 7784252/13163105 [00:32<00:09, 547769.27it/s]\u001b[A\n 60%|█████▉    | 7850493/13163105 [00:32<00:09, 577765.53it/s]\u001b[A\n 60%|██████    | 7936388/13163105 [00:33<00:08, 640685.13it/s]\u001b[A\n 61%|██████    | 8006980/13163105 [00:33<00:07, 658952.38it/s]\u001b[A\n 61%|██████▏   | 8075809/13163105 [00:33<00:07, 645574.96it/s]\u001b[A\n 62%|██████▏   | 8142481/13163105 [00:33<00:07, 645307.86it/s]\u001b[A\n 62%|██████▏   | 8208505/13163105 [00:33<00:07, 649714.91it/s]\u001b[A\n 63%|██████▎   | 8276217/13163105 [00:33<00:07, 657700.37it/s]\u001b[A\n 63%|██████▎   | 8342741/13163105 [00:33<00:07, 612444.49it/s]\u001b[A\n 64%|██████▍   | 8409774/13163105 [00:33<00:07, 628729.73it/s]\u001b[A\n 64%|██████▍   | 8473563/13163105 [00:33<00:07, 629229.35it/s]\u001b[A\n 65%|██████▍   | 8554174/13163105 [00:34<00:06, 673566.02it/s]\u001b[A\n 66%|██████▌   | 8622852/13163105 [00:34<00:07, 639357.09it/s]\u001b[A\n 66%|██████▌   | 8688075/13163105 [00:34<00:07, 629997.69it/s]\u001b[A\n 67%|██████▋   | 8760217/13163105 [00:34<00:06, 654892.89it/s]\u001b[A\n 67%|██████▋   | 8838165/13163105 [00:34<00:06, 687872.46it/s]\u001b[A\n 68%|██████▊   | 8908025/13163105 [00:34<00:06, 684928.77it/s]\u001b[A\n 68%|██████▊   | 8983274/13163105 [00:34<00:05, 703886.82it/s]\u001b[A\n 69%|██████▉   | 9061914/13163105 [00:34<00:05, 726760.87it/s]\u001b[A\n 69%|██████▉   | 9135239/13163105 [00:34<00:05, 724438.71it/s]\u001b[A\n 70%|██████▉   | 9208139/13163105 [00:34<00:05, 718429.57it/s]\u001b[A\n 71%|███████   | 9303729/13163105 [00:35<00:04, 776280.46it/s]\u001b[A\n 71%|███████▏  | 9382927/13163105 [00:35<00:04, 758774.72it/s]\u001b[A\n 72%|███████▏  | 9459991/13163105 [00:35<00:04, 741355.67it/s]\u001b[A\n 72%|███████▏  | 9535046/13163105 [00:35<00:05, 724511.39it/s]\u001b[A\n 73%|███████▎  | 9608226/13163105 [00:35<00:04, 713987.82it/s]\u001b[A\n 74%|███████▎  | 9684604/13163105 [00:35<00:04, 728228.42it/s]\u001b[A\n 74%|███████▍  | 9757878/13163105 [00:35<00:04, 723937.53it/s]\u001b[A\n 75%|███████▍  | 9836447/13163105 [00:35<00:04, 741418.11it/s]\u001b[A\n 75%|███████▌  | 9910918/13163105 [00:35<00:04, 742024.00it/s]\u001b[A\n 76%|███████▌  | 9985351/13163105 [00:36<00:04, 739940.94it/s]\u001b[A\n 76%|███████▋  | 10062527/13163105 [00:36<00:04, 749206.36it/s]\u001b[A\n 77%|███████▋  | 10137590/13163105 [00:36<00:04, 747634.19it/s]\u001b[A\n 78%|███████▊  | 10212454/13163105 [00:36<00:03, 747577.94it/s]\u001b[A\n 78%|███████▊  | 10293454/13163105 [00:36<00:03, 765262.90it/s]\u001b[A\n 79%|███████▉  | 10370133/13163105 [00:36<00:03, 759998.58it/s]\u001b[A\n 79%|███████▉  | 10455838/13163105 [00:36<00:03, 786724.64it/s]\u001b[A\n 80%|████████  | 10534830/13163105 [00:36<00:03, 755922.41it/s]\u001b[A\n 81%|████████  | 10610904/13163105 [00:36<00:03, 756878.58it/s]\u001b[A\n 81%|████████  | 10690221/13163105 [00:36<00:03, 767411.59it/s]\u001b[A\n 82%|████████▏ | 10767234/13163105 [00:37<00:03, 757008.73it/s]\u001b[A\n 82%|████████▏ | 10844569/13163105 [00:37<00:03, 761829.23it/s]\u001b[A\n 83%|████████▎ | 10923358/13163105 [00:37<00:02, 769463.76it/s]\u001b[A\n 84%|████████▎ | 11000437/13163105 [00:37<00:02, 768568.89it/s]\u001b[A\n 84%|████████▍ | 11080640/13163105 [00:37<00:02, 778310.02it/s]\u001b[A\n 85%|████████▍ | 11159295/13163105 [00:37<00:02, 780757.40it/s]\u001b[A\n 85%|████████▌ | 11242410/13163105 [00:37<00:02, 795220.26it/s]\u001b[A\n 86%|████████▌ | 11322045/13163105 [00:37<00:02, 763101.30it/s]\u001b[A\n 87%|████████▋ | 11398711/13163105 [00:37<00:02, 760128.37it/s]\u001b[A\n 87%|████████▋ | 11481316/13163105 [00:37<00:02, 778772.69it/s]\u001b[A\n 88%|████████▊ | 11559483/13163105 [00:38<00:02, 773261.74it/s]\u001b[A\n 88%|████████▊ | 11637021/13163105 [00:38<00:02, 759410.96it/s]\u001b[A\n 89%|████████▉ | 11720470/13163105 [00:38<00:01, 780474.92it/s]\u001b[A\n 90%|████████▉ | 11798806/13163105 [00:38<00:01, 779205.47it/s]\u001b[A\n 90%|█████████ | 11876929/13163105 [00:38<00:01, 754073.78it/s]\u001b[A\n 91%|█████████ | 11955774/13163105 [00:38<00:01, 764066.88it/s]\u001b[A\n 91%|█████████▏| 12035875/13163105 [00:38<00:01, 774786.13it/s]\u001b[A\n 92%|█████████▏| 12115362/13163105 [00:38<00:01, 780689.87it/s]\u001b[A\n 93%|█████████▎| 12193592/13163105 [00:38<00:01, 740565.91it/s]\u001b[A\n 93%|█████████▎| 12268191/13163105 [00:39<00:01, 524895.85it/s]\u001b[A\n 94%|█████████▎| 12329786/13163105 [00:39<00:01, 433449.95it/s]\u001b[A\n 94%|█████████▍| 12382148/13163105 [00:39<00:01, 392590.43it/s]\u001b[A\n 94%|█████████▍| 12428456/13163105 [00:39<00:01, 368906.67it/s]\u001b[A\n 95%|█████████▍| 12470573/13163105 [00:39<00:01, 354563.81it/s]\u001b[A\n 95%|█████████▌| 12509807/13163105 [00:39<00:01, 345678.11it/s]\u001b[A\n 95%|█████████▌| 12547069/13163105 [00:39<00:01, 346190.48it/s]\u001b[A\n 96%|█████████▌| 12583574/13163105 [00:40<00:01, 347142.91it/s]\u001b[A\n 96%|█████████▌| 12620080/13163105 [00:40<00:01, 352326.09it/s]\u001b[A\n 96%|█████████▌| 12656985/13163105 [00:40<00:01, 357179.29it/s]\u001b[A\n 96%|█████████▋| 12694756/13163105 [00:40<00:01, 363099.37it/s]\u001b[A\n 97%|█████████▋| 12733367/13163105 [00:40<00:01, 369706.65it/s]\u001b[A\n 97%|█████████▋| 12772773/13163105 [00:40<00:01, 376689.95it/s]\u001b[A\n 97%|█████████▋| 12813858/13163105 [00:40<00:00, 386323.77it/s]\u001b[A\n 98%|█████████▊| 12856576/13163105 [00:40<00:00, 397733.79it/s]\u001b[A\n 98%|█████████▊| 12898137/13163105 [00:40<00:00, 402932.63it/s]\u001b[A\n 98%|█████████▊| 12943410/13163105 [00:40<00:00, 416680.80it/s]\u001b[A\n 99%|█████████▊| 12992009/13163105 [00:41<00:00, 435289.26it/s]\u001b[A\n 99%|█████████▉| 13045573/13163105 [00:41<00:00, 461209.96it/s]\u001b[A\n100%|██████████| 13163105/13163105 [00:41<00:00, 318254.49it/s]\n"
    }
   ],
   "source": [
    "for s in tqdm(list(merged)):\n",
    "    for p in list(merged[s]):\n",
    "        for o in list(merged[s][p]):\n",
    "            if (s, p, o) in remove_triples or (o, p, s) in remove_triples:\n",
    "                if s in merged and p in merged[s] and o in merged[s][p]:\n",
    "                    del merged[s][p][o]\n",
    "                if o in merged and p in merged[o] and s in merged[o][p]:\n",
    "                    del merged[o][p][s]"
   ]
  },
  {
   "cell_type": "code",
   "execution_count": 114,
   "metadata": {},
   "outputs": [
    {
     "output_type": "stream",
     "name": "stdout",
     "text": "('merged', 671088752)\n('features', 335544424)\n('entity2id', 20971624)\n('remove_triples', 8388840)\n('word2id', 589936)\n('entity2prev', 147576)\n('relation2id', 18536)\n('outliers', 16616)\n('rank', 9328)\n('cfg', 2288)\n('_62', 2288)\n('local_vars', 2256)\n('_i97', 2110)\n('_i96', 2104)\n('_i95', 2037)\n('_i94', 2017)\n('tqdm', 2008)\n('_i93', 1784)\n('_i92', 1779)\n('_i91', 1530)\n('_i90', 1514)\n('_i89', 1508)\n('_i88', 1498)\n('_i85', 1468)\n('_i77', 1440)\n('_i76', 1317)\n('_i74', 1310)\n('_i73', 1288)\n('_i70', 1287)\n('_i71', 1286)\n('_i72', 1283)\n('_i75', 1283)\n('_i69', 1263)\n('_i68', 1237)\n('_i67', 1232)\n('_i66', 1184)\n('_ih', 1080)\n('In', 1080)\n('PullNet', 1064)\n('GraftNet', 1064)\n('DataLoader', 1064)\n('FpNetDataLoader', 1064)\n('FactsPullNet', 1064)\n('Variable', 1064)\n('LeftMMFixed', 1064)\n('Pool', 1064)\n('_i63', 1016)\n('_i38', 977)\n('_i61', 976)\n('_i65', 960)\n('_i64', 954)\n('_i59', 924)\n('_i37', 916)\n('_i36', 915)\n('_i56', 901)\n('_i57', 901)\n('_i58', 901)\n('RelReasonerDataLoader', 896)\n('_i55', 893)\n('_i54', 869)\n('_i52', 864)\n('_i53', 864)\n('_i5', 742)\n('_i2', 714)\n('_i3', 702)\n('_i4', 701)\n('_oh', 656)\n('Out', 656)\n('_i43', 622)\n('_i44', 622)\n('_i49', 587)\n('_i24', 549)\n('_i27', 549)\n('_i35', 549)\n('_i46', 549)\n('_i19', 541)\n('_i23', 541)\n('_i18', 510)\n('_i8', 492)\n('_i10', 492)\n('_i17', 484)\n('_i16', 479)\n('_i15', 478)\n('_i7', 472)\n('_i106', 443)\n('_i14', 439)\n('_i13', 433)\n('_i12', 432)\n('_i103', 425)\n('_i107', 425)\n('_i25', 423)\n('_i26', 419)\n('_i1', 418)\n('_i22', 406)\n('defaultdict', 400)\n('_i9', 389)\n('_i6', 376)\n('_11', 376)\n('e', 376)\n('_i33', 346)\n('_i32', 343)\n('_i31', 342)\n('_i51', 332)\n('_i114', 304)\n('_i50', 299)\n('_ii', 276)\n('_i112', 276)\n('_i110', 275)\n('_i', 274)\n('_iii', 274)\n('obj', 274)\n('_i111', 274)\n('_i113', 274)\n('___', 248)\n('_42', 248)\n('rel_chain_map', 248)\n('last_hop_gt', 248)\n('last_hop_pred_ans', 248)\n('_60', 248)\n('_78', 248)\n('_83', 248)\n('_84', 248)\n('_86', 248)\n('_87', 248)\n('next_entities', 232)\n('merged_answers', 232)\n('answers', 232)\n('_i109', 212)\n('pack_padded_sequence', 144)\n('pad_packed_sequence', 144)\n('get_config', 144)\n('use_cuda', 144)\n('save_model', 144)\n('load_model', 144)\n('load_dict', 144)\n('load_documents', 144)\n('index_document_entities', 144)\n('cal_accuracy_2', 144)\n('cal_accuracy', 144)\n('calc_f1', 144)\n('output_pred_dist', 144)\n('sparse_bmm', 144)\n('read_padded', 144)\n('save_json', 144)\n('load_json', 144)\n('load_fact', 144)\n('load_fact2', 144)\n('load_fact3', 144)\n('prev_entities', 128)\n('v', 128)\n('_i87', 121)\n('_i78', 116)\n('_i83', 116)\n('_i48', 114)\n('_i81', 114)\n('_i82', 114)\n('__doc__', 113)\n('_dh', 112)\n('_i21', 112)\n('_40', 112)\n('_i62', 111)\n('_i20', 110)\n('_i86', 109)\n('_i84', 106)\n('_i79', 105)\n('_i80', 105)\n('_i60', 102)\n('_i30', 101)\n('_i28', 97)\n('_i47', 97)\n('_i42', 92)\n('_i101', 91)\n('_i102', 89)\n('__builtin__', 88)\n('__builtins__', 88)\n('os', 88)\n('sys', 88)\n('time', 88)\n('yaml', 88)\n('torch', 88)\n('json', 88)\n('pickle', 88)\n('nltk', 88)\n('np', 88)\n('warnings', 88)\n('_i34', 85)\n('_i39', 85)\n('_i45', 85)\n('_', 80)\n('_34', 80)\n('_39', 80)\n('_45', 80)\n('_100', 80)\n('p', 75)\n('_i41', 75)\n('get_ipython', 72)\n('_i29', 72)\n('_29', 72)\n('_i40', 72)\n('_i100', 72)\n('gt_rel', 71)\n('_i98', 68)\n('_i11', 67)\n('_i99', 66)\n('exit', 64)\n('quit', 64)\n('train_data', 64)\n('valid_data', 64)\n('print_function', 64)\n('_i104', 63)\n('_i108', 63)\n('_i105', 59)\n('s', 58)\n('prev_entity', 58)\n('kk', 58)\n('outlier', 58)\n('__name__', 57)\n('entity', 57)\n('k', 57)\n('o', 56)\n('_41', 56)\n('var', 54)\n('__', 28)\n('num_hop', 28)\n('total', 28)\n('i', 28)\n('flag', 28)\n('hit_at_one', 28)\n('avg_hit_at_one', 28)\n('_98', 28)\n('wrong', 24)\n('_21', 24)\n('print_cnt', 24)\n('__package__', 16)\n('__loader__', 16)\n('__spec__', 16)\n('facts', 16)\n('facts2', 16)\n('facts3', 16)\n('merged2', 16)\n"
    }
   ],
   "source": [
    "from __future__ import print_function  # for Python2\n",
    "import sys\n",
    "\n",
    "local_vars = list(locals().items())\n",
    "rank = dict()\n",
    "for var, obj in local_vars:\n",
    "    rank[var] = sys.getsizeof(obj)\n",
    "for l in sorted(rank.items(), key=lambda x: x[1], reverse=True):\n",
    "    print(l)"
   ]
  },
  {
   "cell_type": "code",
   "execution_count": 116,
   "metadata": {},
   "outputs": [],
   "source": [
    "merged2 = None"
   ]
  },
  {
   "cell_type": "code",
   "execution_count": 86,
   "metadata": {},
   "outputs": [
    {
     "output_type": "execute_result",
     "data": {
      "text/plain": "{'m.02_8385': 0, 'm.0dk11j': 1}"
     },
     "metadata": {},
     "execution_count": 86
    }
   ],
   "source": [
    "merged['m.07_dn']['organization.organization.spun_off_from']"
   ]
  },
  {
   "cell_type": "code",
   "execution_count": 87,
   "metadata": {},
   "outputs": [
    {
     "output_type": "execute_result",
     "data": {
      "text/plain": "{'m.0dk11j': 0}"
     },
     "metadata": {},
     "execution_count": 87
    }
   ],
   "source": [
    "merged['m.02_8385']['organization.organization_spin_off.parent_company']"
   ]
  },
  {
   "cell_type": "code",
   "execution_count": null,
   "metadata": {},
   "outputs": [],
   "source": [
    "merged['m.0gyqzbs']['']"
   ]
  },
  {
   "cell_type": "code",
   "execution_count": 3,
   "metadata": {
    "scrolled": true
   },
   "outputs": [
    {
     "name": "stdout",
     "output_type": "stream",
     "text": [
      "loading data from /home/hxssgaa/Developer/GraftNet/datasets/metaqa/3hop/test_v4.json\n"
     ]
    },
    {
     "name": "stderr",
     "output_type": "stream",
     "text": [
      "100%|██████████| 14274/14274 [00:00<00:00, 1221253.19it/s]\n",
      "708it [00:00, 7075.27it/s]"
     ]
    },
    {
     "name": "stdout",
     "output_type": "stream",
     "text": [
      "div 1 14274\n",
      "max_rel_paths 88\n",
      "building word index ...\n",
      "preparing data ...\n",
      "preparing data ...\n"
     ]
    },
    {
     "name": "stderr",
     "output_type": "stream",
     "text": [
      "14274it [00:01, 7149.07it/s]\n"
     ]
    }
   ],
   "source": [
    "test_data = RelReasonerDataLoader(cfg['data_folder'] + cfg['test_data'], facts, num_hop,\n",
    "                        word2id, relation2id, cfg['max_query_word'], cfg['use_inverse_relation'], 1)"
   ]
  },
  {
   "cell_type": "code",
   "execution_count": 28,
   "metadata": {},
   "outputs": [],
   "source": [
    "with open('/home/hxssgaa/Downloads/qa_train_qtype.txt') as f:\n",
    "    train_qtypes = f.readlines()"
   ]
  },
  {
   "cell_type": "code",
   "execution_count": 33,
   "metadata": {},
   "outputs": [
    {
     "name": "stdout",
     "output_type": "stream",
     "text": [
      "when did the films written by Spice World writers release ?\n",
      "[['release_year', 'release_year', 'release_year'], ['has_imdb_votes', 'has_imdb_votes', 'release_year'], ['has_tags', 'has_tags', 'release_year'], ['has_genre', 'has_genre', 'release_year'], ['written_by', 'written_by', 'release_year']]\n",
      "[{'text': 'Spice World', 'kb_id': 'Spice World'}]\n",
      "330\n",
      "movie_to_writer_to_movie_to_year\n",
      "\n"
     ]
    },
    {
     "ename": "NameError",
     "evalue": "name 'asd' is not defined",
     "output_type": "error",
     "traceback": [
      "\u001b[0;31m---------------------------------------------------------------------------\u001b[0m",
      "\u001b[0;31mNameError\u001b[0m                                 Traceback (most recent call last)",
      "\u001b[0;32m<ipython-input-33-c6b79f7cc66f>\u001b[0m in \u001b[0;36m<module>\u001b[0;34m\u001b[0m\n\u001b[1;32m     10\u001b[0m                     \u001b[0mprint\u001b[0m\u001b[0;34m(\u001b[0m\u001b[0midx\u001b[0m\u001b[0;34m)\u001b[0m\u001b[0;34m\u001b[0m\u001b[0;34m\u001b[0m\u001b[0m\n\u001b[1;32m     11\u001b[0m                     \u001b[0mprint\u001b[0m\u001b[0;34m(\u001b[0m\u001b[0mtrain_qtypes\u001b[0m\u001b[0;34m[\u001b[0m\u001b[0midx\u001b[0m\u001b[0;34m]\u001b[0m\u001b[0;34m)\u001b[0m\u001b[0;34m\u001b[0m\u001b[0;34m\u001b[0m\u001b[0m\n\u001b[0;32m---> 12\u001b[0;31m                     \u001b[0masd\u001b[0m\u001b[0;34m\u001b[0m\u001b[0;34m\u001b[0m\u001b[0m\n\u001b[0m\u001b[1;32m     13\u001b[0m                 \u001b[0mcount\u001b[0m \u001b[0;34m+=\u001b[0m \u001b[0;36m1\u001b[0m\u001b[0;34m\u001b[0m\u001b[0;34m\u001b[0m\u001b[0m\n",
      "\u001b[0;31mNameError\u001b[0m: name 'asd' is not defined"
     ]
    }
   ],
   "source": [
    "count = 0\n",
    "for idx, e in enumerate(train_data.data):\n",
    "    for path in e['rel_path']:\n",
    "        for p in path:\n",
    "            if p in ('has_imdb_votes', 'has_imdb_rating'):\n",
    "                if count > 10:\n",
    "                    print(e['question'])\n",
    "                    print(e['rel_path'])\n",
    "                    print(e['entities'])\n",
    "                    print(idx)\n",
    "                    print(train_qtypes[idx])\n",
    "                    asd\n",
    "                count += 1"
   ]
  },
  {
   "cell_type": "code",
   "execution_count": null,
   "metadata": {},
   "outputs": [],
   "source": []
  },
  {
   "cell_type": "code",
   "execution_count": 6,
   "metadata": {},
   "outputs": [
    {
     "data": {
      "text/plain": [
       "'Dil Chahta Hai'"
      ]
     },
     "execution_count": 6,
     "metadata": {},
     "output_type": "execute_result"
    }
   ],
   "source": [
    "train_data.data[0]['entities'][0]['text']"
   ]
  },
  {
   "cell_type": "code",
   "execution_count": 24,
   "metadata": {},
   "outputs": [
    {
     "data": {
      "text/plain": [
       "[['has_genre', 'has_genre', 'directed_by'], ['directed_by']]"
      ]
     },
     "execution_count": 24,
     "metadata": {},
     "output_type": "execute_result"
    }
   ],
   "source": [
    "train_data.data[11]['rel_path_new']"
   ]
  },
  {
   "cell_type": "code",
   "execution_count": 12,
   "metadata": {},
   "outputs": [
    {
     "data": {
      "text/plain": [
       "{'Farhan Akhtar': ['directed_by', 0],\n",
       " 'Aamir Khan': ['starred_actors', 0],\n",
       " 'Preity Zinta': ['starred_actors', 0],\n",
       " 'Saif Ali Khan': ['starred_actors', 0],\n",
       " 'Akshaye Khanna': ['starred_actors', 0],\n",
       " '2001': ['release_year', 0],\n",
       " 'English': ['in_language', 0],\n",
       " 'Hindi': ['in_language', 0],\n",
       " 'Drama': ['has_genre', 0],\n",
       " 'Comedy': ['has_genre', 0],\n",
       " 'comedy': ['has_tags', 0]}"
      ]
     },
     "execution_count": 12,
     "metadata": {},
     "output_type": "execute_result"
    }
   ],
   "source": [
    "facts['Dil Chahta Hai']"
   ]
  },
  {
   "cell_type": "code",
   "execution_count": 9,
   "metadata": {},
   "outputs": [
    {
     "data": {
      "text/plain": [
       "{'0': ['Dil Chahta Hai'],\n",
       " '1': ['Aamir Khan', 'Saif Ali Khan', '2001', 'Farhan Akhtar', 'Preity Zinta'],\n",
       " '2': ['Ishq',\n",
       "  'Koi... Mil Gaya',\n",
       "  'Don',\n",
       "  'Ghajini',\n",
       "  'Luck by Chance',\n",
       "  'Veer-Zaara',\n",
       "  'Karthik Calling Karthik',\n",
       "  'Dil Se..',\n",
       "  'PK',\n",
       "  'Agent Vinod',\n",
       "  'Salaam Namaste'],\n",
       " '3': ['2003',\n",
       "  '2008',\n",
       "  '2010',\n",
       "  '2006',\n",
       "  '2012',\n",
       "  '1998',\n",
       "  '2004',\n",
       "  '2009',\n",
       "  '2014',\n",
       "  '2005',\n",
       "  '1997']}"
      ]
     },
     "execution_count": 9,
     "metadata": {},
     "output_type": "execute_result"
    }
   ],
   "source": [
    "train_data.data[0]['path']"
   ]
  },
  {
   "cell_type": "code",
   "execution_count": 30,
   "metadata": {},
   "outputs": [],
   "source": [
    "def find_rels(entity, num_hop, tmp_path, visited):\n",
    "    if entity in visited:\n",
    "        return []\n",
    "    if num_hop == 0:\n",
    "        return {tuple(tmp_path)}\n",
    "    visited.add(entity)\n",
    "    res = set()\n",
    "    entity = entity.replace('%', '')\n",
    "    for k2 in facts[entity]:\n",
    "        v = find_rels(k2, num_hop - 1, tmp_path + [facts[entity][k2][0]], visited)\n",
    "        res.update(v)\n",
    "    return res\n",
    "\n",
    "\n",
    "def find_rels_ans(entity, answers, num_hop, tmp_path, visited):\n",
    "    if entity in visited:\n",
    "        return []\n",
    "    if num_hop == 0 or entity in answers:\n",
    "        if entity in answers:\n",
    "            return {tuple(tmp_path)}\n",
    "        return set()\n",
    "    visited.add(entity)\n",
    "    res = set()\n",
    "    entity = entity.replace('%', '')\n",
    "    for k2 in facts[entity]:\n",
    "        v = find_rels_ans(k2, answers, num_hop - 1, tmp_path + [facts[entity][k2][0]], visited)\n",
    "        res.update(v)\n",
    "    return res"
   ]
  },
  {
   "cell_type": "code",
   "execution_count": 31,
   "metadata": {},
   "outputs": [],
   "source": [
    "def find_rels_for_questions(questions):\n",
    "    res = []\n",
    "    for e in questions:\n",
    "        visited = set()\n",
    "        entity = e['entities'][0]['text']\n",
    "        v = find_rels(entity, 3, [], visited)\n",
    "        e['rel_cands'] = list(v)\n",
    "        res.append(e)\n",
    "    return res\n",
    "\n",
    "\n",
    "def find_rels_ans_for_questions(questions):\n",
    "    res = []\n",
    "    for e in questions:\n",
    "        visited = set()\n",
    "        answers = set(map(lambda x: x['text'], e['answers']))\n",
    "        entity = e['entities'][0]['text']\n",
    "        v = find_rels_ans(entity, answers, 3, [], visited)\n",
    "        e['rel_path_new'] = list(v)\n",
    "        res.append(e)\n",
    "    return res"
   ]
  },
  {
   "cell_type": "code",
   "execution_count": 39,
   "metadata": {
    "scrolled": true
   },
   "outputs": [],
   "source": [
    "PARALLEL_PROCESSOR = 24\n",
    "questions = test_data.data\n",
    "with Pool(processes=PARALLEL_PROCESSOR) as pool:\n",
    "    res = pool.map(find_rels_ans_for_questions, [questions[(i * len(questions) // PARALLEL_PROCESSOR): \n",
    "                                              ((i + 1) * len(questions) // PARALLEL_PROCESSOR)] for i in range(PARALLEL_PROCESSOR)])\n",
    "\n",
    "res = [e for l in res for e in l]\n",
    "save_json(res, '/home/hxssgaa/Developer/GraftNet/datasets/metaqa/3hop/test_v4.json')"
   ]
  },
  {
   "cell_type": "code",
   "execution_count": 41,
   "metadata": {},
   "outputs": [
    {
     "name": "stdout",
     "output_type": "stream",
     "text": [
      "0\n"
     ]
    }
   ],
   "source": [
    "lens = []\n",
    "wrong = 0\n",
    "for e in res:\n",
    "    if len(e['rel_path_new']) == 0:\n",
    "        wrong += 1\n",
    "print(wrong)"
   ]
  },
  {
   "cell_type": "code",
   "execution_count": 36,
   "metadata": {},
   "outputs": [
    {
     "data": {
      "image/png": "[encoded data removed]",
      "text/plain": [
       "<Figure size 432x288 with 1 Axes>"
      ]
     },
     "metadata": {
      "needs_background": "light"
     },
     "output_type": "display_data"
    }
   ],
   "source": [
    "import matplotlib.pyplot as plt\n",
    "\n",
    "plt.plot(lens)\n",
    "plt.show()"
   ]
  },
  {
   "cell_type": "code",
   "execution_count": 7,
   "metadata": {},
   "outputs": [
    {
     "data": {
      "image/png": "[encoded data removed]",
      "text/plain": [
       "<Figure size 432x288 with 1 Axes>"
      ]
     },
     "metadata": {
      "needs_background": "light"
     },
     "output_type": "display_data"
    }
   ],
   "source": [
    "import matplotlib.pyplot as plt\n",
    "path_lens = []\n",
    "for e in valid_data.data:\n",
    "    path_lens.append(len(e['rel_path']))\n",
    "plt.plot(path_lens)\n",
    "plt.show()"
   ]
  },
  {
   "cell_type": "code",
   "execution_count": 3,
   "metadata": {},
   "outputs": [],
   "source": [
    "def inference_relreasoner(my_model, valid_data, entity2id, cfg, log_info=False):\n",
    "    # Evaluation\n",
    "    my_model.eval()\n",
    "    my_model.teacher_force = False\n",
    "    eval_hit_at_one, eval_loss, eval_recall, eval_max_acc = [], [], [], []\n",
    "    id2entity = {idx: entity for entity, idx in entity2id.items()}\n",
    "    valid_data.reset_batches(is_sequential = True)\n",
    "    test_batch_size = 20\n",
    "    if log_info:\n",
    "        f_pred = open(cfg['pred_file'], 'w')\n",
    "    for iteration in tqdm(range(valid_data.num_data // test_batch_size)):\n",
    "        batch = valid_data.get_batch(iteration, test_batch_size, fact_dropout=0.0)\n",
    "        loss, pred, _ = my_model(batch)\n",
    "        pred = pred.data.cpu().numpy()\n",
    "        hit_at_one, _, recall, _, max_acc = cal_accuracy(pred, batch[-1])\n",
    "        eval_hit_at_one.append(hit_at_one)\n",
    "        eval_loss.append(loss.item())\n",
    "        eval_recall.append(recall)\n",
    "        eval_max_acc.append(max_acc)\n",
    "\n",
    "    print('avg_loss', sum(eval_loss) / len(eval_loss))\n",
    "    print('max_acc', sum(eval_max_acc) / len(eval_max_acc))\n",
    "    print('avg_hit_at_one', sum(eval_hit_at_one) / len(eval_hit_at_one))\n",
    "    print('avg_recall', sum(eval_recall) / len(eval_recall))\n",
    "\n",
    "    return sum(eval_recall) / len(eval_recall)"
   ]
  },
  {
   "cell_type": "code",
   "execution_count": 14,
   "metadata": {
    "scrolled": true
   },
   "outputs": [
    {
     "name": "stderr",
     "output_type": "stream",
     "text": [
      "  1%|          | 2/200 [00:00<00:16, 12.23it/s]"
     ]
    },
    {
     "name": "stdout",
     "output_type": "stream",
     "text": [
      "epoch 0\n"
     ]
    },
    {
     "name": "stderr",
     "output_type": "stream",
     "text": [
      "100%|██████████| 200/200 [00:16<00:00, 12.37it/s]\n",
      " 12%|█▏        | 60/500 [00:00<00:00, 599.52it/s]"
     ]
    },
    {
     "name": "stdout",
     "output_type": "stream",
     "text": [
      "avg_hit_at_one 0.8014479166666668\n",
      "avg_training_loss 0.10289916563779115\n",
      "max_training_acc 0.9965208333333347\n",
      "avg_training_recall 0.9471927083333342\n",
      "validating ...\n"
     ]
    },
    {
     "name": "stderr",
     "output_type": "stream",
     "text": [
      "100%|██████████| 500/500 [00:00<00:00, 656.97it/s]\n",
      "  1%|          | 2/200 [00:00<00:15, 12.41it/s]"
     ]
    },
    {
     "name": "stdout",
     "output_type": "stream",
     "text": [
      "avg_loss 0.04740118287879159\n",
      "max_acc 0.9955999999999993\n",
      "avg_hit_at_one 0.8974999999999985\n",
      "avg_recall 0.9953999999999992\n",
      "epoch 1\n"
     ]
    },
    {
     "name": "stderr",
     "output_type": "stream",
     "text": [
      "100%|██████████| 200/200 [00:16<00:00, 12.25it/s]\n",
      " 12%|█▏        | 61/500 [00:00<00:00, 609.83it/s]"
     ]
    },
    {
     "name": "stdout",
     "output_type": "stream",
     "text": [
      "avg_hit_at_one 0.9038124999999999\n",
      "avg_training_loss 0.0454784875921905\n",
      "max_training_acc 0.9965208333333347\n",
      "avg_training_recall 0.9964097222222236\n",
      "validating ...\n"
     ]
    },
    {
     "name": "stderr",
     "output_type": "stream",
     "text": [
      "100%|██████████| 500/500 [00:00<00:00, 638.80it/s]\n",
      "  1%|          | 2/200 [00:00<00:16, 12.29it/s]"
     ]
    },
    {
     "name": "stdout",
     "output_type": "stream",
     "text": [
      "avg_loss 0.04686573763907654\n",
      "max_acc 0.9955999999999993\n",
      "avg_hit_at_one 0.8974999999999986\n",
      "avg_recall 0.9953999999999992\n",
      "epoch 2\n"
     ]
    },
    {
     "name": "stderr",
     "output_type": "stream",
     "text": [
      " 52%|█████▏    | 104/200 [00:08<00:07, 12.23it/s]\n"
     ]
    }
   ],
   "source": [
    "import torch\n",
    "import torch.nn as nn\n",
    "from torch.autograd import Variable\n",
    "import numpy as np\n",
    "from util import use_cuda, read_padded, sparse_bmm\n",
    "\n",
    "\n",
    "VERY_NEG_NUMBER = -100000000000\n",
    "\n",
    "\n",
    "class RelReasoner(nn.Module):\n",
    "    def __init__(self, pretrained_word_embedding_file, pretrained_relation_emb_file, num_relation, num_entity, num_word, entity_dim, word_dim, lstm_dropout, use_inverse_relation):\n",
    "        super(RelReasoner, self).__init__()\n",
    "\n",
    "        self.num_relation = num_relation\n",
    "        self.num_entity = num_entity\n",
    "        self.num_word = num_word\n",
    "        self.entity_dim = entity_dim\n",
    "        self.word_dim = word_dim\n",
    "\n",
    "        self.relation_embedding = nn.Embedding(num_embeddings=num_relation + 1, embedding_dim=2 * word_dim,\n",
    "                                               padding_idx=num_relation)\n",
    "        if pretrained_relation_emb_file is not None:\n",
    "            self.relation_embedding.weight = nn.Parameter(\n",
    "                torch.from_numpy(np.pad(np.load(pretrained_relation_emb_file), ((0, 1), (0, 0)), 'constant')).type(\n",
    "                    'torch.FloatTensor'))\n",
    "            print('loaded relation_emb')\n",
    "\n",
    "        self.word_embedding = nn.Embedding(num_embeddings=num_word + 1, embedding_dim=word_dim, padding_idx=num_word)\n",
    "        if pretrained_word_embedding_file is not None:\n",
    "            self.word_embedding.weight = nn.Parameter(\n",
    "                torch.from_numpy(np.pad(np.load(pretrained_word_embedding_file), ((0, 1), (0, 0)), 'constant')).type(\n",
    "                    'torch.FloatTensor'))\n",
    "            self.word_embedding.weight.requires_grad = False\n",
    "            print('load word emb')\n",
    "\n",
    "        self.relation_linear = nn.Linear(in_features=2 * word_dim, out_features=entity_dim)\n",
    "        self.hidden1 = nn.Linear(in_features=word_dim, out_features=entity_dim)\n",
    "\n",
    "        self.node_encoder = nn.LSTM(input_size=word_dim, hidden_size=entity_dim, batch_first=True, bidirectional=False)\n",
    "        \n",
    "        self.sigmoid = nn.Sigmoid()\n",
    "        self.softmax_d1 = nn.Softmax(dim=1)\n",
    "        # dropout\n",
    "        self.lstm_drop = nn.Dropout(p=lstm_dropout)\n",
    "        # loss\n",
    "        self.bce_loss = nn.BCEWithLogitsLoss()\n",
    "        self.relu = nn.ReLU()\n",
    "\n",
    "    def forward(self, batch):\n",
    "        query_text, local_kb_rel_path_rels, answer_dist = batch\n",
    "\n",
    "        batch_size, max_rel_paths, _ = local_kb_rel_path_rels.shape\n",
    "\n",
    "        # numpy to tensor\n",
    "        with torch.no_grad():\n",
    "            query_text = use_cuda(Variable(torch.from_numpy(query_text).type('torch.LongTensor')))\n",
    "            query_mask = use_cuda((query_text != self.num_word).type('torch.FloatTensor'))\n",
    "            local_kb_rel_path_rels = use_cuda(Variable(torch.from_numpy(local_kb_rel_path_rels).type('torch.LongTensor')))\n",
    "            answer_dist = use_cuda(\n",
    "                Variable(torch.from_numpy(answer_dist).type('torch.FloatTensor')))\n",
    "        # encode query\n",
    "        query_word_emb = self.word_embedding(query_text)  # batch_size, max_query_word, word_dim\n",
    "        query_hidden_emb, (query_node_emb, _) = self.node_encoder(self.lstm_drop(query_word_emb),\n",
    "                                                                  self.init_hidden(1, batch_size,\n",
    "                                                                                   self.entity_dim))  # 1, batch_size, entity_dim\n",
    "        query_node_emb = query_node_emb.squeeze(dim=0).unsqueeze(dim=1)  # batch_size, 1, entity_dim\n",
    "        query_node_emb = query_node_emb.transpose(1, 2)\n",
    "        local_kb_rel_path_rels = local_kb_rel_path_rels.squeeze(2)\n",
    "\n",
    "        # load fact embedding\n",
    "        local_rel_emb = self.relation_embedding(local_kb_rel_path_rels)  # batch_size, max_fact, 2 * word_dim\n",
    "#         local_rel_emb = self.hidden1(local_rel_emb)\n",
    "#         local_rel_emb = self.relu(local_rel_emb)\n",
    "        local_rel_emb = self.relation_linear(local_rel_emb)\n",
    "        local_rel_emb = self.relu(self.hidden1(self.relu(local_rel_emb)))\n",
    "\n",
    "        # calculating fact score\n",
    "        div = float(np.sqrt(self.entity_dim))\n",
    "\n",
    "        rel_score = (local_rel_emb @ query_node_emb / div).squeeze(2)\n",
    "\n",
    "        loss = self.bce_loss(rel_score, answer_dist)\n",
    "\n",
    "        # entity_score = entity_score + (1 - local_entity_mask) * VERY_NEG_NUMBER\n",
    "        # pred_dist = self.sigmoid(entity_score)* local_entity_mask\n",
    "        pred = torch.topk(rel_score, 3, dim=1)[1]\n",
    "\n",
    "        return loss, pred, None#pred, pred_dist\n",
    "\n",
    "    def init_hidden(self, num_layer, batch_size, hidden_size):\n",
    "        return (use_cuda(Variable(torch.zeros(num_layer, batch_size, hidden_size))),\n",
    "                use_cuda(Variable(torch.zeros(num_layer, batch_size, hidden_size))))\n",
    "\n",
    "def get_relreasoner_model(cfg, num_kb_relation, num_entities, num_vocab):\n",
    "    word_emb_file = None if cfg['word_emb_file'] is None else cfg['data_folder'] + cfg['word_emb_file']\n",
    "    relation_emb_file = None if cfg['relation_emb_file'] is None else cfg['data_folder'] + cfg['relation_emb_file']\n",
    "\n",
    "#     my_model = use_cuda(RelReasoner(word_emb_file, relation_emb_file,\n",
    "#                                      num_kb_relation, num_entities, num_vocab, cfg['entity_dim'],\n",
    "#                                      cfg['word_dim'], cfg['lstm_dropout'], cfg['use_inverse_relation']))\n",
    "    my_model = use_cuda(RelReasoner(None, None,\n",
    "                                     num_kb_relation, num_entities, num_vocab, 400,\n",
    "                                     400, cfg['lstm_dropout'], cfg['use_inverse_relation']))\n",
    "\n",
    "    if cfg['load_fpnet_model_file'] is not None:\n",
    "        print('loading model from', cfg['load_fpnet_model_file'])\n",
    "        pretrained_model_states = torch.load(cfg['load_fpnet_model_file'])\n",
    "        if word_emb_file is not None:\n",
    "            del pretrained_model_states['word_embedding.weight']\n",
    "        my_model.load_state_dict(pretrained_model_states, strict=False)\n",
    "\n",
    "    return my_model\n",
    "\n",
    "\n",
    "my_model = get_relreasoner_model(cfg, valid_data.num_kb_relation, len(entity2id), len(word2id))\n",
    "trainable_parameters = [p for p in my_model.parameters() if p.requires_grad]\n",
    "optimizer = torch.optim.Adam(trainable_parameters, lr=1e-3)\n",
    "\n",
    "best_dev_recall = 0.0\n",
    "\n",
    "for epoch in range(cfg['num_epoch']):\n",
    "    try:\n",
    "        print('epoch', epoch)\n",
    "        train_data.reset_batches(is_sequential=cfg['is_debug'])\n",
    "        # Train\n",
    "        my_model.train()\n",
    "        train_loss, train_hit_at_one, train_precision, train_recall, train_f1, train_max_acc = [], [], [], [], [], []\n",
    "        for iteration in tqdm(range(train_data.num_data // cfg['batch_size'])):\n",
    "            batch = train_data.get_batch(iteration, cfg['batch_size'], cfg['fact_dropout'])\n",
    "            loss, pred, _ = my_model(batch)\n",
    "            #pred = pred.data.cpu().numpy()\n",
    "            hit_at_one, _, recall, _, max_acc = cal_accuracy(pred, batch[-1])\n",
    "            train_hit_at_one.append(hit_at_one)\n",
    "            train_loss.append(loss.item())\n",
    "            train_recall.append(recall)\n",
    "            train_max_acc.append(max_acc)\n",
    "            # back propogate\n",
    "            my_model.zero_grad()\n",
    "            optimizer.zero_grad()\n",
    "            loss.backward()\n",
    "            torch.nn.utils.clip_grad_norm(my_model.parameters(), cfg['gradient_clip'])\n",
    "            optimizer.step()\n",
    "        print('avg_hit_at_one', sum(train_hit_at_one) / len(train_hit_at_one))\n",
    "        print('avg_training_loss', sum(train_loss) / len(train_loss))\n",
    "        print('max_training_acc', sum(train_max_acc) / len(train_max_acc))\n",
    "        print('avg_training_recall', sum(train_recall) / len(train_recall))\n",
    "\n",
    "        print(\"validating ...\")\n",
    "        eval_recall = inference_relreasoner(my_model, valid_data, entity2id, cfg)\n",
    "        if eval_recall > best_dev_recall and cfg['save_fpnet_model_file']:\n",
    "            print(\"saving model to\", cfg['save_fpnet_model_file'])\n",
    "            torch.save(my_model.state_dict(), cfg['save_fpnet_model_file'])\n",
    "            best_dev_recall = eval_recall\n",
    "\n",
    "    except KeyboardInterrupt:\n",
    "        break"
   ]
  },
  {
   "cell_type": "code",
   "execution_count": null,
   "metadata": {},
   "outputs": [],
   "source": []
  }
 ],
 "metadata": {
  "kernelspec": {
   "display_name": "Python 3",
   "language": "python",
   "name": "python3"
  },
  "language_info": {
   "codemirror_mode": {
    "name": "ipython",
    "version": 3
   },
   "file_extension": ".py",
   "mimetype": "text/x-python",
   "name": "python",
   "nbconvert_exporter": "python",
   "pygments_lexer": "ipython3",
   "version": "3.7.4-final"
  }
 },
 "nbformat": 4,
 "nbformat_minor": 4
}