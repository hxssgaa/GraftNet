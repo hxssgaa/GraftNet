{
 "cells": [
  {
   "cell_type": "code",
   "execution_count": 1,
   "metadata": {
    "scrolled": true
   },
   "outputs": [
    {
     "name": "stderr",
     "output_type": "stream",
     "text": [
      "/home/hxssgaa/anaconda3/lib/python3.7/site-packages/tensorflow/python/framework/dtypes.py:516: FutureWarning: Passing (type, 1) or '1type' as a synonym of type is deprecated; in a future version of numpy, it will be understood as (type, (1,)) / '(1,)type'.\n",
      "  _np_qint8 = np.dtype([(\"qint8\", np.int8, 1)])\n",
      "/home/hxssgaa/anaconda3/lib/python3.7/site-packages/tensorflow/python/framework/dtypes.py:517: FutureWarning: Passing (type, 1) or '1type' as a synonym of type is deprecated; in a future version of numpy, it will be understood as (type, (1,)) / '(1,)type'.\n",
      "  _np_quint8 = np.dtype([(\"quint8\", np.uint8, 1)])\n",
      "/home/hxssgaa/anaconda3/lib/python3.7/site-packages/tensorflow/python/framework/dtypes.py:518: FutureWarning: Passing (type, 1) or '1type' as a synonym of type is deprecated; in a future version of numpy, it will be understood as (type, (1,)) / '(1,)type'.\n",
      "  _np_qint16 = np.dtype([(\"qint16\", np.int16, 1)])\n",
      "/home/hxssgaa/anaconda3/lib/python3.7/site-packages/tensorflow/python/framework/dtypes.py:519: FutureWarning: Passing (type, 1) or '1type' as a synonym of type is deprecated; in a future version of numpy, it will be understood as (type, (1,)) / '(1,)type'.\n",
      "  _np_quint16 = np.dtype([(\"quint16\", np.uint16, 1)])\n",
      "/home/hxssgaa/anaconda3/lib/python3.7/site-packages/tensorflow/python/framework/dtypes.py:520: FutureWarning: Passing (type, 1) or '1type' as a synonym of type is deprecated; in a future version of numpy, it will be understood as (type, (1,)) / '(1,)type'.\n",
      "  _np_qint32 = np.dtype([(\"qint32\", np.int32, 1)])\n",
      "/home/hxssgaa/anaconda3/lib/python3.7/site-packages/tensorflow/python/framework/dtypes.py:525: FutureWarning: Passing (type, 1) or '1type' as a synonym of type is deprecated; in a future version of numpy, it will be understood as (type, (1,)) / '(1,)type'.\n",
      "  np_resource = np.dtype([(\"resource\", np.ubyte, 1)])\n",
      "/home/hxssgaa/anaconda3/lib/python3.7/site-packages/tensorboard/compat/tensorflow_stub/dtypes.py:541: FutureWarning: Passing (type, 1) or '1type' as a synonym of type is deprecated; in a future version of numpy, it will be understood as (type, (1,)) / '(1,)type'.\n",
      "  _np_qint8 = np.dtype([(\"qint8\", np.int8, 1)])\n",
      "/home/hxssgaa/anaconda3/lib/python3.7/site-packages/tensorboard/compat/tensorflow_stub/dtypes.py:542: FutureWarning: Passing (type, 1) or '1type' as a synonym of type is deprecated; in a future version of numpy, it will be understood as (type, (1,)) / '(1,)type'.\n",
      "  _np_quint8 = np.dtype([(\"quint8\", np.uint8, 1)])\n",
      "/home/hxssgaa/anaconda3/lib/python3.7/site-packages/tensorboard/compat/tensorflow_stub/dtypes.py:543: FutureWarning: Passing (type, 1) or '1type' as a synonym of type is deprecated; in a future version of numpy, it will be understood as (type, (1,)) / '(1,)type'.\n",
      "  _np_qint16 = np.dtype([(\"qint16\", np.int16, 1)])\n",
      "/home/hxssgaa/anaconda3/lib/python3.7/site-packages/tensorboard/compat/tensorflow_stub/dtypes.py:544: FutureWarning: Passing (type, 1) or '1type' as a synonym of type is deprecated; in a future version of numpy, it will be understood as (type, (1,)) / '(1,)type'.\n",
      "  _np_quint16 = np.dtype([(\"quint16\", np.uint16, 1)])\n",
      "/home/hxssgaa/anaconda3/lib/python3.7/site-packages/tensorboard/compat/tensorflow_stub/dtypes.py:545: FutureWarning: Passing (type, 1) or '1type' as a synonym of type is deprecated; in a future version of numpy, it will be understood as (type, (1,)) / '(1,)type'.\n",
      "  _np_qint32 = np.dtype([(\"qint32\", np.int32, 1)])\n",
      "/home/hxssgaa/anaconda3/lib/python3.7/site-packages/tensorboard/compat/tensorflow_stub/dtypes.py:550: FutureWarning: Passing (type, 1) or '1type' as a synonym of type is deprecated; in a future version of numpy, it will be understood as (type, (1,)) / '(1,)type'.\n",
      "  np_resource = np.dtype([(\"resource\", np.ubyte, 1)])\n"
     ]
    }
   ],
   "source": [
    "import sys\n",
    "import time\n",
    "\n",
    "\n",
    "from pullnet import PullNet\n",
    "from graftnet import GraftNet\n",
    "from pullnet_data_loader import DataLoader\n",
    "from fpnet_data_loader import FpNetDataLoader\n",
    "from relreasoner_data_loader import RelReasonerDataLoader\n",
    "from fpnet import FactsPullNet\n",
    "from util import *\n",
    "from multiprocessing.pool import Pool\n",
    "\n",
    "\n",
    "import warnings\n",
    "warnings.filterwarnings(\"ignore\")"
   ]
  },
  {
   "cell_type": "markdown",
   "metadata": {},
   "source": [
    "## Load data"
   ]
  },
  {
   "cell_type": "code",
   "execution_count": 2,
   "metadata": {
    "scrolled": true
   },
   "outputs": [
    {
     "name": "stdout",
     "output_type": "stream",
     "text": [
      "loading data from /home/hxssgaa/Developer/GraftNet/datasets/metaqa/3hop/train_v4.json\n"
     ]
    },
    {
     "name": "stderr",
     "output_type": "stream",
     "text": [
      "100%|██████████| 114196/114196 [00:00<00:00, 1048470.41it/s]\n",
      "715it [00:00, 7147.86it/s]"
     ]
    },
    {
     "name": "stdout",
     "output_type": "stream",
     "text": [
      "div 1 114196\n",
      "max_rel_paths 88\n",
      "building word index ...\n",
      "preparing data ...\n",
      "preparing data ...\n"
     ]
    },
    {
     "name": "stderr",
     "output_type": "stream",
     "text": [
      "114196it [00:15, 7159.37it/s]\n"
     ]
    },
    {
     "name": "stdout",
     "output_type": "stream",
     "text": [
      "loading data from /home/hxssgaa/Developer/GraftNet/datasets/metaqa/3hop/dev_v4.json\n"
     ]
    },
    {
     "name": "stderr",
     "output_type": "stream",
     "text": [
      "100%|██████████| 14274/14274 [00:00<00:00, 1220207.79it/s]\n",
      "701it [00:00, 7008.10it/s]"
     ]
    },
    {
     "name": "stdout",
     "output_type": "stream",
     "text": [
      "div 1 14274\n",
      "max_rel_paths 88\n",
      "building word index ...\n",
      "preparing data ...\n",
      "preparing data ...\n"
     ]
    },
    {
     "name": "stderr",
     "output_type": "stream",
     "text": [
      "14274it [00:01, 7147.42it/s]\n"
     ]
    }
   ],
   "source": [
    "cfg = get_config('config/relreasoner_metaqa3.yml')\n",
    "facts = load_fact2(cfg['fact_data'])\n",
    "word2id = load_dict(cfg['data_folder'] + cfg['word2id'])\n",
    "relation2id = load_dict(cfg['data_folder'] + cfg['relation2id'])\n",
    "entity2id = load_dict(cfg['data_folder'] + cfg['entity2id'])\n",
    "num_hop = 3\n",
    "\n",
    "train_data = RelReasonerDataLoader(cfg['data_folder'] + cfg['train_data'], facts, num_hop,\n",
    "                        word2id, relation2id, cfg['max_query_word'], cfg['use_inverse_relation'], 1)\n",
    "\n",
    "valid_data = RelReasonerDataLoader(cfg['data_folder'] + cfg['dev_data'], facts, num_hop,\n",
    "                        word2id, relation2id, cfg['max_query_word'], cfg['use_inverse_relation'], 1)"
   ]
  },
  {
   "cell_type": "code",
   "execution_count": 3,
   "metadata": {
    "scrolled": true
   },
   "outputs": [
    {
     "name": "stdout",
     "output_type": "stream",
     "text": [
      "loading data from /home/hxssgaa/Developer/GraftNet/datasets/metaqa/3hop/test_v4.json\n"
     ]
    },
    {
     "name": "stderr",
     "output_type": "stream",
     "text": [
      "100%|██████████| 14274/14274 [00:00<00:00, 1221253.19it/s]\n",
      "708it [00:00, 7075.27it/s]"
     ]
    },
    {
     "name": "stdout",
     "output_type": "stream",
     "text": [
      "div 1 14274\n",
      "max_rel_paths 88\n",
      "building word index ...\n",
      "preparing data ...\n",
      "preparing data ...\n"
     ]
    },
    {
     "name": "stderr",
     "output_type": "stream",
     "text": [
      "14274it [00:01, 7149.07it/s]\n"
     ]
    }
   ],
   "source": [
    "test_data = RelReasonerDataLoader(cfg['data_folder'] + cfg['test_data'], facts, num_hop,\n",
    "                        word2id, relation2id, cfg['max_query_word'], cfg['use_inverse_relation'], 1)"
   ]
  },
  {
   "cell_type": "code",
   "execution_count": 28,
   "metadata": {},
   "outputs": [],
   "source": [
    "with open('/home/hxssgaa/Downloads/qa_train_qtype.txt') as f:\n",
    "    train_qtypes = f.readlines()"
   ]
  },
  {
   "cell_type": "code",
   "execution_count": 31,
   "metadata": {},
   "outputs": [
    {
     "name": "stdout",
     "output_type": "stream",
     "text": [
      "what languages are the movies that share screenwriters with Tideland in ?\n",
      "[['has_genre', 'has_genre', 'in_language'], ['has_tags', 'has_tags', 'in_language'], ['written_by', 'written_by', 'in_language'], ['release_year', 'release_year', 'in_language'], ['has_imdb_votes', 'has_imdb_votes', 'in_language']]\n",
      "[{'text': 'Tideland', 'kb_id': 'Tideland'}]\n",
      "86\n",
      "movie_to_writer_to_movie_to_language\n",
      "\n"
     ]
    },
    {
     "ename": "NameError",
     "evalue": "name 'asd' is not defined",
     "output_type": "error",
     "traceback": [
      "\u001b[0;31m---------------------------------------------------------------------------\u001b[0m",
      "\u001b[0;31mNameError\u001b[0m                                 Traceback (most recent call last)",
      "\u001b[0;32m<ipython-input-31-2b29c6dcf7b3>\u001b[0m in \u001b[0;36m<module>\u001b[0;34m\u001b[0m\n\u001b[1;32m     10\u001b[0m                     \u001b[0mprint\u001b[0m\u001b[0;34m(\u001b[0m\u001b[0midx\u001b[0m\u001b[0;34m)\u001b[0m\u001b[0;34m\u001b[0m\u001b[0;34m\u001b[0m\u001b[0m\n\u001b[1;32m     11\u001b[0m                     \u001b[0mprint\u001b[0m\u001b[0;34m(\u001b[0m\u001b[0mtrain_qtypes\u001b[0m\u001b[0;34m[\u001b[0m\u001b[0midx\u001b[0m\u001b[0;34m]\u001b[0m\u001b[0;34m)\u001b[0m\u001b[0;34m\u001b[0m\u001b[0;34m\u001b[0m\u001b[0m\n\u001b[0;32m---> 12\u001b[0;31m                     \u001b[0masd\u001b[0m\u001b[0;34m\u001b[0m\u001b[0;34m\u001b[0m\u001b[0m\n\u001b[0m\u001b[1;32m     13\u001b[0m                 \u001b[0mcount\u001b[0m \u001b[0;34m+=\u001b[0m \u001b[0;36m1\u001b[0m\u001b[0;34m\u001b[0m\u001b[0;34m\u001b[0m\u001b[0m\n",
      "\u001b[0;31mNameError\u001b[0m: name 'asd' is not defined"
     ]
    }
   ],
   "source": [
    "count = 0\n",
    "for idx, e in enumerate(train_data.data):\n",
    "    for path in e['rel_path']:\n",
    "        for p in path:\n",
    "            if p in ('has_imdb_votes', 'has_imdb_rating'):\n",
    "                if count > 5:\n",
    "                    print(e['question'])\n",
    "                    print(e['rel_path'])\n",
    "                    print(e['entities'])\n",
    "                    print(idx)\n",
    "                    print(train_qtypes[idx])\n",
    "                    asd\n",
    "                count += 1"
   ]
  },
  {
   "cell_type": "code",
   "execution_count": 6,
   "metadata": {},
   "outputs": [
    {
     "data": {
      "text/plain": [
       "'Dil Chahta Hai'"
      ]
     },
     "execution_count": 6,
     "metadata": {},
     "output_type": "execute_result"
    }
   ],
   "source": [
    "train_data.data[0]['entities'][0]['text']"
   ]
  },
  {
   "cell_type": "code",
   "execution_count": 24,
   "metadata": {},
   "outputs": [
    {
     "data": {
      "text/plain": [
       "[['has_genre', 'has_genre', 'directed_by'], ['directed_by']]"
      ]
     },
     "execution_count": 24,
     "metadata": {},
     "output_type": "execute_result"
    }
   ],
   "source": [
    "train_data.data[11]['rel_path_new']"
   ]
  },
  {
   "cell_type": "code",
   "execution_count": 12,
   "metadata": {},
   "outputs": [
    {
     "data": {
      "text/plain": [
       "{'Farhan Akhtar': ['directed_by', 0],\n",
       " 'Aamir Khan': ['starred_actors', 0],\n",
       " 'Preity Zinta': ['starred_actors', 0],\n",
       " 'Saif Ali Khan': ['starred_actors', 0],\n",
       " 'Akshaye Khanna': ['starred_actors', 0],\n",
       " '2001': ['release_year', 0],\n",
       " 'English': ['in_language', 0],\n",
       " 'Hindi': ['in_language', 0],\n",
       " 'Drama': ['has_genre', 0],\n",
       " 'Comedy': ['has_genre', 0],\n",
       " 'comedy': ['has_tags', 0]}"
      ]
     },
     "execution_count": 12,
     "metadata": {},
     "output_type": "execute_result"
    }
   ],
   "source": [
    "facts['Dil Chahta Hai']"
   ]
  },
  {
   "cell_type": "code",
   "execution_count": 9,
   "metadata": {},
   "outputs": [
    {
     "data": {
      "text/plain": [
       "{'0': ['Dil Chahta Hai'],\n",
       " '1': ['Aamir Khan', 'Saif Ali Khan', '2001', 'Farhan Akhtar', 'Preity Zinta'],\n",
       " '2': ['Ishq',\n",
       "  'Koi... Mil Gaya',\n",
       "  'Don',\n",
       "  'Ghajini',\n",
       "  'Luck by Chance',\n",
       "  'Veer-Zaara',\n",
       "  'Karthik Calling Karthik',\n",
       "  'Dil Se..',\n",
       "  'PK',\n",
       "  'Agent Vinod',\n",
       "  'Salaam Namaste'],\n",
       " '3': ['2003',\n",
       "  '2008',\n",
       "  '2010',\n",
       "  '2006',\n",
       "  '2012',\n",
       "  '1998',\n",
       "  '2004',\n",
       "  '2009',\n",
       "  '2014',\n",
       "  '2005',\n",
       "  '1997']}"
      ]
     },
     "execution_count": 9,
     "metadata": {},
     "output_type": "execute_result"
    }
   ],
   "source": [
    "train_data.data[0]['path']"
   ]
  },
  {
   "cell_type": "code",
   "execution_count": 30,
   "metadata": {},
   "outputs": [],
   "source": [
    "def find_rels(entity, num_hop, tmp_path, visited):\n",
    "    if entity in visited:\n",
    "        return []\n",
    "    if num_hop == 0:\n",
    "        return {tuple(tmp_path)}\n",
    "    visited.add(entity)\n",
    "    res = set()\n",
    "    entity = entity.replace('%', '')\n",
    "    for k2 in facts[entity]:\n",
    "        v = find_rels(k2, num_hop - 1, tmp_path + [facts[entity][k2][0]], visited)\n",
    "        res.update(v)\n",
    "    return res\n",
    "\n",
    "\n",
    "def find_rels_ans(entity, answers, num_hop, tmp_path, visited):\n",
    "    if entity in visited:\n",
    "        return []\n",
    "    if num_hop == 0 or entity in answers:\n",
    "        if entity in answers:\n",
    "            return {tuple(tmp_path)}\n",
    "        return set()\n",
    "    visited.add(entity)\n",
    "    res = set()\n",
    "    entity = entity.replace('%', '')\n",
    "    for k2 in facts[entity]:\n",
    "        v = find_rels_ans(k2, answers, num_hop - 1, tmp_path + [facts[entity][k2][0]], visited)\n",
    "        res.update(v)\n",
    "    return res"
   ]
  },
  {
   "cell_type": "code",
   "execution_count": 31,
   "metadata": {},
   "outputs": [],
   "source": [
    "def find_rels_for_questions(questions):\n",
    "    res = []\n",
    "    for e in questions:\n",
    "        visited = set()\n",
    "        entity = e['entities'][0]['text']\n",
    "        v = find_rels(entity, 3, [], visited)\n",
    "        e['rel_cands'] = list(v)\n",
    "        res.append(e)\n",
    "    return res\n",
    "\n",
    "\n",
    "def find_rels_ans_for_questions(questions):\n",
    "    res = []\n",
    "    for e in questions:\n",
    "        visited = set()\n",
    "        answers = set(map(lambda x: x['text'], e['answers']))\n",
    "        entity = e['entities'][0]['text']\n",
    "        v = find_rels_ans(entity, answers, 3, [], visited)\n",
    "        e['rel_path_new'] = list(v)\n",
    "        res.append(e)\n",
    "    return res"
   ]
  },
  {
   "cell_type": "code",
   "execution_count": 39,
   "metadata": {
    "scrolled": true
   },
   "outputs": [],
   "source": [
    "PARALLEL_PROCESSOR = 24\n",
    "questions = test_data.data\n",
    "with Pool(processes=PARALLEL_PROCESSOR) as pool:\n",
    "    res = pool.map(find_rels_ans_for_questions, [questions[(i * len(questions) // PARALLEL_PROCESSOR): \n",
    "                                              ((i + 1) * len(questions) // PARALLEL_PROCESSOR)] for i in range(PARALLEL_PROCESSOR)])\n",
    "\n",
    "res = [e for l in res for e in l]\n",
    "save_json(res, '/home/hxssgaa/Developer/GraftNet/datasets/metaqa/3hop/test_v4.json')"
   ]
  },
  {
   "cell_type": "code",
   "execution_count": 41,
   "metadata": {},
   "outputs": [
    {
     "name": "stdout",
     "output_type": "stream",
     "text": [
      "0\n"
     ]
    }
   ],
   "source": [
    "lens = []\n",
    "wrong = 0\n",
    "for e in res:\n",
    "    if len(e['rel_path_new']) == 0:\n",
    "        wrong += 1\n",
    "print(wrong)"
   ]
  },
  {
   "cell_type": "code",
   "execution_count": 36,
   "metadata": {},
   "outputs": [
    {
     "data": {
      "image/png": "[encoded data removed]",
      "text/plain": [
       "<Figure size 432x288 with 1 Axes>"
      ]
     },
     "metadata": {
      "needs_background": "light"
     },
     "output_type": "display_data"
    }
   ],
   "source": [
    "import matplotlib.pyplot as plt\n",
    "\n",
    "plt.plot(lens)\n",
    "plt.show()"
   ]
  },
  {
   "cell_type": "code",
   "execution_count": 7,
   "metadata": {},
   "outputs": [
    {
     "data": {
      "image/png": "[encoded data removed]",
      "text/plain": [
       "<Figure size 432x288 with 1 Axes>"
      ]
     },
     "metadata": {
      "needs_background": "light"
     },
     "output_type": "display_data"
    }
   ],
   "source": [
    "import matplotlib.pyplot as plt\n",
    "path_lens = []\n",
    "for e in valid_data.data:\n",
    "    path_lens.append(len(e['rel_path']))\n",
    "plt.plot(path_lens)\n",
    "plt.show()"
   ]
  },
  {
   "cell_type": "code",
   "execution_count": 3,
   "metadata": {},
   "outputs": [],
   "source": [
    "def inference_relreasoner(my_model, valid_data, entity2id, cfg, log_info=False):\n",
    "    # Evaluation\n",
    "    my_model.eval()\n",
    "    my_model.teacher_force = False\n",
    "    eval_hit_at_one, eval_loss, eval_recall, eval_max_acc = [], [], [], []\n",
    "    id2entity = {idx: entity for entity, idx in entity2id.items()}\n",
    "    valid_data.reset_batches(is_sequential = True)\n",
    "    test_batch_size = 20\n",
    "    if log_info:\n",
    "        f_pred = open(cfg['pred_file'], 'w')\n",
    "    for iteration in tqdm(range(valid_data.num_data // test_batch_size)):\n",
    "        batch = valid_data.get_batch(iteration, test_batch_size, fact_dropout=0.0)\n",
    "        loss, pred, _ = my_model(batch)\n",
    "        pred = pred.data.cpu().numpy()\n",
    "        hit_at_one, _, recall, _, max_acc = cal_accuracy(pred, batch[-1])\n",
    "        eval_hit_at_one.append(hit_at_one)\n",
    "        eval_loss.append(loss.item())\n",
    "        eval_recall.append(recall)\n",
    "        eval_max_acc.append(max_acc)\n",
    "\n",
    "    print('avg_loss', sum(eval_loss) / len(eval_loss))\n",
    "    print('max_acc', sum(eval_max_acc) / len(eval_max_acc))\n",
    "    print('avg_hit_at_one', sum(eval_hit_at_one) / len(eval_hit_at_one))\n",
    "    print('avg_recall', sum(eval_recall) / len(eval_recall))\n",
    "\n",
    "    return sum(eval_recall) / len(eval_recall)"
   ]
  },
  {
   "cell_type": "code",
   "execution_count": 14,
   "metadata": {
    "scrolled": true
   },
   "outputs": [
    {
     "name": "stderr",
     "output_type": "stream",
     "text": [
      "  1%|          | 2/200 [00:00<00:16, 12.23it/s]"
     ]
    },
    {
     "name": "stdout",
     "output_type": "stream",
     "text": [
      "epoch 0\n"
     ]
    },
    {
     "name": "stderr",
     "output_type": "stream",
     "text": [
      "100%|██████████| 200/200 [00:16<00:00, 12.37it/s]\n",
      " 12%|█▏        | 60/500 [00:00<00:00, 599.52it/s]"
     ]
    },
    {
     "name": "stdout",
     "output_type": "stream",
     "text": [
      "avg_hit_at_one 0.8014479166666668\n",
      "avg_training_loss 0.10289916563779115\n",
      "max_training_acc 0.9965208333333347\n",
      "avg_training_recall 0.9471927083333342\n",
      "validating ...\n"
     ]
    },
    {
     "name": "stderr",
     "output_type": "stream",
     "text": [
      "100%|██████████| 500/500 [00:00<00:00, 656.97it/s]\n",
      "  1%|          | 2/200 [00:00<00:15, 12.41it/s]"
     ]
    },
    {
     "name": "stdout",
     "output_type": "stream",
     "text": [
      "avg_loss 0.04740118287879159\n",
      "max_acc 0.9955999999999993\n",
      "avg_hit_at_one 0.8974999999999985\n",
      "avg_recall 0.9953999999999992\n",
      "epoch 1\n"
     ]
    },
    {
     "name": "stderr",
     "output_type": "stream",
     "text": [
      "100%|██████████| 200/200 [00:16<00:00, 12.25it/s]\n",
      " 12%|█▏        | 61/500 [00:00<00:00, 609.83it/s]"
     ]
    },
    {
     "name": "stdout",
     "output_type": "stream",
     "text": [
      "avg_hit_at_one 0.9038124999999999\n",
      "avg_training_loss 0.0454784875921905\n",
      "max_training_acc 0.9965208333333347\n",
      "avg_training_recall 0.9964097222222236\n",
      "validating ...\n"
     ]
    },
    {
     "name": "stderr",
     "output_type": "stream",
     "text": [
      "100%|██████████| 500/500 [00:00<00:00, 638.80it/s]\n",
      "  1%|          | 2/200 [00:00<00:16, 12.29it/s]"
     ]
    },
    {
     "name": "stdout",
     "output_type": "stream",
     "text": [
      "avg_loss 0.04686573763907654\n",
      "max_acc 0.9955999999999993\n",
      "avg_hit_at_one 0.8974999999999986\n",
      "avg_recall 0.9953999999999992\n",
      "epoch 2\n"
     ]
    },
    {
     "name": "stderr",
     "output_type": "stream",
     "text": [
      " 52%|█████▏    | 104/200 [00:08<00:07, 12.23it/s]\n"
     ]
    }
   ],
   "source": [
    "import torch\n",
    "import torch.nn as nn\n",
    "from torch.autograd import Variable\n",
    "import numpy as np\n",
    "from util import use_cuda, read_padded, sparse_bmm\n",
    "\n",
    "\n",
    "VERY_NEG_NUMBER = -100000000000\n",
    "\n",
    "\n",
    "class RelReasoner(nn.Module):\n",
    "    def __init__(self, pretrained_word_embedding_file, pretrained_relation_emb_file, num_relation, num_entity, num_word, entity_dim, word_dim, lstm_dropout, use_inverse_relation):\n",
    "        super(RelReasoner, self).__init__()\n",
    "\n",
    "        self.num_relation = num_relation\n",
    "        self.num_entity = num_entity\n",
    "        self.num_word = num_word\n",
    "        self.entity_dim = entity_dim\n",
    "        self.word_dim = word_dim\n",
    "\n",
    "        self.relation_embedding = nn.Embedding(num_embeddings=num_relation + 1, embedding_dim=2 * word_dim,\n",
    "                                               padding_idx=num_relation)\n",
    "        if pretrained_relation_emb_file is not None:\n",
    "            self.relation_embedding.weight = nn.Parameter(\n",
    "                torch.from_numpy(np.pad(np.load(pretrained_relation_emb_file), ((0, 1), (0, 0)), 'constant')).type(\n",
    "                    'torch.FloatTensor'))\n",
    "            print('loaded relation_emb')\n",
    "\n",
    "        self.word_embedding = nn.Embedding(num_embeddings=num_word + 1, embedding_dim=word_dim, padding_idx=num_word)\n",
    "        if pretrained_word_embedding_file is not None:\n",
    "            self.word_embedding.weight = nn.Parameter(\n",
    "                torch.from_numpy(np.pad(np.load(pretrained_word_embedding_file), ((0, 1), (0, 0)), 'constant')).type(\n",
    "                    'torch.FloatTensor'))\n",
    "            self.word_embedding.weight.requires_grad = False\n",
    "            print('load word emb')\n",
    "\n",
    "        self.relation_linear = nn.Linear(in_features=2 * word_dim, out_features=entity_dim)\n",
    "        self.hidden1 = nn.Linear(in_features=word_dim, out_features=entity_dim)\n",
    "\n",
    "        self.node_encoder = nn.LSTM(input_size=word_dim, hidden_size=entity_dim, batch_first=True, bidirectional=False)\n",
    "        \n",
    "        self.sigmoid = nn.Sigmoid()\n",
    "        self.softmax_d1 = nn.Softmax(dim=1)\n",
    "        # dropout\n",
    "        self.lstm_drop = nn.Dropout(p=lstm_dropout)\n",
    "        # loss\n",
    "        self.bce_loss = nn.BCEWithLogitsLoss()\n",
    "        self.relu = nn.ReLU()\n",
    "\n",
    "    def forward(self, batch):\n",
    "        query_text, local_kb_rel_path_rels, answer_dist = batch\n",
    "\n",
    "        batch_size, max_rel_paths, _ = local_kb_rel_path_rels.shape\n",
    "\n",
    "        # numpy to tensor\n",
    "        with torch.no_grad():\n",
    "            query_text = use_cuda(Variable(torch.from_numpy(query_text).type('torch.LongTensor')))\n",
    "            query_mask = use_cuda((query_text != self.num_word).type('torch.FloatTensor'))\n",
    "            local_kb_rel_path_rels = use_cuda(Variable(torch.from_numpy(local_kb_rel_path_rels).type('torch.LongTensor')))\n",
    "            answer_dist = use_cuda(\n",
    "                Variable(torch.from_numpy(answer_dist).type('torch.FloatTensor')))\n",
    "        # encode query\n",
    "        query_word_emb = self.word_embedding(query_text)  # batch_size, max_query_word, word_dim\n",
    "        query_hidden_emb, (query_node_emb, _) = self.node_encoder(self.lstm_drop(query_word_emb),\n",
    "                                                                  self.init_hidden(1, batch_size,\n",
    "                                                                                   self.entity_dim))  # 1, batch_size, entity_dim\n",
    "        query_node_emb = query_node_emb.squeeze(dim=0).unsqueeze(dim=1)  # batch_size, 1, entity_dim\n",
    "        query_node_emb = query_node_emb.transpose(1, 2)\n",
    "        local_kb_rel_path_rels = local_kb_rel_path_rels.squeeze(2)\n",
    "\n",
    "        # load fact embedding\n",
    "        local_rel_emb = self.relation_embedding(local_kb_rel_path_rels)  # batch_size, max_fact, 2 * word_dim\n",
    "#         local_rel_emb = self.hidden1(local_rel_emb)\n",
    "#         local_rel_emb = self.relu(local_rel_emb)\n",
    "        local_rel_emb = self.relation_linear(local_rel_emb)\n",
    "        local_rel_emb = self.relu(self.hidden1(self.relu(local_rel_emb)))\n",
    "\n",
    "        # calculating fact score\n",
    "        div = float(np.sqrt(self.entity_dim))\n",
    "\n",
    "        rel_score = (local_rel_emb @ query_node_emb / div).squeeze(2)\n",
    "\n",
    "        loss = self.bce_loss(rel_score, answer_dist)\n",
    "\n",
    "        # entity_score = entity_score + (1 - local_entity_mask) * VERY_NEG_NUMBER\n",
    "        # pred_dist = self.sigmoid(entity_score)* local_entity_mask\n",
    "        pred = torch.topk(rel_score, 3, dim=1)[1]\n",
    "\n",
    "        return loss, pred, None#pred, pred_dist\n",
    "\n",
    "    def init_hidden(self, num_layer, batch_size, hidden_size):\n",
    "        return (use_cuda(Variable(torch.zeros(num_layer, batch_size, hidden_size))),\n",
    "                use_cuda(Variable(torch.zeros(num_layer, batch_size, hidden_size))))\n",
    "\n",
    "def get_relreasoner_model(cfg, num_kb_relation, num_entities, num_vocab):\n",
    "    word_emb_file = None if cfg['word_emb_file'] is None else cfg['data_folder'] + cfg['word_emb_file']\n",
    "    relation_emb_file = None if cfg['relation_emb_file'] is None else cfg['data_folder'] + cfg['relation_emb_file']\n",
    "\n",
    "#     my_model = use_cuda(RelReasoner(word_emb_file, relation_emb_file,\n",
    "#                                      num_kb_relation, num_entities, num_vocab, cfg['entity_dim'],\n",
    "#                                      cfg['word_dim'], cfg['lstm_dropout'], cfg['use_inverse_relation']))\n",
    "    my_model = use_cuda(RelReasoner(None, None,\n",
    "                                     num_kb_relation, num_entities, num_vocab, 400,\n",
    "                                     400, cfg['lstm_dropout'], cfg['use_inverse_relation']))\n",
    "\n",
    "    if cfg['load_fpnet_model_file'] is not None:\n",
    "        print('loading model from', cfg['load_fpnet_model_file'])\n",
    "        pretrained_model_states = torch.load(cfg['load_fpnet_model_file'])\n",
    "        if word_emb_file is not None:\n",
    "            del pretrained_model_states['word_embedding.weight']\n",
    "        my_model.load_state_dict(pretrained_model_states, strict=False)\n",
    "\n",
    "    return my_model\n",
    "\n",
    "\n",
    "my_model = get_relreasoner_model(cfg, valid_data.num_kb_relation, len(entity2id), len(word2id))\n",
    "trainable_parameters = [p for p in my_model.parameters() if p.requires_grad]\n",
    "optimizer = torch.optim.Adam(trainable_parameters, lr=1e-3)\n",
    "\n",
    "best_dev_recall = 0.0\n",
    "\n",
    "for epoch in range(cfg['num_epoch']):\n",
    "    try:\n",
    "        print('epoch', epoch)\n",
    "        train_data.reset_batches(is_sequential=cfg['is_debug'])\n",
    "        # Train\n",
    "        my_model.train()\n",
    "        train_loss, train_hit_at_one, train_precision, train_recall, train_f1, train_max_acc = [], [], [], [], [], []\n",
    "        for iteration in tqdm(range(train_data.num_data // cfg['batch_size'])):\n",
    "            batch = train_data.get_batch(iteration, cfg['batch_size'], cfg['fact_dropout'])\n",
    "            loss, pred, _ = my_model(batch)\n",
    "            #pred = pred.data.cpu().numpy()\n",
    "            hit_at_one, _, recall, _, max_acc = cal_accuracy(pred, batch[-1])\n",
    "            train_hit_at_one.append(hit_at_one)\n",
    "            train_loss.append(loss.item())\n",
    "            train_recall.append(recall)\n",
    "            train_max_acc.append(max_acc)\n",
    "            # back propogate\n",
    "            my_model.zero_grad()\n",
    "            optimizer.zero_grad()\n",
    "            loss.backward()\n",
    "            torch.nn.utils.clip_grad_norm(my_model.parameters(), cfg['gradient_clip'])\n",
    "            optimizer.step()\n",
    "        print('avg_hit_at_one', sum(train_hit_at_one) / len(train_hit_at_one))\n",
    "        print('avg_training_loss', sum(train_loss) / len(train_loss))\n",
    "        print('max_training_acc', sum(train_max_acc) / len(train_max_acc))\n",
    "        print('avg_training_recall', sum(train_recall) / len(train_recall))\n",
    "\n",
    "        print(\"validating ...\")\n",
    "        eval_recall = inference_relreasoner(my_model, valid_data, entity2id, cfg)\n",
    "        if eval_recall > best_dev_recall and cfg['save_fpnet_model_file']:\n",
    "            print(\"saving model to\", cfg['save_fpnet_model_file'])\n",
    "            torch.save(my_model.state_dict(), cfg['save_fpnet_model_file'])\n",
    "            best_dev_recall = eval_recall\n",
    "\n",
    "    except KeyboardInterrupt:\n",
    "        break"
   ]
  },
  {
   "cell_type": "code",
   "execution_count": null,
   "metadata": {},
   "outputs": [],
   "source": []
  }
 ],
 "metadata": {
  "kernelspec": {
   "display_name": "Python 3",
   "language": "python",
   "name": "python3"
  },
  "language_info": {
   "codemirror_mode": {
    "name": "ipython",
    "version": 3
   },
   "file_extension": ".py",
   "mimetype": "text/x-python",
   "name": "python",
   "nbconvert_exporter": "python",
   "pygments_lexer": "ipython3",
   "version": "3.7.4"
  }
 },
 "nbformat": 4,
 "nbformat_minor": 4
}
