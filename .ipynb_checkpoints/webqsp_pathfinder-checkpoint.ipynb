{
 "cells": [
  {
   "cell_type": "code",
   "execution_count": 136,
   "metadata": {},
   "outputs": [],
   "source": [
    "import sys\n",
    "import time\n",
    "import matplotlib.pyplot as plt\n",
    "import wordninja\n",
    "import requests as r\n",
    "import networkx as nx\n",
    "\n",
    "from pullnet import PullNet\n",
    "from graftnet import GraftNet\n",
    "from pullnet_data_loader import DataLoader\n",
    "from fpnet_data_loader import FpNetDataLoader\n",
    "from relreasoner_data_loader import RelReasonerDataLoader\n",
    "from fpnet import FactsPullNet\n",
    "from util import *\n",
    "from multiprocessing.pool import Pool\n",
    "from preprocessing import use_helper\n",
    "from collections import defaultdict\n",
    "from string import punctuation\n",
    "\n",
    "\n",
    "import warnings\n",
    "warnings.filterwarnings(\"ignore\")"
   ]
  },
  {
   "cell_type": "code",
   "execution_count": 3,
   "metadata": {},
   "outputs": [],
   "source": [
    "cfg = get_config('config/webqsp.yml')\n",
    "word2id = load_dict(cfg['data_folder'] + cfg['word2id'])\n",
    "relation2id = load_dict(cfg['data_folder'] + cfg['relation2id'])\n",
    "entity2id = load_dict(cfg['data_folder'] + cfg['entity2id'])\n",
    "num_hop = 1"
   ]
  },
  {
   "cell_type": "code",
   "execution_count": 11,
   "metadata": {},
   "outputs": [],
   "source": [
    "with open(cfg['data_folder'] + cfg['train_data']) as f:\n",
    "    train_data = [json.loads(l) for l in f]\n",
    "    for e in train_data:\n",
    "        del e['passages']\n",
    "        del e['subgraph']\n",
    "with open(cfg['data_folder'] + cfg['dev_data']) as f:\n",
    "    dev_data = [json.loads(l) for l in f]\n",
    "    for e in dev_data:\n",
    "        del e['passages']\n",
    "        del e['subgraph']\n",
    "with open(cfg['data_folder'] + cfg['test_data']) as f:\n",
    "    test_data = [json.loads(l) for l in f]\n",
    "    for e in test_data:\n",
    "        del e['passages']\n",
    "        del e['subgraph']"
   ]
  },
  {
   "cell_type": "code",
   "execution_count": 38,
   "metadata": {},
   "outputs": [],
   "source": [
    "facts = load_json('datasets/complexwebq/' + 'all_facts_all_new2.json')"
   ]
  },
  {
   "cell_type": "code",
   "execution_count": 9,
   "metadata": {},
   "outputs": [],
   "source": [
    "train_data = load_json(cfg['data_folder'] + cfg['train_data'])\n",
    "dev_data = load_json(cfg['data_folder'] + cfg['dev_data'])\n",
    "test_data = load_json(cfg['data_folder'] + cfg['test_data'])\n",
    "\n",
    "train_raw_data = load_json(cfg['data_folder'] + 'WebQSP.train.json')\n",
    "test_raw_data = load_json(cfg['data_folder'] + 'WebQSP.test.json')"
   ]
  },
  {
   "cell_type": "code",
   "execution_count": 227,
   "metadata": {},
   "outputs": [],
   "source": [
    "with open(cfg['data_folder'] + 'train2.json') as f:\n",
    "    train_data2 = [json.loads(l) for l in f]\n",
    "with open(cfg['data_folder'] + 'dev2.json') as f:\n",
    "    dev_data2 = [json.loads(l) for l in f]\n",
    "with open(cfg['data_folder'] + 'test2.json') as f:\n",
    "    test_data2 = [json.loads(l) for l in f]"
   ]
  },
  {
   "cell_type": "code",
   "execution_count": 116,
   "metadata": {},
   "outputs": [
    {
     "data": {
      "text/plain": [
       "{'QuestionId': 'WebQTrn-0',\n",
       " 'RawQuestion': 'what is the name of justin bieber brother?',\n",
       " 'ProcessedQuestion': 'what is the name of justin bieber brother',\n",
       " 'Parses': [{'ParseId': 'WebQTrn-0.P0',\n",
       "   'AnnotatorId': 1,\n",
       "   'AnnotatorComment': {'ParseQuality': 'Complete',\n",
       "    'QuestionQuality': 'Good',\n",
       "    'Confidence': 'Normal',\n",
       "    'FreeFormComment': 'First-round parse verification'},\n",
       "   'Sparql': \"PREFIX ns: <http://rdf.freebase.com/ns/>\\nSELECT DISTINCT ?x\\nWHERE {\\nFILTER (?x != ns:m.06w2sn5)\\nFILTER (!isLiteral(?x) OR lang(?x) = '' OR langMatches(lang(?x), 'en'))\\nns:m.06w2sn5 ns:people.person.sibling_s ?y .\\n?y ns:people.sibling_relationship.sibling ?x .\\n?x ns:people.person.gender ns:m.05zppz .\\n}\\n\",\n",
       "   'PotentialTopicEntityMention': 'justin bieber',\n",
       "   'TopicEntityName': 'Justin Bieber',\n",
       "   'TopicEntityMid': 'm.06w2sn5',\n",
       "   'InferentialChain': ['people.person.sibling_s',\n",
       "    'people.sibling_relationship.sibling'],\n",
       "   'Constraints': [{'Operator': 'Equal',\n",
       "     'ArgumentType': 'Entity',\n",
       "     'Argument': 'm.05zppz',\n",
       "     'EntityName': 'Male',\n",
       "     'SourceNodeIndex': 1,\n",
       "     'NodePredicate': 'people.person.gender',\n",
       "     'ValueType': 'String'}],\n",
       "   'Time': None,\n",
       "   'Order': None,\n",
       "   'Answers': [{'AnswerType': 'Entity',\n",
       "     'AnswerArgument': 'm.0gxnnwq',\n",
       "     'EntityName': 'Jaxon Bieber'}]}]}"
      ]
     },
     "execution_count": 116,
     "metadata": {},
     "output_type": "execute_result"
    }
   ],
   "source": [
    "train_raw_data['Questions'][0]"
   ]
  },
  {
   "cell_type": "code",
   "execution_count": 228,
   "metadata": {},
   "outputs": [
    {
     "name": "stdout",
     "output_type": "stream",
     "text": [
      "0.9705600800285678\n"
     ]
    }
   ],
   "source": [
    "avg_recall = 0\n",
    "qid2answers = dict()\n",
    "for e in train_data2 + dev_data2 + test_data2:\n",
    "    answers = set(map(lambda x: x['kb_id'].replace('<fb:', '').replace('>', ''), e['answers']))\n",
    "    if len(answers) == 0:\n",
    "        avg_recall += 1\n",
    "        continue\n",
    "    recall = sum(answer in facts for answer in answers)\n",
    "    recall /= len(answers)\n",
    "    avg_recall += recall\n",
    "    qid2answers[e['id']] = answers\n",
    "print(avg_recall / len(train_data + dev_data + test_data))"
   ]
  },
  {
   "cell_type": "code",
   "execution_count": 468,
   "metadata": {},
   "outputs": [
    {
     "name": "stdout",
     "output_type": "stream",
     "text": [
      "{'tuples': {('?y', 'location.location_symbol_relationship.Kind_of_symbol', '?k'), ('m.04rrx', 'government.governmental_jurisdiction.official_symbols', '?y'), ('?y', 'location.location_symbol_relationship.symbol', '?x')}, 'answer': '?x'}\n"
     ]
    }
   ],
   "source": [
    "def extract_tuples(sparql):\n",
    "    def is_entity(mid):\n",
    "        return mid.startswith('ns:m.') or mid.startswith('ns:g.') or mid.startswith('?')\n",
    "    \n",
    "    def clean_entity(mid):\n",
    "        mid = mid.strip()\n",
    "        if mid.startswith('ns:'):\n",
    "            return ''.join(mid[3:]) \n",
    "        return mid\n",
    "    \n",
    "    sparql = sparql.replace('{', '\\n{\\n').replace('}', '\\n}\\n').replace('(', '\\n(\\n').replace(')', '\\n)\\n').replace('||', '\\n||\\n')\n",
    "    res = set()\n",
    "    for line in sparql.split('\\n'):\n",
    "        line = line.strip()\n",
    "        line_spt = line.split()\n",
    "        if not line_spt or len(line_spt) < 3:\n",
    "            continue\n",
    "        if is_entity(line_spt[0]) and is_entity(line_spt[2]) and line_spt[1].strip()[3:].strip():\n",
    "            res.add((clean_entity(line_spt[0]), ''.join(line_spt[1].strip()[3:]).strip(), clean_entity(line_spt[2])))\n",
    "    return res\n",
    "    \n",
    "sparqls = [(e['QuestionId'], e['Parses'][0]['Sparql']) for e in (train_raw_data['Questions'] + test_raw_data['Questions'])]\n",
    "# print(sparqls[0])\n",
    "ground_truth_tuples = dict()\n",
    "for e in sparqls:\n",
    "    qid = e[0]\n",
    "    sparql = e[1]\n",
    "    answer = None\n",
    "    for line in sparql.split('\\n'):\n",
    "        if line.strip().startswith('SELECT DISTINCT'):\n",
    "            answer = line.split()[2]\n",
    "            break\n",
    "    ground_truth_tuples[qid] = {\n",
    "        'tuples': extract_tuples(sparql),\n",
    "        'answer': answer\n",
    "    }\n",
    "    \n",
    "print(ground_truth_tuples['WebQTrn-2349'])"
   ]
  },
  {
   "cell_type": "markdown",
   "metadata": {},
   "source": [
    "## Build KB facts"
   ]
  },
  {
   "cell_type": "code",
   "execution_count": 504,
   "metadata": {
    "scrolled": true
   },
   "outputs": [],
   "source": [
    "base_dir = '/home/hxssg1124/Downloads/webqsp/freebase_2hops/stagg.neighborhoods'\n",
    "facts = load_json('datasets/webqsp/facts.json')\n",
    "# facts = dict()\n",
    "# for file in tqdm(os.listdir(base_dir)):\n",
    "#     qid = file.replace('.nxhd', '')\n",
    "#     with open(os.path.join(base_dir, file)) as f:\n",
    "#         lines = f.readlines()\n",
    "#     for line in lines:\n",
    "#         line_spt = line.split(maxsplit=3)\n",
    "#         s = line_spt[0]\n",
    "#         rel = line_spt[1]\n",
    "#         o = line_spt[2]\n",
    "#         if not rel.startswith('<fb:') or not s.startswith('<fb:') or not o.startswith('<fb:'):\n",
    "#             continue\n",
    "#         s = s.replace('<fb:', '').replace('>', '')\n",
    "#         rel = rel.replace('<fb:', '').replace('>', '')\n",
    "#         o = o.replace('<fb:', '').replace('>', '')\n",
    "#         if rel.startswith('m.') or rel.startswith('g.'):\n",
    "#             continue\n",
    "#         if (not (s.startswith('m.') or s.startswith('g.'))) or (not (o.startswith('m.') or o.startswith('g.'))):\n",
    "#             continue\n",
    "#         if s not in facts:\n",
    "#             facts[s] = dict()\n",
    "#         if rel not in facts[s]:\n",
    "#             facts[s][rel] = dict()\n",
    "#         if o not in facts[s][rel]:\n",
    "#             facts[s][rel][o] = 0\n",
    "#         if o not in facts:\n",
    "#             facts[o] = dict()\n",
    "#         if rel not in facts[o]:\n",
    "#             facts[o][rel] = dict()\n",
    "#         if s not in facts[o][rel]:\n",
    "#             facts[o][rel][s] = 1 "
   ]
  },
  {
   "cell_type": "code",
   "execution_count": 505,
   "metadata": {},
   "outputs": [],
   "source": [
    "facts2 = load_json('datasets/complexwebq/' + 'all_facts_all_new2.json')"
   ]
  },
  {
   "cell_type": "code",
   "execution_count": 507,
   "metadata": {},
   "outputs": [
    {
     "data": {
      "text/plain": [
       "7624604"
      ]
     },
     "execution_count": 507,
     "metadata": {},
     "output_type": "execute_result"
    }
   ],
   "source": [
    "# merge two facts:\n",
    "for k in facts2:\n",
    "    if k not in facts:\n",
    "        facts[k] = facts2[k]\n",
    "    else:\n",
    "        for k2 in fasts2[k]:\n",
    "            if k2 not in facts[k]:\n",
    "                facts[k][k2] = facts2[k][k2]"
   ]
  },
  {
   "cell_type": "code",
   "execution_count": 163,
   "metadata": {},
   "outputs": [],
   "source": [
    "save_json(facts, 'datasets/webqsp/facts.json')"
   ]
  },
  {
   "cell_type": "code",
   "execution_count": 469,
   "metadata": {},
   "outputs": [
    {
     "data": {
      "text/plain": [
       "{'path': [['m.04rrx',\n",
       "   'government.governmental_jurisdiction.official_symbols',\n",
       "   '?y',\n",
       "   'location.location_symbol_relationship.symbol',\n",
       "   '?x']],\n",
       " 'entities': {'m.04rrx'}}"
      ]
     },
     "execution_count": 469,
     "metadata": {},
     "output_type": "execute_result"
    }
   ],
   "source": [
    "def is_real_entity(mid):\n",
    "    return mid.startswith('m.') or mid.startswith('g.')\n",
    "\n",
    "\n",
    "qid2gt = dict()\n",
    "for q_id, sparql in ground_truth_tuples.items():\n",
    "    tuples = sparql['tuples']\n",
    "    answer = sparql['answer']\n",
    "    g = nx.Graph()\n",
    "    topic_entities = set()\n",
    "    for t in tuples:\n",
    "        if is_real_entity(t[0]):\n",
    "            topic_entities.add(t[0])\n",
    "        if is_real_entity(t[2]):\n",
    "            topic_entities.add(t[2])\n",
    "        g.add_edge(t[0], t[2], data=t[1])\n",
    "    g = g.to_undirected()\n",
    "    all_paths = []\n",
    "    for topic_entity in topic_entities:\n",
    "        paths = []\n",
    "        try:\n",
    "            path = nx.shortest_path(g, topic_entity, answer)\n",
    "            for i in range(len(path) - 1):\n",
    "                s = path[i]\n",
    "                o = path[i+1]\n",
    "                p = g.get_edge_data(s, o)['data']\n",
    "                if i == 0:\n",
    "                    paths.append(s)\n",
    "                paths.append(p)\n",
    "                paths.append(o)\n",
    "        except Exception as e:\n",
    "            continue\n",
    "        all_paths.append(paths)\n",
    "    qid2gt[q_id] = {\n",
    "        'path': all_paths,\n",
    "        'entities': topic_entities,\n",
    "    }\n",
    "    \n",
    "qid2gt['WebQTrn-2349']"
   ]
  },
  {
   "cell_type": "code",
   "execution_count": null,
   "metadata": {},
   "outputs": [],
   "source": [
    "for q_id, sparql in ground_truth_tuples.items():\n",
    "    print(sparql)\n",
    "    print('-----------------------')"
   ]
  },
  {
   "cell_type": "code",
   "execution_count": 99,
   "metadata": {},
   "outputs": [
    {
     "data": {
      "text/plain": [
       "[('WebQTrn-0',\n",
       "  {'people.person.gender',\n",
       "   'people.person.sibling_s',\n",
       "   'people.sibling_relationship.sibling'}),\n",
       " ('WebQTrn-1',\n",
       "  {'film.actor.film', 'film.performance.character', 'film.performance.film'}),\n",
       " ('WebQTrn-3',\n",
       "  {'base.biblioness.bibs_location.loc_type', 'location.location.containedby'}),\n",
       " ('WebQTrn-4', {'location.country.currency_used'}),\n",
       " ('WebQTrn-5',\n",
       "  {'film.actor.film', 'film.performance.character', 'film.performance.film'}),\n",
       " ('WebQTrn-6',\n",
       "  {'sports.pro_athlete.teams',\n",
       "   'sports.sports_team_roster.from',\n",
       "   'sports.sports_team_roster.team',\n",
       "   'sports.sports_team_roster.to'}),\n",
       " ('WebQTrn-7', {'sports.sports_team.location'}),\n",
       " ('WebQTrn-8', {'people.person.place_of_birth'}),\n",
       " ('WebQTrn-9', {'people.person.date_of_birth'}),\n",
       " ('WebQTrn-11', {'location.location.time_zones'})]"
      ]
     },
     "execution_count": 99,
     "metadata": {},
     "output_type": "execute_result"
    }
   ],
   "source": [
    "list(ground_truth_rels.items())[:10]"
   ]
  },
  {
   "cell_type": "code",
   "execution_count": 110,
   "metadata": {},
   "outputs": [
    {
     "name": "stdout",
     "output_type": "stream",
     "text": [
      "680\n"
     ]
    }
   ],
   "source": [
    "all_rels = set()\n",
    "for q in train_data:\n",
    "    qid = q['id']\n",
    "    rels = ground_truth_rels[qid]\n",
    "    all_rels.update(rels)\n",
    "dev_test_rels = set()\n",
    "for q in dev_data + test_data:\n",
    "    qid = q['id']\n",
    "    rels = ground_truth_rels[qid]\n",
    "    dev_test_rels.update(rels)\n",
    "print(len(all_rels | dev_test_rels))"
   ]
  },
  {
   "cell_type": "code",
   "execution_count": 499,
   "metadata": {
    "scrolled": true
   },
   "outputs": [
    {
     "name": "stdout",
     "output_type": "stream",
     "text": [
      "0.9993617021276596\n",
      "0.9995646116335771\n"
     ]
    }
   ],
   "source": [
    "base_dir = '/home/hxssg1124/Downloads/webqsp/freebase_2hops/stagg.neighborhoods'\n",
    "avg_recall = 0\n",
    "avg_recall2 = 0\n",
    "recall_cnt2 = 0\n",
    "total = 0\n",
    "idx_new_entity = 0\n",
    "qid2real_int_entities_map = dict()\n",
    "qid2rel_chain_map = dict()\n",
    "block_rels = {'Equals', 'GreaterThan', 'GreaterThanOrEqual', 'LessThan', 'LessThanOrEqual', 'NotEquals'}\n",
    "T = 2\n",
    "all_used_rels = set()\n",
    "for q_id, gt in list(qid2gt.items()):\n",
    "#     if '2349' not in q_id:\n",
    "#         continue\n",
    "    gt_rels = ground_truth_rels[q_id]\n",
    "    gt_tup = ground_truth_tuples[q_id]\n",
    "    symbolic_answer = gt_tup['answer']\n",
    "    entitites = gt['entities']\n",
    "    paths = gt['path']\n",
    "    if q_id not in qid2answers or not qid2answers[q_id]:\n",
    "        continue\n",
    "    answers = qid2answers[q_id]\n",
    "    # Map from virtual ?y intermediate entities to real entities.\n",
    "    real_int_entities_map = dict()\n",
    "    o2new_int_entities = dict()\n",
    "    for hop in range(1, 3):\n",
    "        spo_list = list()\n",
    "        for path in paths:\n",
    "            if hop * 2 + 1 > len(path):\n",
    "                continue\n",
    "            spo_list.append((path[(hop - 1) * 2], path[2*hop - 1], path[2*hop]))\n",
    "        merged_sp_map = defaultdict(list)\n",
    "        for s, p, o in spo_list:\n",
    "            if s in real_int_entities_map:\n",
    "                for real_s in real_int_entities_map[s]:\n",
    "                    merged_sp_map[o].append((real_s, p))\n",
    "            else:\n",
    "                merged_sp_map[o].append((s, p))\n",
    "        for o in merged_sp_map:\n",
    "            int_entities = set() # Find intermediate entities\n",
    "            sp_list = merged_sp_map[o]\n",
    "            sp_list = [(o2new_int_entities[s] if s in o2new_int_entities else s, p) for s, p in sp_list]\n",
    "            \n",
    "            # Initialize facts to update with original facts\n",
    "            new_facts = dict()\n",
    "            for s, p in sp_list:\n",
    "                if not s.startswith('m.') and not s.startswith('g.'):\n",
    "                    continue\n",
    "                if s in facts:\n",
    "                    new_facts[s] = facts[s]\n",
    "                    if p in facts[s]:\n",
    "                        new_facts[s][p] = facts[s][p]\n",
    "            \n",
    "            # If the symbolic object is the final answer, simply replace symbolic answers with actual answers.\n",
    "            if o == symbolic_answer:\n",
    "                for s, p in sp_list:\n",
    "                    if s not in new_facts:\n",
    "                        new_facts[s] = dict()\n",
    "                    if p not in new_facts[s]:\n",
    "                        new_facts[s][p] = dict()\n",
    "                    for answer in answers:\n",
    "                        new_facts[s][p][answer] = 0\n",
    "                        if answer not in new_facts:\n",
    "                            new_facts[answer] = dict()\n",
    "                        if p not in new_facts[answer]:\n",
    "                            new_facts[answer][p] = dict()\n",
    "                        if s not in new_facts[answer][p]:\n",
    "                            new_facts[answer][p][s] = 1\n",
    "            # However, if the symbolic object is the intermediate entity, we may need to create a new bridge entity.\n",
    "            else:\n",
    "                # First check if s, p all are in new_facts. And all s-p have mutal intermediate entities.\n",
    "                need_create_new_int_entities = False\n",
    "                tmp_int_entities = None\n",
    "                for s, p in sp_list:\n",
    "                    if s not in new_facts:\n",
    "                        new_facts[s] = dict()\n",
    "                        need_create_new_int_entities = True\n",
    "                    if p not in new_facts[s]:\n",
    "                        new_facts[s][p] = dict()\n",
    "                        need_create_new_int_entities = True\n",
    "                    if tmp_int_entities is None:\n",
    "                        tmp_int_entities = set(new_facts[s][p].keys())\n",
    "                    else:\n",
    "                        tmp_int_entities = set(new_facts[s][p].keys()) & tmp_int_entities\n",
    "                if not need_create_new_int_entities:\n",
    "                    need_create_new_int_entities = not tmp_int_entities\n",
    "                if need_create_new_int_entities:\n",
    "                    if o not in o2new_int_entities:\n",
    "                        new_int_entity = 'm.applynewint%d' % idx_new_entity\n",
    "                        o2new_int_entities[o] = new_int_entity\n",
    "                        idx_new_entity += 1\n",
    "                    new_o = o2new_int_entities[o]\n",
    "                    if new_o not in new_facts:\n",
    "                        new_facts[new_o] = dict()\n",
    "                    for s, p in sp_list:\n",
    "                        if p not in new_facts[new_o]:\n",
    "                            new_facts[new_o][p] = dict()\n",
    "                        new_facts[s][p][new_o] = 1\n",
    "                        new_facts[new_o][p][s] = 0\n",
    "            facts.update(new_facts)\n",
    "            for s, p in sp_list:\n",
    "                if not int_entities:\n",
    "                    try:\n",
    "                        int_entities = set(new_facts[s][p].keys())\n",
    "                    except Exception as e:\n",
    "                        raise Exception(e)\n",
    "                else:\n",
    "                    int_entities = set(new_facts[s][p].keys()) & int_entities\n",
    "#             print(hop, sp_list)\n",
    "#             print(q)\n",
    "#             print(hop, o, '--->', int_entities)\n",
    "            real_int_entities_map[o] = set(answers) if o == symbolic_answer else int_entities\n",
    "    qid2real_int_entities_map[q_id] = real_int_entities_map\n",
    "    \n",
    "    rel_chain_map = dict()\n",
    "    rel_chain_entity_map = dict()\n",
    "    # Fill the rel chain data.\n",
    "    for hop in range(1, T+1):\n",
    "        rel_chain_with_hop_map =  dict()\n",
    "        rel_chain_entity_with_hop_map = dict()\n",
    "        # Find the following relations based on the previous entity-relation chain.\n",
    "        local_entity_rel_chain_map = defaultdict(set)\n",
    "        # Find the intermediate entities based on the topic entity with the given hop\n",
    "        local_entity_inter_entities_map = defaultdict(set)\n",
    "        for gt in paths:\n",
    "            topic_entity = gt[0]\n",
    "            target_relation = gt[2*hop-1] if (2*hop-1 < len(gt)) else 'EOD'\n",
    "            prev_relations = [(gt[idx] if idx < len(gt) else 'EOD') for idx in range(1, 2*hop-1, 2)]\n",
    "#             if 'EOD' in prev_relations:\n",
    "#                 continue\n",
    "            local_entity_rel_chain_map[topic_entity].add(tuple(prev_relations + [target_relation]))\n",
    "            if 2*(hop-1) < len(gt):\n",
    "                int_entities = gt[2*(hop-1)]\n",
    "                if int_entities.startswith('?'):\n",
    "                    int_entities = real_int_entities_map[int_entities]\n",
    "                if isinstance(int_entities, str):\n",
    "                    int_entities = {int_entities}\n",
    "                for int_entity in int_entities:\n",
    "                    local_entity_inter_entities_map[topic_entity].add(tuple([int_entity] + [gt_e for idx_e, gt_e in enumerate(gt[:2*(hop-1)]) if idx_e % 2 == 1]))\n",
    "#         print('hop:', hop)\n",
    "#         print('local_entity_rel_chain_map', local_entity_rel_chain_map)\n",
    "#         print('local_entity_inter_entities_map', local_entity_inter_entities_map)\n",
    "#         print('entitysssss:', entities)\n",
    "        for k, v in local_entity_rel_chain_map.items():\n",
    "#             print('entity:', entity)\n",
    "            rel_chain_with_hop_entity_map = dict()\n",
    "            ground_truth = list(v)\n",
    "#             print('asdasdasd',ground_truth)\n",
    "            new_cand_rels = set()\n",
    "            for inter_entity_prev_relations in local_entity_inter_entities_map[k]:\n",
    "                inter_entity = inter_entity_prev_relations[0]\n",
    "                prev_relations = inter_entity_prev_relations[1:]\n",
    "                temp_rels = set(facts[inter_entity].keys())\n",
    "                temp_rels = list(filter(lambda x: x not in block_rels, temp_rels))\n",
    "                temp_rels.append('EOD')\n",
    "                all_used_rels.update(temp_rels)\n",
    "                temp_rels = set(map(lambda x: tuple(list(prev_relations) + [x]), temp_rels))\n",
    "                new_cand_rels.update(temp_rels)\n",
    "            new_cand_rels = list(new_cand_rels)\n",
    "            \n",
    "            rel_chain_with_hop_entity_map['ground_truth'] = ground_truth\n",
    "            rel_chain_with_hop_entity_map['cands'] = list(new_cand_rels)\n",
    "            rel_chain_with_hop_map[k] = rel_chain_with_hop_entity_map\n",
    "            \n",
    "            recall = len(set(new_cand_rels) & set([tuple(e) for e in ground_truth])) / len(ground_truth)\n",
    "#             if recall < 1:\n",
    "#                 print(idx)\n",
    "#                 print(new_cand_rels)\n",
    "#                 print('-----------------------------------')\n",
    "#                 print(ground_truth)\n",
    "#                 print()\n",
    "#                 asdsdsds\n",
    "            avg_recall2 += recall\n",
    "            recall_cnt2 += 1\n",
    "        rel_chain_map[str(hop)] = rel_chain_with_hop_map\n",
    "        \n",
    "    qid2rel_chain_map[q_id] = rel_chain_map\n",
    "#     print(rel_chain_map)\n",
    "#     print(path)\n",
    "#     print(avg_recall2 / recall_cnt2)\n",
    "#     break\n",
    "    for entity in entitites:\n",
    "        if entity in facts:\n",
    "            cand_rels.update(set(facts[entity].keys()))\n",
    "    recall = (len(gt_rels & cand_rels) / len(gt_rels)) if len(gt_rels) > 0 else 1\n",
    "    recall = sum(e in facts for e in entitites) / len(entitites) if len(entitites) > 0 else 0\n",
    "    avg_recall += recall\n",
    "    total += 1\n",
    "#     print(q_id)\n",
    "#     print(entitites)\n",
    "#     print(list(e for e in sparqls if e[0] == q_id)[0][1])\n",
    "#     print(cand_rels)\n",
    "#     print(gt_rels)\n",
    "#     break\n",
    "print(avg_recall / total)\n",
    "print(avg_recall2 / recall_cnt2)"
   ]
  },
  {
   "cell_type": "code",
   "execution_count": 494,
   "metadata": {},
   "outputs": [],
   "source": [
    "sparqls_map = {e[0]: e[1] for e in sparqls}"
   ]
  },
  {
   "cell_type": "code",
   "execution_count": 502,
   "metadata": {
    "scrolled": true
   },
   "outputs": [
    {
     "name": "stderr",
     "output_type": "stream",
     "text": [
      "\n",
      "\n",
      "\n",
      "4737it [00:00, 122077.12it/s]\n"
     ]
    }
   ],
   "source": [
    "for idx, q in tqdm(enumerate(train_data2 + dev_data2 + test_data2)):\n",
    "    if 'passages' in q:\n",
    "        del q['passages']\n",
    "    if 'subgraph' in q:\n",
    "        del q['subgraph']\n",
    "    answers = qid2answers[q['id']] if q['id'] in qid2answers else []\n",
    "    rel_chain_map = qid2rel_chain_map[q['id']] if q['id'] in qid2rel_chain_map else dict()\n",
    "    gt = qid2gt[q['id']]\n",
    "    entities = gt['entities']\n",
    "    sparql = sparqls_map[q['id']]\n",
    "    q['ID'] = q['id']\n",
    "    q['entities'] = list(entities)\n",
    "    q['sparql'] = sparql\n",
    "    q['answers'] = list(answers)\n",
    "    q['rel_chain_map'] = rel_chain_map"
   ]
  },
  {
   "cell_type": "code",
   "execution_count": 503,
   "metadata": {},
   "outputs": [],
   "source": [
    "save_json(train_data2, 'datasets/webqsp/train_new.json')\n",
    "save_json(dev_data2, 'datasets/webqsp/dev_new.json')\n",
    "save_json(test_data2, 'datasets/webqsp/test_new.json')"
   ]
  },
  {
   "cell_type": "code",
   "execution_count": 491,
   "metadata": {},
   "outputs": [
    {
     "data": {
      "text/plain": [
       "{'education.education.institution': {'m.0n1mx4n': 1, 'm.02wn3kr': 1},\n",
       " 'sports.school_sports_team.school': {'m.0ft5vs': 0}}"
      ]
     },
     "execution_count": 491,
     "metadata": {},
     "output_type": "execute_result"
    }
   ],
   "source": [
    "facts['m.01j_cy']"
   ]
  },
  {
   "cell_type": "code",
   "execution_count": 389,
   "metadata": {
    "scrolled": true
   },
   "outputs": [
    {
     "name": "stdout",
     "output_type": "stream",
     "text": [
      "WebQTest-1791 -----> {'?x': {'1440'}}\n",
      "WebQTest-1792 -----> {'?x': {'m.07ssc', 'm.06q1r', 'm.0hzc9md'}}\n",
      "WebQTest-1793 -----> {'?y': {'m.0z3vl6r', 'm.0z3vp21', 'm.04gd4np', 'm.0z9nl0h', 'm.0z9p26m'}, '?x': {'m.0h9814q', 'm.0755sb'}}\n",
      "WebQTest-1794 -----> {'?x': {'m.02dtg'}}\n",
      "WebQTest-1795 -----> {'?x': {'m.0j51lwj', 'm.0j51lwr'}}\n",
      "WebQTest-1796 -----> {'?x': {'m.03b12'}}\n",
      "WebQTest-1797 -----> {'?x': {'m.09c7w0', 'm.02fp48', 'm.020d5', 'm.02_qg_', 'm.07t2k'}}\n",
      "WebQTest-1799 -----> {'?x': {'m.0cbd2', 'm.02hv44_', 'm.02xhgwq'}}\n",
      "WebQTest-1800 -----> {'?x': {'m.018n8'}}\n",
      "WebQTest-1801 -----> {'?y': {'m.0k39m5'}, '?x': {'m.0cp8vl'}}\n",
      "WebQTest-1802 -----> {'?x': {'m.02lcqs', 'm.02fqwt', 'm.027wjl3', 'm.02lcrv', 'm.027wj2_', 'm.02lctm', 'm.02hcv8', 'm.02hczc', 'm.042g7t'}}\n",
      "WebQTest-1803 -----> {'?x': {'m.015smg', 'm.03qtfw8'}}\n",
      "WebQTest-1804 -----> {'?x': {'m.03x42', 'm.070zw', 'm.02jcw', 'm.0h407', 'm.01v0g', 'm.0ct8m', 'm.083tk', 'm.02h40lc'}}\n",
      "WebQTest-1805 -----> {'?x': {'m.01428y', 'm.04ygk0'}}\n",
      "WebQTest-1806 -----> {'?x': {'m.03558l', 'm.03ww62', 'm.0355dz', 'm.05ch8k9', 'm.01pv51'}}\n",
      "WebQTest-1807 -----> {'?y': {'m.07vkdw8', 'm.0125clwk'}, '?x': {'m.0jnmj'}}\n",
      "WebQTest-1808 -----> {'?y': {'m.applynewint564'}, '?x': {'m.0d2m0y'}}\n",
      "WebQTest-1809 -----> {'?x': {'m.02j9dp', 'm.02m873', 'm.01jyd4'}}\n",
      "WebQTest-1810 -----> {'?x': {'m.05qdh', 'm.06msq', 'm.02csf'}}\n",
      "WebQTest-1811 -----> {'?y': {'m.applynewint565'}, '?x': {'m.06p430', 'm.033d3p'}}\n",
      "WebQTest-1812 -----> {'?x': {'m.02p5kp'}}\n",
      "WebQTest-1813 -----> {'?y': {'m.0j_9g0d', 'm.04m3kd8', 'm.0j3_2dk', 'm.0j_9g01'}, '?x': {'m.0hvgt', 'm.02bh_v'}}\n",
      "WebQTest-1815 -----> {'?y': {'m.0h2_zpr', 'm.0h2_zgy', 'm.0h2_zpj', 'm.0h2_zh9', 'm.0h2_zgr'}, '?x': {'m.076qq2_', 'm.0h2_zh0', 'm.075_jk3', 'm.02gnrt', 'm.02gr81'}}\n",
      "WebQTest-1817 -----> {'?y': {'m.0w48bvz', 'm.02wmyw7', 'm.0w48bx3', 'm.0n1m7cd'}, '?x': {'m.0b_b0v', 'm.025ycq', 'm.0ylvj', 'm.07tgn'}}\n",
      "WebQTest-1818 -----> {'?x': {'m.04ych'}}\n",
      "WebQTest-1819 -----> {'?y': {'m.applynewint566'}, '?x': {'m.05sfs', 'm.0c8wxp', 'm.0flw86'}}\n",
      "WebQTest-1821 -----> {'?x': {'m.01p1v', 'm.01ls2', 'm.0165v', 'm.05v10', 'm.0jgd', 'm.07ylj', 'm.02kcz', 'm.0345_', 'm.0d04z6', 'm.07twz', 'm.05qx1', 'm.02k8k', 'm.01p8s', 'm.05c74', 'm.05r7t', 'm.027rn', 'm.016wzw', 'm.06mkj', 'm.02k1b', 'm.03h2c'}}\n",
      "WebQTest-1822 -----> {'?x': {'m.0qf0hct', 'm.0j6fhh8', 'm.0qf0gtr', 'm.0kr8sx8', 'm.0kr8tj2', 'm.0kr8t50'}, '?y': {'m.applynewint532', 'm.applynewint105', 'm.applynewint120', 'm.applynewint316', 'm.applynewint527', 'm.applynewint361', 'm.applynewint431', 'm.applynewint16', 'm.applynewint426', 'm.applynewint263', 'm.applynewint75', 'm.applynewint20', 'm.applynewint192', 'm.applynewint427', 'm.applynewint0', 'm.applynewint6', 'm.applynewint354', 'm.applynewint475', 'm.applynewint473', 'm.applynewint217', 'm.applynewint123', 'm.applynewint402', 'm.applynewint300', 'm.applynewint209', 'm.applynewint56', 'm.applynewint140', 'm.applynewint485', 'm.applynewint74', 'm.applynewint28', 'm.applynewint393', 'm.applynewint373', 'm.applynewint166', 'm.applynewint548', 'm.applynewint358', 'm.applynewint528', 'm.applynewint228', 'm.applynewint255', 'm.applynewint537', 'm.applynewint61', 'm.applynewint381', 'm.applynewint401', 'm.applynewint551', 'm.applynewint107', 'm.applynewint17', 'm.applynewint289', 'm.applynewint133', 'm.applynewint366', 'm.applynewint5', 'm.applynewint227', 'm.applynewint544', 'm.applynewint411', 'm.applynewint205', 'm.applynewint159', 'm.applynewint540', 'm.applynewint178', 'm.applynewint53', 'm.applynewint453', 'm.applynewint390', 'm.applynewint541', 'm.applynewint34', 'm.applynewint279', 'm.applynewint138', 'm.applynewint216', 'm.applynewint225', 'm.applynewint52', 'm.applynewint282', 'm.applynewint40', 'm.applynewint106', 'm.applynewint128', 'm.applynewint438', 'm.applynewint84', 'm.applynewint96', 'm.applynewint208', 'm.applynewint530', 'm.applynewint561', 'm.applynewint343', 'm.applynewint187', 'm.applynewint270', 'm.applynewint320', 'm.applynewint471', 'm.applynewint179', 'm.applynewint50', 'm.applynewint41', 'm.applynewint111', 'm.applynewint250', 'm.applynewint368', 'm.applynewint553', 'm.applynewint4', 'm.applynewint524', 'm.applynewint242', 'm.applynewint19', 'm.applynewint43', 'm.applynewint130', 'm.applynewint231', 'm.applynewint362'}}\n",
      "WebQTest-1823 -----> {'?x': {'m.06cx9', 'm.0glnsx', 'm.018wl5', 'm.0j729'}}\n",
      "WebQTest-1824 -----> {'?x': {'m.02l6h'}}\n",
      "WebQTest-1825 -----> {'?x': {'m.06lr_pz', 'm.06bsl_5', 'm.06f67r1', 'm.06mv_gp', 'm.06gqt1t', 'm.06vgjfz', 'm.0l6bpv3', 'm.068tvkv', 'm.069h7f0', 'm.06bhsc3', 'm.06tdgyp', 'm.0c1xh9z', 'm.06t_tbs'}}\n",
      "WebQTest-1826 -----> {'?y': {'m.02wp1_z'}, '?x': {'m.07tjf'}}\n",
      "WebQTest-1827 -----> {'?x': {'m.0989yy', 'm.0j32d_5', 'm.0brl0p', 'm.0_ymbw6', 'm.02hjvb', 'm.01rxnm', 'm.0jwvjyz', 'm.01kht3', 'm.02vz0kx', 'm.0jwy_gm', 'm.03cfv35', 'm.0163ff', 'm.0ll4_ht', 'm.05f80pd', 'm.01lnd3', 'm.04q3k0p', 'm.0hhjk', 'm.04q4sg', 'm.0q9h2', 'm.06nhn3', 'm.09c7v', 'm.026cv0z', 'm.0cc65g0', 'm.019vsd', 'm.0403zkg', 'm.09sjx5', 'm.04sr12', 'm.01rz3c', 'm.09sg3h', 'm.02qz9w', 'm.07qdr', 'm.04h9fs', 'm.04053sn', 'm.0gy74y', 'm.012vvtp_', 'm.0c02dld', 'm.051vfm', 'm.0cv4c', 'm.01rs7b', 'm.023r9j', 'm.0537mx', 'm.0pnb8', 'm.04jpg0f', 'm.072p8', 'm.0by0zd5', 'm.05t0ps', 'm.048ltn', 'm.07jwwf', 'm.0bh8czr', 'm.051xk9', 'm.021848', 'm.02nd_', 'm.09c7b', 'm.01rxr7', 'm.0j_66', 'm.03vstx', 'm.02z7b9_', 'm.07trd0', 'm.0bz7bg', 'm.06fybq', 'm.01zmd', 'm.0n5wy3b', 'm.01nbpn'}}\n",
      "WebQTest-1828 -----> {'?x': {'m.02l6h', 'm.01qyjx'}}\n",
      "WebQTest-1829 -----> {'?y': {'m.applynewint567'}, '?x': {'m.05sfs', 'm.02rsw', 'm.0c8wxp', 'm.0dtdq', 'm.021_0p', 'm.051kv', 'm.019cr', 'm.01s5nb', 'm.0631_', 'm.092bf5', 'm.01lp8', 'm.05w5d', 'm.04pk9', 'm.03_gx'}}\n",
      "WebQTest-1830 -----> {'?x': {'m.02hwgxh', 'm.02hwxg4', 'g.1q6h_1_4j', 'm.02hwv8r', 'm.02hwv5q', 'm.02hwqrn', 'm.02hx_dp', 'm.02pq8qn', 'm.02hwvm1', 'm.02hx8nb', 'm.02hwnwm', 'm.07k4r10', 'm.02hxhrz', 'm.02hwgnw', 'm.02hwzld', 'm.02hxtwj', 'm.02hxxcv', 'm.02hxz2z', 'm.02hww1x', 'm.0b7mcv', 'm.02hwrvb', 'm.02hxf1r', 'm.02hxh5f', 'm.02hxb4m', 'm.02hwwlp', 'm.02hxzv2', 'm.085vdy', 'm.02hxy04', 'm.02hwmth', 'm.02hwr84', 'm.03h0wpt', 'm.06nm1', 'm.0km3ztb', 'm.02ppbnh', 'm.02hxssc', 'm.02hxksk', 'm.02hxsz8', 'm.02hxb1x', 'm.02hxb6s', 'm.05tnswp', 'm.02hxs9_', 'm.02hxp1v', 'm.02hwzdd', 'm.02hx2q2', 'm.02hxy6v', 'm.02hxdfd', 'm.02hxnf6', 'm.02hwl4_', 'm.02hwpxb', 'm.02hxdd2', 'm.02hxvjw', 'm.09k4cp', 'm.02hxswb', 'm.02hx0bf', 'm.02hx5w4', 'm.02hxv46', 'm.025syhx', 'm.02hwzgg', 'm.01yppj', 'm.02hxl2t', 'm.02hwxgh', 'm.09gpqdh', 'm.03w6b4', 'm.02hxfkq', 'm.02hxj6x', 'm.026wqvr', 'm.02hxsy4', 'm.02hwt3q', 'm.02hwh2x', 'm.06gdhz', 'm.02hwwxk', 'm.02hwqkg', 'm.02hxs7q', 'm.0bm08x', 'm.02hwnpn', 'm.02ppbb5', 'm.02hwglw', 'm.08w0ky', 'm.02hx2tn', 'm.02hw_7r', 'm.02hxds7', 'm.02hwyr3', 'm.02hwqww', 'm.02hwl46', 'm.02hxlpz', 'm.02ppbg9'}}\n",
      "WebQTest-1833 -----> {'?x': {'m.0c9rw5', 'm.0j729', 'm.01d9r3'}}\n",
      "WebQTest-1835 -----> {'?y': {'m.04hdfvw', 'm.03pwwl4'}, '?x': {'m.02p5_2s', 'm.0fs_s'}}\n",
      "WebQTest-1836 -----> {'?y': {'m.0_ghkyv', 'm.0_gghr5', 'm.0_ghk_x', 'm.0_ghjyl', 'm.0_gghtv', 'm.0_ghjwl'}, '?x': {'m.0wg6f', 'm.0x14p', 'm.0dz6k_', 'm.0488g', 'm.01mmj7', 'm.0_r0n'}}\n",
      "WebQTest-1838 -----> {'?x': {'m.02z6g34', 'm.043rstb', 'm.0h407v', 'm.07ldyjt', 'm.04jgf73', 'm.04gk22b', 'm.0h40lj', 'm.030rdb', 'm.04mx1yr', 'm.0414tdm', 'm.03sx6f', 'm.0by0kb9', 'm.0h40f0', 'm.06y3b4', 'm.025t26l', 'm.04cxm_7', 'm.0dt889', 'm.0h40db', 'm.0cksc_', 'm.03d1r7t', 'm.0h40k4', 'm.026f3ys', 'm.0cvc05', 'm.04q8nzj', 'm.0h408w', 'm.026pb10', 'm.05c03j9', 'm.02pnhdq', 'm.0bs6dhl', 'm.026pr2_', 'm.04jd6b6', 'm.0h167w', 'm.053gfcl', 'm.05prqw', 'm.03c38d5', 'm.025wfyk', 'm.0260p73', 'm.026t7lw', 'm.03m3xhy', 'm.047nfps', 'm.02r4j0b', 'm.01l3wr'}}\n",
      "WebQTest-1839 -----> {'?x': {'m.02fqwt'}}\n",
      "WebQTest-1840 -----> {'?x': {'m.016rsc', 'm.09xy1k', 'm.01648r', 'm.06f7kz', 'm.02glq_', 'm.04d36l', 'm.05f_3'}}\n",
      "WebQTest-1842 -----> {'?x': {'m.02f32g'}}\n",
      "WebQTest-1843 -----> {'?x': {'m.02h40lc', 'm.02hx790'}}\n",
      "WebQTest-1844 -----> {'?y': {'m.applynewint568'}, '?x': {'m.0127m7'}}\n",
      "WebQTest-1845 -----> {'?x': {'m.02hczc', 'm.02fqwt'}}\n",
      "WebQTest-1847 -----> {'?x': {'m.0j0k'}}\n",
      "WebQTest-1848 -----> {'?x': {'m.020w2', 'm.07gql'}}\n",
      "WebQTest-1849 -----> {'?y': {'m.0jw93h', 'm.0jzt3lm', 'm.0gxf3k_', 'm.011shk2t', 'm.0cs7ym0', 'm.0y9pvhm', 'm.03jq_g6', 'm.010r560c', 'm.0hm0kd4', 'm.0bykm8m', 'm.0jw957', 'm.0yngypq', 'm.03jqmzg', 'm.0cgp0zt', 'm.04htt7y', 'm.0glyn12', 'm.0h4yw42', 'm.0k3sl3', 'm.04djcy7', 'm.04lsgm3'}, '?x': {'m.0h5vd14'}}\n",
      "WebQTest-1850 -----> {'?x': {'m.0c8wxp', 'm.01n15n'}}\n",
      "WebQTest-1851 -----> {'?y': {'m.applynewint569'}, '?x': {'m.03spz', 'm.04gqr', 'm.06tw8'}}\n",
      "WebQTest-1853 -----> {'?x': {'m.08z956', 'm.015cjr', 'm.01tkqy', 'm.0cbd2', 'm.0np9r', 'm.0dxtg', 'm.0kyk', 'm.03gjzk', 'm.0d8qb'}}\n",
      "WebQTest-1854 -----> {'?y': {'m.0k3ssk', 'm.0h28yx8', 'm.010x33y4'}, '?x': {'m.03jldb'}}\n",
      "WebQTest-1855 -----> {'?x': {'m.01l525', 'm.0qk79'}, '?y': {'m.applynewint570'}}\n",
      "WebQTest-1857 -----> {'?x': {'g.121xjjw_', 'm.0nfvxv8', 'm.0y56x6d', 'g.121_5zdm', 'm.0q5skzb', 'm.0139h91t', 'm.0rhvq_1', 'm.0124v_vt', 'g.121n8wcw', 'g.11c3mrbyc8', 'm.0n5wjx_', 'm.0vs9dgx', 'm.0shm0m9', 'm.0vs9nmk'}}\n",
      "WebQTest-1858 -----> {'?y': {'m.03phzfq'}, '?x': {'m.05jbn'}}\n",
      "WebQTest-1860 -----> {'?x': {'m.0bt_p', 'm.0bv05', 'm.041sd6', 'm.0f58c'}}\n",
      "WebQTest-1861 -----> {'?x': {'m.0hqc2', 'm.01fpfn', 'm.07v2k4'}}\n",
      "WebQTest-1864 -----> {'?y': {'m.applynewint571'}, '?x': {'m.0578mx'}}\n",
      "WebQTest-1865 -----> {'?x': {'m.019x4f', 'm.066dv', 'm.067nv'}}\n",
      "WebQTest-1866 -----> {'?x': {'m.059rby'}}\n",
      "WebQTest-1868 -----> {'?y': {'m.applynewint572'}, '?x': {'m.05gnf9'}}\n",
      "WebQTest-1870 -----> {'?y': {'m.0h4yqsv', 'm.0cs9br3', 'm.04j0q59', 'm.0dj9ykp', 'm.0cg9dwp', 'm.0hv_tx6', 'm.0crxjbf', 'm.0jvqkd', 'm.0wc45qm', 'm.04yy5wj', 'm.04htxbf', 'm.0cg11my', 'm.0csg7zx', 'm.0byk9pz', 'm.0cg1pwd', 'm.02vbk0_', 'm.0cs7j0w', 'm.0jx17l', 'm.0wc5czw', 'm.02vct3g', 'm.012zjw68', 'm.04p66ps', 'm.0cg0j_c', 'm.0h0ncld', 'g.11bc8dtp34', 'm.0cs4g8_', 'm.0wc7z2h', 'm.0gdgdl1', 'm.0gxdymr', 'm.0crvt88', 'm.0r9yv5w', 'm.0gmj8w7', 'm.0gz382m', 'm.0cry7nh', 'm.02tb0fk', 'm.0csc5yc', 'm.0g9m3tk', 'm.02vbl58', 'm.0h6gvkx', 'm.0h10rkd', 'm.0cskhcl', 'm.04j08hq', 'm.0cg978s', 'm.0h0nckw', 'm.0crrj80', 'm.0gd25cm', 'm.0k5rtk', 'm.0cw00nl', 'm.01xrqm5', 'm.0wc7029', 'm.0wc5vwk', 'm.02vc6y9', 'm.0cs2z2h', 'm.0gb1dml', 'm.04j1xrx', 'm.0jvdng', 'm.0crtz8j', 'm.04j29v8', 'm.0cg680x', 'm.011rh6pc', 'm.0cs2zv_', 'm.0cs421s', 'm.04ktsj4', 'm.0c5mczf', 'm.0gvxy2v', 'm.0cgbm2p', 'm.0gkk8sp', 'm.04j357j', 'm.05gr6b8', 'm.04j21g8', 'm.0114ywjy', 'm.04j0ylm', 'm.040k0yv', 'm.0cs80wf', 'm.0cs4z7k', 'm.0wc7q75', 'm.012zjdxp', 'm.03lh35w', 'm.03ln9zv', 'm.04hv7dc', 'm.064yvc4', 'm.0hy5b78', 'm.03lwhry', 'm.04j2q8x', 'm.0bx09cg', 'm.07ll_rh', 'm.0cv_vwf', 'm.03l9v1x', 'm.0gxkzhb', 'm.05tdn8p', 'm.0g9p05p', 'm.05nvsx3', 'm.04q5p_7', 'm.0dgl9lp', 'm.052crf_', 'm.0h10r86', 'm.0cgn8b2', 'm.03lkh0w', 'm.0jwc15', 'm.0k6f34', 'm.0csf3zg', 'm.0gm0_fd', 'm.0gvwrs6', 'm.0p7f0f3', 'm.0cs0s94', 'm.0csb2b0', 'm.0h_0jd_', 'm.04j2zx7', 'm.0g4w90f', 'm.02vbrwm', 'm.0gw1tnw', 'm.02vbfzn', 'm.0j_fvv', 'm.04j1d9v', 'm.03lp84m', 'm.04j2mhp', 'm.0crx9ny', 'm.0d9q44r', 'm.0h2pjq_', 'm.0jx38_', 'm.02tb4qm', 'm.02vc_kt', 'm.0bykjs2', 'm.0gm2srb', 'm.02vbfr1', 'm.0h0_3cq', 'm.05nr0kj', 'm.0jvqcb', 'm.04j34y4', 'm.04j0ckl', 'm.0crv32y', 'm.0cs6bd5', 'm.0cmxvvg', 'm.0cry1nb', 'm.0mzkt1n', 'm.0j7283m', 'm.0cstj7v', 'm.0gx6kck'}, '?x': {'m.0bf4gtj', 'm.0cs1_b1', 'm.0crrl_t', 'm.0bxz0c1', 'm.0h05yr', 'm.0hr418b', 'm.057myy', 'm.0dryg5m', 'm.0d042l', 'm.0gksd67', 'm.0crtsrd', 'm.0bs16n', 'm.0bx_71h', 'm.047p6w8', 'm.02qjtml', 'm.0crrb94', 'm.04p2fy8', 'm.011pzwg5', 'm.07gns9', 'm.02vr32y', 'm.0h_0jbs', 'm.0crvmw1', 'm.04j21g6', 'm.04j26sc', 'm.05b4l67', 'm.027grw3', 'm.02z46bf', 'm.0gkr5xq', 'm.0gksqd4', 'm.0crrj82', 'm.0fm7l2', 'm.04j08hn', 'm.0crr_yx', 'm.04j2zp2', 'm.02qp9s8', 'm.0bq8tr', 'm.0bx_s9v', 'm.083vqj', 'm.01rxyb', 'm.04j29v0', 'm.0dj9xmf', 'm.04j1d9l', 'm.04j2mhm', 'm.0crttx5', 'm.027t7gk', 'm.0crrsd4', 'm.0j62vp8', 'm.0crvkxc', 'm.0bc9_3', 'm.0clhj5', 'm.0cs76m5', 'm.09v17dd', 'm.0crxk1m', 'm.0272qjg', 'm.0c41y5f', 'm.04gvw_z', 'm.0134lcx0', 'm.0pt_5', 'm.0kv661', 'm.0b6lpbm', 'm.0272v9w', 'm.04lgl2y', 'm.05f5pjd', 'm.04jgfgc', 'm.07yb1s', 'm.05p89nk', 'm.04j0q52', 'm.09k51yg', 'm.02r96lm', 'm.0bcb9g', 'm.05f3y96', 'm.0kbjch5', 'm.0c1c2yt', 'm.04j3579', 'm.0c7y2c', 'm.04j34y2', 'm.0g55lz_', 'm.0dgkv64', 'm.0h0ncl5', 'm.0gttw88', 'm.0b__16q', 'm.0gjdd6d', 'm.07dvtc', 'm.0crtspw', 'm.0dqvnd', 'm.0gm0_fg', 'm.07k7bh0', 'm.0f2864', 'm.04j2q8v', 'm.0hy542p', 'm.0gyv0b4', 'm.04j0qqp', 'm.0fc6sp', 'm.0g9_441', 'm.0crsfhl', 'm.04ssf', 'm.0b6k13z', 'm.0crshly', 'm.0crtfzr', 'm.06_v8dw', 'm.078mng', 'm.07gp3w', 'm.0crsr0l', 'm.0gks2xc', 'm.0gf7ssv', 'm.0crt6rf', 'm.0bh7jby', 'm.0kv6xq', 'm.07d83t', 'm.047g4lw', 'm.02qds4w', 'm.07kf0d4', 'm.08y5wd', 'm.04j1xrt', 'm.0crs071', 'm.04gsxgr', 'm.04j2sfx', 'm.0h0nclq', 'm.0cs10pd', 'm.04j2zx0', 'm.0274g5q', 'm.0crrwl7', 'm.06qxmj', 'm.0cs3kyt', 'm.0gks2zc', 'm.03zndp', 'm.06k4hw', 'm.05c2853', 'm.04j0yld', 'm.0fqnq4_', 'm.062rrj', 'm.0crrckw', 'm.0crrwjq', 'm.0fn43t', 'm.03gtwh_', 'm.01xrqm9', 'm.0bcbhg', 'm.0c3yq5d'}}\n",
      "WebQTest-1871 -----> {'?x': {'m.01q69p'}}\n",
      "WebQTest-1873 -----> {'?x': {'m.0d05w3'}}\n",
      "WebQTest-1874 -----> {'?y': {'m.applynewint573'}, '?x': {'m.04wgh', 'm.02k54', 'm.04wlh', 'm.01z215', 'm.07fj_', 'm.0h3y', 'm.0j1z8', 'm.0b90_r', 'm.04gqr', 'm.06t2t', 'm.03__y', 'm.0j4b'}}\n",
      "WebQTest-1875 -----> {'?x': {'m.0c9rw5', 'm.0j729', 'm.01d9r3'}}\n",
      "WebQTest-1876 -----> {'?x': {'m.0dc0d'}}\n",
      "WebQTest-1877 -----> {'?x': {'m.0197s6', 'm.02xk0r', 'm.0pybl', 'm.015r61', 'm.04191d'}}\n",
      "WebQTest-1878 -----> {'?x': {'m.0c9rw5', 'm.0j729', 'm.01d9r3'}}\n",
      "WebQTest-1879 -----> {'?x': {'m.049p6c', 'm.049p2z'}}\n",
      "WebQTest-1880 -----> {'?y': {'m.0130lwbg', 'm.05sslbx', 'm.0130khhd', 'm.010nnlj1', 'm.0ryd4t3', 'm.0wzq9mp', 'm.0130l1mh', 'm.0_gt56s', 'g.11b7vytmt5', 'm.0130k4tm', 'm.0_lydt9', 'm.052m6bz', 'm.0zntc86', 'g.11btv6s3_f', 'm.0130kq8t', 'm.0_s_m2p', 'm.0130lp5k', 'm.0wzq9t2', 'm.0wzs_6j', 'm.0130ld99', 'm.0bqspr2', 'm.011kxqgn', 'm.0130kgzz', 'm.0130lphz', 'm.0130ldky', 'm.0130jvcf', 'm.0tjxjs8', 'm.0_mxpg3', 'm.0q39tz6'}, '?x': {'m.012j2rng', 'm.0wxs6vt', 'm.0wxvvxx', 'm.0105s6hr', 'm.012j2y3j', 'm.0hhqr_y', 'm.012j2s0k', 'm.0lq0c4x', 'm.0rpjdpn', 'm.0ztkk62', 'm.012j2m79', 'm.0zm_9br', 'm.02w7qby', 'm.012j2nvc', 'm.0102ldy5', 'm.012kc8bx', 'm.012kczhw', 'm.0dsb8fw', 'm.0128186x', 'm.01281c93'}}\n",
      "WebQTest-1881 -----> {'?x': {'m.02llzg'}}\n",
      "WebQTest-1882 -----> {'?y': {'m.applynewint348', 'm.applynewint370'}, '?x': {'m.03whjr', 'm.04kz0b7', 'm.02_w_r9'}}\n",
      "WebQTest-1883 -----> {'?y': {'m.04l0rmx'}, '?x': {'m.02621l5'}}\n",
      "WebQTest-1884 -----> {'?y': {'m.applynewint542', 'm.applynewint386'}, '?x': {'m.013zdg', 'm.014mlp'}}\n",
      "WebQTest-1885 -----> {'?x': {'m.03j6c'}}\n",
      "WebQTest-1886 -----> {'?x': {'m.013cqs', 'm.029mmz', 'm.0135nr', 'm.01zh8g'}}\n",
      "WebQTest-1887 -----> {'?x': {'m.01_h4b'}}\n",
      "WebQTest-1888 -----> {'?x': {'m.04j78h'}}\n",
      "WebQTest-1889 -----> {'?x': {'m.0d05fv'}}\n",
      "WebQTest-1890 -----> {'?x': {'m.0zvl4z8', 'm.0zp99ms', 'm.0zv6l1t', 'm.0zskptm', 'm.0_6n6zj', 'm.0zvj1m0', 'm.0_hy30s', 'm.0_6y5_j', 'm.0_j8lb6', 'm.0zq7236', 'm.0zvl4m7', 'm.0_j741k', 'm.0zv5_qc', 'm.03hkrph', 'm.0zvk77b', 'm.0_6pd3w', 'm.012rr3sd', 'm.0_6n882', 'm.0zvkcq4', 'm.0zpczyb', 'm.0_hs2dq', 'm.0zxqlqm', 'm.0zq2bcd', 'm.0zqknvb', 'm.0zvln3p', 'm.0_jkc_7', 'm.0zl7dhj', 'm.0zxnzng', 'm.0zv4mq3', 'm.0zj3yh8', 'm.0j7n240', 'm.012rm3kh', 'm.0zscc9f', 'm.0_k9270', 'm.0zh47g4', 'm.0zv6mjm', 'm.0gctgnc', 'm.0gcwxm4', 'm.0_7p2r6', 'm.0zp8xxk', 'm.0_690zn', 'm.0_hv1ml', 'm.0zvp668', 'm.0zv7qdr', 'm.0zvg51_', 'm.0_hxgzt', 'm.02639w6', 'm.0_6mh8q', 'm.0zv4sx_', 'm.0zs8mdw', 'm.0_k5z3t', 'm.0_6cvxc', 'm.010tvp4y', 'm.0_6pnpx', 'm.0zvsdt1', 'm.0zsdvh9', 'm.04hqzg', 'm.0zkvv95', 'm.0_63th4', 'm.0zs93pc', 'm.010vnfnb', 'm.0zkmrw3', 'm.0112k7sg', 'm.0zhdzp6', 'm.0zvgbxy', 'm.0zv4z0j', 'm.0_klb3q', 'm.0_7kynh', 'm.0_jhg6m', 'm.0zr0_fj', 'm.0_k7d20', 'm.0zsl61h', 'm.0c1c9kt', 'm.0_6nx58', 'm.0_k8mfj', 'm.0zvc6zj', 'm.0k0rg1s', 'm.0gds0jl', 'm.0zvmlvj', 'm.0zvjxqq', 'm.0_hvrfn', 'm.0zxj4mq', 'm.0zhxt9m', 'm.0zhc9zq', 'm.0zvq3fp', 'm.0zvn22x', 'm.0zlsts8', 'm.0bx_6tv', 'm.026hcjw', 'm.0_jqkg9', 'm.0zqfmw7', 'm.0_j34rt', 'm.0_jqxz_', 'm.0zvftcj', 'm.010_h4tm', 'm.0_jz_2s', 'm.010t5vss', 'm.0zqvs04', 'm.02q87w3', 'm.0_66l8y', 'm.0_jrj98', 'm.0zp8_g7', 'm.0_j2p1_', 'm.0_67vcm', 'm.0zvgqv_', 'm.0zvb1cl', 'm.0zs9145', 'm.0zvkpmk', 'm.0zj0wf3', 'm.0zv4sxx', 'm.0zv9p46', 'm.0zv51tp', 'm.0zr5v53', 'm.0_hx_6x', 'm.0zhm7b6', 'm.0zqys2p', 'm.0_67mfy', 'm.0_5_tpf', 'm.0_jtvm7', 'm.04r0d6', 'm.0zvmsdw', 'm.0zp7_fz', 'm.0zlh1yh', 'm.0zv5607', 'm.0_6nzqr', 'm.0zs9gw4', 'm.0_kh114', 'm.010xzd84', 'm.0_629s7', 'm.0_jd90y', 'm.0_k12xr', 'm.0gdjwtg', 'm.0_6dl06', 'm.0_5zcx_', 'm.0zslkmr', 'm.0zx4wbc', 'm.0_5y7yn', 'm.0_5_tll', 'm.0zsjrq9', 'm.0zk2cx7', 'm.0_65d9w', 'm.0_69fg6', 'm.0zsbdw4', 'm.0chfwx', 'm.0zv72h_', 'm.0zvblhz', 'm.012txvd4', 'm.0zkhdp6', 'm.0zvhjx_', 'm.0_jz2j8', 'm.0_j2h4y', 'm.0gdpj1c', 'm.0zk3833', 'm.0zvl07l', 'm.0zs9y4c', 'm.0_j7y2j', 'm.0zq_8wm', 'm.0_jx9l4', 'm.0zsnxq1', 'm.0zv77bq', 'm.06b73x', 'm.0zvpm0b', 'm.0_6dpww', 'm.02rwyr2', 'm.0zv9y53', 'm.0_5_5n6', 'm.0_6pllm', 'm.0gdpj4n', 'm.0zj2n1k', 'm.0zvdj3s', 'm.0zlgv4f', 'm.064bdl', 'm.0zvtsq3', 'm.0zsqw6z', 'm.0zv4868', 'm.0_jpqjm', 'm.0_dkg10', 'm.0_5zy57', 'm.0_jpl_g', 'm.0zkgy4w', 'm.0zx95sn', 'm.010ylrsg', 'm.0zvkjwl', 'm.0pd7f92', 'm.0zqxwpl', 'm.0zq4cjk', 'm.0zxd069', 'm.09gdbkn', 'm.0_5_c5y', 'm.0zq33hb', 'm.0_jkmmk', 'm.0zvfjmy', 'm.0_6ky5_', 'm.0zv9trf', 'm.0zvbtct', 'm.0zxl64m', 'm.0zjxbzb', 'm.0_5y20_', 'm.0zvd1_8', 'm.09gb9cp', 'm.0zvlgy0', 'm.0zvcwkf', 'm.0zv7wl1', 'm.026dhf_', 'm.0_69914', 'm.0_k1vyy', 'm.0zldbx2', 'm.0zxhcjl', 'm.0pd7fcy', 'm.0_jb1d8', 'm.046tk4', 'm.0zr1_3r', 'm.0zsk781', 'm.0zvr383', 'm.053lkj', 'm.0_jl28w', 'm.0zsbvsr', 'm.0zvkfmb', 'm.0zvfhvv', 'm.0_jskv9', 'm.0_7cpgx', 'm.0zprmr4', 'm.0zlzv51', 'm.0_620tb', 'm.0zsj98w', 'm.0zq39sx', 'm.0zsds29', 'm.0zvrbqb', 'm.0_jhqny', 'm.0zkf0s1', 'm.0_jtq5q', 'm.0_hw2gs', 'm.0h1dgb2', 'm.010xz0bw', 'm.0gdjw6y', 'm.0_jndzb', 'm.0zj7lmr', 'm.0zr29b8', 'm.0_k3r2f', 'm.0_6lqqp', 'm.0zk1ppd', 'm.0zplsm9', 'm.03c33k4', 'm.0zvgj54', 'm.0_80k19', 'm.0_hqdyd', 'm.0zscxhr', 'm.0zv9m6r', 'm.0zsm562', 'm.0_k8h3z', 'm.0jwsjv4', 'm.0zjlcfy', 'm.0cq468', 'm.0_6678z', 'm.0zj9n6t', 'm.0zsklrc', 'm.0zvfg04', 'm.0zp9n0p', 'm.0c1ghr6', 'm.0zj8d6y', 'm.0pd7f6v', 'm.0gctgv7', 'm.0gds0k8', 'm.0_j7d6r', 'm.0_jp5z0', 'm.0gdpj03', 'm.0zq50nx', 'm.09c8c3', 'm.0_jbs7b', 'm.0zxczlq', 'm.0zsnws0', 'm.0zxyw51', 'm.0_jps4r', 'm.0_6chcq', 'm.0j7myct', 'm.0gcwxqg', 'm.0_klt0f', 'm.0_6_vp5', 'm.0zx4w27', 'm.0zjq8q_', 'm.0zv53_5', 'm.0zvgkpb', 'm.010tqjtl', 'm.0_hqv4l', 'm.0zk4pdz', 'm.0zs8bz5', 'm.02rgtp1', 'm.0zvhk3b', 'm.0zk8plm', 'm.0zv6ctd', 'm.0zq10fr', 'm.0zpkfbh', 'm.0_7nyl3', 'm.0zpw6rk', 'm.0zv8f7n', 'm.0zsg6l6', 'm.0_jv68z', 'm.027190w', 'm.0zvmx5k', 'm.0zvhg1y', 'm.0_zm3k2', 'm.0_hzh_w', 'm.0zlqwtq', 'm.0zv47zg', 'm.0_6nj66', 'm.0zkhv_k', 'm.026h0ny', 'm.0zv6g1_', 'm.0zx9w6p', 'm.0zltqdr', 'm.0zlhgnv', 'm.0zs96rb', 'm.0zvb9w6', 'm.0_6fqpg', 'm.0_hvpvc', 'm.0zqqvpl', 'm.0zv4n3n', 'm.0_jsw1s', 'm.0zp85wb', 'm.0gcwxp4', 'm.0zvl_sk', 'm.0zv55w6', 'm.0zv954m', 'm.0_60g6b', 'm.0gdpj3d', 'm.0_6g5_9', 'm.04gkv2m', 'm.0_6bbsj', 'm.0139fb8r', 'm.0gctgq8', 'm.0_k5txc', 'm.0zl10ls', 'm.0gvbrm5', 'm.0_jvzj6', 'm.0zpy618', 'm.0zq3z68', 'm.0_hr0l3', 'm.03cqyp7', 'm.0zv6_m1', 'm.0zvjts6', 'm.0_jtt0s', 'm.0c1c9pf', 'm.0_6btzf', 'm.0zvqmxn', 'm.0111plvp', 'm.0zvp45x', 'm.0zx5v6j', 'm.0_6gzmy', 'm.0_kky8l', 'm.0zvrvbp', 'm.0_kgy4j', 'm.0zvrdk4', 'm.02pl25h', 'm.0_jlvh2', 'm.0zx9lg4', 'm.0111rknp', 'm.0gcth3c', 'm.0zs8zwj', 'm.0_h_3jr', 'm.012s01nw', 'm.0zv5djm', 'm.0_kd3k_', 'm.0zpmrb7', 'm.0_jcmw5', 'm.0_hw1pk', 'm.0zvn5hd', 'm.0_7yz11', 'm.04hqn2', 'm.0zslkjc', 'm.0_735lb', 'm.08db_x', 'm.0zv56p0', 'm.0gdpj0d', 'm.0_6pdmh', 'm.0zsmvl3', 'm.0zjzxvn', 'm.0zsjy9y', 'm.0g52f7', 'm.0_6__pc', 'm.0zvnj4d', 'm.0_jb9wm', 'm.0zhz5dw', 'm.0zvkpgy', 'm.0zq74gz', 'm.0zvmczk', 'm.0_jtvb6', 'm.0zxgvnz', 'm.0zph5c9', 'm.0zsgxv3', 'm.0pd7fd6', 'm.0_k0wtn', 'm.0zvgv_f', 'm.0zvp52f', 'm.0zvlph_', 'm.0_j7fnl', 'm.0_kmg7n', 'm.0zvjtb7', 'm.0zh13q9', 'm.0zsfvk4', 'm.0_hz31w', 'm.0_jy4qw', 'm.0zvv1j5', 'm.0zslsy0', 'm.08ftns', 'm.0_65kj2', 'm.0zvnkqx', 'm.0_j1_td', 'm.0_jq62f', 'm.0zsqhq2', 'm.0zxsg9z', 'm.09gcpc6', 'm.0c1gj7f', 'm.0_62shp', 'm.0zlwd67', 'm.012qh9ny', 'm.0zh22tw', 'm.0_6nrm4', 'm.0gctgl6', 'm.0_j66kk', 'm.0zr5tpn', 'm.0zqbh1g', 'm.0zxh3_2', 'm.0_k8w7x', 'm.0_j9kvx', 'm.0zvkbsh', 'm.0_jyz7b', 'm.0zsjlb2', 'm.0_6pknn', 'm.0zvpg7j', 'm.0_67n0j', 'm.0zsdf99', 'm.0zv9hg5', 'm.0gctgql', 'm.0zv8h23', 'm.0gctgjs', 'm.0_j16n_', 'm.0_68vl1', 'm.0zm40hc', 'm.0_j2rx1', 'm.0zldhcv', 'm.0rpglnv', 'm.0zjt7ql', 'm.05zvtqk', 'm.0zx49c3', 'm.0_hq1lv', 'm.0zpl3ln', 'm.0zvbp2t', 'm.0_6lr33', 'm.010z9xx3', 'm.0zp_m4m', 'm.010xwjh8', 'm.0_7wy4d', 'm.0zxh_5h', 'm.0zj22vc', 'm.0zvfhkb', 'm.0zvc0z7', 'm.0zvgg5p', 'm.0zsclh4', 'm.0zv46zm', 'm.0zklkdl', 'm.0_jt5p6', 'm.0zkc2gw', 'm.0_jh98b', 'm.0zqxjvc', 'm.0zvl317', 'm.0zp7stm', 'm.0_k5_7f', 'm.0zlntld', 'm.0_hy123', 'm.0pd7fcn', 'm.0zvcwk6', 'm.0_jchhj', 'm.0zhss7z', 'm.0_7b4_4', 'm.0_j4brl', 'm.0zvhrjh', 'm.0zqmzs_', 'm.0zvjgzr', 'm.0_7234b', 'm.0zvg_9y', 'm.010xrcv1', 'm.0zk09kw', 'm.0zksllg', 'm.0zv9jy6', 'm.0_jb0n8', 'm.0gdjwh7', 'm.0zj78m1', 'm.0zv9_30', 'm.0zv48td', 'm.0_65nl4', 'm.0gdjwt4', 'm.0zp4f_l', 'm.0zshf14', 'm.02xbdck', 'm.0271938', 'm.0zsk0n7', 'm.0zsh94g', 'g.122bxplw', 'm.0zhkncb', 'm.0zv7s7l', 'm.0zv8gc0', 'm.0zsm4l7', 'm.0zxtc9t', 'm.04cwnbx', 'm.0zqfznl', 'm.0gctgpm', 'm.0zsjdmq', 'm.03d82l9', 'm.0gctgxr', 'm.0_jkv2b', 'm.0_jwpdc', 'm.0zsm553', 'm.0_j2wm8', 'm.010zp_k7', 'm.0_k7jrj', 'm.0_75zc1', 'm.0_j5v7p', 'm.0_6np4d', 'm.0zhmvpz', 'm.0_jrc1v', 'm.0zvr653', 'm.0gctgty', 'm.0_h_tyn', 'm.0zvqf1v', 'm.0zl84x2', 'm.0_6h3ck', 'm.0_kh0xh', 'm.0zvh1qq', 'm.0zvrl6f', 'm.0zsjjhl', 'm.0_jm_x6', 'm.0_6pd78', 'm.0gcwxn7', 'm.0zlx8ty', 'm.0_6nqdt', 'm.0_jpgcp', 'm.0zvlk8q', 'm.0_j56z7', 'm.0_js2c2', 'm.0zvh812', 'm.0zqlyzk', 'm.0zsjghw', 'm.0zvr65g', 'm.0zx9jjj', 'm.0zhywqf', 'm.0gdjw5b', 'm.0zsnbcw', 'm.0dryn0m', 'm.047td29', 'm.03c2wb1', 'm.0_kdg9m', 'm.0zsm3q_', 'm.0_66gn_', 'm.0zvcnkt', 'm.0zvcw2d', 'm.0_66r3j', 'm.0_6d90q', 'm.0zld9tx', 'm.0_jzgc1', 'm.0zvlmr9', 'm.0zhb9lb', 'm.0_hz3h2', 'm.0zqhgwg', 'm.0zvgg74', 'm.0_jrb0n', 'm.0zvgznj', 'm.027ltlc', 'm.0zh4t1x', 'm.0_jtl45', 'm.0_htrhs', 'm.0_6q841', 'm.0zq9xcx', 'm.0zvm4y6', 'm.0_kj8cq', 'm.0zphdb5', 'm.0zp_kv0', 'm.0zjjt2l', 'm.0zshy90', 'm.0zsp7j0', 'm.0_6jpg7', 'm.0_jwlfl', 'm.0gdjwsb', 'm.0zvkgs6', 'm.0_hv0zr', 'm.0zp7c05', 'm.0zx2c1l', 'm.0zvbjpj', 'm.0zsd9m4', 'm.0zjnn4t', 'm.0_k7_83', 'm.0zsdcb_', 'm.02qyp74', 'm.0_kdclb', 'm.0zsd1pg', 'm.0zqbfvd', 'm.0_7rtmq', 'm.0zxj7gb', 'm.0b6lsc7', 'm.0zm1y8k', 'm.0zv5f5s', 'm.0zv873r', 'm.0zx7zdt', 'm.0_hz4df', 'm.0zvmz0j', 'm.0zsk1c8', 'm.03c2vm3', 'm.0zp4c_5', 'm.0zvp07j', 'm.0_jg9bc', 'm.0_6btk_', 'm.0zsc49m', 'm.0zvmx6n', 'm.0_603c4', 'm.02pl2sr', 'm.0zvs_ty', 'm.0_6nx5f', 'm.010yv41_', 'm.0zldq44', 'm.0_6f6qm', 'm.0zxr3f2', 'm.0zv9d2m', 'm.0zsqwtj', 'm.0_63ml2', 'm.0zv8tp5', 'm.0zsm5b4', 'm.0_hzd3w', 'm.02612wf', 'm.0zm3sy6', 'm.0gctgp9', 'm.0_6hwmv', 'm.0_k5h1b', 'm.0zsp37c', 'm.0gdphzq', 'm.0zskwrz', 'm.0zskcgc', 'm.0_7bm2y', 'm.0_6cv0q', 'm.0zx8kkr', 'm.0zk9vgt', 'm.0zpr9x8', 'm.0zv4v57', 'm.0zvk__v', 'm.0zsj1sh', 'm.0zsh4t9', 'm.0zvd87n', 'm.05zrsg_', 'm.0zppnx5', 'm.04csqyj', 'm.0zh3j8j', 'm.060wj1', 'm.0zvc_91', 'm.0_6cv43', 'm.0zsjwcr', 'm.0zsjbl_', 'm.0zkdxqh', 'm.0_6cvz6', 'm.0gdjw7h', 'm.0zxttjn', 'm.0_j4v93', 'm.0zkkvnd', 'm.05zyy17', 'm.010zg4h2', 'm.0_6pfl4', 'm.0gcwxlt', 'm.0zlxw04', 'm.0zv92ck', 'm.0zvg63w', 'm.0zvc8k8', 'm.0zsbd5c', 'm.012rs0rl', 'm.0zv8c2g', 'm.0_jmxr6', 'm.0_hsn64', 'm.0zvh7hz', 'm.0_7s309', 'm.0_k80_t', 'm.0_klsjb', 'm.0_kmdzc', 'm.0zvpt8b', 'm.0zvgk49', 'm.04f0b80', 'm.0zshlyh', 'm.0_6kdk6', 'm.0zvb6b0', 'm.027p4hb', 'm.0zvcrhr', 'm.0zkd68l', 'm.0zscssg', 'm.0_6pkp2', 'm.0zxhh5n', 'm.0zvc0fc', 'm.0zsh0kw', 'm.0_687jm', 'm.0zpnz8y', 'm.012rmc_6', 'm.0zsjgw7', 'm.0_kch83', 'm.0zpxl0n', 'm.0zkn057', 'm.0zvq0cg', 'm.010sktc9', 'm.0zqgzgr', 'm.0zv6d56', 'm.0zvmhj1', 'm.0zj170z', 'm.0zv5r3q', 'm.0zv9q01', 'm.0_j6b9s', 'm.0zlrrg1', 'm.0112d2jj', 'm.0zkdlml', 'm.0zvbmcc', 'g.1235wfk4', 'm.0272hyp', 'm.0zv67d0', 'm.0zl17yh', 'm.0zvr5nn', 'm.0zv9_1c', 'm.0zv4wxn', 'm.0_6c_87', 'm.0zsf004', 'm.0_k8y_9', 'm.0_jv_js', 'm.0_jkn2d', 'm.0zh304l', 'm.0zv5njx', 'm.0_j1mnv', 'm.0zpqxy7', 'm.0_hx8q9', 'm.0zkm3nk', 'm.0zvq4x8', 'm.0zvmzz5', 'm.0_k7r_6', 'm.093r39', 'm.0zjkxm2', 'm.0_5yjl4', 'm.0zr6y77', 'm.0zvl3nk', 'm.0zvhv9n', 'm.0gctgwr', 'm.0_67897', 'm.08pp46', 'm.0zsgqvj', 'm.0zs8qr2', 'm.0zv6svj', 'm.0zvnn01', 'm.0zv7839', 'm.0_k1p42', 'm.0gdjwvk', 'm.0zvkcpr', 'm.0zsbz63', 'm.0zxx6xk', 'm.0_5yytx', 'm.0zvll12', 'm.0zv9kx_', 'm.0_j8y9s', 'm.0_hnyjz', 'm.0zr3x3t', 'm.0zptwrx', 'm.0_frzx1', 'm.0zxndyj', 'm.0_6q7v2', 'm.0zsdbc7', 'm.0zxhhj7', 'm.0_k2hjr', 'm.0_j5qkf', 'm.0_6hdm9', 'm.0zvmy33', 'm.0zskmjy', 'm.0j7j269', 'm.0zp6qyb', 'm.0zqsknl', 'm.0zv9bjr', 'm.0zv967p', 'm.0_jw39s', 'm.0zqtbr2', 'm.0zs8kpt', 'm.0zlwkdd', 'm.0zvpf7_', 'm.0136h9xq', 'm.026dh9w', 'm.0zlpc6t', 'm.0zv4fzg', 'm.0_j8scb', 'm.0zpsp0v', 'm.0zvv0q1', 'm.0_hqwf4', 'm.0_k7xc4', 'm.0zshrhb', 'm.0zjgqjt', 'm.0zv5hdx', 'm.0281swx', 'm.0zv7r83', 'm.0zhw_6d', 'm.0zv6vhc', 'm.0_j50zw', 'm.0zv7gg8', 'm.0zv78_r', 'm.0_hv9l3', 'm.0509_d', 'm.0gcwxqs', 'm.0zv61hk', 'm.0zv6mlt', 'm.0zsh0k3', 'm.0zjmxll', 'm.0_jmslh', 'm.0zvl80t', 'm.0zqzzjs', 'm.0zv7t_9', 'm.0zvszzx', 'm.0zvm_94', 'm.0zkqpvg', 'm.0zv4p06', 'm.0_jzccw', 'm.05cgkm', 'm.0zxvq8b', 'm.0zvfnjf', 'm.0_k1cv9', 'm.0zvmngk', 'm.0111sz27', 'm.0zvr1_r', 'm.0_7wbs8', 'm.0zsnkng', 'm.0zx8vfg', 'm.0zvm26v', 'm.0_k2w2c', 'm.0_j5zvl', 'm.0_6nqg3', 'm.0zv686g', 'm.0_hvgyl', 'm.0gctghv', 'm.0zqthnq', 'm.0zr2nkk', 'm.0zqw_pt', 'm.0zlsxz2', 'm.0zsjyhn', 'm.0_jy26g', 'm.0_hq661', 'm.0zvm8f4', 'm.0_jj3vt', 'm.0_j_h00', 'm.0zspwpm', 'm.0gdpj1r', 'm.0zs9jln', 'm.0zq_2js', 'm.0zvcrnw', 'm.0zq5yvd', 'm.0gdpj2x', 'm.0zvbbhm', 'm.070lyg', 'm.0h42bj', 'm.0zvpmxw', 'm.0zx88h6', 'm.0zv917z', 'm.0_6nzl8', 'm.0zp7rh5', 'm.0_jssrj', 'm.0_hv0n5', 'm.0_kclgl', 'm.0zvcq2c', 'm.0zslbt2', 'm.0zshs5p', 'm.0zvc277', 'm.0zq797c', 'm.0_hzd24', 'm.0_7j_vd', 'm.0zkb_rb', 'm.0zsh_rj', 'm.0gctgnp', 'm.0_6mq_1', 'm.0_6nfht', 'm.0zsk9vy', 'm.0_j2t2d', 'm.0_k1zfy', 'm.0zv9b1p', 'm.0_7m01t', 'm.0_jzj6t', 'm.0zhdq_k', 'm.0_k8585', 'm.0zvdyl8', 'm.0gcwxnk', 'm.027197r', 'm.01v8ts', 'm.0zvczyv', 'm.0_jm48l', 'm.0_kc4xt', 'm.0zv7f56', 'm.0gctgj_', 'm.0zvm149', 'm.0_k7tcp', 'm.0gctgn_', 'm.0zsm3b4', 'm.0zsqks3', 'm.0zkbdlp', 'm.0zk28h0', 'm.0_k042l', 'm.02z33nw', 'm.0zv4kl1', 'm.0gctgyr', 'm.0zsn9vs', 'm.0_jqmjr', 'm.0_6p0m3', 'm.0_jh08d', 'm.0_j3jj7', 'm.0zvfzkt', 'm.0_77zpg', 'm.0zv4qnl', 'm.0zq5470', 'm.0gdjwrq', 'm.0zsjynd', 'm.0zvjr91', 'm.0_hyl15', 'm.0_jwycf', 'm.0zhxggl', 'm.0zvnxj3', 'm.0zvr58j', 'm.0_kdvb9', 'm.0_hyh80', 'm.0zkwzgb', 'm.0_kl2b_', 'm.0zp5gxt', 'm.0gdjwfb', 'm.0zvqqnh', 'm.0zv7x5h', 'm.0zlwbzp', 'm.0zqwkmf', 'm.0zvb_6d', 'm.010yzhb_', 'm.0_jy398', 'm.0zlhgvj', 'm.0_jt5m7', 'm.0zsljt_', 'm.04gm1w5', 'm.0zsq1nx', 'm.0_5zm1r', 'm.0_6797v', 'm.010v18r4', 'm.0zsnq7_', 'm.0zv44tc', 'm.0_hwy34', 'm.0zsgdtw', 'm.0zv5482', 'm.0_km0pr', 'm.0zl9xd1', 'm.0_6n8s8', 'm.0zvf2n7', 'm.0zxxs9k', 'm.0zh6cr5', 'm.093r4b', 'm.0zqldnc', 'm.0zvqf0b', 'm.0zsj3xx', 'm.0_kgnnw', 'm.0zvcjb3', 'm.0zvrvxc', 'm.0_j9ymm', 'm.0zvhk4y', 'm.0_jcd8n', 'm.0zx715q', 'm.01vnc8', 'm.0zsgxk4', 'm.012pkms8', 'm.0zl5xgs', 'm.0zv8l5n', 'm.0zvcn9m', 'm.0zpzg5l', 'm.0_jx27k', 'm.0zvlxfv', 'm.0zsd70y', 'm.0zskvzf', 'm.010_2s39', 'm.0zvs011', 'm.0zvdkwx', 'm.0zsdx6j', 'm.0zvc3n1', 'm.0102jhf9', 'm.0zhgsrh', 'm.0j43t42', 'm.0zvqb2g', 'm.0_k0f1h', 'm.0_jwb1q', 'm.010rq_ds', 'm.0zvgtjg', 'm.0_jms1l', 'm.0pd7f7c', 'm.0zx5ryj', 'm.0zxpntg', 'm.01326119', 'm.0_j9fgn', 'm.0_hnybx', 'm.0zsb8ly', 'm.0_hy6ff', 'm.0zvn9rt', 'm.0zr0xnp', 'm.0_678df', 'm.0_kgn3h', 'm.0zvnqvd', 'm.0zqn246', 'm.0_kknxt', 'm.03c2fb3', 'm.0_jzglv', 'm.0zxj0b3', 'm.0_k7v7x', 'm.012rs1yn', 'm.0zkmn74', 'm.0zpn84l', 'm.0zr33_n', 'm.0zshgjr', 'm.0zj9v48', 'm.0gctgh9', 'm.0_hr9fp', 'm.0gctghk', 'm.0_jb406', 'm.0zv65ps', 'm.0_jzr19', 'm.0zpzvvv', 'm.0zvbc2m', 'm.0_j_2n4', 'm.0zvd1_2', 'm.0_6p0fw', 'm.0zvclt7', 'm.027067w', 'm.0zq43hs', 'm.0zjh6j6', 'm.0zsg81f', 'm.0zv5sd_', 'm.0gdjwg0', 'm.02612sb', 'm.0zh7_4z', 'm.0zqhbpx', 'm.0zj0w5h', 'm.0_kl48s', 'm.0zqxjvj', 'm.0gdjw8d', 'm.0zvnqzc', 'm.05p2482', 'm.0gdjw60', 'm.0zkrwc5', 'm.0_j6829', 'm.0zk593z', 'm.0_k8g5x', 'm.0zv4fbs', 'm.0650nn', 'm.0zh616r', 'm.0_jz1hv', 'm.04jm_px', 'm.0_hw6m1', 'm.0zx4rgt', 'm.0zvdd4t', 'm.0zvr5rg', 'm.0zv5fd9', 'm.0zp7p5q', 'm.02qj03k', 'm.0zjt0lb', 'm.0zshl1d', 'm.012rmfq2', 'm.0zkpfnb', 'm.0zshzqf', 'm.0zv463w', 'm.0zh8zg7', 'm.0_jlmwx', 'm.0zpl05p', 'm.0_5zzn1', 'm.0_6nzwm', 'm.0_j8rjg', 'm.0_hwq3x', 'm.0_k4wp1', 'm.0_j3fc_', 'm.0_jq800', 'm.0zs8v0s', 'm.06571n', 'm.0zphw6n', 'm.02pl1wj', 'm.0_j4x_b', 'm.0zjk847', 'm.0_k5tlv', 'm.0zqhwvg', 'm.0pd7f9v', 'm.0zvcwyc', 'm.0zjzqqy', 'm.0_jf2lf', 'm.0zq4fzq', 'm.0_hs5rn', 'm.0_6dk_9', 'm.06fhy0', 'm.0_j5ttp', 'm.0zp8646', 'm.0_jf1c3', 'm.0_hvq9m', 'm.0_6pwrl', 'm.0_6pxbf', 'm.0zvmkxn', 'm.0zvkwmd', 'm.0_6bp8p', 'm.0zjrgg0', 'm.0zsltdr', 'm.0_6fxlh', 'm.0gdphzz', 'm.0zv7sbj', 'm.0zvgll1', 'm.0_j_43g', 'm.0zv9frc', 'm.076_vg', 'm.0zq9c1c', 'm.0zxj8d1', 'm.0zvjg7y', 'm.0zv4g6z', 'm.0_6p7gj', 'm.0_j4zg5', 'm.0zv4x13'}}\n",
      "WebQTest-1891 -----> {'?x': {'m.0df4f', 'm.0cswl', 'm.01krx6'}}\n",
      "WebQTest-1892 -----> {'?x': {'m.0jt52pz', 'm.010fdzhp'}}\n",
      "WebQTest-1893 -----> {'?x': {'m.04phzg'}}\n",
      "WebQTest-1894 -----> {'?y': {'m.0ncxm4r', 'm.0gggrzr', 'm.0ncxlxp', 'm.0hpgh_h', 'm.0hpgj2z'}, '?x': {'m.05fc8c9', 'm.02_cjl', 'm.03_wkh'}}\n",
      "WebQTest-1895 -----> {'?x': {'m.0j8pq'}}\n",
      "WebQTest-1896 -----> {'?x': {'m.0c9rw5', 'm.0j729', 'm.01d9r3'}}\n",
      "WebQTest-1897 -----> {'?y': {'m.065hpgf', 'm.065hpxv', 'm.065hpxp', 'm.065hpxj', 'm.065hp2g', 'm.065hpgl'}, '?x': {'m.065hkgg', 'm.065hkg8', 'm.065hkgw', 'm.065hkgp', 'm.065hkfx', 'm.065hkg2'}}\n",
      "WebQTest-1898 -----> {'?y': {'m.applynewint574'}, '?x': {'m.026q0lb', 'm.02m29p', 'm.03pcvr', 'm.02nw87f', 'g.120yrd_6', 'm.028b1c8', 'g.12245v14', 'm.05sr4zg', 'm.05sr4_d', 'm.05srj40', 'm.05ss3k_', 'm.05sr4_s', 'm.01sxhc', 'm.03n6jv', 'm.05sr4x5'}}\n",
      "WebQTest-1899 -----> {'?y': {'m.applynewint575'}, '?x': {'m.025pyr'}}\n",
      "WebQTest-1900 -----> {'?y': {'m.applynewint517', 'm.applynewint461', 'm.applynewint292', 'm.applynewint191', 'm.applynewint447'}, '?x': {'m.0f6_x', 'm.03xblf'}}\n",
      "WebQTest-1901 -----> {'?x': {'m.0clvs5s'}, '?y': {'m.applynewint576'}}\n",
      "WebQTest-1902 -----> {'?x': {'1889-04-20'}}\n",
      "WebQTest-1904 -----> {'?x': {'m.03wm34', 'm.0j28sdt', 'm.04d135', 'm.050mtz', 'm.050n0y', 'm.027t71h', 'm.02xmrp', 'm.04htb5', 'm.0c3cp2', 'm.029fnx', 'm.0fpmfg', 'm.050my1', 'm.03xrf5', 'm.0b5g4p', 'm.038bv6', 'm.06bxs4', 'm.03cspcp', 'm.0gln9p', 'm.027r6hr', 'm.05c25f2', 'm.03l1zc', 'm.03q1hw', 'm.03spbl', 'm.030pkm', 'm.039xmp', 'm.03sm22', 'm.04qrhq', 'm.04_mbv', 'm.038gvs', 'm.04jny9', 'm.050m_5', 'm.0130ft', 'm.033h7k', 'm.020fp1', 'm.02jnft', 'm.02wl1b'}}\n",
      "WebQTest-1905 -----> {'?x': {'m.05qhw', 'm.05mtdhz', 'm.021p2p'}}\n",
      "WebQTest-1907 -----> {'?x': {'m.04lt7_'}}\n",
      "WebQTest-1909 -----> {'?x': {'m.02ztjwg', 'm.01wgr', 'm.06b_j', 'm.0349s', 'm.01bkv', 'm.06zvx', 'm.0cjk9', 'm.04306rv', 'm.012psb', 'm.013hyy', 'm.0k0sb', 'm.0k0sv', 'm.05qqm'}}\n",
      "WebQTest-1910 -----> {'?x': {'m.0g251'}}\n",
      "WebQTest-1911 -----> {'?x': {'m.05zl0'}, '?y': {'m.0n0klvz', 'm.0n0mxgb', 'm.02h52nm'}}\n",
      "WebQTest-1912 -----> {'?x': {'m.0gk4g', 'm.01_qc_'}}\n",
      "WebQTest-1913 -----> {'?y': {'m.0n1n2gl'}, '?x': {'m.06t2qb'}}\n",
      "WebQTest-1914 -----> {'?y': {'m.0tlr44k'}, '?x': {'m.080b2d'}}\n",
      "WebQTest-1915 -----> {'?y': {'m.applynewint577'}, '?x': {'m.0bvjpw', 'm.064r775', 'm.016vf7'}}\n",
      "WebQTest-1916 -----> {'?x': {'m.0fc_9'}}\n",
      "WebQTest-1917 -----> {'?x': {'m.029wv', 'm.0nf_'}}\n",
      "WebQTest-1919 -----> {'?y': {'m.applynewint578'}, '?x': {'m.0c9c0'}}\n",
      "WebQTest-1920 -----> {'?x': {'m.025sppp', 'm.04gc2', 'm.0289fz', 'm.012t_z', 'm.0fj9f'}}\n",
      "WebQTest-1921 -----> {'?x': {'m.0ndwhc3', 'm.015h7', 'm.09shn', 'm.01522', 'm.01jjk', 'm.0cr7m', 'm.0k_hb'}}\n",
      "WebQTest-1922 -----> {'?y': {'m.applynewint562'}, '?x': {'m.0fkvn', 'm.0dq3c', 'm.060c4', 'm.0621v9', 'm.09tm8y'}}\n",
      "WebQTest-1923 -----> {'?y': {'m.03l1y77', 'm.07ykl5g', 'm.010tw6z6', 'm.04g4mcc', 'm.0w2y18w', 'm.0dls5z5', 'm.0w1x035', 'm.08cvslc', 'm.0t4tcrz', 'm.08c_hc1', 'm.0vpd23v', 'm.04g4mj1', 'm.0gvn_qx', 'm.012zkz2h', 'm.0gxh7m3', 'm.04g4mbv', 'm.07ylsnl', 'm.0h0_35j'}, '?x': {'m.02x3lt7', 'm.042w0v2', 'm.0crsmk2', 'm.0bc5ny', 'm.027pfg', 'm.05h43ls', 'm.0cs2t3x', 'm.064qvcw', 'm.0swngjg', 'm.0w1x037', 'm.03ck042', 'm.080gfc8', 'm.0cmddrx', 'm.0g56xqy', 'm.07ykkx5', 'm.010ls0tb', 'm.06fcqw'}}\n",
      "WebQTest-1925 -----> {'?y': {'m.applynewint579'}, '?x': {'m.04zgntd'}}\n",
      "WebQTest-1926 -----> {'?x': {'2011-03-19'}}\n",
      "WebQTest-1928 -----> {'?y': {'m.0z3t_lb', 'm.0kc2_tr', 'm.0z6bvmq', 'm.0z3t_gj'}, '?x': {'m.0lr76', 'm.0bmbqg2'}}\n",
      "WebQTest-1929 -----> {'?x': {'m.02qtwx', 'm.0281qh', 'm.08dswn', 'm.04695xf', 'm.02gms9', 'm.0jd4j', 'm.0dmnx6', 'm.0zv_', 'm.04gdr', 'm.01sp2r', 'm.01vgd5', 'm.07kb30y', 'm.0k0kz', 'm.0dt3ml', 'm.0gtxh', 'm.0383f3', 'm.03ydrj', 'm.04kshc3', 'm.0kx9d', 'm.04cj6k', 'm.0gsp5', 'm.0f32p', 'm.042x0k', 'm.0gxqj', 'm.01q_np', 'm.0k3xf', 'm.04s_s9l', 'm.03q9jq', 'm.02j81', 'm.0m6_0', 'm.0f3b9'}}\n",
      "WebQTest-1932 -----> {'?x': {'m.0l_j_', 'm.0h6dy'}}\n",
      "WebQTest-1933 -----> {'?y': {'m.04_bzh1'}, '?x': {'m.09th87'}}\n",
      "WebQTest-1934 -----> {'?x': {'m.03b12'}}\n",
      "WebQTest-1935 -----> {'?x': {'m.01jsn5'}, '?y': {'m.040ggtj', 'm.04mg02t'}}\n",
      "WebQTest-1936 -----> {'?x': {'m.04j7ml'}}\n",
      "WebQTest-1937 -----> {'?x': {'m.016wtf', 'm.040vc4s'}}\n",
      "WebQTest-1938 -----> {'?y': {'m.applynewint580'}, '?x': {'m.0r26s'}}\n",
      "WebQTest-1939 -----> {'?x': {'m.0g3y9q', 'm.018wl5', 'm.01q20'}}\n",
      "WebQTest-1940 -----> {'?x': {'m.0d05l6', 'm.055v4c', 'm.0jfd'}}\n",
      "WebQTest-1941 -----> {'?x': {'m.06cx9', 'm.0c9rw5', 'm.01d9r3', 'm.01fpfn'}}\n",
      "WebQTest-1942 -----> {'?x': {'m.019x_p', 'm.0jfzc', 'm.012bk', 'm.01html', 'm.039b_q', 'm.0kvhz', 'm.0203v', 'm.01czvz', 'm.0d58h', 'm.01tp58', 'm.01cw71', 'm.0b_zw', 'm.0cj84', 'm.0hspy', 'm.0kww1', 'm.0kwtd', 'm.036df9', 'm.0c_8s', 'm.0lf35', 'm.056xs', 'm.08849'}}\n",
      "WebQTest-1943 -----> {'?x': {'m.035yc3', 'm.01wtr5'}}\n",
      "WebQTest-1944 -----> {'?x': {'m.056_y'}}\n",
      "WebQTest-1946 -----> {'?x': {'m.04krl2', 'mx'}}\n",
      "WebQTest-1947 -----> {'?x': {'m.01_h4b'}}\n",
      "WebQTest-1950 -----> {'?x': {'m.0lbp_'}}\n",
      "WebQTest-1952 -----> {'?x': {'m.058wp'}}\n",
      "WebQTest-1954 -----> {'?x': {'m.02hxc3j', 'm.02ztjwg', 'm.012v8', 'm.01h2j_', 'm.019yz7', 'm.06b_j', 'm.0cjk9'}}\n",
      "WebQTest-1955 -----> {'?y': {'m.0hn41p5', 'm.0hn40zx', 'm.0hn41ss', 'm.0hn42k4', 'm.0hn42d3', 'm.0hn41jw', 'm.0hn41hf', 'm.0hn41f_', 'm.0hn41f8', 'm.0hn42kw', 'm.0hn41qm', 'm.0hn42qx', 'm.0hmtgn7', 'm.046x3d5', 'm.0hn35g5', 'm.0hn4272', 'm.0hn41mr', 'm.0hn429z', 'm.0hn42cd', 'm.0hn4246', 'm.0hn42dv', 'm.0hn410b', 'm.0hmss6t', 'm.0hn34y3', 'm.0hn415c', 'm.0hn41zj', 'm.0hn42m9', 'm.0hn418z', 'm.0hn412h', 'm.0hn427t', 'm.0hn42rm', 'm.0hn42g_', 'm.0hmtlfr', 'm.0hn41s1', 'm.0hn41xc', 'm.0hn41kl', 'm.0hn40xy', 'm.0hn41wn', 'm.0hmslnj', 'm.0hn42n0', 'm.0hn42bp', 'm.0hn355f', 'm.0hn40wm', 'm.0hn41th', 'm.0hn4297', 'm.0hn42pg', 'm.046x3dz', 'm.0hn413y', 'm.0hn35kc', 'm.0hn41c3', 'm.046x3fq', 'm.0hn424y', 'm.0hn425n', 'm.0hn40yl', 'm.0hn4111', 'm.0hn34gb', 'm.0hn41gq', 'm.0hn41cv', 'm.0hn416t', 'm.0hn41ng', 'm.0hn41m0', 'm.0hn349y', 'm.0hmtlf9', 'm.0hn4136', 'm.046x3c0', 'm.0hn41v6', 'm.0hn428j', 'm.0hmtbm8', 'm.0hn42fk', 'm.0hn42sb', 'm.0hn420m', 'm.0hn40_m', 'm.0hn41j4', 'm.0hn40z7', 'm.0hn41dk', 'm.0hn41rb', 'm.0hn40vz', 'm.0hn41yt', 'm.0hmss3h', 'm.0hn4221', 'm.0hn42ll', 'm.0hn41px', 'm.0hn419p', 'm.0hn422s', 'm.0hn4187', 'm.0hn42hq', 'm.0hn42g8', 'm.0hn34h0', 'm.0hn41_7', 'm.046x3dq', 'm.0hn347s', 'm.0hn41_x', 'm.0hn41y2', 'm.0hn4162', 'm.0hn40v7', 'm.0hn417j', 'm.0hn42q5', 'm.046x3fg', 'm.0hn42jf', 'm.0hn423h', 'm.0hn42nr', 'm.05lwk8w', 'm.0hn41bd', 'm.0hn42t1', 'm.0hn40x8', 'm.0hn426c', 'm.0hn421b', 'm.0hn411s', 'm.0hmtfkd', 'm.046x3bs', 'm.0hn41l9', 'm.0hn34k7', 'm.0hn3555', 'm.0hn42w6', 'm.0hn41vy', 'm.0hn42vh', 'm.046x3cy', 'm.0hn42ts', 'm.0hn35tx', 'm.0hn42wy', 'm.0hn414n', 'm.applynewint64', 'm.0cv2v4z', 'm.046x3f6'}, '?x': {'m.01_4j', 'm.0199pk', 'm.016m0v', 'm.06lnfm', 'm.019s7r', 'm.04gnxk', 'm.066vhq', 'm.0166zk', 'm.06lvrr'}}\n",
      "WebQTest-1956 -----> {'?x': {'m.06bnz'}}\n",
      "WebQTest-1957 -----> {'?y': {'m.03jqc1n'}, '?x': {'2005-09-25'}}\n",
      "WebQTest-1958 -----> {'?x': {'m.013l1h'}}\n",
      "WebQTest-1960 -----> {'?x': {'m.03by199'}}\n",
      "WebQTest-1961 -----> {'?x': {'m.025rvv7'}}\n",
      "WebQTest-1962 -----> {'?x': {'m.02zj58', 'm.02bjrlw', 'm.05zjd'}}\n",
      "WebQTest-1963 -----> {'?x': {'m.06v_1nj'}}\n",
      "WebQTest-1964 -----> {'?y': {'m.0jsxq4'}, '?x': {'m.04__f'}}\n",
      "WebQTest-1965 -----> {'?y': {'m.0y7rs3h', 'm.0qst5_z'}, '?x': {'m.08vr94', 'm.024my5', 'm.0fm5ld'}}\n",
      "WebQTest-1966 -----> {'?x': {'m.0698p22', 'm.05pskf', 'm.06n8gzr', 'm.05f3_5v', 'm.04t39r_', 'm.0bqqyp6', 'm.04t39qr', 'm.06dplrp', 'm.06gxb0v', 'm.010sfr1g', 'm.06jbq8m', 'm.06p4t1s', 'm.02pzzmw', 'm.06f6v8g', 'm.06hxnc2', 'm.0bhjdmn', 'm.0f0fsbb', 'm.05kdgws', 'm.069j1zn', 'm.07kbf6f', 'm.06h96f4', 'm.06k7t44', 'm.06mc3j5', 'm.06fkngp', 'm.06l7w7c', 'm.0bhjdm8', 'm.05nhwt', 'm.04t39qh', 'm.0f0ccfx', 'm.06km_gd', 'm.06qxf6m', 'm.0c1t1nb', 'm.05f3187', 'm.06nhv9s', 'm.06c2mtr', 'm.06jj8zx', 'm.05kdgx0', 'm.06px17_', 'm.0f0c7c3', 'm.06ndlh7', 'm.0c1t1m6', 'm.06mwj8z', 'm.067q6ks', 'm.05bktj1', 'm.0f0cnxy', 'm.06c6q4x', 'm.069mjtn', 'm.0f0c2xv', 'm.06fdzsg', 'm.06fp6__', 'm.06h4s28', 'm.06lcpyv', 'm.06n4jwv', 'm.0d_3d1b', 'm.04t39p_', 'm.06dv5j2', 'm.06hv624', 'm.05bpx28', 'm.06mmypb', 'm.06cbh6d', 'm.0f0gnbh', 'm.06pw5vt', 'm.04t39s7', 'm.0hhv3fy', 'm.06j8lmr', 'm.06n65g8', 'm.06msmgd', 'm.010rjsvs', 'm.067jgzq', 'm.0d_472q', 'm.068zv2w', 'm.068kgmb', 'm.0682dh_', 'm.06dhg29', 'm.06j18wj', 'm.0c1t1ly', 'm.06g77fm', 'm.0f0jl1p', 'm.06jw00r', 'm.06hggft', 'm.0f0jl1d', 'm.0c1t1ms', 'm.0bhjdm2', 'm.06mx6qb', 'm.06dgzf9', 'm.06c9lwy', 'm.0f0fhpx', 'm.06syjt2', 'm.06hz4px', 'm.06cjxqf', 'm.06jcl9b', 'm.0kfsvj7', 'm.0bqqynz', 'm.06by4cp', 'm.06rg6nf', 'm.06dp_0n', 'm.0c1t1ml', 'm.06qs0k_', 'm.06jygl6', 'm.06n8zlx', 'm.07kd9wf', 'm.0c1t1n1', 'm.06kmynd', 'm.06k4hmf', 'm.01qq45', 'm.06cnkd2', 'm.06cvnt5', 'm.0685fg8', 'm.0f0jl1z', 'm.069gx8t', 'm.0f0bz0f', 'm.06q9dnn', 'm.03d86kx', 'm.0c1t1lr', 'm.02l2z6', 'm.0f0hdk1', 'm.06czk9t', 'm.06r9mwf', 'm.06nxw56', 'm.04t39rr', 'm.06fz4ys', 'm.0bhjdmk', 'm.0f0dvyt', 'm.06tjzfj', 'm.06tz8bh', 'm.06qr9xq', 'm.0f0g5py', 'm.0c1t1m3', 'm.06r08pz', 'm.0f0c_dr', 'm.06ggf11', 'm.06gx9nb', 'm.06jc2s7', 'm.06dhg2k', 'm.0cc54s', 'm.06hks6x', 'm.06sh5th', 'm.0c1t1mh', 'm.0c1t1mz', 'm.06m68vy', 'm.0f0dh7c', 'm.06bk806'}}\n",
      "WebQTest-1967 -----> {'?x': {'m.0k0sb'}}\n",
      "WebQTest-1968 -----> {'?x': {'m.051_y'}}\n",
      "WebQTest-1969 -----> {'?y': {'m.0k06zj4', 'm.0j2gfzd', 'm.0k06zjd', 'm.0125nmsc', 'm.0k06zhx', 'm.0w7q4pg', 'm.0115v9w9'}, '?x': {'m.0jm5b'}}\n",
      "WebQTest-1971 -----> {'?y': {'m.0cgbbzj', 'm.0hlb107', 'm.0jsg_l', 'm.02vb647', 'm.0461b6l', 'g.11b6gjwd97', 'm.0gkmpt_', 'm.0j_s8f', 'm.04djvc_', 'm.0jv821', 'm.010vzyjh', 'm.040myhx', 'm.0k752_', 'm.04ls6zm', 'm.052g8s0', 'm.0772tb3', 'm.012zk_lm', 'm.05nxqvx', 'm.0k63hj', 'm.0dwh057', 'm.04z8g6m', 'm.0gw4gwy', 'm.03l0gj5', 'm.0p81n5m', 'm.03l4ljz', 'm.0cs7j6b', 'm.0w3s13j', 'm.0k54ww', 'm.0jv_2_', 'm.0nfldlw', 'm.02vc80n', 'm.0gf8pl7', 'm.0w17vsg', 'm.0vyml7m', 'm.0y50kwx', 'm.02vbwbb', 'm.0gxcmrt', 'm.0y50m47', 'm.0k2fsr', 'm.0cs9qgp', 'm.0hn_g0p', 'm.0gwp_kx', 'm.0jx2t1', 'm.0jttwb', 'm.02vckqy', 'm.0y5t5k5', 'm.02vc323', 'm.0nfld5g'}, '?x': {'m.05p2gz3', 'm.01v1ln', 'm.0v3yjg1', 'm.0292qb', 'm.05h4_qt', 'm.04f10b5', 'm.02pjkz7', 'm.0hz7mx7', 'm.05lm43', 'm.09210y', 'm.01sxdy', 'm.04yb52q', 'm.0m_cnk_', 'm.04f52jw', 'm.0dlk_qn', 'm.05dj6d', 'm.03c6w7q', 'm.04j04w7', 'm.04jdgq', 'm.0bh8x1y', 'm.0f0w6n', 'm.0hnd78z', 'm.07f_t4', 'm.02vvwqg', 'm.0gmglbv', 'm.0gwp_k3', 'm.015yl2', 'm.0c1z3g', 'm.047rkcm', 'm.0124x_l1', 'm.0bwhkkw', 'm.03g_sj5', 'm.01242_', 'm.02qk3fk', 'm.0hhggp1', 'm.02r3rry', 'm.0crz6lg', 'm.0n43ym4', 'm.0w17vsj', 'm.02p1fl7', 'm.0w0l3pk', 'm.010vzxsl', 'm.047qxs', 'm.0crvp0c', 'm.0c1p6zg', 'm.06w9zfg'}}\n",
      "WebQTest-1972 -----> {'?y': {'m.applynewint581'}, '?x': {'m.0s4jk'}}\n",
      "WebQTest-1975 -----> {'?y': {'m.04ls2ch', 'm.02vbzt_', 'g.11b7sqlhrr', 'm.02vbt_9', 'm.0ncf658', 'm.0jy1jy', 'm.02t9_35', 'm.02vc3g0', 'm.04dd_x6', 'm.0k2kyf', 'm.0jz9w1', 'm.0jsp31', 'm.0k43dy', 'm.0k5_32', 'm.0jt0hy', 'm.0_w4chh', 'm.02vblnn', 'm.02nqjkv', 'm.040qpqy', 'm.0jwz4b', 'm.0gyk9gj', 'm.02nqjkd', 'm.02vbd47', 'm.0j2cp4f', 'm.0k1p60', 'm.0k74qf', 'm.0k69tf', 'm.022qj4c', 'm.02vcctn', 'm.02vc6dj', 'm.02t9__p', 'm.0jxkl1', 'm.0jtn0j', 'm.0k5b_8', 'm.0k5fdj', 'm.0k6t22', 'm.040n5v5', 'm.02xg8vf', 'm.02vc55f', 'm.04dh8n0', 'm.02vbwm7', 'm.04hvchb', 'm.0cs6rkp', 'm.02tb7zs', 'm.04ls8cv', 'm.0jzfbw', 'm.0gyk81t', 'm.0jxwg3', 'm.0k0mbz', 'm.0k5yb0', 'm.0gy42pv', 'm.0k65j0', 'm.02tb7cg', 'm.0k6xw9', 'm.0gyk9dy', 'm.0jzx81', 'm.0gyk9by', 'm.0hnh4tx', 'm.02tbdk9', 'm.02xg8vq', 'm.02vb3h3', 'm.0k0gf8', 'm.04dj92n', 'm.0k1bbm', 'm.021ymvc', 'm.02vbhtj', 'm.02vbdbx', 'm.0k8b9n', 'm.0k74sy', 'm.0bmy_nn', 'm.0jy7qw', 'm.0j33pgs', 'm.0k2lw_', 'm.0k5nrq', 'm.0k5vr2', 'm.0jzf9j'}, '?x': {'m.0crscdw'}}\n",
      "WebQTest-1976 -----> {'?y': {'m.0ngn53f', 'm.011b_szr', 'm.0ngn571', 'm.0jxzqq7', 'm.0j_yb_f', 'm.04m2440', 'm.04m2qyj', 'm.0ngn51q'}, '?x': {'m.0690ct', 'm.023fb', 'm.06zpgb2', 'm.02gys2', 'm.04kd5d', 'm.040pyq', 'm.05nwfr'}}\n",
      "WebQTest-1977 -----> {'?x': {'m.01n_g9'}, '?y': {'m.040l5fn', 'm.04m7z4n'}}\n",
      "WebQTest-1978 -----> {'?x': {'m.05p2z9b'}}\n",
      "WebQTest-1979 -----> {'?y': {'m.applynewint472'}, '?x': {'m.0q3yxb2'}}\n",
      "WebQTest-1981 -----> {'?y': {'m.applynewint582'}, '?x': {'m.05k7sb'}}\n",
      "WebQTest-1982 -----> {'?x': {'m.0ggq0m', 'm.01fsz'}}\n",
      "WebQTest-1985 -----> {'?y': {'m.0j20pg1', 'm.0j2c449'}, '?x': {'m.0jnr_'}}\n",
      "WebQTest-1986 -----> {'?y': {'m.0gx91x2', 'm.02hw79s', 'm.04j2w5z', 'm.0q_3jr0', 'm.04dgb7k', 'm.0ncxk4s', 'm.0gx91gx', 'm.0ggdh0r', 'm.02vbblr', 'm.0_w4chz', 'm.03jp9vn', 'm.0jssg1', 'm.0gx91zw', 'm.0jxw1j', 'm.03hqwg_', 'm.0gx91s4', 'm.02vd0wb', 'm.0gwhydl', 'm.0w16xb_', 'm.0w1786d', 'm.04q5_xq', 'm.0ccf42h', 'm.0gx91kn', 'm.0k0yjz', 'm.0q_3g43', 'm.0k5ynj', 'm.0gx91m5', 'm.0gw57z9', 'm.0k5hy9', 'm.02vbxj6', 'm.03js842', 'm.0k40td', 'm.04j07yd', 'm.0gx91f9', 'm.0gx91gf', 'm.02tbd5z', 'm.0bq7lwg', 'm.0cv8jyw', 'm.040nkxv', 'm.0j_tjq', 'm.03jrs92', 'm.05nr38z', 'm.09vnmny', 'm.0k2ljz', 'm.04j0v7w', 'm.02h7bc8'}, '?x': {'m.072x7s', 'm.0464d7', 'm.0cc5mcj', 'm.03y4nzy', 'm.039q43', 'm.05nyv3', 'm.02vxq9m', 'm.04j0v7m', 'm.0gx91ff', 'm.0w16xc1', 'm.09v84yn', 'm.07chxjc', 'm.0cxw2d', 'm.0cj0gy4', 'm.04jm4c9', 'm.08gsvw', 'm.03m5vzd', 'm.026v977', 'm.0nfp54s', 'm.07s6472', 'm.0847m1', 'm.0g4p4s1', 'm.07b_j6', 'm.0dgq_kn', 'm.0d6_s', 'm.011yr9', 'm.04w7rn', 'm.0w1786g', 'm.0g0wx7', 'm.02rqx5y', 'm.0413tm', 'm.0c0pwb', 'm.03r0g9', 'm.0p3rfy6', 'm.0cn_srj', 'm.026hh0m', 'm.02j48l', 'm.05p7w6k', 'm.02rb84n', 'm.048qfd', 'm.01q41m', 'm.04j07xw', 'm.05ch98', 'm.01y9r2'}}\n",
      "WebQTest-1987 -----> {'?y': {'m.0k7bw5_', 'm.0k7bw4l', 'm.0k7bw5f', 'm.0k7bw6c', 'm.0k7bw5m', 'm.0k7bw55', 'm.0k7bw5t', 'm.0k7bw65', 'm.0k7bw4z', 'm.0_yhnrs', 'm.0k7bw4s'}, '?x': {'m.01brf'}}\n",
      "WebQTest-1988 -----> {'?y': {'m.applynewint583'}, '?x': {'m.062z7', 'm.03g3w'}}\n",
      "WebQTest-1990 -----> {'?y': {'m.applynewint584'}, '?x': {'m.01nxzv'}}\n",
      "WebQTest-1991 -----> {'?x': {'m.0q76g', 'm.03pzys'}}\n",
      "WebQTest-1992 -----> {'?x': {'m.0dfcn'}}\n",
      "WebQTest-1993 -----> {'?x': {'m.02w_hsv', 'm.03d9kg', 'm.0880p', 'm.06nm1', 'm.02bjrlw'}}\n",
      "WebQTest-1994 -----> {'?y': {'m.applynewint585'}, '?x': {'m.019bnn'}}\n",
      "WebQTest-1996 -----> {'?y': {'m.0bml1m9'}, '?x': {'m.0sw62'}}\n",
      "WebQTest-1997 -----> {'?y': {'m.07ychty', 'm.09grslw', 'm.088yqvp', 'm.09041_v', 'm.098kc1v', 'm.09knbwz', 'm.09tcx4l', 'm.08nm00v', 'm.096pyx7', 'm.09rmgnk', 'm.07sh8j9', 'm.07tf9w8', 'm.09rf9m0', 'm.07vzsrg', 'm.07z2f_m', 'm.07nvr98', 'm.09k0832'}, '?x': {'m.070xg'}}\n",
      "WebQTest-1998 -----> {'?y': {'m.applynewint586'}, '?x': {'m.07wf9'}}\n",
      "WebQTest-1999 -----> {'?y': {'m.applynewint587'}, '?x': {'m.0c8wxp'}}\n",
      "WebQTest-2000 -----> {'?y': {'m.0w2d85v'}, '?x': {'m.02bpxg'}}\n",
      "WebQTest-2001 -----> {'?y': {'m.0bfpq98'}, '?x': {'m.023fb'}}\n",
      "WebQTest-2002 -----> {'?x': {'m.0598rmb', 'm.0598rm4', 'm.065qbyj'}}\n",
      "WebQTest-2003 -----> {'?y': {'m.06wkmqw', 'm.075wx86', 'm.04nlkct', 'm.09vm4qc', 'm.0bvdd_0', 'm.0cr_1cw', 'm.05tflhq', 'm.012zh67p', 'm.0crwqwg', 'm.0b7bkbk', 'm.07lgdwt', 'm.04djdr5', 'm.0gx3vhm', 'm.08p8k07', 'm.0ngxl5g', 'g.11b75j_t0l', 'm.0k24hp7', 'm.0w1yhhv', 'm.075wx7x', 'm.05z21jf', 'm.0ngxkxt', 'm.0ngxl_3', 'm.0c1sgm8', 'm.0gvwf3k', 'm.04m6lb4', 'm.0djz0r8', 'm.0k2gq35', 'm.012zgkd3'}, '?x': {'m.0fsmw2', 'm.065_t2_', 'm.0k24hpb', 'm.05pdh86', 'm.031hcx', 'm.0gx3vhy', 'm.09v9mks', 'm.0djz0rc', 'm.0ngns90', 'm.047fhg8', 'm.012sdm5f', 'm.0c1sgd3', 'm.06w67tn', 'm.0_s30t6', 'm.0gtvrv3', 'm.0bpkq4', 'm.031786', 'm.075wx89', 'm.04m_qkz', 'm.0crwqwj', 'm.04qk12', 'm.0g57n3s', 'm.0ngxkxx', 'm.03nm_fh', 'm.0j310_v', 'm.0w1yhhx', 'm.075wx7_'}}\n",
      "WebQTest-2004 -----> {'?x': {'m.019rdm'}}\n",
      "WebQTest-2005 -----> {'?y': {'m.02567sb'}, '?x': {'m.07w8hh'}}\n",
      "WebQTest-2006 -----> {'?x': {'m.0g6ff', 'm.05t0ydg'}}\n",
      "WebQTest-2007 -----> {'?x': {'m.02ztjwg', 'm.01wgr', 'm.06b_j', 'm.0349s', 'm.01bkv', 'm.06zvx', 'm.0cjk9', 'm.04306rv', 'm.012psb', 'm.013hyy', 'm.0k0sb', 'm.0k0sv', 'm.05qqm'}}\n",
      "WebQTest-2008 -----> {'?x': {'m.02k54', 'm.01znc_', 'm.047yc', 'm.07dzf', 'm.0h3y', 'm.04gqr', 'm.0d060g', 'm.01z88t', 'm.0161c', 'm.0d05q4', 'm.04wgh', 'm.02z62v1', 'm.0h44w', 'm.01z215', 'm.07fj_', 'm.06vbd', 'm.04hqz', 'm.03shp', 'm.0j1z8', 'm.03spz', 'm.035hr8', 'm.0697s', 'm.0hzlz', 'm.027jk', 'm.03__y', 'm.04vjh', 'm.05l8y', 'm.06tw8'}}\n",
      "WebQTest-2009 -----> {'?y': {'m.04gcn2l', 'm.04gcn1r', 'm.0h2rpt8', 'm.0gmk8kb', 'm.04gcn27', 'm.0gmk8j6', 'm.0gmk8j0'}, '?x': {'m.0k8z'}}\n",
      "WebQTest-2010 -----> {'?y': {'m.02kvkg9', 'm.02kvkf4', 'm.0125cyb9', 'm.applynewint488', 'm.02kvkfc', 'm.0123vxrw', 'm.02kvkfv', 'm.applynewint403', 'm.02kvkpg'}, '?x': {'m.07s6fsf', 'm.013zdg', 'm.014mlp'}}\n",
      "WebQTest-2011 -----> {'?x': {'m.0ggh7j1'}}\n",
      "WebQTest-2012 -----> {'?x': {'m.03bdv'}}\n",
      "WebQTest-2013 -----> {'?x': {'m.0ldv2s1'}}\n",
      "WebQTest-2014 -----> {'?x': {'m.03z_9l'}}\n",
      "WebQTest-2015 -----> {'?x': {'m.0drnm', 'm.0c9rw5', 'm.0j729', 'm.01d9r3'}}\n",
      "WebQTest-2016 -----> {'?x': {'m.0fgn_n'}}\n",
      "WebQTest-2017 -----> {'?y': {'m.applynewint328'}, '?x': {'m.07wdw', 'm.0g7ly4', 'm.07wbk', 'm.0d9fdp'}}\n",
      "WebQTest-2018 -----> {'?x': {'m.0f1hr', 'm.0dxtg', 'm.0kyk', 'm.02xhgwq', 'm.016wtf', 'm.0d8qb'}}\n",
      "WebQTest-2019 -----> {'?y': {'m.applynewint588'}, '?x': {'m.0hj6dmn'}}\n",
      "WebQTest-2020 -----> {'?x': {'Apennine Mountains'}}\n",
      "WebQTest-2021 -----> {'?x': {'m.09482', 'm.07jrh', 'm.023jy9', 'm.084w8'}}\n",
      "WebQTest-2022 -----> {'?x': {'m.0x67', 'm.07j80c'}}\n",
      "WebQTest-2023 -----> {'?y': {'m.04300hm'}, '?x': {'m.0177z'}}\n",
      "WebQTest-2024 -----> {'?x': {'m.04rrd'}}\n",
      "WebQTest-2025 -----> {'?x': {'m.03rz4'}}\n",
      "WebQTest-2027 -----> {'?y': {'m.02nr829', 'm.0pxgqf6', 'm.0pxgr8r', 'm.0bvddcl', 'm.0pxgqz5', 'm.0bvddcw', 'm.05ckhjp', 'm.0bvddd4', 'm.0qd3y3c'}, '?z': {'m.02nr829', 'm.0pxgqf6', 'm.0pxgr8r', 'm.0bvddcl', 'm.0pxgqz5', 'm.0bvddcw', 'm.05ckhjp', 'm.0bvddd4', 'm.0qd3y3c'}, '?x': {'m.050fh'}, 'm.02d9k': {'m.02d9k'}}\n",
      "WebQTest-2028 -----> {'?y': {'m.applynewint589'}, '?x': {'m.02ps9k'}}\n",
      "WebQTest-2029 -----> {'?x': {'m.01xyy', 'm.035qy'}}\n",
      "WebQTest-2030 -----> {'?x': {'m.059_c', 'm.0n6ps'}}\n",
      "WebQTest-2031 -----> {'?x': {'m.0h3p0'}}\n"
     ]
    }
   ],
   "source": [
    "for q_id, v in list(qid2real_int_entities_map.items())[-200:]:\n",
    "    print(q_id, '----->', v)"
   ]
  },
  {
   "cell_type": "code",
   "execution_count": 412,
   "metadata": {
    "scrolled": true
   },
   "outputs": [
    {
     "name": "stdout",
     "output_type": "stream",
     "text": [
      "WebQTrn-0 -----> {1: {'m.05zppz': {'ground_truth': [('people.person.gender',)], 'cands': [('fictional_universe.fictional_character.gender',), ('EOD',), ('people.person.gender',)]}, 'm.06w2sn5': {'ground_truth': [('people.person.sibling_s',)], 'cands': [('people.person.education',), ('music.group_membership.member',), ('film.actor.film',), ('award.award_winner.awards_won',), ('tv.tv_guest_role.actor',), ('tv.tv_actor.guest_roles',), ('people.sibling_relationship.sibling',), ('music.composer.compositions',), ('EOD',), ('film.producer.film',), ('music.artist.origin',), ('people.person.children',), ('celebrities.celebrity.sexual_relationships',), ('common.topic.notable_types',), ('broadcast.artist.content',), ('music.group_member.membership',), ('music.artist.genre',), ('common.topic.notable_for',), ('influence.influence_node.influenced',), ('people.person.nationality',), ('music.artist.track_contributions',), ('base.popstra.dated.participant',), ('influence.influence_node.influenced_by',), ('people.person.sibling_s',), ('people.person.places_lived',), ('people.person.place_of_birth',), ('base.popstra.celebrity.dated',), ('people.person.parents',), ('award.award_honor.award_winner',), ('book.written_work.author',), ('location.location.people_born_here',), ('music.artist.album',), ('book.author.works_written',), ('music.lyricist.lyrics_written',), ('film.person_or_entity_appearing_in_film.films',), ('music.artist.label',), ('film.performance.actor',), ('people.person.ethnicity',), ('music.artist.track',), ('music.composition.composer',), ('people.person.profession',), ('celebrities.romantic_relationship.celebrity',)]}}, 2: {'m.05zppz': {'ground_truth': [('people.person.gender', 'EOD')], 'cands': [('people.person.gender', 'EOD'), ('people.person.gender', 'people.sibling_relationship.sibling')]}, 'm.06w2sn5': {'ground_truth': [('people.person.sibling_s', 'people.sibling_relationship.sibling')], 'cands': [('people.person.sibling_s', 'people.sibling_relationship.sibling'), ('people.person.sibling_s', 'EOD'), ('people.person.sibling_s', 'people.person.sibling_s')]}}}\n",
      "WebQTrn-1 -----> {1: {'m.0ddt_': {'ground_truth': [('film.performance.film',)], 'cands': [('EOD',), ('film.performance.film',), ('film.film.starring',)]}, 'm.09l3p': {'ground_truth': [('film.actor.film',)], 'cands': [('EOD',), ('film.actor.film',), ('film.performance.actor',)]}}, 2: {'m.0ddt_': {'ground_truth': [('film.performance.film', 'film.performance.character')], 'cands': [('film.performance.film', 'EOD'), ('film.performance.film', 'film.performance.film'), ('film.performance.film', 'film.actor.film'), ('film.performance.film', 'film.performance.character')]}, 'm.09l3p': {'ground_truth': [('film.actor.film', 'film.performance.character')], 'cands': [('film.actor.film', 'film.performance.character'), ('film.actor.film', 'film.actor.film'), ('film.actor.film', 'film.performance.film'), ('film.actor.film', 'EOD')]}}}\n",
      "WebQTrn-3 -----> {1: {'m.03st9j': {'ground_truth': [('location.location.containedby',)], 'cands': [('people.person.place_of_birth',), ('location.location.contains',), ('location.location.containedby',), ('common.topic.notable_types',), ('common.topic.notable_for',), ('location.location.people_born_here',), ('location.location.time_zones',), ('location.location.nearby_airports',), ('EOD',)]}}, 2: {'m.03st9j': {'ground_truth': [('location.location.containedby', 'EOD')], 'cands': [('location.location.containedby', 'EOD'), ('location.location.containedby', 'location.location.containedby')]}}}\n",
      "WebQTrn-4 -----> {1: {'m.0160w': {'ground_truth': [('location.country.currency_used',)], 'cands': [('location.country.currency_used',), ('EOD',), ('location.location.containedby',)]}}, 2: {'m.0160w': {'ground_truth': [('location.country.currency_used', 'EOD')], 'cands': [('location.country.currency_used', 'location.country.currency_used'), ('location.country.currency_used', 'EOD')]}}}\n",
      "WebQTrn-5 -----> {1: {'m.017gm7': {'ground_truth': [('film.performance.film',)], 'cands': [('film.film.country',), ('award.award_nominated_work.award_nominations',), ('film.film.starring',), ('award.award_winning_work.awards_won',), ('film.film.other_crew',), ('award.award_honor.honored_for',), ('common.topic.notable_types',), ('film.film_series.films_in_series',), ('film.film.genre',), ('film.performance.film',), ('film.film_story_contributor.film_story_credits',), ('common.topic.notable_for',), ('EOD',), ('film.producer.film',)]}, 'm.02fgm7': {'ground_truth': [('film.actor.film',)], 'cands': [('EOD',), ('film.actor.film',), ('tv.regular_tv_appearance.actor',)]}}, 2: {'m.017gm7': {'ground_truth': [('film.performance.film', 'film.performance.character')], 'cands': [('film.performance.film', 'EOD'), ('film.performance.film', 'film.performance.film'), ('film.performance.film', 'film.actor.film'), ('film.performance.film', 'film.performance.character')]}, 'm.02fgm7': {'ground_truth': [('film.actor.film', 'film.performance.character')], 'cands': [('film.actor.film', 'film.performance.character'), ('film.actor.film', 'film.actor.film'), ('film.actor.film', 'film.performance.film'), ('film.actor.film', 'EOD')]}}}\n",
      "WebQTrn-6 -----> {1: {'m.0c2yrf': {'ground_truth': [('sports.pro_athlete.teams',)], 'cands': [('sports.sports_league_draft_pick.player',), ('people.person.education',), ('people.person.sibling_s',), ('film.actor.film',), ('sports.pro_athlete.sports_played_professionally',), ('award.award_winner.awards_won',), ('people.person.place_of_birth',), ('people.person.nationality',), ('people.sibling_relationship.sibling',), ('people.person.parents',), ('award.award_honor.award_winner',), ('sports.sports_team_roster.player',), ('location.location.people_born_here',), ('EOD',), ('sports.pro_athlete.teams',), ('olympics.olympic_athlete.country',), ('sports.drafted_athlete.drafted',), ('film.person_or_entity_appearing_in_film.films',), ('people.person.profession',), ('people.person.children',), ('common.topic.notable_types',), ('film.performance.actor',), ('basketball.basketball_player.position_s',), ('sports.sports_award.award_winner',), ('common.topic.notable_for',), ('people.person.ethnicity',), ('base.schemastaging.athlete_extra.salary',), ('sports.sports_award_winner.awards',), ('basketball.basketball_player.player_statistics',), ('people.person.places_lived',)]}}, 2: {'m.0c2yrf': {'ground_truth': [('sports.pro_athlete.teams', 'sports.sports_team_roster.team')], 'cands': [('sports.pro_athlete.teams', 'sports.sports_team_roster.position'), ('sports.pro_athlete.teams', 'sports.pro_athlete.teams'), ('sports.pro_athlete.teams', 'sports.sports_team.roster'), ('sports.pro_athlete.teams', 'sports.sports_team_roster.player'), ('sports.pro_athlete.teams', 'EOD'), ('sports.pro_athlete.teams', 'sports.sports_team_roster.team')]}}}\n",
      "WebQTrn-7 -----> {1: {'m.084l5': {'ground_truth': [('sports.sports_team.location',)], 'cands': [('EOD',), ('sports.sports_league_participation.team',), ('sports.sports_team.location',)]}}, 2: {'m.084l5': {'ground_truth': [('sports.sports_team.location', 'EOD')], 'cands': [('sports.sports_team.location', 'EOD'), ('sports.sports_team.location', 'sports.sports_team.location')]}}}\n",
      "WebQTrn-8 -----> {1: {'m.07484': {'ground_truth': [('people.person.place_of_birth',)], 'cands': [('people.person.sibling_s',), ('people.person.education',), ('people.person.quotations',), ('book.book_subject.works',), ('people.person.place_of_birth',), ('people.sibling_relationship.sibling',), ('people.person.parents',), ('book.written_work.author',), ('location.location.people_born_here',), ('EOD',), ('book.author.works_written',), ('book.author.book_editions_published',), ('people.person.profession',), ('people.person.children',), ('common.topic.notable_types',), ('film.film_story_contributor.film_story_credits',), ('people.deceased_person.place_of_death',), ('film.writer.film',), ('common.topic.notable_for',), ('people.person.nationality',), ('influence.influence_node.influenced_by',)]}}, 2: {'m.07484': {'ground_truth': [('people.person.place_of_birth', 'EOD')], 'cands': [('people.person.place_of_birth', 'EOD'), ('people.person.place_of_birth', 'people.person.place_of_birth')]}}}\n",
      "WebQTrn-9 -----> {1: {'m.0c9c0': {'ground_truth': [('people.person.date_of_birth',)], 'cands': [('EOD',), ('people.person.date_of_birth',), ('film.performance.actor',)]}}, 2: {'m.0c9c0': {'ground_truth': [('people.person.date_of_birth', 'EOD')], 'cands': [('people.person.date_of_birth', 'EOD'), ('people.person.date_of_birth', 'people.person.date_of_birth')]}}}\n",
      "WebQTrn-11 -----> {1: {'m.01sn3': {'ground_truth': [('location.location.time_zones',)], 'cands': [('EOD',), ('people.place_lived.location',), ('location.location.time_zones',)]}}, 2: {'m.01sn3': {'ground_truth': [('location.location.time_zones', 'EOD')], 'cands': [('location.location.time_zones', 'EOD'), ('location.location.time_zones', 'location.location.time_zones')]}}}\n",
      "WebQTrn-12 -----> {1: {'m.0c2m4': {'ground_truth': [('fictional_universe.fictional_character.married_to',)], 'cands': [('fictional_universe.fictional_character_creator.fictional_characters_created',), ('fictional_universe.fictional_character.powers_or_abilities',), ('common.topic.notable_types',), ('fictional_universe.fictional_character.education',), ('fictional_universe.marriage_of_fictional_characters.spouses',), ('fictional_universe.fictional_character.children',), ('book.book_character.appears_in_book',), ('common.topic.notable_for',), ('film.film_character.portrayed_in_films',), ('EOD',), ('fictional_universe.fictional_character.parents',), ('film.performance.character',), ('fictional_universe.fictional_character.character_created_by',), ('fictional_universe.fictional_character.married_to',), ('fictional_universe.fictional_character.appears_in_these_fictional_universes',)]}}, 2: {'m.0c2m4': {'ground_truth': [('fictional_universe.fictional_character.married_to', 'fictional_universe.marriage_of_fictional_characters.spouses')], 'cands': [('fictional_universe.fictional_character.married_to', 'EOD'), ('fictional_universe.fictional_character.married_to', 'fictional_universe.marriage_of_fictional_characters.spouses'), ('fictional_universe.fictional_character.married_to', 'fictional_universe.fictional_character.married_to')]}}}\n",
      "WebQTrn-13 -----> {1: {'m.09c7w0': {'ground_truth': [('location.location.adjoin_s',)], 'cands': [('base.culturalevent.event.entity_involved',), ('location.location.time_zones',), ('location.location.adjoin_s',), ('EOD',), ('location.country.form_of_government',)]}, 'm.01mp': {'ground_truth': [('common.topic.notable_types',)], 'cands': [('common.topic.notable_types',), ('EOD',)]}}, 2: {'m.09c7w0': {'ground_truth': [('location.location.adjoin_s', 'location.adjoining_relationship.adjoins')], 'cands': [('location.location.adjoin_s', 'EOD'), ('location.location.adjoin_s', 'location.adjoining_relationship.adjoins'), ('location.location.adjoin_s', 'location.location.adjoin_s')]}, 'm.01mp': {'ground_truth': [('common.topic.notable_types', 'EOD')], 'cands': [('common.topic.notable_types', 'location.adjoining_relationship.adjoins'), ('common.topic.notable_types', 'EOD')]}}}\n",
      "WebQTrn-14 -----> {1: {'m.06c62': {'ground_truth': [('location.location.containedby',)], 'cands': [('EOD',), ('location.location.containedby',), ('travel.travel_destination.tourist_attractions',), ('location.country.capital',)]}}, 2: {'m.06c62': {'ground_truth': [('location.location.containedby', 'EOD')], 'cands': [('location.location.containedby', 'EOD'), ('location.location.containedby', 'location.location.containedby')]}}}\n",
      "WebQTrn-15 -----> {1: {'m.027nwk2': {'ground_truth': [('people.person.nationality',)], 'cands': [('EOD',), ('people.person.nationality',), ('tv.regular_tv_appearance.actor',)]}}, 2: {'m.027nwk2': {'ground_truth': [('people.person.nationality', 'EOD')], 'cands': [('people.person.nationality', 'people.person.nationality'), ('people.person.nationality', 'EOD')]}}}\n",
      "WebQTrn-17 -----> {1: {'m.0fbrl': {'ground_truth': [('people.family.members',)], 'cands': [('EOD',), ('people.family.members',)]}}, 2: {'m.0fbrl': {'ground_truth': [('people.family.members', 'EOD')], 'cands': [('people.family.members', 'EOD'), ('people.family.members', 'people.family.members')]}}}\n",
      "WebQTrn-18 -----> {1: {'m.018rv0': {'ground_truth': [('book.author.book_editions_published',)], 'cands': [('people.person.education',), ('people.person.place_of_birth',), ('award.award_winner.awards_won',), ('symbols.namesake.named_after',), ('symbols.name_source.namesakes',), ('award.award_honor.award_winner',), ('book.written_work.author',), ('location.location.people_born_here',), ('EOD',), ('book.author.works_written',), ('book.author.book_editions_published',), ('people.person.profession',), ('common.topic.notable_types',), ('film.film_story_contributor.film_story_credits',), ('common.topic.notable_for',), ('people.person.nationality',), ('people.person.places_lived',)]}}, 2: {'m.018rv0': {'ground_truth': [('book.author.book_editions_published', 'EOD')], 'cands': [('book.author.book_editions_published', 'book.author.book_editions_published'), ('book.author.book_editions_published', 'EOD')]}}}\n",
      "WebQTrn-20 -----> {1: {'m.03qb78c': {'ground_truth': [('travel.transportation.mode_of_transportation',)], 'cands': [('EOD',), ('travel.transportation.mode_of_transportation',)]}, 'm.01bkb': {'ground_truth': [('travel.travel_destination.how_to_get_here',)], 'cands': [('book.book_subject.works',), ('people.person.place_of_birth',), ('location.location.contains',), ('base.aareas.schema.administrative_area.capital',), ('base.aareas.schema.administrative_area.administrative_area_type',), ('travel.travel_destination.tourist_attractions',), ('time.event.locations',), ('film.film.featured_film_locations',), ('location.administrative_division_capital_relationship.administrative_division',), ('location.location.people_born_here',), ('location.location.time_zones',), ('location.statistical_region.religions',), ('EOD',), ('location.administrative_division.country',), ('location.administrative_division.capital',), ('location.location.containedby',), ('location.location.events',), ('common.topic.notable_types',), ('base.aareas.schema.administrative_area.administrative_children',), ('people.deceased_person.place_of_death',), ('time.time_zone.locations_in_this_time_zone',), ('organization.organization.place_founded',), ('common.topic.notable_for',), ('travel.travel_destination.how_to_get_here',), ('periodicals.newspaper_circulation_area.newspapers',), ('base.aareas.schema.administrative_area.administrative_parent',), ('travel.tourist_attraction.near_travel_destination',)]}}, 2: {'m.03qb78c': {'ground_truth': [('travel.transportation.mode_of_transportation', 'travel.transportation.transport_terminus')], 'cands': [('travel.transportation.mode_of_transportation', 'travel.transportation.mode_of_transportation'), ('travel.transportation.mode_of_transportation', 'travel.transportation.transport_terminus'), ('travel.transportation.mode_of_transportation', 'EOD'), ('travel.transportation.mode_of_transportation', 'travel.travel_destination.how_to_get_here')]}, 'm.01bkb': {'ground_truth': [('travel.travel_destination.how_to_get_here', 'travel.transportation.transport_terminus')], 'cands': [('travel.travel_destination.how_to_get_here', 'travel.transportation.mode_of_transportation'), ('travel.travel_destination.how_to_get_here', 'travel.transportation.transport_terminus'), ('travel.travel_destination.how_to_get_here', 'EOD'), ('travel.travel_destination.how_to_get_here', 'travel.travel_destination.how_to_get_here')]}}}\n",
      "WebQTrn-21 -----> {1: {'m.060bp': {'ground_truth': [('government.government_position_held.basic_title',)], 'cands': [('EOD',), ('government.government_position_held.basic_title',)]}, 'm.019pcs': {'ground_truth': [('government.governmental_jurisdiction.governing_officials',)], 'cands': [('EOD',), ('government.governmental_jurisdiction.governing_officials',), ('language.human_language.countries_spoken_in',)]}}, 2: {'m.060bp': {'ground_truth': [('government.government_position_held.basic_title', 'government.government_position_held.office_holder')], 'cands': [('government.government_position_held.basic_title', 'EOD'), ('government.government_position_held.basic_title', 'government.governmental_jurisdiction.governing_officials'), ('government.government_position_held.basic_title', 'government.government_position_held.office_holder'), ('government.government_position_held.basic_title', 'government.government_position_held.basic_title')]}, 'm.019pcs': {'ground_truth': [('government.governmental_jurisdiction.governing_officials', 'government.government_position_held.office_holder')], 'cands': [('government.governmental_jurisdiction.governing_officials', 'EOD'), ('government.governmental_jurisdiction.governing_officials', 'government.government_position_held.basic_title'), ('government.governmental_jurisdiction.governing_officials', 'government.governmental_jurisdiction.governing_officials'), ('government.governmental_jurisdiction.governing_officials', 'government.government_position_held.office_holder')]}}}\n",
      "WebQTrn-22 -----> {1: {'m.0ny57': {'ground_truth': [('travel.travel_destination.tourist_attractions',)], 'cands': [('base.biblioness.bibs_location.country',), ('people.person.place_of_birth',), ('location.location.contains',), ('travel.travel_destination.tourist_attractions',), ('time.event.locations',), ('location.location.people_born_here',), ('location.location.time_zones',), ('EOD',), ('music.artist.origin',), ('location.location.containedby',), ('government.governmental_jurisdiction.governing_officials',), ('location.location.events',), ('common.topic.notable_types',), ('people.deceased_person.place_of_death',), ('common.topic.notable_for',), ('base.biblioness.bibs_location.state',), ('periodicals.newspaper_circulation_area.newspapers',), ('location.citytown.postal_codes',), ('government.government_position_held.jurisdiction_of_office',), ('location.location.nearby_airports',), ('travel.tourist_attraction.near_travel_destination',)]}}, 2: {'m.0ny57': {'ground_truth': [('travel.travel_destination.tourist_attractions', 'EOD')], 'cands': [('travel.travel_destination.tourist_attractions', 'EOD'), ('travel.travel_destination.tourist_attractions', 'travel.travel_destination.tourist_attractions')]}}}\n",
      "WebQTrn-23 -----> {1: {'m.01y2hn6': {'ground_truth': [('common.topic.notable_types',)], 'cands': [('common.topic.notable_types',), ('EOD',)]}, 'm.0157m': {'ground_truth': [('people.person.education',)], 'cands': [('people.person.education',), ('government.us_president.vice_president',), ('EOD',), ('people.appointment.appointed_by',)]}}, 2: {'m.01y2hn6': {'ground_truth': [('common.topic.notable_types', 'EOD')], 'cands': [('common.topic.notable_types', 'education.education.institution'), ('common.topic.notable_types', 'EOD')]}, 'm.0157m': {'ground_truth': [('people.person.education', 'education.education.institution')], 'cands': [('people.person.education', 'education.education.institution'), ('people.person.education', 'EOD'), ('people.person.education', 'people.person.education')]}}}\n",
      "WebQTrn-24 -----> {1: {'m.06bnz': {'ground_truth': [('location.country.form_of_government',)], 'cands': [('location.country.form_of_government',), ('EOD',), ('base.locations.continents.countries_within',)]}}, 2: {'m.06bnz': {'ground_truth': [('location.country.form_of_government', 'EOD')], 'cands': [('location.country.form_of_government', 'EOD'), ('location.country.form_of_government', 'location.country.form_of_government')]}}}\n",
      "WebQTrn-25 -----> {1: {'m.07ldhs': {'ground_truth': [('film.actor.film',)], 'cands': [('EOD',), ('people.person.nationality',), ('film.actor.film',), ('film.performance.actor',)]}}, 2: {'m.07ldhs': {'ground_truth': [('film.actor.film', 'film.performance.film')], 'cands': [('film.actor.film', 'film.actor.film'), ('film.actor.film', 'film.performance.film'), ('film.actor.film', 'EOD')]}}}\n",
      "WebQTrn-26 -----> {1: {'m.01jz6d': {'ground_truth': [('sports.sports_award_winner.awards',)], 'cands': [('sports.sports_award_winner.awards',), ('EOD',), ('basketball.basketball_player.position_s',), ('sports.sports_league_draft_pick.player',)]}, 'm.02yqnh': {'ground_truth': [('sports.sports_award.award',)], 'cands': [('EOD',), ('sports.sports_award.award',), ('award.award_honor.award',)]}}, 2: {'m.01jz6d': {'ground_truth': [('sports.sports_award_winner.awards', 'sports.sports_award.season')], 'cands': [('sports.sports_award_winner.awards', 'sports.sports_award.award'), ('sports.sports_award_winner.awards', 'sports.sports_award.season'), ('sports.sports_award_winner.awards', 'sports.sports_award_winner.awards'), ('sports.sports_award_winner.awards', 'EOD')]}, 'm.02yqnh': {'ground_truth': [('sports.sports_award.award', 'sports.sports_award.season')], 'cands': [('sports.sports_award.award', 'EOD'), ('sports.sports_award.award', 'sports.sports_award_winner.awards'), ('sports.sports_award.award', 'sports.sports_award.award'), ('sports.sports_award.award', 'sports.sports_award.season')]}}}\n",
      "WebQTrn-30 -----> {1: {'m.04ztj': {'ground_truth': [('people.marriage.type_of_union',)], 'cands': [('EOD',), ('religion.religion.practices',), ('people.marriage.type_of_union',)]}, 'm.03p77': {'ground_truth': [('people.person.spouse_s',)], 'cands': [('EOD',), ('people.person.children',), ('people.person.spouse_s',)]}, 'm.0jb19': {'ground_truth': [('people.deceased_person.cause_of_death',)], 'cands': [('EOD',), ('people.deceased_person.cause_of_death',)]}}, 2: {'m.04ztj': {'ground_truth': [('people.marriage.type_of_union', 'people.marriage.spouse')], 'cands': [('people.marriage.type_of_union', 'people.person.spouse_s'), ('people.marriage.type_of_union', 'people.marriage.spouse'), ('people.marriage.type_of_union', 'EOD'), ('people.marriage.type_of_union', 'people.marriage.type_of_union')]}, 'm.03p77': {'ground_truth': [('people.person.spouse_s', 'people.marriage.spouse')], 'cands': [('people.person.spouse_s', 'EOD'), ('people.person.spouse_s', 'people.person.spouse_s'), ('people.person.spouse_s', 'people.marriage.spouse'), ('people.person.spouse_s', 'people.marriage.type_of_union')]}, 'm.0jb19': {'ground_truth': [('people.deceased_person.cause_of_death', 'EOD')], 'cands': [('people.deceased_person.cause_of_death', 'people.marriage.spouse'), ('people.deceased_person.cause_of_death', 'EOD')]}}}\n",
      "WebQTrn-31 -----> {1: {'m.02zsn': {'ground_truth': [('people.person.gender',)], 'cands': [('fictional_universe.fictional_character.gender',), ('EOD',), ('people.person.gender',)]}, 'm.01ghr4': {'ground_truth': [('people.person.parents',)], 'cands': [('EOD',), ('people.person.children',), ('people.person.parents',)]}}, 2: {'m.02zsn': {'ground_truth': [('people.person.gender', 'EOD')], 'cands': [('people.person.gender', 'EOD'), ('people.person.gender', 'people.person.parents'), ('people.person.gender', 'people.person.gender')]}, 'm.01ghr4': {'ground_truth': [('people.person.parents', 'EOD')], 'cands': [('people.person.parents', 'EOD'), ('people.person.parents', 'people.person.gender'), ('people.person.parents', 'people.person.parents')]}}}\n",
      "WebQTrn-32 -----> {1: {'m.03f2h01': {'ground_truth': [('base.activism.activist.area_of_activism',)], 'cands': [('people.person.quotations',), ('fictional_universe.person_in_fiction.representations_in_fiction',), ('symbols.namesake.named_after',), ('people.sibling_relationship.sibling',), ('music.composer.compositions',), ('organization.organization_member.member_of',), ('organization.leadership.person',), ('EOD',), ('fictional_universe.fictional_character.based_on',), ('people.person.children',), ('common.topic.notable_types',), ('base.activism.activist.area_of_activism',), ('broadcast.artist.content',), ('people.deceased_person.place_of_death',), ('common.topic.notable_for',), ('people.deceased_person.cause_of_death',), ('influence.influence_node.influenced',), ('people.person.nationality',), ('people.person.places_lived',), ('influence.influence_node.influenced_by',), ('people.person.sibling_s',), ('book.book_subject.works',), ('people.person.place_of_birth',), ('people.person.spouse_s',), ('organization.organization_membership.member',), ('people.person.parents',), ('symbols.name_source.namesakes',), ('book.written_work.author',), ('organization.organization_founder.organizations_founded',), ('organization.organization.founders',), ('people.deceased_person.place_of_burial',), ('music.artist.album',), ('book.author.works_written',), ('people.person.religion',), ('film.person_or_entity_appearing_in_film.films',), ('book.author.book_editions_published',), ('people.person.ethnicity',), ('music.artist.track',), ('business.board_member.leader_of',), ('people.marriage.spouse',), ('music.composition.composer',), ('people.person.profession',)]}}, 2: {'m.03f2h01': {'ground_truth': [('base.activism.activist.area_of_activism', 'EOD')], 'cands': [('base.activism.activist.area_of_activism', 'EOD'), ('base.activism.activist.area_of_activism', 'base.activism.activist.area_of_activism')]}}}\n",
      "WebQTrn-33 -----> {1: {'m.059j2': {'ground_truth': [('location.location.containedby',)], 'cands': [('EOD',), ('location.location.containedby',), ('organization.organization_membership.member',)]}}, 2: {'m.059j2': {'ground_truth': [('location.location.containedby', 'EOD')], 'cands': [('location.location.containedby', 'EOD'), ('location.location.containedby', 'location.location.containedby')]}}}\n",
      "WebQTrn-34 -----> {1: {'m.015fr': {'ground_truth': [('government.governmental_jurisdiction.governing_officials',)], 'cands': [('location.country.official_language',), ('location.country.languages_spoken',), ('government.governmental_jurisdiction.governing_officials',), ('location.adjoining_relationship.adjoins',), ('EOD',), ('location.country.form_of_government',), ('location.country.capital',)]}, 'm.060c4': {'ground_truth': [('government.government_position_held.basic_title',)], 'cands': [('EOD',), ('government.government_position_held.basic_title',)]}}, 2: {'m.015fr': {'ground_truth': [('government.governmental_jurisdiction.governing_officials', 'government.government_position_held.office_holder')], 'cands': [('government.governmental_jurisdiction.governing_officials', 'EOD'), ('government.governmental_jurisdiction.governing_officials', 'government.government_position_held.basic_title'), ('government.governmental_jurisdiction.governing_officials', 'government.governmental_jurisdiction.governing_officials'), ('government.governmental_jurisdiction.governing_officials', 'government.government_position_held.office_holder')]}, 'm.060c4': {'ground_truth': [('government.government_position_held.basic_title', 'government.government_position_held.office_holder')], 'cands': [('government.government_position_held.basic_title', 'EOD'), ('government.government_position_held.basic_title', 'government.governmental_jurisdiction.governing_officials'), ('government.government_position_held.basic_title', 'government.government_position_held.office_holder'), ('government.government_position_held.basic_title', 'government.government_position_held.basic_title')]}}}\n",
      "WebQTrn-35 -----> {1: {'m.0f8l9c': {'ground_truth': [('location.country.capital',)], 'cands': [('base.schemastaging.phone_sandbox.service_location',), ('location.country.currency_used',), ('government.governmental_jurisdiction.governing_officials',), ('location.statistical_region.religions',), ('EOD',), ('location.country.capital',)]}}, 2: {'m.0f8l9c': {'ground_truth': [('location.country.capital', 'EOD')], 'cands': [('location.country.capital', 'EOD'), ('location.country.capital', 'location.country.capital')]}}}\n",
      "WebQTrn-36 -----> {1: {'m.02pn7': {'ground_truth': [('people.person.place_of_birth',)], 'cands': [('people.person.religion',), ('book.book_subject.works',), ('fictional_universe.fictional_character.based_on',), ('fictional_universe.person_in_fiction.representations_in_fiction',), ('people.person.place_of_birth',), ('people.person.spouse_s',), ('common.topic.notable_types',), ('symbols.namesake.named_after',), ('symbols.name_source.namesakes',), ('people.person.ethnicity',), ('common.topic.notable_for',), ('location.location.people_born_here',), ('people.marriage.spouse',), ('EOD',)]}}, 2: {'m.02pn7': {'ground_truth': [('people.person.place_of_birth', 'EOD')], 'cands': [('people.person.place_of_birth', 'EOD'), ('people.person.place_of_birth', 'people.person.place_of_birth')]}}}\n",
      "WebQTrn-37 -----> {1: {'m.0j6tr': {'ground_truth': [('base.events.event_presenting_organisation.event_feed',)], 'cands': [('ice_hockey.hockey_team.coach',), ('sports.sports_championship_event.champion',), ('sports.sports_team_owner.teams_owned',), ('sports.sports_team.previously_known_as',), ('business.employment_tenure.company',), ('sports.sports_team.arena_stadium',), ('sports.sports_team.team_mascot',), ('sports.sports_team_roster.team',), ('sports.sports_league_draft_pick.team',), ('sports.sports_team.championships',), ('EOD',), ('sports.sports_team_coach_tenure.team',), ('sports.sports_team.sport',), ('base.events.event_presenting_organisation.event_feed',), ('sports.sports_team_location.teams',), ('sports.sports_team.location',), ('sports.sports_league_participation.team',), ('common.topic.notable_types',), ('sports.defunct_sports_team.later_known_as',), ('sports.sports_team.roster',), ('sports.professional_sports_team.owner_s',), ('sports.sports_team.venue',), ('sports.sports_team.colors',), ('common.topic.notable_for',), ('sports.sports_team.league',), ('sports.sports_team.coaches',), ('business.employer.employees',), ('sports.professional_sports_team.draft_picks',)]}}, 2: {'m.0j6tr': {'ground_truth': [('base.events.event_presenting_organisation.event_feed', 'base.events.event_feed.type_of_event')], 'cands': [('base.events.event_presenting_organisation.event_feed', 'base.events.event_feed.type_of_event'), ('base.events.event_presenting_organisation.event_feed', 'EOD'), ('base.events.event_presenting_organisation.event_feed', 'base.events.event_presenting_organisation.event_feed')]}}}\n",
      "WebQTrn-38 -----> {1: {'m.0f9q7': {'ground_truth': [('book.book_subject.works',)], 'cands': [('EOD',), ('book.book_subject.works',), ('people.person.profession',), ('fictional_universe.fictional_character.based_on',)]}}, 2: {'m.0f9q7': {'ground_truth': [('book.book_subject.works', 'EOD')], 'cands': [('book.book_subject.works', 'EOD'), ('book.book_subject.works', 'book.book_subject.works')]}}}\n",
      "WebQTrn-40 -----> {1: {'m.01vtj38': {'ground_truth': [('people.person.children',)], 'cands': [('people.person.education',), ('film.actor.film',), ('music.group_membership.member',), ('award.award_winner.awards_won',), ('tv.tv_guest_role.actor',), ('tv.tv_actor.guest_roles',), ('symbols.namesake.named_after',), ('people.sibling_relationship.sibling',), ('tv.tv_character.appeared_in_tv_episodes',), ('music.composer.compositions',), ('tv.tv_producer.programs_produced',), ('tv.tv_personality.tv_regular_appearances',), ('EOD',), ('base.events.event_presenting_organisation.event_feed',), ('music.artist.origin',), ('people.person.children',), ('celebrities.celebrity.sexual_relationships',), ('common.topic.notable_types',), ('base.activism.activist.area_of_activism',), ('broadcast.artist.content',), ('film.writer.film',), ('music.artist.genre',), ('music.group_member.membership',), ('common.topic.notable_for',), ('people.person.nationality',), ('music.artist.track_contributions',), ('people.person.places_lived',), ('base.popstra.dated.participant',), ('people.person.sibling_s',), ('people.person.place_of_birth',), ('medicine.notable_person_with_medical_condition.condition',), ('people.person.spouse_s',), ('base.popstra.celebrity.dated',), ('people.person.parents',), ('symbols.name_source.namesakes',), ('award.award_honor.award_winner',), ('location.location.people_born_here',), ('music.artist.album',), ('music.lyricist.lyrics_written',), ('film.person_or_entity_appearing_in_film.films',), ('music.artist.label',), ('film.director.film',), ('film.performance.actor',), ('people.person.ethnicity',), ('music.artist.track',), ('people.marriage.spouse',), ('music.composition.composer',), ('people.person.profession',), ('celebrities.romantic_relationship.celebrity',)]}, 'm.05zppz': {'ground_truth': [('people.person.gender',)], 'cands': [('fictional_universe.fictional_character.gender',), ('EOD',), ('people.person.gender',)]}}, 2: {'m.01vtj38': {'ground_truth': [('people.person.children', 'EOD')], 'cands': [('people.person.children', 'EOD'), ('people.person.children', 'people.person.children'), ('people.person.children', 'people.person.gender')]}, 'm.05zppz': {'ground_truth': [('people.person.gender', 'EOD')], 'cands': [('people.person.gender', 'people.person.gender'), ('people.person.gender', 'EOD'), ('people.person.gender', 'people.person.children')]}}}\n",
      "WebQTrn-42 -----> {1: {'m.0rlz': {'ground_truth': [('government.politician.party',)], 'cands': [('government.political_appointer.appointees',), ('people.person.place_of_birth',), ('government.government_position_held.office_holder',), ('government.politician.election_campaigns',), ('government.politician.party',), ('EOD',)]}}, 2: {'m.0rlz': {'ground_truth': [('government.politician.party', 'government.political_party_tenure.party')], 'cands': [('government.politician.party', 'government.political_party_tenure.party'), ('government.politician.party', 'EOD'), ('government.politician.party', 'government.politician.party')]}}}\n",
      "WebQTrn-45 -----> {1: {'m.078ffw': {'ground_truth': [('book.literary_series.works_in_this_series',)], 'cands': [('award.award_nominated_work.award_nominations',), ('book.book_subject.works',), ('award.award_winning_work.awards_won',), ('award.award_honor.honored_for',), ('common.topic.notable_types',), ('book.literary_series.works_in_this_series',), ('common.topic.notable_for',), ('EOD',)]}}, 2: {'m.078ffw': {'ground_truth': [('book.literary_series.works_in_this_series', 'EOD')], 'cands': [('book.literary_series.works_in_this_series', 'EOD'), ('book.literary_series.works_in_this_series', 'book.literary_series.works_in_this_series')]}}}\n",
      "WebQTrn-46 -----> {1: {'m.081k8': {'ground_truth': [('people.person.profession',)], 'cands': [('people.person.place_of_birth',), ('people.person.spouse_s',), ('EOD',), ('people.person.profession',), ('influence.influence_node.influenced_by',)]}}, 2: {'m.081k8': {'ground_truth': [('people.person.profession', 'EOD')], 'cands': [('people.person.profession', 'people.person.profession'), ('people.person.profession', 'EOD')]}}}\n",
      "WebQTrn-47 -----> {1: {'m.03jn4': {'ground_truth': [('location.location.containedby',)], 'cands': [('location.location.containedby',), ('aviation.airport.hub_for',), ('location.location.events',), ('location.location.contains',), ('common.topic.notable_types',), ('symbols.namesake.named_after',), ('time.time_zone.locations_in_this_time_zone',), ('symbols.name_source.namesakes',), ('time.event.locations',), ('common.topic.notable_for',), ('film.film.featured_film_locations',), ('location.location.time_zones',), ('travel.transportation.transport_terminus',), ('location.location.nearby_airports',), ('EOD',)]}, 'm.01n7': {'ground_truth': [('common.topic.notable_types',)], 'cands': [('common.topic.notable_types',), ('EOD',)]}}, 2: {'m.03jn4': {'ground_truth': [('location.location.containedby', 'EOD')], 'cands': [('location.location.containedby', 'common.topic.notable_types'), ('location.location.containedby', 'location.location.containedby'), ('location.location.containedby', 'EOD')]}, 'm.01n7': {'ground_truth': [('common.topic.notable_types', 'EOD')], 'cands': [('common.topic.notable_types', 'EOD'), ('common.topic.notable_types', 'location.location.containedby'), ('common.topic.notable_types', 'common.topic.notable_types')]}}}\n",
      "WebQTrn-49 -----> {1: {'m.08wjf4': {'ground_truth': [('film.actor.film',)], 'cands': [('EOD',), ('film.actor.film',), ('tv.regular_tv_appearance.actor',)]}}, 2: {'m.08wjf4': {'ground_truth': [('film.actor.film', 'film.performance.film')], 'cands': [('film.actor.film', 'film.actor.film'), ('film.actor.film', 'film.performance.film'), ('film.actor.film', 'EOD')]}}}\n",
      "WebQTrn-52 -----> {1: {'m.0713r': {'ground_truth': [('sports.sports_team.arena_stadium',)], 'cands': [('sports.sports_league_participation.team',), ('sports.sports_team.championships',), ('sports.sports_team.arena_stadium',), ('EOD',), ('baseball.baseball_team.current_coaches',), ('sports.professional_sports_team.owner_s',)]}}, 2: {'m.0713r': {'ground_truth': [('sports.sports_team.arena_stadium', 'EOD')], 'cands': [('sports.sports_team.arena_stadium', 'sports.sports_team.arena_stadium'), ('sports.sports_team.arena_stadium', 'EOD')]}}}\n",
      "WebQTrn-53 -----> {1: {'m.0b3tf': {'ground_truth': [('base.politicalconventions.presidential_nominee.nominated_at',)], 'cands': [('people.person.education',), ('people.person.quotations',), ('fictional_universe.person_in_fiction.representations_in_fiction',), ('symbols.namesake.named_after',), ('people.sibling_relationship.sibling',), ('government.politician.party',), ('EOD',), ('fictional_universe.fictional_character.based_on',), ('people.person.children',), ('common.topic.notable_types',), ('base.activism.activist.area_of_activism',), ('people.deceased_person.place_of_death',), ('base.politicalconventions.presidential_nominee.nominated_at',), ('common.topic.notable_for',), ('base.culturalevent.event.entity_involved',), ('people.person.nationality',), ('people.person.places_lived',), ('people.person.sibling_s',), ('book.book_subject.works',), ('people.person.place_of_birth',), ('people.person.spouse_s',), ('people.person.parents',), ('symbols.name_source.namesakes',), ('government.politician.government_positions_held',), ('organization.organization_founder.organizations_founded',), ('book.written_work.author',), ('location.location.people_born_here',), ('people.deceased_person.place_of_burial',), ('organization.organization.founders',), ('government.political_party_tenure.politician',), ('music.artist.album',), ('book.author.works_written',), ('people.person.religion',), ('film.person_or_entity_appearing_in_film.films',), ('government.government_position_held.office_holder',), ('music.artist.track',), ('people.marriage.spouse',), ('people.person.profession',)]}}, 2: {'m.0b3tf': {'ground_truth': [('base.politicalconventions.presidential_nominee.nominated_at', 'EOD')], 'cands': [('base.politicalconventions.presidential_nominee.nominated_at', 'EOD'), ('base.politicalconventions.presidential_nominee.nominated_at', 'base.politicalconventions.presidential_nominee.nominated_at')]}}}\n",
      "WebQTrn-54 -----> {1: {'m.02zg0': {'ground_truth': [('book.author.works_written',)], 'cands': [('people.person.quotations',), ('fictional_universe.person_in_fiction.representations_in_fiction',), ('symbols.namesake.named_after',), ('people.sibling_relationship.sibling',), ('government.politician.party',), ('EOD',), ('fictional_universe.fictional_character.based_on',), ('people.person.children',), ('common.topic.notable_types',), ('base.activism.activist.area_of_activism',), ('people.deceased_person.place_of_death',), ('common.topic.notable_for',), ('people.deceased_person.cause_of_death',), ('people.person.nationality',), ('influence.influence_node.influenced',), ('people.person.places_lived',), ('influence.influence_node.influenced_by',), ('people.person.sibling_s',), ('book.book_subject.works',), ('people.person.place_of_birth',), ('people.person.spouse_s',), ('people.person.parents',), ('symbols.name_source.namesakes',), ('organization.organization_founder.organizations_founded',), ('book.written_work.author',), ('location.location.people_born_here',), ('organization.organization.founders',), ('government.political_party_tenure.politician',), ('book.author.works_written',), ('book.author.book_editions_published',), ('people.person.ethnicity',), ('people.marriage.spouse',), ('people.person.profession',)]}, 'm.01xryvm': {'ground_truth': [('common.topic.notable_types',)], 'cands': [('common.topic.notable_types',), ('EOD',)]}}, 2: {'m.02zg0': {'ground_truth': [('book.author.works_written', 'EOD')], 'cands': [('book.author.works_written', 'common.topic.notable_types'), ('book.author.works_written', 'EOD'), ('book.author.works_written', 'book.author.works_written')]}, 'm.01xryvm': {'ground_truth': [('common.topic.notable_types', 'EOD')], 'cands': [('common.topic.notable_types', 'common.topic.notable_types'), ('common.topic.notable_types', 'book.author.works_written'), ('common.topic.notable_types', 'EOD')]}}}\n",
      "WebQTrn-55 -----> {1: {'m.0cw10': {'ground_truth': [('people.person.parents',)], 'cands': [('EOD',), ('symbols.namesake.named_after',), ('people.person.parents',), ('people.person.spouse_s',)]}}, 2: {'m.0cw10': {'ground_truth': [('people.person.parents', 'EOD')], 'cands': [('people.person.parents', 'EOD'), ('people.person.parents', 'people.person.parents')]}}}\n",
      "WebQTrn-56 -----> {1: {'m.01jw4r': {'ground_truth': [('award.award_winner.awards_won',)], 'cands': [('people.person.sibling_s',), ('people.person.education',), ('film.actor.film',), ('people.person.place_of_birth',), ('award.award_winner.awards_won',), ('tv.tv_guest_role.actor',), ('people.person.spouse_s',), ('tv.tv_actor.guest_roles',), ('people.sibling_relationship.sibling',), ('base.popstra.celebrity.dated',), ('people.person.parents',), ('award.award_honor.award_winner',), ('tv.tv_producer.programs_produced',), ('tv.regular_tv_appearance.actor',), ('EOD',), ('film.producer.film',), ('award.award_nomination.award_nominee',), ('film.person_or_entity_appearing_in_film.films',), ('people.person.profession',), ('people.person.children',), ('common.topic.notable_types',), ('film.director.film',), ('film.performance.actor',), ('tv.tv_actor.starring_roles',), ('common.topic.notable_for',), ('people.marriage.spouse',), ('people.person.nationality',), ('base.popstra.dated.participant',)]}, 'm.0g_w': {'ground_truth': [('award.award_category.category_of',)], 'cands': [('EOD',), ('award.award_category.category_of',)]}}, 2: {'m.01jw4r': {'ground_truth': [('award.award_winner.awards_won', 'award.award_honor.honored_for')], 'cands': [('award.award_winner.awards_won', 'award.award_honor.award'), ('award.award_winner.awards_won', 'EOD')]}, 'm.0g_w': {'ground_truth': [('award.award_category.category_of', 'award.award_honor.award')], 'cands': [('award.award_category.category_of', 'film.performance.character'), ('award.award_category.category_of', 'EOD'), ('award.award_category.category_of', 'film.performance.film'), ('award.award_category.category_of', 'award.award_honor.award'), ('award.award_category.category_of', 'film.actor.film')]}}}\n",
      "WebQTrn-57 -----> {1: {'m.06rkl': {'ground_truth': [('book.book_character.appears_in_book',)], 'cands': [('book.book_subject.works',), ('fictional_universe.person_in_fiction.representations_in_fiction',), ('fictional_universe.fictional_character.powers_or_abilities',), ('fictional_universe.sibling_relationship_of_fictional_characters.siblings',), ('symbols.namesake.named_after',), ('tv.tv_character.appeared_in_tv_episodes',), ('fictional_universe.fictional_character.siblings',), ('book.book_character.appears_in_book',), ('symbols.name_source.namesakes',), ('EOD',), ('fictional_universe.marriage_of_fictional_characters.spouses',), ('film.performance.character',), ('fictional_universe.fictional_character_creator.fictional_characters_created',), ('fictional_universe.fictional_character.based_on',), ('common.topic.notable_types',), ('common.topic.notable_for',), ('film.film_character.portrayed_in_films',), ('fictional_universe.fictional_character.appears_in_these_fictional_universes',), ('fictional_universe.fictional_character.occupation',), ('tv.tv_character.appeared_in_tv_program',), ('influence.influence_node.influenced',), ('tv.regular_tv_appearance.character',), ('fictional_universe.fictional_character.character_created_by',), ('fictional_universe.fictional_character.married_to',), ('influence.influence_node.influenced_by',)]}}, 2: {'m.06rkl': {'ground_truth': [('book.book_character.appears_in_book', 'EOD')], 'cands': [('book.book_character.appears_in_book', 'EOD'), ('book.book_character.appears_in_book', 'book.book_character.appears_in_book')]}}}\n",
      "WebQTrn-60 -----> {1: {'m.05zjd': {'ground_truth': [('language.human_language.countries_spoken_in',)], 'cands': [('location.country.languages_spoken',), ('language.human_language.countries_spoken_in',), ('EOD',)]}}, 2: {'m.05zjd': {'ground_truth': [('language.human_language.countries_spoken_in', 'EOD')], 'cands': [('language.human_language.countries_spoken_in', 'EOD'), ('language.human_language.countries_spoken_in', 'language.human_language.countries_spoken_in')]}}}\n",
      "WebQTrn-62 -----> {1: {'m.081nh': {'ground_truth': [('people.person.children',)], 'cands': [('EOD',), ('people.person.children',), ('influence.influence_node.influenced_by',)]}}, 2: {'m.081nh': {'ground_truth': [('people.person.children', 'EOD')], 'cands': [('people.person.children', 'EOD'), ('people.person.children', 'people.person.children')]}}}\n",
      "WebQTrn-63 -----> {1: {'m.01727v': {'ground_truth': [('music.musical_group.member',)], 'cands': [('award.award_winner.awards_won',), ('music.composer.compositions',), ('music.group_membership.group',), ('award.award_honor.award_winner',), ('EOD',), ('music.artist.album',), ('music.musical_group.member',), ('music.artist.origin',), ('film.person_or_entity_appearing_in_film.films',), ('common.topic.notable_types',), ('broadcast.artist.content',), ('music.artist.label',), ('music.artist.genre',), ('common.topic.notable_for',), ('music.artist.track',), ('music.composition.composer',)]}}, 2: {'m.01727v': {'ground_truth': [('music.musical_group.member', 'music.group_membership.member')], 'cands': [('music.musical_group.member', 'music.group_membership.member'), ('music.musical_group.member', 'music.group_member.membership'), ('music.musical_group.member', 'EOD'), ('music.musical_group.member', 'music.group_membership.group'), ('music.musical_group.member', 'music.musical_group.member'), ('music.musical_group.member', 'music.group_membership.role')]}}}\n",
      "WebQTrn-64 -----> {1: {'m.08w51z': {'ground_truth': [('film.performance.film',)], 'cands': [('EOD',), ('film.performance.film',)]}, 'm.07pzc': {'ground_truth': [('film.actor.film',)], 'cands': [('people.person.education',), ('music.group_membership.member',), ('film.actor.film',), ('award.award_winner.awards_won',), ('fictional_universe.person_in_fiction.representations_in_fiction',), ('tv.tv_guest_role.actor',), ('tv.tv_actor.guest_roles',), ('film.music_contributor.film',), ('symbols.namesake.named_after',), ('music.composer.compositions',), ('EOD',), ('music.artist.origin',), ('base.crime.convicted_criminal.convictions',), ('fictional_universe.fictional_character.based_on',), ('people.person.children',), ('common.topic.notable_types',), ('broadcast.artist.content',), ('music.group_member.membership',), ('music.artist.genre',), ('people.deceased_person.place_of_death',), ('common.topic.notable_for',), ('people.deceased_person.cause_of_death',), ('people.person.nationality',), ('music.artist.track_contributions',), ('people.person.places_lived',), ('base.popstra.dated.participant',), ('people.person.place_of_birth',), ('base.prison.prisoner.imprisoned',), ('people.person.spouse_s',), ('base.popstra.celebrity.dated',), ('people.person.parents',), ('symbols.name_source.namesakes',), ('award.award_honor.award_winner',), ('book.written_work.author',), ('location.location.people_born_here',), ('music.artist.album',), ('book.author.works_written',), ('music.lyricist.lyrics_written',), ('film.person_or_entity_appearing_in_film.films',), ('book.author.book_editions_published',), ('music.artist.label',), ('base.disaster2.injured_person.injuries',), ('film.performance.actor',), ('people.person.ethnicity',), ('music.artist.track',), ('people.marriage.spouse',), ('music.composition.composer',), ('people.person.profession',)]}}, 2: {'m.08w51z': {'ground_truth': [('film.performance.film', 'film.performance.character')], 'cands': [('film.performance.film', 'EOD'), ('film.performance.film', 'film.performance.film'), ('film.performance.film', 'film.actor.film'), ('film.performance.film', 'film.performance.character')]}, 'm.07pzc': {'ground_truth': [('film.actor.film', 'film.performance.character')], 'cands': [('film.actor.film', 'film.performance.character'), ('film.actor.film', 'film.actor.film'), ('film.actor.film', 'film.performance.film'), ('film.actor.film', 'EOD')]}}}\n",
      "WebQTrn-65 -----> {1: {'m.0chghy': {'ground_truth': [('location.location.time_zones',)], 'cands': [('base.schemastaging.phone_sandbox.service_location',), ('EOD',), ('location.location.time_zones',)]}}, 2: {'m.0chghy': {'ground_truth': [('location.location.time_zones', 'EOD')], 'cands': [('location.location.time_zones', 'EOD'), ('location.location.time_zones', 'location.location.time_zones')]}}}\n",
      "WebQTrn-66 -----> {1: {'m.0hhggmy': {'ground_truth': [('film.performance.film',)], 'cands': [('EOD',), ('film.performance.film',)]}, 'm.03_wpf': {'ground_truth': [('film.actor.film',)], 'cands': [('people.person.sibling_s',), ('people.person.education',), ('film.actor.film',), ('people.person.place_of_birth',), ('tv.tv_guest_role.actor',), ('award.award_winner.awards_won',), ('tv.tv_actor.guest_roles',), ('people.sibling_relationship.sibling',), ('people.person.parents',), ('award.award_honor.award_winner',), ('location.location.people_born_here',), ('tv.regular_tv_appearance.actor',), ('EOD',), ('award.award_nomination.award_nominee',), ('people.person.profession',), ('people.person.children',), ('common.topic.notable_types',), ('film.performance.actor',), ('tv.tv_actor.starring_roles',), ('common.topic.notable_for',), ('people.person.nationality',), ('people.person.places_lived',)]}}, 2: {'m.0hhggmy': {'ground_truth': [('film.performance.film', 'film.performance.character')], 'cands': [('film.performance.film', 'EOD'), ('film.performance.film', 'film.performance.film'), ('film.performance.film', 'film.actor.film'), ('film.performance.film', 'film.performance.character')]}, 'm.03_wpf': {'ground_truth': [('film.actor.film', 'film.performance.character')], 'cands': [('film.actor.film', 'film.performance.character'), ('film.actor.film', 'film.actor.film'), ('film.actor.film', 'film.performance.film'), ('film.actor.film', 'EOD')]}}}\n",
      "WebQTrn-67 -----> {1: {'m.04n32': {'ground_truth': [('music.artist.genre',)], 'cands': [('music.group_membership.member',), ('film.actor.film',), ('award.award_winner.awards_won',), ('fictional_universe.person_in_fiction.representations_in_fiction',), ('tv.tv_guest_role.actor',), ('tv.tv_actor.guest_roles',), ('film.music_contributor.film',), ('symbols.namesake.named_after',), ('people.sibling_relationship.sibling',), ('music.composer.compositions',), ('organization.organization_member.member_of',), ('tv.regular_tv_appearance.actor',), ('EOD',), ('music.group_member.instruments_played',), ('music.artist.origin',), ('fictional_universe.fictional_character.based_on',), ('people.person.children',), ('common.topic.notable_types',), ('broadcast.artist.content',), ('music.group_member.membership',), ('music.artist.genre',), ('people.deceased_person.place_of_death',), ('common.topic.notable_for',), ('people.deceased_person.cause_of_death',), ('influence.influence_node.influenced',), ('people.person.nationality',), ('music.artist.track_contributions',), ('influence.influence_node.influenced_by',), ('people.person.sibling_s',), ('book.book_subject.works',), ('people.person.place_of_birth',), ('people.person.spouse_s',), ('organization.organization_membership.member',), ('people.person.parents',), ('symbols.name_source.namesakes',), ('award.award_honor.award_winner',), ('book.written_work.author',), ('music.group_membership.group',), ('location.location.people_born_here',), ('people.deceased_person.place_of_burial',), ('music.artist.album',), ('book.author.works_written',), ('music.lyricist.lyrics_written',), ('music.musical_group.member',), ('film.person_or_entity_appearing_in_film.films',), ('music.artist.label',), ('film.performance.actor',), ('tv.tv_actor.starring_roles',), ('people.person.ethnicity',), ('music.artist.track',), ('people.marriage.spouse',), ('music.composition.composer',), ('people.person.profession',)]}}, 2: {'m.04n32': {'ground_truth': [('music.artist.genre', 'EOD')], 'cands': [('music.artist.genre', 'EOD'), ('music.artist.genre', 'music.artist.genre')]}}}\n",
      "WebQTrn-69 -----> {1: {'m.01pr9kj': {'ground_truth': [('tv.tv_actor.starring_roles',)], 'cands': [('people.person.places_lived',), ('people.person.education',), ('people.person.sibling_s',), ('film.actor.film',), ('people.person.place_of_birth',), ('tv.tv_guest_role.actor',), ('people.person.spouse_s',), ('tv.tv_actor.guest_roles',), ('people.sibling_relationship.sibling',), ('base.popstra.celebrity.dated',), ('people.person.parents',), ('tv.tv_producer.programs_produced',), ('location.location.people_born_here',), ('tv.regular_tv_appearance.actor',), ('tv.tv_personality.tv_regular_appearances',), ('EOD',), ('music.artist.album',), ('people.person.profession',), ('people.person.children',), ('celebrities.celebrity.sexual_relationships',), ('common.topic.notable_types',), ('music.artist.genre',), ('tv.tv_actor.starring_roles',), ('film.performance.actor',), ('common.topic.notable_for',), ('music.artist.track',), ('people.marriage.spouse',), ('people.person.nationality',), ('celebrities.romantic_relationship.celebrity',), ('base.popstra.dated.participant',)]}}, 2: {'m.01pr9kj': {'ground_truth': [('tv.tv_actor.starring_roles', 'tv.regular_tv_appearance.series')], 'cands': [('tv.tv_actor.starring_roles', 'tv.regular_tv_appearance.seasons'), ('tv.tv_actor.starring_roles', 'tv.tv_character.appeared_in_tv_program'), ('tv.tv_actor.starring_roles', 'tv.tv_actor.starring_roles'), ('tv.tv_actor.starring_roles', 'tv.regular_tv_appearance.series'), ('tv.tv_actor.starring_roles', 'EOD'), ('tv.tv_actor.starring_roles', 'tv.regular_tv_appearance.character'), ('tv.tv_actor.starring_roles', 'tv.regular_tv_appearance.actor')]}}}\n",
      "WebQTrn-70 -----> {1: {'m.02cl1': {'ground_truth': [('location.location.time_zones',)], 'cands': [('EOD',), ('location.location.time_zones',), ('location.location.containedby',), ('travel.travel_destination.tourist_attractions',)]}}, 2: {'m.02cl1': {'ground_truth': [('location.location.time_zones', 'EOD')], 'cands': [('location.location.time_zones', 'EOD'), ('location.location.time_zones', 'location.location.time_zones')]}}}\n",
      "WebQTrn-71 -----> {1: {'m.01npcy7': {'ground_truth': [('tv.regular_tv_appearance.actor',)], 'cands': [('people.person.places_lived',), ('people.person.education',), ('film.actor.film',), ('people.person.place_of_birth',), ('tv.tv_guest_role.actor',), ('people.person.spouse_s',), ('tv.tv_actor.guest_roles',), ('base.popstra.celebrity.dated',), ('people.person.parents',), ('location.location.people_born_here',), ('tv.tv_personality.tv_regular_appearances',), ('tv.regular_tv_appearance.actor',), ('EOD',), ('music.artist.album',), ('people.person.profession',), ('people.person.children',), ('common.topic.notable_types',), ('film.director.film',), ('film.performance.actor',), ('tv.tv_actor.starring_roles',), ('common.topic.notable_for',), ('music.artist.track',), ('people.marriage.spouse',), ('base.popstra.celebrity.infidelity_perpetrator',), ('people.person.nationality',), ('base.popstra.dated.participant',)]}, 'm.0n2bh': {'ground_truth': [('tv.tv_program.regular_cast',)], 'cands': [('tv.tv_program.regular_cast',), ('award.award_nominated_work.award_nominations',), ('award.award_winning_work.awards_won',), ('tv.tv_program.original_network',), ('tv.regular_tv_appearance.series',), ('common.topic.notable_types',), ('tv.tv_program.theme_song',), ('award.award_honor.honored_for',), ('common.topic.notable_for',), ('tv.tv_program.program_creator',), ('EOD',)]}}, 2: {'m.01npcy7': {'ground_truth': [('tv.regular_tv_appearance.actor', 'tv.regular_tv_appearance.character')], 'cands': [('tv.regular_tv_appearance.actor', 'EOD'), ('tv.regular_tv_appearance.actor', 'tv.regular_tv_appearance.seasons'), ('tv.regular_tv_appearance.actor', 'tv.tv_program.regular_cast'), ('tv.regular_tv_appearance.actor', 'tv.regular_tv_appearance.series'), ('tv.regular_tv_appearance.actor', 'tv.regular_tv_appearance.actor'), ('tv.regular_tv_appearance.actor', 'tv.tv_actor.starring_roles'), ('tv.regular_tv_appearance.actor', 'tv.regular_tv_appearance.character')]}, 'm.0n2bh': {'ground_truth': [('tv.tv_program.regular_cast', 'tv.regular_tv_appearance.character')], 'cands': [('tv.tv_program.regular_cast', 'tv.regular_tv_appearance.actor'), ('tv.tv_program.regular_cast', 'tv.tv_program.regular_cast'), ('tv.tv_program.regular_cast', 'tv.regular_tv_appearance.seasons'), ('tv.tv_program.regular_cast', 'tv.regular_tv_appearance.character'), ('tv.tv_program.regular_cast', 'tv.regular_tv_appearance.series'), ('tv.tv_program.regular_cast', 'tv.tv_actor.starring_roles'), ('tv.tv_program.regular_cast', 'EOD')]}}}\n",
      "WebQTrn-72 -----> {1: {'m.0c9xl9': {'ground_truth': [('people.person.place_of_birth',)], 'cands': [('people.person.education',), ('book.author.book_editions_published',), ('people.person.place_of_birth',), ('common.topic.notable_types',), ('people.person.nationality',), ('book.written_work.author',), ('common.topic.notable_for',), ('location.location.people_born_here',), ('EOD',), ('people.person.profession',), ('book.author.works_written',)]}}, 2: {'m.0c9xl9': {'ground_truth': [('people.person.place_of_birth', 'EOD')], 'cands': [('people.person.place_of_birth', 'EOD'), ('people.person.place_of_birth', 'people.person.place_of_birth')]}}}\n",
      "WebQTrn-73 -----> {1: {'m.09472': {'ground_truth': [('location.country.form_of_government',)], 'cands': [('location.country.official_language',), ('people.person.place_of_birth',), ('location.location.contains',), ('symbols.namesake.named_after',), ('base.aareas.schema.administrative_area.administrative_area_type',), ('travel.travel_destination.tourist_attractions',), ('symbols.name_source.namesakes',), ('time.event.locations',), ('location.location.people_born_here',), ('EOD',), ('location.location.containedby',), ('location.location.events',), ('common.topic.notable_types',), ('people.deceased_person.place_of_death',), ('travel.tourist_attraction.near_travel_destination',), ('military.military_combatant_group.combatants',), ('location.country.capital',), ('common.topic.notable_for',), ('base.culturalevent.event.entity_involved',), ('military.military_command.military_combatant',), ('people.person.nationality',), ('location.country.form_of_government',), ('military.military_combatant.casualties',)]}}, 2: {'m.09472': {'ground_truth': [('location.country.form_of_government', 'EOD')], 'cands': [('location.country.form_of_government', 'EOD'), ('location.country.form_of_government', 'location.country.form_of_government')]}}}\n",
      "WebQTrn-74 -----> {1: {'m.01ync': {'ground_truth': [('sports.sports_championship_event.runner_up',)], 'cands': [('sports.sports_championship_event.runner_up',), ('EOD',), ('sports.sports_league_participation.team',)]}, 'm.0fjp3': {'ground_truth': [('sports.sports_championship.events',)], 'cands': [('book.book_subject.works',), ('common.topic.notable_types',), ('sports.sports_championship_event.championship',), ('time.recurring_event.instances',), ('common.topic.notable_for',), ('time.recurring_event.current_frequency',), ('sports.sports_championship.events',), ('EOD',)]}}, 2: {'m.01ync': {'ground_truth': [('sports.sports_championship_event.runner_up', 'EOD')], 'cands': [('sports.sports_championship_event.runner_up', 'sports.sports_championship.events'), ('sports.sports_championship_event.runner_up', 'sports.sports_championship_event.runner_up'), ('sports.sports_championship_event.runner_up', 'EOD')]}, 'm.0fjp3': {'ground_truth': [('sports.sports_championship.events', 'EOD')], 'cands': [('sports.sports_championship.events', 'EOD'), ('sports.sports_championship.events', 'sports.sports_championship_event.runner_up'), ('sports.sports_championship.events', 'sports.sports_championship.events')]}}}\n",
      "WebQTrn-76 -----> {1: {'m.01y2hnl': {'ground_truth': [('common.topic.notable_types',)], 'cands': [('common.topic.notable_types',), ('EOD',)]}, 'm.049_zz': {'ground_truth': [('people.person.education',)], 'cands': [('people.person.places_lived',), ('people.person.education',), ('film.actor.film',), ('people.person.place_of_birth',), ('award.award_winner.awards_won',), ('tv.tv_guest_role.actor',), ('people.person.spouse_s',), ('tv.tv_actor.guest_roles',), ('base.popstra.celebrity.dated',), ('people.person.parents',), ('award.award_honor.award_winner',), ('people.person.employment_history',), ('location.location.people_born_here',), ('tv.regular_tv_appearance.actor',), ('tv.tv_personality.tv_regular_appearances',), ('EOD',), ('award.award_nomination.award_nominee',), ('film.person_or_entity_appearing_in_film.films',), ('people.person.profession',), ('people.person.children',), ('celebrities.celebrity.sexual_relationships',), ('common.topic.notable_types',), ('tv.tv_actor.starring_roles',), ('film.performance.actor',), ('business.employment_tenure.person',), ('common.topic.notable_for',), ('people.marriage.spouse',), ('people.person.nationality',), ('celebrities.romantic_relationship.celebrity',), ('base.popstra.dated.participant',)]}}, 2: {'m.01y2hnl': {'ground_truth': [('common.topic.notable_types', 'EOD')], 'cands': [('common.topic.notable_types', 'education.education.institution'), ('common.topic.notable_types', 'EOD')]}, 'm.049_zz': {'ground_truth': [('people.person.education', 'education.education.institution')], 'cands': [('people.person.education', 'education.education.institution'), ('people.person.education', 'education.education.major_field_of_study'), ('people.person.education', 'people.person.education'), ('people.person.education', 'EOD')]}}}\n",
      "WebQTrn-77 -----> {1: {'m.04jpl': {'ground_truth': [('travel.travel_destination.tourist_attractions',)], 'cands': [('location.location.time_zones',), ('EOD',), ('people.place_lived.location',), ('travel.travel_destination.tourist_attractions',)]}}, 2: {'m.04jpl': {'ground_truth': [('travel.travel_destination.tourist_attractions', 'EOD')], 'cands': [('travel.travel_destination.tourist_attractions', 'EOD'), ('travel.travel_destination.tourist_attractions', 'travel.travel_destination.tourist_attractions')]}}}\n",
      "WebQTrn-78 -----> {1: {'m.0g_6k': {'ground_truth': [('people.person.education',)], 'cands': [('people.person.education',), ('EOD',), ('influence.influence_node.influenced_by',)]}}, 2: {'m.0g_6k': {'ground_truth': [('people.person.education', 'education.education.institution')], 'cands': [('people.person.education', 'education.education.institution'), ('people.person.education', 'EOD'), ('people.person.education', 'people.person.education')]}}}\n",
      "WebQTrn-80 -----> {1: {'m.07_m2': {'ground_truth': [('influence.influence_node.influenced_by',)], 'cands': [('EOD',), ('influence.influence_node.influenced_by',)]}}, 2: {'m.07_m2': {'ground_truth': [('influence.influence_node.influenced_by', 'EOD')], 'cands': [('influence.influence_node.influenced_by', 'EOD'), ('influence.influence_node.influenced_by', 'influence.influence_node.influenced_by')]}}}\n",
      "WebQTrn-83 -----> {1: {'m.0jm3v': {'ground_truth': [('sports.sports_team.championships',)], 'cands': [('sports.sports_team_roster.team',), ('EOD',), ('sports.sports_team.championships',)]}}, 2: {'m.0jm3v': {'ground_truth': [('sports.sports_team.championships', 'EOD')], 'cands': [('sports.sports_team.championships', 'EOD'), ('sports.sports_team.championships', 'sports.sports_team.championships')]}}}\n",
      "WebQTrn-86 -----> {1: {'m.021zmy': {'ground_truth': [('distilled_spirits.distillery.region',)], 'cands': [('business.employment_tenure.company',), ('common.topic.notable_types',), ('symbols.namesake.named_after',), ('symbols.name_source.namesakes',), ('common.topic.notable_for',), ('business.employer.employees',), ('distilled_spirits.distillery.region',), ('EOD',)]}}, 2: {'m.021zmy': {'ground_truth': [('distilled_spirits.distillery.region', 'EOD')], 'cands': [('distilled_spirits.distillery.region', 'EOD'), ('distilled_spirits.distillery.region', 'distilled_spirits.distillery.region')]}}}\n",
      "WebQTrn-87 -----> {1: {'m.05sb1': {'ground_truth': [('location.country.official_language',)], 'cands': [('location.country.official_language',), ('EOD',), ('language.human_language.countries_spoken_in',)]}}, 2: {'m.05sb1': {'ground_truth': [('location.country.official_language', 'EOD')], 'cands': [('location.country.official_language', 'location.country.official_language'), ('location.country.official_language', 'EOD')]}}}\n",
      "WebQTrn-88 -----> {1: {'m.027xx3': {'ground_truth': [('location.location.containedby',)], 'cands': [('education.educational_institution.colors',), ('location.location.contains',), ('business.employment_tenure.company',), ('organization.organization.leadership',), ('education.education.institution',), ('organization.organization_founder.organizations_founded',), ('organization.organization.headquarters',), ('organization.organization.child',), ('education.educational_institution.mascot',), ('organization.leadership.organization',), ('organization.organization.founders',), ('EOD',), ('location.location.containedby',), ('common.topic.notable_types',), ('common.topic.notable_for',), ('business.employer.employees',), ('sports.sports_league_draft_pick.school',), ('organization.organization_relationship.parent',)]}}, 2: {'m.027xx3': {'ground_truth': [('location.location.containedby', 'EOD')], 'cands': [('location.location.containedby', 'EOD'), ('location.location.containedby', 'location.location.containedby')]}}}\n",
      "WebQTrn-90 -----> {1: {'m.07rp8': {'ground_truth': [('base.prison.prisoner.imprisoned',)], 'cands': [('people.person.education',), ('people.person.quotations',), ('people.person.place_of_birth',), ('base.prison.prisoner.imprisoned',), ('people.person.parents',), ('location.location.people_born_here',), ('EOD',), ('people.person.religion',), ('base.crime.convicted_criminal.convictions',), ('film.person_or_entity_appearing_in_film.films',), ('people.person.children',), ('people.person.profession',), ('common.topic.notable_types',), ('people.deceased_person.place_of_death',), ('common.topic.notable_for',), ('people.deceased_person.cause_of_death',), ('base.culturalevent.event.entity_involved',), ('military.military_person.participated_in_conflicts',), ('people.person.nationality',), ('base.disaster2.attacker.attack_s',)]}}, 2: {'m.07rp8': {'ground_truth': [('base.prison.prisoner.imprisoned', 'base.prison.imprisonment.prison')], 'cands': [('base.prison.prisoner.imprisoned', 'EOD'), ('base.prison.prisoner.imprisoned', 'base.prison.prisoner.imprisoned'), ('base.prison.prisoner.imprisoned', 'base.prison.imprisonment.prison')]}}}\n",
      "WebQTrn-91 -----> {1: {'m.01y4t': {'ground_truth': [('geography.river.mouth',)], 'cands': [('location.location.containedby',), ('location.location.contains',), ('location.location.events',), ('geography.river.origin',), ('common.topic.notable_types',), ('geography.river.basin_countries',), ('people.deceased_person.place_of_death',), ('time.event.locations',), ('common.topic.notable_for',), ('EOD',), ('geography.river.mouth',)]}}, 2: {'m.01y4t': {'ground_truth': [('geography.river.mouth', 'EOD')], 'cands': [('geography.river.mouth', 'EOD'), ('geography.river.mouth', 'geography.river.mouth')]}}}\n",
      "WebQTrn-92 -----> {1: {'m.02_99rl': {'ground_truth': [('celebrities.romantic_relationship.relationship_type',)], 'cands': [('EOD',), ('celebrities.romantic_relationship.relationship_type',)]}, 'm.0bdxs5': {'ground_truth': [('celebrities.celebrity.sexual_relationships',)], 'cands': [('people.person.education',), ('people.person.quotations',), ('music.group_membership.member',), ('film.actor.film',), ('tv.tv_guest_role.actor',), ('award.award_winner.awards_won',), ('fictional_universe.person_in_fiction.representations_in_fiction',), ('tv.tv_actor.guest_roles',), ('film.music_contributor.film',), ('people.sibling_relationship.sibling',), ('music.composer.compositions',), ('tv.regular_tv_appearance.actor',), ('tv.tv_personality.tv_regular_appearances',), ('EOD',), ('music.group_member.instruments_played',), ('award.award_nomination.award_nominee',), ('music.artist.origin',), ('fictional_universe.fictional_character.based_on',), ('people.person.children',), ('celebrities.celebrity.sexual_relationships',), ('common.topic.notable_types',), ('broadcast.artist.content',), ('music.group_member.membership',), ('music.artist.genre',), ('common.topic.notable_for',), ('influence.influence_node.influenced',), ('people.person.nationality',), ('music.artist.track_contributions',), ('people.person.places_lived',), ('influence.influence_node.influenced_by',), ('people.person.sibling_s',), ('base.popstra.dated.participant',), ('people.person.place_of_birth',), ('base.popstra.celebrity.dated',), ('people.person.parents',), ('award.award_honor.award_winner',), ('book.written_work.author',), ('location.location.people_born_here',), ('music.artist.album',), ('book.author.works_written',), ('music.lyricist.lyrics_written',), ('people.person.religion',), ('film.person_or_entity_appearing_in_film.films',), ('celebrities.celebrity.substance_abuse_problems',), ('music.artist.label',), ('film.performance.actor',), ('tv.tv_actor.starring_roles',), ('people.person.ethnicity',), ('music.artist.track',), ('music.composition.composer',), ('people.person.profession',), ('celebrities.romantic_relationship.celebrity',)]}}, 2: {'m.02_99rl': {'ground_truth': [('celebrities.romantic_relationship.relationship_type', 'celebrities.romantic_relationship.celebrity')], 'cands': [('celebrities.romantic_relationship.relationship_type', 'government.government_position_held.office_holder'), ('celebrities.romantic_relationship.relationship_type', 'celebrities.romantic_relationship.celebrity'), ('celebrities.romantic_relationship.relationship_type', 'government.governmental_jurisdiction.governing_officials'), ('celebrities.romantic_relationship.relationship_type', 'government.government_position_held.basic_title'), ('celebrities.romantic_relationship.relationship_type', 'EOD')]}, 'm.0bdxs5': {'ground_truth': [('celebrities.celebrity.sexual_relationships', 'celebrities.romantic_relationship.celebrity')], 'cands': [('celebrities.celebrity.sexual_relationships', 'EOD'), ('celebrities.celebrity.sexual_relationships', 'government.government_position_held.basic_title'), ('celebrities.celebrity.sexual_relationships', 'government.government_position_held.office_holder'), ('celebrities.celebrity.sexual_relationships', 'celebrities.romantic_relationship.celebrity'), ('celebrities.celebrity.sexual_relationships', 'government.governmental_jurisdiction.governing_officials')]}}}\n",
      "WebQTrn-95 -----> {1: {'m.03_r3': {'ground_truth': [('location.country.currency_used',)], 'cands': [('location.country.official_language',), ('location.country.currency_used',), ('location.country.languages_spoken',), ('government.government_position_held.jurisdiction_of_office',), ('EOD',), ('base.aareas.schema.administrative_area.short_name',)]}}, 2: {'m.03_r3': {'ground_truth': [('location.country.currency_used', 'EOD')], 'cands': [('location.country.currency_used', 'location.country.currency_used'), ('location.country.currency_used', 'EOD')]}}}\n",
      "WebQTrn-96 -----> {1: {'m.016z2j': {'ground_truth': [('people.person.spouse_s',)], 'cands': [('people.person.education',), ('people.person.quotations',), ('film.actor.film',), ('award.award_winner.awards_won',), ('tv.tv_guest_role.actor',), ('tv.tv_actor.guest_roles',), ('people.sibling_relationship.sibling',), ('music.composer.compositions',), ('tv.regular_tv_appearance.actor',), ('EOD',), ('base.popstra.celebrity.religion',), ('award.award_nomination.award_nominee',), ('people.person.children',), ('celebrities.celebrity.sexual_relationships',), ('common.topic.notable_types',), ('film.writer.film',), ('common.topic.notable_for',), ('people.person.nationality',), ('music.artist.track_contributions',), ('people.person.places_lived',), ('base.popstra.dated.participant',), ('people.person.sibling_s',), ('people.person.place_of_birth',), ('base.prison.prisoner.imprisoned',), ('people.person.spouse_s',), ('base.popstra.celebrity.dated',), ('people.person.parents',), ('award.award_honor.award_winner',), ('music.artist.album',), ('film.person_or_entity_appearing_in_film.films',), ('celebrities.celebrity.substance_abuse_problems',), ('film.performance.actor',), ('tv.tv_actor.starring_roles',), ('people.person.ethnicity',), ('music.artist.track',), ('people.marriage.spouse',), ('music.composition.composer',), ('people.person.profession',), ('celebrities.romantic_relationship.celebrity',)]}, 'm.02zsn': {'ground_truth': [('people.person.gender',)], 'cands': [('fictional_universe.fictional_character.gender',), ('EOD',), ('people.person.gender',)]}}, 2: {'m.016z2j': {'ground_truth': [('people.person.spouse_s', 'people.marriage.spouse')], 'cands': [('people.person.spouse_s', 'EOD'), ('people.person.spouse_s', 'people.marriage.spouse'), ('people.person.spouse_s', 'people.marriage.location_of_ceremony'), ('people.person.spouse_s', 'people.person.spouse_s')]}, 'm.02zsn': {'ground_truth': [('people.person.gender', 'EOD')], 'cands': [('people.person.gender', 'EOD'), ('people.person.gender', 'people.marriage.spouse')]}}}\n",
      "WebQTrn-97 -----> {1: {'m.0hmtk': {'ground_truth': [('sports.sports_team.arena_stadium',)], 'cands': [('ice_hockey.hockey_team.coach',), ('sports.sports_championship_event.champion',), ('award.award_winner.awards_won',), ('sports.sports_team_owner.teams_owned',), ('sports.sports_team.arena_stadium',), ('award.award_honor.award_winner',), ('sports.sports_team_roster.team',), ('sports.sports_team.championships',), ('EOD',), ('sports.sports_team_coach_tenure.team',), ('sports.sports_team.sport',), ('base.schemastaging.athlete_salary.team',), ('sports.sports_team_location.teams',), ('sports.sports_team.location',), ('sports.sports_league_participation.team',), ('common.topic.notable_types',), ('sports.sports_team.roster',), ('sports.professional_sports_team.owner_s',), ('sports.sports_team.venue',), ('common.topic.notable_for',), ('sports.sports_team.league',), ('sports.sports_team.coaches',)]}}, 2: {'m.0hmtk': {'ground_truth': [('sports.sports_team.arena_stadium', 'EOD')], 'cands': [('sports.sports_team.arena_stadium', 'sports.sports_team.arena_stadium'), ('sports.sports_team.arena_stadium', 'EOD')]}}}\n",
      "WebQTrn-98 -----> {1: {'m.043q0': {'ground_truth': [('people.deceased_person.place_of_burial',)], 'cands': [('people.deceased_person.place_of_burial',), ('government.government_position_held.office_holder',), ('EOD',)]}}, 2: {'m.043q0': {'ground_truth': [('people.deceased_person.place_of_burial', 'EOD')], 'cands': [('people.deceased_person.place_of_burial', 'EOD'), ('people.deceased_person.place_of_burial', 'people.deceased_person.place_of_burial')]}}}\n",
      "WebQTrn-100 -----> {1: {'m.0f1lfn': {'ground_truth': [('sports.pro_athlete.sports_played_professionally',)], 'cands': [('people.person.sibling_s',), ('people.person.education',), ('sports.pro_athlete.sports_played_professionally',), ('people.person.place_of_birth',), ('award.award_winner.awards_won',), ('olympics.olympic_athlete.medals_won',), ('people.person.spouse_s',), ('people.sibling_relationship.sibling',), ('people.person.parents',), ('award.award_honor.award_winner',), ('location.location.people_born_here',), ('EOD',), ('olympics.olympic_athlete.country',), ('people.person.profession',), ('people.person.children',), ('common.topic.notable_types',), ('common.topic.notable_for',), ('people.marriage.spouse',), ('people.person.nationality',), ('people.person.places_lived',)]}}, 2: {'m.0f1lfn': {'ground_truth': [('sports.pro_athlete.sports_played_professionally', 'sports.pro_sports_played.sport')], 'cands': [('sports.pro_athlete.sports_played_professionally', 'sports.pro_sports_played.sport'), ('sports.pro_athlete.sports_played_professionally', 'sports.pro_athlete.sports_played_professionally'), ('sports.pro_athlete.sports_played_professionally', 'EOD')]}}}\n",
      "WebQTrn-101 -----> {1: {'m.02896': {'ground_truth': [('sports.sports_team.championships',)], 'cands': [('sports.sports_team_roster.team',), ('sports.sports_team.colors',), ('EOD',), ('sports.sports_team.championships',)]}}, 2: {'m.02896': {'ground_truth': [('sports.sports_team.championships', 'EOD')], 'cands': [('sports.sports_team.championships', 'EOD'), ('sports.sports_team.championships', 'sports.sports_team.championships')]}}}\n",
      "WebQTrn-102 -----> {1: {'m.01bq8d': {'ground_truth': [('award.award_winner.awards_won',)], 'cands': [('people.person.sibling_s',), ('people.person.education',), ('film.actor.film',), ('people.person.place_of_birth',), ('award.award_winner.awards_won',), ('people.person.spouse_s',), ('people.person.nationality',), ('people.sibling_relationship.sibling',), ('people.person.parents',), ('award.award_honor.award_winner',), ('book.written_work.author',), ('location.location.people_born_here',), ('EOD',), ('book.author.works_written',), ('people.person.religion',), ('book.author.book_editions_published',), ('fictional_universe.fictional_character_creator.fictional_characters_created',), ('people.person.children',), ('people.person.profession',), ('common.topic.notable_types',), ('film.film_story_contributor.film_story_credits',), ('film.writer.film',), ('film.performance.actor',), ('people.person.ethnicity',), ('common.topic.notable_for',), ('people.marriage.spouse',), ('influence.influence_node.influenced',), ('fictional_universe.fictional_character.character_created_by',), ('people.person.places_lived',), ('influence.influence_node.influenced_by',)]}}, 2: {'m.01bq8d': {'ground_truth': [('award.award_winner.awards_won', 'award.award_honor.award')], 'cands': [('award.award_winner.awards_won', 'award.award_winner.awards_won'), ('award.award_winner.awards_won', 'award.award_winning_work.awards_won'), ('award.award_winner.awards_won', 'award.award_honor.honored_for'), ('award.award_winner.awards_won', 'award.award_honor.award_winner'), ('award.award_winner.awards_won', 'EOD'), ('award.award_winner.awards_won', 'award.award_ceremony.awards_presented'), ('award.award_winner.awards_won', 'award.award_honor.award')]}}}\n",
      "WebQTrn-103 -----> {1: {'m.02_7l8y': {'ground_truth': [('government.government_position_held.office_position_or_title',)], 'cands': [('EOD',), ('government.government_position_held.office_position_or_title',)]}, 'm.04ych': {'ground_truth': [('government.political_district.representatives',)], 'cands': [('government.political_district.representatives',), ('location.location.containedby',), ('EOD',), ('common.topic.notable_types',)]}}, 2: {'m.02_7l8y': {'ground_truth': [('government.government_position_held.office_position_or_title', 'government.government_position_held.office_holder')], 'cands': [('government.government_position_held.office_position_or_title', 'government.government_position_held.office_holder'), ('government.government_position_held.office_position_or_title', 'EOD'), ('government.government_position_held.office_position_or_title', 'government.government_position_held.office_position_or_title'), ('government.government_position_held.office_position_or_title', 'government.political_district.representatives')]}, 'm.04ych': {'ground_truth': [('government.political_district.representatives', 'government.government_position_held.office_holder')], 'cands': [('government.political_district.representatives', 'EOD'), ('government.political_district.representatives', 'government.government_position_held.office_position_or_title'), ('government.political_district.representatives', 'government.government_position_held.office_holder'), ('government.political_district.representatives', 'government.political_district.representatives')]}}}\n",
      "WebQTrn-104 -----> {1: {'m.0d3k14': {'ground_truth': [('government.us_president.vice_president',)], 'cands': [('government.us_president.vice_president',), ('people.person.children',), ('people.deceased_person.place_of_burial',), ('people.deceased_person.place_of_death',), ('EOD',)]}}, 2: {'m.0d3k14': {'ground_truth': [('government.us_president.vice_president', 'EOD')], 'cands': [('government.us_president.vice_president', 'government.us_president.vice_president'), ('government.us_president.vice_president', 'EOD')]}}}\n",
      "WebQTrn-105 -----> {1: {'m.02k54': {'ground_truth': [('location.country.currency_used',)], 'cands': [('location.country.currency_used',), ('EOD',), ('language.human_language.countries_spoken_in',)]}}, 2: {'m.02k54': {'ground_truth': [('location.country.currency_used', 'EOD')], 'cands': [('location.country.currency_used', 'location.country.currency_used'), ('location.country.currency_used', 'EOD')]}}}\n",
      "WebQTrn-107 -----> {1: {'m.07wg3': {'ground_truth': [('aviation.aircraft_owner.aircraft_fleet_composition',)], 'cands': [('book.book_subject.works',), ('award.award_winner.awards_won',), ('aviation.aircraft_owner.aircraft_fleet_composition',), ('business.employment_tenure.company',), ('organization.organization.leadership',), ('award.award_honor.award_winner',), ('organization.organization.child',), ('organization.organization_founder.organizations_founded',), ('book.written_work.author',), ('organization.organization.headquarters',), ('organization.leadership.organization',), ('EOD',), ('organization.organization.founders',), ('book.author.works_written',), ('common.topic.notable_types',), ('boats.ship_ownership.owner',), ('cvg.cvg_developer.games_developed',), ('common.topic.notable_for',), ('base.culturalevent.event.entity_involved',), ('business.employer.employees',), ('boats.ship_owner.ships_owned',), ('military.military_service.military_force',), ('organization.organization_relationship.parent',)]}}, 2: {'m.07wg3': {'ground_truth': [('aviation.aircraft_owner.aircraft_fleet_composition', 'aviation.aircraft_ownership_count.aircraft_model')], 'cands': [('aviation.aircraft_owner.aircraft_fleet_composition', 'EOD'), ('aviation.aircraft_owner.aircraft_fleet_composition', 'aviation.aircraft_ownership_count.aircraft_model'), ('aviation.aircraft_owner.aircraft_fleet_composition', 'aviation.aircraft_owner.aircraft_fleet_composition')]}}}\n",
      "WebQTrn-108 -----> {1: {'m.019fz': {'ground_truth': [('people.deceased_person.place_of_death',)], 'cands': [('people.person.education',), ('people.person.quotations',), ('award.award_winner.awards_won',), ('fictional_universe.person_in_fiction.representations_in_fiction',), ('symbols.namesake.named_after',), ('people.sibling_relationship.sibling',), ('government.politician.party',), ('organization.organization_member.member_of',), ('EOD',), ('fictional_universe.fictional_character.based_on',), ('people.person.children',), ('common.topic.notable_types',), ('people.deceased_person.place_of_death',), ('law.inventor.inventions',), ('common.topic.notable_for',), ('people.deceased_person.cause_of_death',), ('law.invention.inventor',), ('influence.influence_node.influenced',), ('people.person.nationality',), ('people.person.places_lived',), ('influence.influence_node.influenced_by',), ('people.person.sibling_s',), ('book.book_subject.works',), ('people.person.place_of_birth',), ('people.person.spouse_s',), ('organization.organization_membership.member',), ('people.person.parents',), ('symbols.name_source.namesakes',), ('award.award_honor.award_winner',), ('organization.organization_founder.organizations_founded',), ('book.written_work.author',), ('people.person.employment_history',), ('government.politician.government_positions_held',), ('location.location.people_born_here',), ('organization.organization.founders',), ('people.deceased_person.place_of_burial',), ('base.argumentmaps.innovator.original_ideas',), ('base.argumentmaps.original_idea.innovator',), ('government.political_party_tenure.politician',), ('book.author.works_written',), ('people.person.religion',), ('book.author.book_editions_published',), ('government.government_position_held.office_holder',), ('business.employment_tenure.person',), ('people.marriage.spouse',), ('people.person.profession',)]}}, 2: {'m.019fz': {'ground_truth': [('people.deceased_person.place_of_death', 'EOD')], 'cands': [('people.deceased_person.place_of_death', 'people.deceased_person.place_of_death'), ('people.deceased_person.place_of_death', 'EOD')]}}}\n",
      "WebQTrn-111 -----> {1: {'m.03spz': {'ground_truth': [('location.country.languages_spoken',)], 'cands': [('location.country.languages_spoken',), ('language.human_language.countries_spoken_in',), ('EOD',)]}}, 2: {'m.03spz': {'ground_truth': [('location.country.languages_spoken', 'EOD')], 'cands': [('location.country.languages_spoken', 'EOD'), ('location.country.languages_spoken', 'location.country.languages_spoken')]}}}\n",
      "WebQTrn-112 -----> {1: {'m.0k9wp': {'ground_truth': [('organization.organization.headquarters',)], 'cands': [('education.educational_institution.colors',), ('location.location.containedby',), ('location.location.contains',), ('business.employment_tenure.company',), ('common.topic.notable_types',), ('organization.organization.leadership',), ('organization.organization.headquarters',), ('common.topic.notable_for',), ('education.educational_institution.mascot',), ('organization.leadership.organization',), ('business.employer.employees',), ('EOD',)]}}, 2: {'m.0k9wp': {'ground_truth': [('organization.organization.headquarters', 'location.mailing_address.citytown')], 'cands': [('organization.organization.headquarters', 'location.mailing_address.state_province_region'), ('organization.organization.headquarters', 'organization.organization.headquarters'), ('organization.organization.headquarters', 'common.topic.notable_for'), ('organization.organization.headquarters', 'location.mailing_address.citytown'), ('organization.organization.headquarters', 'common.topic.notable_types'), ('organization.organization.headquarters', 'EOD'), ('organization.organization.headquarters', 'location.mailing_address.country')]}}}\n",
      "WebQTrn-113 -----> {1: {'m.05r7t': {'ground_truth': [('sports.sports_team_location.teams',)], 'cands': [('location.country.official_language',), ('EOD',), ('sports.sports_team_location.teams',)]}}, 2: {'m.05r7t': {'ground_truth': [('sports.sports_team_location.teams', 'EOD')], 'cands': [('sports.sports_team_location.teams', 'sports.sports_team_location.teams'), ('sports.sports_team_location.teams', 'EOD')]}}}\n",
      "WebQTrn-114 -----> {1: {'m.06bnz': {'ground_truth': [('location.statistical_region.religions',)], 'cands': [('location.country.form_of_government',), ('EOD',), ('location.statistical_region.religions',), ('base.locations.continents.countries_within',)]}}, 2: {'m.06bnz': {'ground_truth': [('location.statistical_region.religions', 'location.religion_percentage.religion')], 'cands': [('location.statistical_region.religions', 'location.statistical_region.religions'), ('location.statistical_region.religions', 'EOD'), ('location.statistical_region.religions', 'location.religion_percentage.religion')]}}}\n",
      "WebQTrn-115 -----> {1: {'m.06t3nj': {'ground_truth': [('film.actor.film',)], 'cands': [('people.person.education',), ('music.group_membership.member',), ('film.actor.film',), ('tv.tv_guest_role.actor',), ('people.person.place_of_birth',), ('people.person.spouse_s',), ('tv.tv_actor.guest_roles',), ('people.person.parents',), ('location.location.people_born_here',), ('tv.regular_tv_appearance.actor',), ('EOD',), ('people.person.profession',), ('people.person.children',), ('common.topic.notable_types',), ('music.group_member.membership',), ('film.performance.actor',), ('tv.tv_actor.starring_roles',), ('common.topic.notable_for',), ('music.artist.track',), ('people.marriage.spouse',), ('people.person.nationality',), ('people.person.places_lived',)]}}, 2: {'m.06t3nj': {'ground_truth': [('film.actor.film', 'film.performance.film')], 'cands': [('film.actor.film', 'film.film.starring'), ('film.actor.film', 'film.actor.film'), ('film.actor.film', 'film.performance.character'), ('film.actor.film', 'EOD'), ('film.actor.film', 'film.performance.special_performance_type'), ('film.actor.film', 'film.performance.actor'), ('film.actor.film', 'film.performance.film')]}}}\n",
      "WebQTrn-116 -----> {1: {'m.0cw10': {'ground_truth': [('government.politician.government_positions_held',)], 'cands': [('government.politician.government_positions_held',), ('people.person.spouse_s',), ('EOD',), ('symbols.namesake.named_after',), ('people.person.parents',)]}}, 2: {'m.0cw10': {'ground_truth': [('government.politician.government_positions_held', 'government.government_position_held.jurisdiction_of_office')], 'cands': [('government.politician.government_positions_held', 'government.politician.government_positions_held'), ('government.politician.government_positions_held', 'government.government_position_held.jurisdiction_of_office'), ('government.politician.government_positions_held', 'EOD')]}}}\n",
      "WebQTrn-117 -----> {1: {'m.02g3w': {'ground_truth': [('people.person.education',)], 'cands': [('people.person.education',), ('people.person.quotations',), ('award.award_winner.awards_won',), ('symbols.namesake.named_after',), ('tv.tv_producer.programs_produced',), ('EOD',), ('film.producer.film',), ('fictional_universe.fictional_character_creator.fictional_characters_created',), ('people.person.children',), ('common.topic.notable_types',), ('film.film_story_contributor.film_story_credits',), ('people.deceased_person.place_of_death',), ('film.writer.film',), ('common.topic.notable_for',), ('people.deceased_person.cause_of_death',), ('people.person.nationality',), ('influence.influence_node.influenced',), ('people.person.places_lived',), ('influence.influence_node.influenced_by',), ('book.book_subject.works',), ('visual_art.visual_artist.artworks',), ('people.person.place_of_birth',), ('people.person.spouse_s',), ('people.person.parents',), ('symbols.name_source.namesakes',), ('award.award_honor.award_winner',), ('organization.organization_founder.organizations_founded',), ('book.written_work.author',), ('location.location.people_born_here',), ('organization.organization.founders',), ('music.artist.album',), ('music.lyricist.lyrics_written',), ('book.author.works_written',), ('people.person.religion',), ('book.author.book_editions_published',), ('base.schemastaging.context_name.official_name',), ('people.person.ethnicity',), ('military.military_person.participated_in_conflicts',), ('music.artist.track',), ('people.marriage.spouse',), ('people.person.profession',), ('fictional_universe.fictional_character.character_created_by',)]}}, 2: {'m.02g3w': {'ground_truth': [('people.person.education', 'education.education.institution')], 'cands': [('people.person.education', 'education.education.institution'), ('people.person.education', 'people.person.education'), ('people.person.education', 'EOD')]}}}\n",
      "WebQTrn-118 -----> {1: {'m.026f4lr': {'ground_truth': [('sports.pro_athlete.teams',)], 'cands': [('people.person.sibling_s',), ('sports.pro_athlete.sports_played_professionally',), ('people.person.place_of_birth',), ('people.person.spouse_s',), ('people.sibling_relationship.sibling',), ('people.person.parents',), ('sports.sports_team_roster.player',), ('location.location.people_born_here',), ('EOD',), ('sports.pro_athlete.teams',), ('olympics.olympic_athlete.country',), ('soccer.football_player.position_s',), ('film.person_or_entity_appearing_in_film.films',), ('people.person.profession',), ('people.person.children',), ('common.topic.notable_types',), ('common.topic.notable_for',), ('base.schemastaging.athlete_extra.salary',), ('people.marriage.spouse',), ('people.person.nationality',), ('people.person.places_lived',)]}}, 2: {'m.026f4lr': {'ground_truth': [('sports.pro_athlete.teams', 'sports.sports_team_roster.team')], 'cands': [('sports.pro_athlete.teams', 'sports.sports_team_roster.position'), ('sports.pro_athlete.teams', 'sports.pro_athlete.teams'), ('sports.pro_athlete.teams', 'sports.sports_team.roster'), ('sports.pro_athlete.teams', 'sports.sports_team_roster.player'), ('sports.pro_athlete.teams', 'EOD'), ('sports.pro_athlete.teams', 'sports.sports_team_roster.team')]}}}\n",
      "WebQTrn-119 -----> {1: {'m.06mkj': {'ground_truth': [('location.country.currency_used',)], 'cands': [('location.country.currency_used',), ('EOD',), ('location.country.official_language',)]}}, 2: {'m.06mkj': {'ground_truth': [('location.country.currency_used', 'EOD')], 'cands': [('location.country.currency_used', 'location.country.currency_used'), ('location.country.currency_used', 'EOD')]}}}\n",
      "WebQTrn-120 -----> {1: {'m.019nnl': {'ground_truth': [('tv.regular_tv_appearance.series',)], 'cands': [('tv.tv_program.regular_cast',), ('award.award_nominated_work.award_nominations',), ('award.award_winning_work.awards_won',), ('tv.tv_program.original_network',), ('award.award_honor.honored_for',), ('common.topic.notable_types',), ('tv.tv_program.theme_song',), ('tv.regular_tv_appearance.series',), ('common.topic.notable_for',), ('tv.tv_program.program_creator',), ('EOD',), ('tv.tv_producer_term.program',)]}, 'm.035szd': {'ground_truth': [('tv.tv_character.appeared_in_tv_program',)], 'cands': [('EOD',), ('tv.tv_character.appeared_in_tv_program',), ('tv.regular_tv_appearance.character',)]}}, 2: {'m.019nnl': {'ground_truth': [('tv.regular_tv_appearance.series', 'tv.regular_tv_appearance.actor')], 'cands': [('tv.regular_tv_appearance.series', 'tv.tv_character.appeared_in_tv_program'), ('tv.regular_tv_appearance.series', 'tv.regular_tv_appearance.series'), ('tv.regular_tv_appearance.series', 'tv.regular_tv_appearance.actor'), ('tv.regular_tv_appearance.series', 'EOD')]}, 'm.035szd': {'ground_truth': [('tv.tv_character.appeared_in_tv_program', 'tv.regular_tv_appearance.actor')], 'cands': [('tv.tv_character.appeared_in_tv_program', 'tv.regular_tv_appearance.actor'), ('tv.tv_character.appeared_in_tv_program', 'EOD'), ('tv.tv_character.appeared_in_tv_program', 'tv.regular_tv_appearance.series'), ('tv.tv_character.appeared_in_tv_program', 'tv.tv_character.appeared_in_tv_program')]}}}\n",
      "WebQTrn-121 -----> {1: {'m.019vgs': {'ground_truth': [('people.person.education',)], 'cands': [('people.person.education',), ('film.actor.film',), ('award.award_winner.awards_won',), ('tv.tv_guest_role.actor',), ('tv.tv_actor.guest_roles',), ('tv.regular_tv_appearance.actor',), ('EOD',), ('film.producer.film',), ('award.award_nomination.award_nominee',), ('fictional_universe.fictional_character_creator.fictional_characters_created',), ('people.person.children',), ('common.topic.notable_types',), ('film.writer.film',), ('common.topic.notable_for',), ('influence.influence_node.influenced',), ('people.person.nationality',), ('people.person.places_lived',), ('influence.influence_node.influenced_by',), ('people.person.place_of_birth',), ('base.prison.prisoner.imprisoned',), ('people.person.spouse_s',), ('people.person.parents',), ('award.award_honor.award_winner',), ('location.location.people_born_here',), ('people.person.religion',), ('film.person_or_entity_appearing_in_film.films',), ('film.director.film',), ('film.performance.actor',), ('tv.tv_actor.starring_roles',), ('music.artist.track',), ('people.marriage.spouse',), ('people.person.profession',), ('fictional_universe.fictional_character.character_created_by',)]}, 'm.01y2hn6': {'ground_truth': [('common.topic.notable_types',)], 'cands': [('common.topic.notable_types',), ('EOD',)]}}, 2: {'m.019vgs': {'ground_truth': [('people.person.education', 'education.education.institution')], 'cands': [('people.person.education', 'education.education.institution'), ('people.person.education', 'people.person.education'), ('people.person.education', 'EOD')]}, 'm.01y2hn6': {'ground_truth': [('common.topic.notable_types', 'EOD')], 'cands': [('common.topic.notable_types', 'education.education.institution'), ('common.topic.notable_types', 'EOD')]}}}\n",
      "WebQTrn-122 -----> {1: {'m.01xljq9': {'ground_truth': [('common.topic.notable_types',)], 'cands': [('common.topic.notable_types',), ('EOD',)]}}, 2: {'m.01xljq9': {'ground_truth': [('common.topic.notable_types', 'EOD')], 'cands': [('common.topic.notable_types', 'EOD'), ('common.topic.notable_types', 'common.topic.notable_types')]}}}\n",
      "WebQTrn-123 -----> {1: {'m.01wykn': {'ground_truth': [('aviation.airline.airports_served',)], 'cands': [('base.schemastaging.organization_extra.phone_number',), ('aviation.airport.hub_for',), ('common.topic.notable_types',), ('organization.organization.parent',), ('organization.organization.leadership',), ('internet.website_owner.websites_owned',), ('organization.organization.child',), ('organization.organization.headquarters',), ('common.topic.notable_for',), ('organization.leadership.organization',), ('organization.organization_relationship.child',), ('business.business_operation.industry',), ('EOD',), ('aviation.airline.airports_served',), ('organization.organization_relationship.parent',)]}}, 2: {'m.01wykn': {'ground_truth': [('aviation.airline.airports_served', 'aviation.airline_airport_presence.airport')], 'cands': [('aviation.airline.airports_served', 'EOD'), ('aviation.airline.airports_served', 'aviation.airline.airports_served'), ('aviation.airline.airports_served', 'aviation.airline_airport_presence.airport')]}}}\n",
      "WebQTrn-124 -----> {1: {'m.0f4vbz': {'ground_truth': [('film.director.film',)], 'cands': [('people.person.education',), ('music.group_membership.member',), ('film.actor.film',), ('tv.tv_guest_role.actor',), ('award.award_winner.awards_won',), ('tv.tv_actor.guest_roles',), ('people.sibling_relationship.sibling',), ('EOD',), ('film.producer.film',), ('people.person.children',), ('celebrities.celebrity.sexual_relationships',), ('common.topic.notable_types',), ('base.activism.activist.area_of_activism',), ('music.group_member.membership',), ('film.writer.film',), ('common.topic.notable_for',), ('people.person.nationality',), ('base.popstra.dated.participant',), ('people.person.sibling_s',), ('people.person.place_of_birth',), ('people.person.spouse_s',), ('base.popstra.celebrity.dated',), ('people.person.parents',), ('award.award_honor.award_winner',), ('book.written_work.author',), ('location.location.people_born_here',), ('book.author.works_written',), ('base.popstra.infidelity.participant',), ('film.person_or_entity_appearing_in_film.films',), ('book.author.book_editions_published',), ('film.director.film',), ('film.performance.actor',), ('people.person.ethnicity',), ('people.marriage.spouse',), ('base.popstra.celebrity.infidelity_perpetrator',), ('people.person.profession',), ('celebrities.romantic_relationship.celebrity',)]}}, 2: {'m.0f4vbz': {'ground_truth': [('film.director.film', 'EOD')], 'cands': [('film.director.film', 'EOD'), ('film.director.film', 'film.director.film')]}}}\n",
      "WebQTrn-125 -----> {1: {'m.051cc': {'ground_truth': [('people.deceased_person.place_of_death',)], 'cands': [('people.person.education',), ('people.person.quotations',), ('award.award_winner.awards_won',), ('fictional_universe.person_in_fiction.representations_in_fiction',), ('base.nobelprizes.nobel_prize_winner.nobel_honor',), ('symbols.namesake.named_after',), ('people.sibling_relationship.sibling',), ('music.composer.compositions',), ('EOD',), ('fictional_universe.fictional_character.based_on',), ('people.person.children',), ('common.topic.notable_types',), ('base.activism.activist.area_of_activism',), ('people.deceased_person.place_of_death',), ('common.topic.notable_for',), ('people.deceased_person.cause_of_death',), ('people.person.nationality',), ('influence.influence_node.influenced',), ('people.person.places_lived',), ('influence.influence_node.influenced_by',), ('people.person.sibling_s',), ('book.book_subject.works',), ('people.person.place_of_birth',), ('people.person.spouse_s',), ('people.person.parents',), ('award.award_honor.award_winner',), ('symbols.name_source.namesakes',), ('organization.organization_founder.organizations_founded',), ('book.written_work.author',), ('location.location.people_born_here',), ('people.deceased_person.place_of_burial',), ('organization.organization.founders',), ('music.artist.album',), ('book.author.works_written',), ('people.person.religion',), ('film.person_or_entity_appearing_in_film.films',), ('people.person.ethnicity',), ('music.artist.track',), ('people.marriage.spouse',), ('music.composition.composer',), ('people.person.profession',)]}}, 2: {'m.051cc': {'ground_truth': [('people.deceased_person.place_of_death', 'EOD')], 'cands': [('people.deceased_person.place_of_death', 'people.deceased_person.place_of_death'), ('people.deceased_person.place_of_death', 'EOD')]}}}\n",
      "WebQTrn-126 -----> {1: {'m.0fn2g': {'ground_truth': [('travel.travel_destination.tourist_attractions',)], 'cands': [('base.biblioness.bibs_location.country',), ('book.book_subject.works',), ('people.person.place_of_birth',), ('location.location.contains',), ('travel.travel_destination.tourist_attractions',), ('time.event.locations',), ('film.film.featured_film_locations',), ('location.location.people_born_here',), ('EOD',), ('transportation.bridge.locale',), ('location.administrative_division.country',), ('music.artist.origin',), ('location.location.containedby',), ('location.location.events',), ('common.topic.notable_types',), ('people.deceased_person.place_of_death',), ('location.country.capital',), ('common.topic.notable_for',), ('travel.travel_destination.how_to_get_here',), ('periodicals.newspaper_circulation_area.newspapers',), ('location.citytown.postal_codes',), ('location.location.nearby_airports',), ('travel.tourist_attraction.near_travel_destination',)]}}, 2: {'m.0fn2g': {'ground_truth': [('travel.travel_destination.tourist_attractions', 'EOD')], 'cands': [('travel.travel_destination.tourist_attractions', 'EOD'), ('travel.travel_destination.tourist_attractions', 'travel.travel_destination.tourist_attractions')]}}}\n",
      "WebQTrn-128 -----> {1: {'m.07hcc': {'ground_truth': [('base.ancientegypt.pharaoh.reign',)], 'cands': [('people.person.sibling_s',), ('people.person.place_of_birth',), ('fictional_universe.person_in_fiction.representations_in_fiction',), ('people.person.spouse_s',), ('people.sibling_relationship.sibling',), ('symbols.namesake.named_after',), ('people.person.parents',), ('symbols.name_source.namesakes',), ('location.location.people_born_here',), ('base.ancientegypt.pharaoh.reign',), ('EOD',), ('fictional_universe.fictional_character.based_on',), ('people.person.children',), ('common.topic.notable_types',), ('people.deceased_person.place_of_death',), ('common.topic.notable_for',), ('people.marriage.spouse',), ('people.person.nationality',)]}}, 2: {'m.07hcc': {'ground_truth': [('base.ancientegypt.pharaoh.reign', 'measurement_unit.time_interval.start')], 'cands': [('base.ancientegypt.pharaoh.reign', 'EOD'), ('base.ancientegypt.pharaoh.reign', 'measurement_unit.time_interval.start'), ('base.ancientegypt.pharaoh.reign', 'base.ancientegypt.pharaoh.reign')]}}}\n",
      "WebQTrn-129 -----> {1: {'m.027rn': {'ground_truth': [('government.governmental_jurisdiction.governing_officials',)], 'cands': [('location.country.currency_used',), ('EOD',), ('government.governmental_jurisdiction.governing_officials',), ('location.country.official_language',)]}, 'm.060c4': {'ground_truth': [('government.government_position_held.basic_title',)], 'cands': [('EOD',), ('government.government_position_held.basic_title',)]}}, 2: {'m.027rn': {'ground_truth': [('government.governmental_jurisdiction.governing_officials', 'government.government_position_held.office_holder')], 'cands': [('government.governmental_jurisdiction.governing_officials', 'EOD'), ('government.governmental_jurisdiction.governing_officials', 'government.government_position_held.basic_title'), ('government.governmental_jurisdiction.governing_officials', 'government.governmental_jurisdiction.governing_officials'), ('government.governmental_jurisdiction.governing_officials', 'government.government_position_held.office_holder')]}, 'm.060c4': {'ground_truth': [('government.government_position_held.basic_title', 'government.government_position_held.office_holder')], 'cands': [('government.government_position_held.basic_title', 'EOD'), ('government.government_position_held.basic_title', 'government.governmental_jurisdiction.governing_officials'), ('government.government_position_held.basic_title', 'government.government_position_held.office_holder'), ('government.government_position_held.basic_title', 'government.government_position_held.basic_title')]}}}\n",
      "WebQTrn-130 -----> {1: {'m.04ztj': {'ground_truth': [('people.marriage.type_of_union',)], 'cands': [('EOD',), ('religion.religion.practices',), ('people.marriage.type_of_union',)]}, 'm.046zh': {'ground_truth': [('people.person.spouse_s',)], 'cands': [('people.person.education',), ('film.actor.film',), ('award.award_winner.awards_won',), ('tv.tv_guest_role.actor',), ('tv.tv_actor.guest_roles',), ('people.sibling_relationship.sibling',), ('tv.tv_producer.programs_produced',), ('tv.tv_personality.tv_regular_appearances',), ('EOD',), ('award.award_nomination.award_nominee',), ('people.person.children',), ('celebrities.celebrity.sexual_relationships',), ('common.topic.notable_types',), ('common.topic.notable_for',), ('people.person.nationality',), ('music.artist.track_contributions',), ('people.person.places_lived',), ('base.popstra.dated.participant',), ('people.person.sibling_s',), ('book.book_subject.works',), ('people.person.place_of_birth',), ('people.person.spouse_s',), ('base.popstra.celebrity.dated',), ('people.person.parents',), ('award.award_honor.award_winner',), ('location.location.people_born_here',), ('people.person.religion',), ('film.person_or_entity_appearing_in_film.films',), ('film.performance.actor',), ('people.person.ethnicity',), ('music.artist.track',), ('people.marriage.spouse',), ('people.person.profession',), ('celebrities.romantic_relationship.celebrity',)]}}, 2: {'m.04ztj': {'ground_truth': [('people.marriage.type_of_union', 'people.marriage.spouse')], 'cands': [('people.marriage.type_of_union', 'people.marriage.spouse'), ('people.marriage.type_of_union', 'sports.sports_award.award'), ('people.marriage.type_of_union', 'EOD'), ('people.marriage.type_of_union', 'sports.sports_award_winner.awards'), ('people.marriage.type_of_union', 'sports.sports_award.season')]}, 'm.046zh': {'ground_truth': [('people.person.spouse_s', 'people.marriage.spouse')], 'cands': [('people.person.spouse_s', 'EOD'), ('people.person.spouse_s', 'sports.sports_award.award'), ('people.person.spouse_s', 'people.marriage.spouse'), ('people.person.spouse_s', 'sports.sports_award_winner.awards'), ('people.person.spouse_s', 'sports.sports_award.season')]}}}\n",
      "WebQTrn-131 -----> {1: {'m.01ct6': {'ground_truth': [('sports.sports_team.arena_stadium',)], 'cands': [('sports.sports_team.arena_stadium',), ('EOD',), ('sports.sports_team_roster.team',)]}}, 2: {'m.01ct6': {'ground_truth': [('sports.sports_team.arena_stadium', 'EOD')], 'cands': [('sports.sports_team.arena_stadium', 'sports.sports_team.arena_stadium'), ('sports.sports_team.arena_stadium', 'EOD')]}}}\n"
     ]
    }
   ],
   "source": [
    "for q_id, v in list(qid2rel_chain_map.items())[:100]:\n",
    "    print(q_id, '----->', v)"
   ]
  },
  {
   "cell_type": "code",
   "execution_count": 384,
   "metadata": {},
   "outputs": [
    {
     "name": "stdout",
     "output_type": "stream",
     "text": [
      "PREFIX ns: <http://rdf.freebase.com/ns/>\n",
      "SELECT DISTINCT ?x\n",
      "WHERE {\n",
      "FILTER (?x != ns:m.082db)\n",
      "FILTER (!isLiteral(?x) OR lang(?x) = '' OR langMatches(lang(?x), 'en'))\n",
      "ns:m.082db ns:music.composer.compositions ?x .\n",
      "}\n",
      "\n"
     ]
    }
   ],
   "source": [
    "print([e[1] for e in sparqls if '228' in e[0]][0])"
   ]
  },
  {
   "cell_type": "code",
   "execution_count": 484,
   "metadata": {},
   "outputs": [
    {
     "data": {
      "text/plain": [
       "dict_keys(['government.government_position_held.office_holder', 'government.politician.government_positions_held', 'people.person.spouse_s', 'people.deceased_person.place_of_burial', 'influence.influence_node.influenced_by', 'government.us_president.vice_president', 'book.author.works_written', 'medicine.notable_person_with_medical_condition.condition', 'user.alexander.misc.murdered_person.murder_method', 'government.politician.party'])"
      ]
     },
     "execution_count": 484,
     "metadata": {},
     "output_type": "execute_result"
    }
   ],
   "source": [
    "facts['m.0gzh'].keys()"
   ]
  },
  {
   "cell_type": "code",
   "execution_count": 500,
   "metadata": {
    "scrolled": true
   },
   "outputs": [
    {
     "name": "stdout",
     "output_type": "stream",
     "text": [
      "wow\n",
      "{'education.education.institution': {'m.0n1mx4n': 1, 'm.02wn3kr': 1}}\n"
     ]
    }
   ],
   "source": [
    "# save all relations\n",
    "all_rels = set()\n",
    "for k in facts:\n",
    "    if k == 'm.01j_cy':\n",
    "        print('wow')\n",
    "        print(facts[k])\n",
    "    for r in facts[k]:\n",
    "        all_rels.add(r)\n",
    "all_rels.add('EOD')\n",
    "all_rels.update(all_used_rels)\n",
    "all_rels = list(sorted(all_rels))\n",
    "with open('datasets/webqsp/relations.txt', 'w') as f:\n",
    "    for r in all_rels:\n",
    "        f.writelines(r + '\\n')"
   ]
  },
  {
   "cell_type": "code",
   "execution_count": null,
   "metadata": {},
   "outputs": [],
   "source": [
    "qid2answers['WebQTrn-228']"
   ]
  },
  {
   "cell_type": "code",
   "execution_count": null,
   "metadata": {},
   "outputs": [],
   "source": [
    "facts['m.01y2hn6']['common.topic.notable_types']"
   ]
  },
  {
   "cell_type": "code",
   "execution_count": 486,
   "metadata": {},
   "outputs": [],
   "source": [
    "save_json(facts, 'datasets/webqsp/facts_new.json')"
   ]
  },
  {
   "cell_type": "code",
   "execution_count": null,
   "metadata": {},
   "outputs": [],
   "source": [
    "facts['m.09l3p']['film.actor.film']"
   ]
  },
  {
   "cell_type": "code",
   "execution_count": 66,
   "metadata": {},
   "outputs": [
    {
     "name": "stderr",
     "output_type": "stream",
     "text": [
      "\n",
      "\n",
      "  0%|          | 0/2850 [00:00<?, ?it/s]\u001b[A\u001b[A\n",
      "\n",
      "  0%|          | 6/2850 [00:00<00:58, 48.37it/s]\u001b[A\u001b[A\n",
      "\n",
      "  0%|          | 8/2850 [00:00<01:41, 28.02it/s]\u001b[A\u001b[A\n",
      "\n",
      "  0%|          | 10/2850 [00:00<02:34, 18.35it/s]\u001b[A\u001b[A\n"
     ]
    },
    {
     "ename": "JSONDecodeError",
     "evalue": "Expecting value: line 1 column 1 (char 0)",
     "output_type": "error",
     "traceback": [
      "\u001b[0;31m---------------------------------------------------------------------------\u001b[0m",
      "\u001b[0;31mJSONDecodeError\u001b[0m                           Traceback (most recent call last)",
      "\u001b[0;32m<ipython-input-66-96054e11fd50>\u001b[0m in \u001b[0;36m<module>\u001b[0;34m\u001b[0m\n\u001b[1;32m     12\u001b[0m \u001b[0manswer_dict\u001b[0m \u001b[0;34m=\u001b[0m \u001b[0mdict\u001b[0m\u001b[0;34m(\u001b[0m\u001b[0;34m)\u001b[0m\u001b[0;34m\u001b[0m\u001b[0;34m\u001b[0m\u001b[0m\n\u001b[1;32m     13\u001b[0m \u001b[0;32mfor\u001b[0m \u001b[0me\u001b[0m \u001b[0;32min\u001b[0m \u001b[0mtqdm\u001b[0m\u001b[0;34m(\u001b[0m\u001b[0mtrain_raw_data\u001b[0m\u001b[0;34m[\u001b[0m\u001b[0;34m'Questions'\u001b[0m\u001b[0;34m]\u001b[0m\u001b[0;34m[\u001b[0m\u001b[0;36m248\u001b[0m\u001b[0;34m:\u001b[0m\u001b[0;34m]\u001b[0m\u001b[0;34m)\u001b[0m\u001b[0;34m:\u001b[0m\u001b[0;34m\u001b[0m\u001b[0;34m\u001b[0m\u001b[0m\n\u001b[0;32m---> 14\u001b[0;31m     \u001b[0manswer_dict\u001b[0m\u001b[0;34m[\u001b[0m\u001b[0me\u001b[0m\u001b[0;34m[\u001b[0m\u001b[0;34m'QuestionId'\u001b[0m\u001b[0;34m]\u001b[0m\u001b[0;34m]\u001b[0m \u001b[0;34m=\u001b[0m \u001b[0mfind_ground_truth\u001b[0m\u001b[0;34m(\u001b[0m\u001b[0me\u001b[0m\u001b[0;34m[\u001b[0m\u001b[0;34m'Parses'\u001b[0m\u001b[0;34m]\u001b[0m\u001b[0;34m[\u001b[0m\u001b[0;36m0\u001b[0m\u001b[0;34m]\u001b[0m\u001b[0;34m[\u001b[0m\u001b[0;34m'Sparql'\u001b[0m\u001b[0;34m]\u001b[0m\u001b[0;34m)\u001b[0m\u001b[0;34m\u001b[0m\u001b[0;34m\u001b[0m\u001b[0m\n\u001b[0m",
      "\u001b[0;32m<ipython-input-66-96054e11fd50>\u001b[0m in \u001b[0;36mfind_ground_truth\u001b[0;34m(sparql)\u001b[0m\n\u001b[1;32m      8\u001b[0m     }\n\u001b[1;32m      9\u001b[0m     \u001b[0mres\u001b[0m \u001b[0;34m=\u001b[0m \u001b[0mr\u001b[0m\u001b[0;34m.\u001b[0m\u001b[0mget\u001b[0m\u001b[0;34m(\u001b[0m\u001b[0mbase_url\u001b[0m\u001b[0;34m,\u001b[0m \u001b[0mparams\u001b[0m\u001b[0;34m=\u001b[0m\u001b[0mparams\u001b[0m\u001b[0;34m)\u001b[0m\u001b[0;34m\u001b[0m\u001b[0;34m\u001b[0m\u001b[0m\n\u001b[0;32m---> 10\u001b[0;31m     \u001b[0;32mreturn\u001b[0m \u001b[0mjson\u001b[0m\u001b[0;34m.\u001b[0m\u001b[0mloads\u001b[0m\u001b[0;34m(\u001b[0m\u001b[0mres\u001b[0m\u001b[0;34m.\u001b[0m\u001b[0mcontent\u001b[0m\u001b[0;34m)\u001b[0m\u001b[0;34m[\u001b[0m\u001b[0;34m'results'\u001b[0m\u001b[0;34m]\u001b[0m\u001b[0;34m[\u001b[0m\u001b[0;34m'bindings'\u001b[0m\u001b[0;34m]\u001b[0m\u001b[0;34m\u001b[0m\u001b[0;34m\u001b[0m\u001b[0m\n\u001b[0m\u001b[1;32m     11\u001b[0m \u001b[0;34m\u001b[0m\u001b[0m\n\u001b[1;32m     12\u001b[0m \u001b[0manswer_dict\u001b[0m \u001b[0;34m=\u001b[0m \u001b[0mdict\u001b[0m\u001b[0;34m(\u001b[0m\u001b[0;34m)\u001b[0m\u001b[0;34m\u001b[0m\u001b[0;34m\u001b[0m\u001b[0m\n",
      "\u001b[0;32m~/anaconda3/lib/python3.7/json/__init__.py\u001b[0m in \u001b[0;36mloads\u001b[0;34m(s, encoding, cls, object_hook, parse_float, parse_int, parse_constant, object_pairs_hook, **kw)\u001b[0m\n\u001b[1;32m    346\u001b[0m             \u001b[0mparse_int\u001b[0m \u001b[0;32mis\u001b[0m \u001b[0;32mNone\u001b[0m \u001b[0;32mand\u001b[0m \u001b[0mparse_float\u001b[0m \u001b[0;32mis\u001b[0m \u001b[0;32mNone\u001b[0m \u001b[0;32mand\u001b[0m\u001b[0;34m\u001b[0m\u001b[0;34m\u001b[0m\u001b[0m\n\u001b[1;32m    347\u001b[0m             parse_constant is None and object_pairs_hook is None and not kw):\n\u001b[0;32m--> 348\u001b[0;31m         \u001b[0;32mreturn\u001b[0m \u001b[0m_default_decoder\u001b[0m\u001b[0;34m.\u001b[0m\u001b[0mdecode\u001b[0m\u001b[0;34m(\u001b[0m\u001b[0ms\u001b[0m\u001b[0;34m)\u001b[0m\u001b[0;34m\u001b[0m\u001b[0;34m\u001b[0m\u001b[0m\n\u001b[0m\u001b[1;32m    349\u001b[0m     \u001b[0;32mif\u001b[0m \u001b[0mcls\u001b[0m \u001b[0;32mis\u001b[0m \u001b[0;32mNone\u001b[0m\u001b[0;34m:\u001b[0m\u001b[0;34m\u001b[0m\u001b[0;34m\u001b[0m\u001b[0m\n\u001b[1;32m    350\u001b[0m         \u001b[0mcls\u001b[0m \u001b[0;34m=\u001b[0m \u001b[0mJSONDecoder\u001b[0m\u001b[0;34m\u001b[0m\u001b[0;34m\u001b[0m\u001b[0m\n",
      "\u001b[0;32m~/anaconda3/lib/python3.7/json/decoder.py\u001b[0m in \u001b[0;36mdecode\u001b[0;34m(self, s, _w)\u001b[0m\n\u001b[1;32m    335\u001b[0m \u001b[0;34m\u001b[0m\u001b[0m\n\u001b[1;32m    336\u001b[0m         \"\"\"\n\u001b[0;32m--> 337\u001b[0;31m         \u001b[0mobj\u001b[0m\u001b[0;34m,\u001b[0m \u001b[0mend\u001b[0m \u001b[0;34m=\u001b[0m \u001b[0mself\u001b[0m\u001b[0;34m.\u001b[0m\u001b[0mraw_decode\u001b[0m\u001b[0;34m(\u001b[0m\u001b[0ms\u001b[0m\u001b[0;34m,\u001b[0m \u001b[0midx\u001b[0m\u001b[0;34m=\u001b[0m\u001b[0m_w\u001b[0m\u001b[0;34m(\u001b[0m\u001b[0ms\u001b[0m\u001b[0;34m,\u001b[0m \u001b[0;36m0\u001b[0m\u001b[0;34m)\u001b[0m\u001b[0;34m.\u001b[0m\u001b[0mend\u001b[0m\u001b[0;34m(\u001b[0m\u001b[0;34m)\u001b[0m\u001b[0;34m)\u001b[0m\u001b[0;34m\u001b[0m\u001b[0;34m\u001b[0m\u001b[0m\n\u001b[0m\u001b[1;32m    338\u001b[0m         \u001b[0mend\u001b[0m \u001b[0;34m=\u001b[0m \u001b[0m_w\u001b[0m\u001b[0;34m(\u001b[0m\u001b[0ms\u001b[0m\u001b[0;34m,\u001b[0m \u001b[0mend\u001b[0m\u001b[0;34m)\u001b[0m\u001b[0;34m.\u001b[0m\u001b[0mend\u001b[0m\u001b[0;34m(\u001b[0m\u001b[0;34m)\u001b[0m\u001b[0;34m\u001b[0m\u001b[0;34m\u001b[0m\u001b[0m\n\u001b[1;32m    339\u001b[0m         \u001b[0;32mif\u001b[0m \u001b[0mend\u001b[0m \u001b[0;34m!=\u001b[0m \u001b[0mlen\u001b[0m\u001b[0;34m(\u001b[0m\u001b[0ms\u001b[0m\u001b[0;34m)\u001b[0m\u001b[0;34m:\u001b[0m\u001b[0;34m\u001b[0m\u001b[0;34m\u001b[0m\u001b[0m\n",
      "\u001b[0;32m~/anaconda3/lib/python3.7/json/decoder.py\u001b[0m in \u001b[0;36mraw_decode\u001b[0;34m(self, s, idx)\u001b[0m\n\u001b[1;32m    353\u001b[0m             \u001b[0mobj\u001b[0m\u001b[0;34m,\u001b[0m \u001b[0mend\u001b[0m \u001b[0;34m=\u001b[0m \u001b[0mself\u001b[0m\u001b[0;34m.\u001b[0m\u001b[0mscan_once\u001b[0m\u001b[0;34m(\u001b[0m\u001b[0ms\u001b[0m\u001b[0;34m,\u001b[0m \u001b[0midx\u001b[0m\u001b[0;34m)\u001b[0m\u001b[0;34m\u001b[0m\u001b[0;34m\u001b[0m\u001b[0m\n\u001b[1;32m    354\u001b[0m         \u001b[0;32mexcept\u001b[0m \u001b[0mStopIteration\u001b[0m \u001b[0;32mas\u001b[0m \u001b[0merr\u001b[0m\u001b[0;34m:\u001b[0m\u001b[0;34m\u001b[0m\u001b[0;34m\u001b[0m\u001b[0m\n\u001b[0;32m--> 355\u001b[0;31m             \u001b[0;32mraise\u001b[0m \u001b[0mJSONDecodeError\u001b[0m\u001b[0;34m(\u001b[0m\u001b[0;34m\"Expecting value\"\u001b[0m\u001b[0;34m,\u001b[0m \u001b[0ms\u001b[0m\u001b[0;34m,\u001b[0m \u001b[0merr\u001b[0m\u001b[0;34m.\u001b[0m\u001b[0mvalue\u001b[0m\u001b[0;34m)\u001b[0m \u001b[0;32mfrom\u001b[0m \u001b[0;32mNone\u001b[0m\u001b[0;34m\u001b[0m\u001b[0;34m\u001b[0m\u001b[0m\n\u001b[0m\u001b[1;32m    356\u001b[0m         \u001b[0;32mreturn\u001b[0m \u001b[0mobj\u001b[0m\u001b[0;34m,\u001b[0m \u001b[0mend\u001b[0m\u001b[0;34m\u001b[0m\u001b[0;34m\u001b[0m\u001b[0m\n",
      "\u001b[0;31mJSONDecodeError\u001b[0m: Expecting value: line 1 column 1 (char 0)"
     ]
    }
   ],
   "source": [
    "def find_ground_truth(sparql):\n",
    "    base_url = 'http://10.2.0.27:8891/sparql'\n",
    "    params = {\n",
    "        'default-graph-uri:': None,\n",
    "        'query': sparql,\n",
    "        'format': 'application/sparql-results+json',\n",
    "        'timeout': 0,\n",
    "    }\n",
    "    res = r.get(base_url, params=params)\n",
    "    return json.loads(res.content)['results']['bindings']\n",
    "\n",
    "answer_dict = dict()\n",
    "for e in tqdm(train_raw_data['Questions'][248:]):\n",
    "    answer_dict[e['QuestionId']] = find_ground_truth(e['Parses'][0]['Sparql'])"
   ]
  },
  {
   "cell_type": "markdown",
   "metadata": {},
   "source": [
    "## Find inference chain"
   ]
  },
  {
   "cell_type": "code",
   "execution_count": 4,
   "metadata": {},
   "outputs": [],
   "source": [
    "train_sp = load_json(cfg['data_folder'] + 'WebQSP.train.json')\n",
    "test_sp = load_json(cfg['data_folder'] + 'WebQSP.test.json')"
   ]
  },
  {
   "cell_type": "code",
   "execution_count": 5,
   "metadata": {},
   "outputs": [],
   "source": [
    "train_chain = {e['QuestionId']: \n",
    "             [{'chain': p['InferentialChain'], 'topic': p['TopicEntityMid'], 'answers': [a['AnswerArgument'] for a in p['Answers']]} for p in e['Parses']]\n",
    "             for e in train_sp['Questions']}\n",
    "test_chain = {e['QuestionId']: \n",
    "             [{'chain': p['InferentialChain'], 'topic': p['TopicEntityMid'], 'answers': [a['AnswerArgument'] for a in p['Answers']]} for p in e['Parses']]\n",
    "             for e in test_sp['Questions']}"
   ]
  },
  {
   "cell_type": "code",
   "execution_count": 127,
   "metadata": {},
   "outputs": [
    {
     "name": "stdout",
     "output_type": "stream",
     "text": [
      "0\n"
     ]
    }
   ],
   "source": [
    "avg_recall = 0.0\n",
    "wrong = 0\n",
    "for q in train_data + dev_data + test_data:\n",
    "    q_c = train_chain[q['id']] if q['id'] in train_chain else test_chain[q['id']]\n",
    "    act_ans = set(map(lambda x: x['kb_id'].replace('<fb:', '').replace('>', ''), q['answers']))\n",
    "    q_c_ans = set()\n",
    "    for c in q_c:\n",
    "        q_c_ans.update(c['answers'])\n",
    "    q['chain'] = q_c\n",
    "    q['rel_path'] = list(set(tuple(c['chain']) for c in q_c if c['chain']))\n",
    "#     for c in q_c:\n",
    "#         if 'chain' not in c or not c['chain']:\n",
    "#             wrong += 1\n",
    "#             q_id = q['id']\n",
    "#             with open('/home/hxssg1124/Developer/GraftNet/preprocessing/freebase_2hops/stagg.neighborhoods/%s.nxhd' % q_id) as f:\n",
    "#                 facts = f.readlines()\n",
    "#             kb = defaultdict(dict)\n",
    "#             for fact in facts:\n",
    "#                 try:\n",
    "#                     s, p, o = fact.strip().split('\\t')\n",
    "#                 except Exception as e:\n",
    "#                     print(fact)\n",
    "#                 s = s.replace('<fb:', '').replace('>', '')\n",
    "#                 p = p.replace('<fb:', '').replace('>', '')\n",
    "#                 o = o.replace('<fb:', '').replace('>', '')\n",
    "#                 kb[s][o] = p\n",
    "#                 kb[o][s] = p\n",
    "#             topic = c['topic']\n",
    "#             answers = set(c['answers'])\n",
    "#             print(topic)\n",
    "#             hop1entiites = set(kb[topic].keys())\n",
    "#             rel_chain = []\n",
    "#             for answer in answers:\n",
    "#                 if answers in hop1entiites:\n",
    "#                     rel_chain.append([kb[topic][answer]])\n",
    "#             for hop1entity in hop1entiites:\n",
    "#                 hop2entities = set(kb[hop1entity].keys())\n",
    "#                 for answer in answers:\n",
    "#                     if answers in hop1entiites:\n",
    "#                         rel_chain.append([kb[topic][hop1entity], kb[hop1entity][answer]])\n",
    "#             if wrong > 2:\n",
    "#                 print(rel_chain)\n",
    "#             break\n",
    "#     if wrong > 2:\n",
    "#         break\n",
    "    #q['rel_path'] = list(set(tuple(c['chain']) for c in q_c))\n",
    "print(wrong)"
   ]
  },
  {
   "cell_type": "code",
   "execution_count": 33,
   "metadata": {},
   "outputs": [
    {
     "name": "stdout",
     "output_type": "stream",
     "text": [
      "{'question': 'what bible does the catholic church follow', 'answers': [{'kb_id': '<fb:m.05crg>', 'text': 'New Testament'}, {'kb_id': '<fb:m.01dfl>', 'text': 'Book of Nehemiah'}, {'kb_id': '<fb:m.05ld9>', 'text': 'Old Testament'}, {'kb_id': '<fb:m.015j7>', 'text': 'The Bible'}], 'entities': [{'kb_id': '<fb:m.02vxy_>', 'text': '<fb:m.02vxy_>'}], 'id': 'WebQTrn-138', 'chain': [{'chain': ['religion.religion.texts'], 'topic': 'm.0c8wxp', 'answers': ['m.015j7', 'm.01dfl', 'm.05crg', 'm.05ld9']}], 'rel_path': [['religion.religion.texts']]}\n",
      "{'m.02vxy_'}\n",
      "{'m.0c8wxp'}\n"
     ]
    },
    {
     "data": {
      "text/plain": [
       "21"
      ]
     },
     "execution_count": 33,
     "metadata": {},
     "output_type": "execute_result"
    }
   ],
   "source": [
    "wrong = 0\n",
    "for q in train_data:\n",
    "    entities = set(map(lambda x: x['kb_id'].replace('<fb:', '').replace('>', ''), q['entities']))\n",
    "    chain_topic = set(map(lambda x: x['topic'], q['chain']))\n",
    "    if chain_topic != entities:\n",
    "        wrong += 1\n",
    "        if wrong > 20:\n",
    "            print(q)\n",
    "            print(entities)\n",
    "            print(chain_topic)\n",
    "            break\n",
    "wrong"
   ]
  },
  {
   "cell_type": "code",
   "execution_count": 40,
   "metadata": {},
   "outputs": [
    {
     "data": {
      "text/plain": [
       "{'QuestionId': 'WebQTrn-138',\n",
       " 'RawQuestion': 'what bible does the catholic church follow?',\n",
       " 'ProcessedQuestion': 'what bible does the catholic church follow',\n",
       " 'Parses': [{'ParseId': 'WebQTrn-138.P0',\n",
       "   'AnnotatorId': 2,\n",
       "   'AnnotatorComment': {'ParseQuality': 'Complete',\n",
       "    'QuestionQuality': 'Good',\n",
       "    'Confidence': 'Low',\n",
       "    'FreeFormComment': '?'},\n",
       "   'Sparql': \"PREFIX ns: <http://rdf.freebase.com/ns/>\\nSELECT DISTINCT ?x\\nWHERE {\\nFILTER (?x != ns:m.0c8wxp)\\nFILTER (!isLiteral(?x) OR lang(?x) = '' OR langMatches(lang(?x), 'en'))\\nns:m.0c8wxp ns:religion.religion.texts ?x .\\n}\\n\",\n",
       "   'PotentialTopicEntityMention': 'catholic',\n",
       "   'TopicEntityName': 'Catholicism',\n",
       "   'TopicEntityMid': 'm.0c8wxp',\n",
       "   'InferentialChain': ['religion.religion.texts'],\n",
       "   'Constraints': [],\n",
       "   'Time': None,\n",
       "   'Order': None,\n",
       "   'Answers': [{'AnswerType': 'Entity',\n",
       "     'AnswerArgument': 'm.015j7',\n",
       "     'EntityName': 'The Bible'},\n",
       "    {'AnswerType': 'Entity',\n",
       "     'AnswerArgument': 'm.01dfl',\n",
       "     'EntityName': 'Book of Nehemiah'},\n",
       "    {'AnswerType': 'Entity',\n",
       "     'AnswerArgument': 'm.05crg',\n",
       "     'EntityName': 'New Testament'},\n",
       "    {'AnswerType': 'Entity',\n",
       "     'AnswerArgument': 'm.05ld9',\n",
       "     'EntityName': 'Old Testament'}]}]}"
      ]
     },
     "execution_count": 40,
     "metadata": {},
     "output_type": "execute_result"
    }
   ],
   "source": [
    "train_sp['Questions'][106]"
   ]
  },
  {
   "cell_type": "code",
   "execution_count": 131,
   "metadata": {},
   "outputs": [],
   "source": [
    "save_json(train_data, cfg['data_folder'] + cfg['train_data'])\n",
    "save_json(dev_data, cfg['data_folder'] + cfg['dev_data'])\n",
    "save_json(test_data, cfg['data_folder'] + cfg['test_data'])"
   ]
  },
  {
   "cell_type": "code",
   "execution_count": 135,
   "metadata": {},
   "outputs": [],
   "source": [
    "rels = set()\n",
    "for q in train_data + dev_data + test_data:\n",
    "    for p in q['rel_path']:\n",
    "        for r in p:\n",
    "            rels.add(r)\n",
    "res = []\n",
    "with open('datasets/webqsp/relations.txt') as f:\n",
    "    lines = f.readlines()\n",
    "    for line in lines:\n",
    "        line = line.strip()\n",
    "        line = line.replace('<fb:', '').replace('>', '')\n",
    "        res.append(line + '\\n')\n",
    "        rels.add(line)\n",
    "with open('datasets/webqsp/relations_new.txt', 'w') as f:\n",
    "    for r in rels:\n",
    "        f.writelines(r + '\\n')"
   ]
  },
  {
   "cell_type": "code",
   "execution_count": 130,
   "metadata": {},
   "outputs": [
    {
     "data": {
      "text/plain": [
       "{'question': 'who was the governor of missouri in 1996',\n",
       " 'answers': [{'kb_id': '<fb:m.0247vy>', 'text': 'Mel Carnahan'}],\n",
       " 'entities': [{'kb_id': '<fb:m.04ych>', 'text': '<fb:m.04ych>'}],\n",
       " 'id': 'WebQTrn-1959',\n",
       " 'chain': [{'chain': ['government.governmental_jurisdiction.governing_officials',\n",
       "    'government.government_position_held.office_holder'],\n",
       "   'topic': 'm.04ych',\n",
       "   'answers': ['m.0247vy']}],\n",
       " 'rel_path': [('government.governmental_jurisdiction.governing_officials',\n",
       "   'government.government_position_held.office_holder')]}"
      ]
     },
     "execution_count": 130,
     "metadata": {},
     "output_type": "execute_result"
    }
   ],
   "source": [
    "train_data[2]"
   ]
  },
  {
   "cell_type": "code",
   "execution_count": 87,
   "metadata": {},
   "outputs": [
    {
     "name": "stdout",
     "output_type": "stream",
     "text": [
      "{'QuestionId': 'WebQTrn-587', 'RawQuestion': 'where are you if you re in zagreb?', 'ProcessedQuestion': 'where are you if you re in zagreb', 'Parses': [{'ParseId': 'WebQTrn-587.P0', 'AnnotatorId': 1, 'AnnotatorComment': {'ParseQuality': 'Complete', 'QuestionQuality': 'Good', 'Confidence': 'Normal', 'FreeFormComment': 'First-round parse verification'}, 'Sparql': \"PREFIX ns: <http://rdf.freebase.com/ns/>\\nSELECT DISTINCT ?x\\nWHERE {\\nFILTER (?x != ns:m.0fhzy)\\nFILTER (!isLiteral(?x) OR lang(?x) = '' OR langMatches(lang(?x), 'en'))\\nns:m.0fhzy ns:base.aareas.schema.administrative_area.administrative_parent ?x .\\n}\\n\", 'PotentialTopicEntityMention': 'zagreb', 'TopicEntityName': 'Zagreb', 'TopicEntityMid': 'm.0fhzy', 'InferentialChain': ['base.aareas.schema.administrative_area.administrative_parent'], 'Constraints': [], 'Time': None, 'Order': None, 'Answers': [{'AnswerType': 'Entity', 'AnswerArgument': 'm.01pj7', 'EntityName': 'Croatia'}]}, {'ParseId': 'WebQTrn-587.P1', 'AnnotatorId': 1, 'AnnotatorComment': {'ParseQuality': 'Complete', 'QuestionQuality': 'Good', 'Confidence': 'Normal', 'FreeFormComment': 'First-round parse verification'}, 'Sparql': \"PREFIX ns: <http://rdf.freebase.com/ns/>\\nSELECT DISTINCT ?x\\nWHERE {\\nFILTER (?x != ns:m.0fhzy)\\nFILTER (!isLiteral(?x) OR lang(?x) = '' OR langMatches(lang(?x), 'en'))\\nns:m.0fhzy ns:base.aareas.schema.administrative_area.subdivides_place ?x .\\n}\\n\", 'PotentialTopicEntityMention': 'zagreb', 'TopicEntityName': 'Zagreb', 'TopicEntityMid': 'm.0fhzy', 'InferentialChain': ['base.aareas.schema.administrative_area.subdivides_place'], 'Constraints': [], 'Time': None, 'Order': None, 'Answers': [{'AnswerType': 'Entity', 'AnswerArgument': 'm.01pj7', 'EntityName': 'Croatia'}]}, {'ParseId': 'WebQTrn-587.P2', 'AnnotatorId': 1, 'AnnotatorComment': {'ParseQuality': 'Complete', 'QuestionQuality': 'Good', 'Confidence': 'Normal', 'FreeFormComment': 'First-round parse verification'}, 'Sparql': \"PREFIX ns: <http://rdf.freebase.com/ns/>\\nSELECT DISTINCT ?x\\nWHERE {\\nFILTER (?x != ns:m.0fhzy)\\nFILTER (!isLiteral(?x) OR lang(?x) = '' OR langMatches(lang(?x), 'en'))\\nns:m.0fhzy ns:base.biblioness.bibs_location.country ?x .\\n}\\n\", 'PotentialTopicEntityMention': 'zagreb', 'TopicEntityName': 'Zagreb', 'TopicEntityMid': 'm.0fhzy', 'InferentialChain': ['base.biblioness.bibs_location.country'], 'Constraints': [], 'Time': None, 'Order': None, 'Answers': [{'AnswerType': 'Entity', 'AnswerArgument': 'm.01pj7', 'EntityName': 'Croatia'}]}, {'ParseId': 'WebQTrn-587.P3', 'AnnotatorId': 1, 'AnnotatorComment': {'ParseQuality': 'Complete', 'QuestionQuality': 'Good', 'Confidence': 'Normal', 'FreeFormComment': 'First-round parse verification'}, 'Sparql': \"PREFIX ns: <http://rdf.freebase.com/ns/>\\nSELECT DISTINCT ?x\\nWHERE {\\nFILTER (?x != ns:m.0fhzy)\\nFILTER (!isLiteral(?x) OR lang(?x) = '' OR langMatches(lang(?x), 'en'))\\nns:m.0fhzy ns:location.administrative_division.country ?x .\\n}\\n\", 'PotentialTopicEntityMention': 'zagreb', 'TopicEntityName': 'Zagreb', 'TopicEntityMid': 'm.0fhzy', 'InferentialChain': ['location.administrative_division.country'], 'Constraints': [], 'Time': None, 'Order': None, 'Answers': [{'AnswerType': 'Entity', 'AnswerArgument': 'm.01pj7', 'EntityName': 'Croatia'}]}, {'ParseId': 'WebQTrn-587.P4', 'AnnotatorId': 1, 'AnnotatorComment': {'ParseQuality': 'Complete', 'QuestionQuality': 'Good', 'Confidence': 'Normal', 'FreeFormComment': 'First-round parse verification'}, 'Sparql': \"PREFIX ns: <http://rdf.freebase.com/ns/>\\nSELECT DISTINCT ?x\\nWHERE {\\nFILTER (?x != ns:m.0fhzy)\\nFILTER (!isLiteral(?x) OR lang(?x) = '' OR langMatches(lang(?x), 'en'))\\nns:m.0fhzy ns:location.location.containedby ?x .\\n}\\n\", 'PotentialTopicEntityMention': 'zagreb', 'TopicEntityName': 'Zagreb', 'TopicEntityMid': 'm.0fhzy', 'InferentialChain': ['location.location.containedby'], 'Constraints': [], 'Time': None, 'Order': None, 'Answers': [{'AnswerType': 'Entity', 'AnswerArgument': 'm.01pj7', 'EntityName': 'Croatia'}, {'AnswerType': 'Entity', 'AnswerArgument': 'm.087vz', 'EntityName': 'Yugoslavia'}]}]}\n",
      "where are you if you re in zagreb?\n",
      "{'ParseId': 'WebQTrn-587.P2', 'AnnotatorId': 1, 'AnnotatorComment': {'ParseQuality': 'Complete', 'QuestionQuality': 'Good', 'Confidence': 'Normal', 'FreeFormComment': 'First-round parse verification'}, 'Sparql': \"PREFIX ns: <http://rdf.freebase.com/ns/>\\nSELECT DISTINCT ?x\\nWHERE {\\nFILTER (?x != ns:m.0fhzy)\\nFILTER (!isLiteral(?x) OR lang(?x) = '' OR langMatches(lang(?x), 'en'))\\nns:m.0fhzy ns:base.biblioness.bibs_location.country ?x .\\n}\\n\", 'PotentialTopicEntityMention': 'zagreb', 'TopicEntityName': 'Zagreb', 'TopicEntityMid': 'm.0fhzy', 'InferentialChain': ['base.biblioness.bibs_location.country'], 'Constraints': [], 'Time': None, 'Order': None, 'Answers': [{'AnswerType': 'Entity', 'AnswerArgument': 'm.01pj7', 'EntityName': 'Croatia'}]}\n"
     ]
    },
    {
     "data": {
      "text/plain": [
       "1"
      ]
     },
     "execution_count": 87,
     "metadata": {},
     "output_type": "execute_result"
    }
   ],
   "source": [
    "for e in train_sp['Questions']:\n",
    "    if len(e['Parses']) > 4:\n",
    "        print(e)\n",
    "        print(e['RawQuestion'])\n",
    "        print(e['Parses'][2])\n",
    "        break\n",
    "len(train_sp['Questions'][427]['Parses'])"
   ]
  },
  {
   "cell_type": "code",
   "execution_count": null,
   "metadata": {},
   "outputs": [],
   "source": []
  }
 ],
 "metadata": {
  "kernelspec": {
   "display_name": "Python 3",
   "language": "python",
   "name": "python3"
  },
  "language_info": {
   "codemirror_mode": {
    "name": "ipython",
    "version": 3
   },
   "file_extension": ".py",
   "mimetype": "text/x-python",
   "name": "python",
   "nbconvert_exporter": "python",
   "pygments_lexer": "ipython3",
   "version": "3.7.4"
  }
 },
 "nbformat": 4,
 "nbformat_minor": 4
}
