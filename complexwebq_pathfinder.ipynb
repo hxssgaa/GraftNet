{
 "cells": [
  {
   "cell_type": "code",
   "execution_count": 3,
   "metadata": {},
   "outputs": [],
   "source": [
    "import sys\n",
    "import time\n",
    "import matplotlib.pyplot as plt\n",
    "import wordninja\n",
    "import networkx as nx\n",
    "import re\n",
    "\n",
    "from pullnet import PullNet\n",
    "from graftnet import GraftNet\n",
    "from pullnet_data_loader import DataLoader\n",
    "from fpnet_data_loader import FpNetDataLoader\n",
    "from relreasoner_data_loader import RelReasonerDataLoader\n",
    "from fpnet import FactsPullNet\n",
    "from util import *\n",
    "from multiprocessing.pool import Pool\n",
    "from preprocessing import use_helper\n",
    "from collections import defaultdict\n",
    "from string import punctuation\n",
    "from preprocessing.process_complex_webq import clean_text\n",
    "from collections import defaultdict\n",
    "\n",
    "\n",
    "import warnings\n",
    "warnings.filterwarnings(\"ignore\")"
   ]
  },
  {
   "cell_type": "code",
   "execution_count": 4,
   "metadata": {},
   "outputs": [],
   "source": [
    "cfg = get_config('config/complexwebq.yml')\n",
    "word2id = load_dict(cfg['data_folder'] + cfg['word2id'])\n",
    "relation2id = load_dict(cfg['data_folder'] + cfg['relation2id'])\n",
    "entity2id = load_dict(cfg['data_folder'] + cfg['entity2id'])\n",
    "num_hop = 1"
   ]
  },
  {
   "cell_type": "code",
   "execution_count": 5,
   "metadata": {},
   "outputs": [],
   "source": [
    "train_data = load_json(cfg['data_folder'] + 'complex_train_processed.json')\n",
    "dev_data = load_json(cfg['data_folder'] + 'complex_dev_processed.json')\n",
    "test_data = load_json(cfg['data_folder'] + 'complex_test_processed.json')"
   ]
  },
  {
   "cell_type": "code",
   "execution_count": 13,
   "metadata": {},
   "outputs": [
    {
     "data": {
      "text/plain": [
       "0.5389306117209064"
      ]
     },
     "execution_count": 13,
     "metadata": {},
     "output_type": "execute_result"
    }
   ],
   "source": [
    "len([e for e in train_data+dev_data if len(e['entities']) == 1]) / len(train_data + dev_data)"
   ]
  },
  {
   "cell_type": "code",
   "execution_count": 4,
   "metadata": {
    "tags": [
     "outputPrepend",
     "outputPrepend",
     "outputPrepend",
     "outputPrepend",
     "outputPrepend",
     "outputPrepend",
     "outputPrepend",
     "outputPrepend",
     "outputPrepend",
     "outputPrepend",
     "outputPrepend",
     "outputPrepend",
     "outputPrepend",
     "outputPrepend",
     "outputPrepend",
     "outputPrepend"
    ]
   },
   "outputs": [
    {
     "name": "stderr",
     "output_type": "stream",
     "text": [
      "31158it [00:03, 9566.67it/s]"
     ]
    },
    {
     "name": "stdout",
     "output_type": "stream",
     "text": [
      "\n",
      "-1\n",
      "86.04%\n",
      "\n",
      "1\n",
      "6.59%\n",
      "\n",
      "0\n",
      "6.20%\n",
      "\n",
      "2\n",
      "1.17%\n"
     ]
    },
    {
     "name": "stderr",
     "output_type": "stream",
     "text": [
      "\n"
     ]
    }
   ],
   "source": [
    "# Stastistic of the training+dev data pattern.\n",
    "is_entity = lambda x: x.startswith('m.') or x.startswith('g.')\n",
    "\n",
    "def _bfs(g, start):\n",
    "\n",
    "    graph = nx.Graph()\n",
    "    for s in g:\n",
    "        for p in g[s]:\n",
    "            for o in g[s][p]:\n",
    "                graph.add_edge(s, o, data=p)\n",
    "    graph = graph.to_undirected()\n",
    "    shortest_path = nx.shortest_path(graph, start, '?x')\n",
    "    relation = []\n",
    "    for i in range(len(shortest_path) - 1):\n",
    "        u, v = shortest_path[i], shortest_path[i + 1]\n",
    "        data = graph.get_edge_data(u, v)['data']\n",
    "        if i == 0:\n",
    "            relation.append(u)\n",
    "        relation.append(data)\n",
    "        relation.append(v)\n",
    "\n",
    "    return relation\n",
    "\n",
    "def apply_mask(paths):\n",
    "    max_len = 0\n",
    "    for i in range(len(paths)):\n",
    "        paths[i][0] = chr(ord('A') + i)\n",
    "        for j in range(1, len(paths[i]), 2):\n",
    "            paths[i][j] = ('r_%d^{(%d)}' % (i, j // 2 + 1))\n",
    "        # for j in range(2, len(paths[i]) - 1, 2):\n",
    "        #     paths[i][j] = ('e_%d^{(%d)}' % (i, j // 2))\n",
    "        max_len = max(max_len, len(paths[i]))\n",
    "    \n",
    "    tables = [['' for _ in range(max_len)] for _ in range(len(paths))]\n",
    "    for i in range(len(paths)):\n",
    "        for j in range(max_len - 1, -1, -1):\n",
    "            if (max_len - 1 - j) < len(paths[i]):\n",
    "                tables[i][j] = paths[i][-(max_len - j)]\n",
    "    for j in range(max_len):\n",
    "        lens = defaultdict(int)\n",
    "        for i in range(len(paths)):\n",
    "            if tables[i][j] == '':\n",
    "                continue\n",
    "            lens[tables[i][j]] += 1\n",
    "        for i in range(len(paths)):\n",
    "            if lens[tables[i][j]] > 1:\n",
    "                tables[i][j] = '|%s|' % tables[i][j]\n",
    "    for i in range(len(paths)):\n",
    "        tables[i] = ' '.join(tables[i]).strip()\n",
    "    return '\\n'.join(list(sorted(tables)))\n",
    "\n",
    "def _analyse_pattern(pattern):\n",
    "    pattern = pattern.replace('PREFIX ns: <http://rdf.freebase.com/ns/>', '').replace('SELECT DISTINCT ?x', '') \\\n",
    "        .replace('FILTER (!isLiteral(?x) OR lang(?x) = \\'\\' OR langMatches(lang(?x), \\'en\\'))', '')\\\n",
    "        .replace('FILTER (?x != ?c)', '')\\\n",
    "        .replace('{', '{\\n')\\\n",
    "        .replace('}', '}\\n')\n",
    "    pattern = '\\n'.join([e.strip().replace('ns:', '') for e in pattern.split('\\n') if e.strip() and not e.strip().startswith('FILTER (?x !=') and not e.strip().startswith('WHERE') and e.strip() != '}'])\n",
    "\n",
    "    result = -1\n",
    "    order_by_pattern = 0\n",
    "    filter_pattern = 1\n",
    "    union_pattern = 2\n",
    "    adj_map = dict()\n",
    "    entities = set()\n",
    "    for p in pattern.split('\\n'):\n",
    "        if p.startswith('ORDER BY'):\n",
    "            result = order_by_pattern\n",
    "            break\n",
    "        if p.startswith('FILTER('):\n",
    "            result = filter_pattern\n",
    "            break\n",
    "        if p.startswith('UNION'):\n",
    "            result = union_pattern\n",
    "            break\n",
    "        tup = p.split()\n",
    "        if len(tup) < 4:\n",
    "            continue\n",
    "        tup = tup[:4]\n",
    "        s, p, o, _ = tup\n",
    "        if is_entity(s):\n",
    "            entities.add(s)\n",
    "        if is_entity(o):\n",
    "            entities.add(o)\n",
    "        if s not in adj_map:\n",
    "            adj_map[s] = dict()\n",
    "        if p not in adj_map[s]:\n",
    "            adj_map[s][p] = dict()\n",
    "        if o not in adj_map[s][p]:\n",
    "            adj_map[s][p][o] = 0\n",
    "        if o not in adj_map:\n",
    "            adj_map[o] = dict()\n",
    "        if p not in adj_map[o]:\n",
    "            adj_map[o][p] = dict()\n",
    "        if s not in adj_map[o][p]:\n",
    "            adj_map[o][p][s] = 1\n",
    "    entities = list(entities)\n",
    "    paths = []\n",
    "    for e in entities:\n",
    "        try:\n",
    "            path = _bfs(adj_map, e)\n",
    "        except Exception as e2:\n",
    "            continue\n",
    "        paths.append(path)\n",
    "    return apply_mask(paths), result\n",
    "    \n",
    "\n",
    "pattern_cnt = defaultdict(int)\n",
    "p_cnt = defaultdict(int)\n",
    "for i, e in tqdm(enumerate((train_data + dev_data))):\n",
    "    # print(e['sparql'])\n",
    "    # print(_analyse_pattern(e['sparql']))\n",
    "    # print()\n",
    "    try:\n",
    "        masked, p = _analyse_pattern(e['sparql'])\n",
    "        pattern_cnt[masked] += 1\n",
    "        p_cnt[p] += 1\n",
    "    except Exception as e2:\n",
    "        print(e['sparql'])\n",
    "        print(e2)\n",
    "        print(i)\n",
    "        break\n",
    "\n",
    "# for l in list(sorted(pattern_cnt.items(), key=lambda x: x[1], reverse=True)):\n",
    "#     print()\n",
    "#     print(l[0])\n",
    "#     print('%.2f%%' % (100 * l[1] / len(train_data + dev_data)))\n",
    "\n",
    "for l in list(sorted(p_cnt.items(), key=lambda x: x[1], reverse=True)):\n",
    "    print()\n",
    "    print(l[0])\n",
    "    print('%.2f%%' % (100 * l[1] / len(train_data + dev_data)))"
   ]
  },
  {
   "cell_type": "code",
   "execution_count": 10,
   "metadata": {},
   "outputs": [
    {
     "name": "stderr",
     "output_type": "stream",
     "text": [
      "31158it [00:00, 1368369.45it/s]\n"
     ]
    },
    {
     "data": {
      "text/plain": [
       "1.5214070222735734"
      ]
     },
     "execution_count": 10,
     "metadata": {},
     "output_type": "execute_result"
    }
   ],
   "source": [
    "avg_entities = 0\n",
    "for i, e in tqdm(enumerate((train_data + dev_data))):\n",
    "    avg_entities += len(e['entities'])\n",
    "avg_entities / len(train_data + dev_data)"
   ]
  },
  {
   "cell_type": "code",
   "execution_count": 15,
   "metadata": {},
   "outputs": [
    {
     "name": "stderr",
     "output_type": "stream",
     "text": [
      "31158it [00:00, 608813.71it/s]\n"
     ]
    },
    {
     "data": {
      "text/plain": [
       "2.363017846889576"
      ]
     },
     "execution_count": 15,
     "metadata": {},
     "output_type": "execute_result"
    }
   ],
   "source": [
    "avg_len_relation_path = 0\n",
    "total_relation_paths = 0\n",
    "for i, e in tqdm(enumerate((train_data + dev_data))):\n",
    "    for p in e['ground_truth_path']:\n",
    "        avg_len_relation_path += (len(p) - 1) // 2\n",
    "        total_relation_paths += 1\n",
    "avg_len_relation_path / total_relation_paths"
   ]
  },
  {
   "cell_type": "code",
   "execution_count": 12,
   "metadata": {},
   "outputs": [
    {
     "output_type": "display_data",
     "data": {
      "text/plain": "<Figure size 432x288 with 1 Axes>",
      "image/svg+xml": "<?xml version=\"1.0\" encoding=\"utf-8\" standalone=\"no\"?>\n<!DOCTYPE svg PUBLIC \"-//W3C//DTD SVG 1.1//EN\"\n  \"http://www.w3.org/Graphics/SVG/1.1/DTD/svg11.dtd\">\n<!-- Created with matplotlib (https://matplotlib.org/) -->\n<svg height=\"277.314375pt\" version=\"1.1\" viewBox=\"0 0 385.78125 277.314375\" width=\"385.78125pt\" xmlns=\"http://www.w3.org/2000/svg\" xmlns:xlink=\"http://www.w3.org/1999/xlink\">\n <defs>\n  <style type=\"text/css\">\n*{stroke-linecap:butt;stroke-linejoin:round;}\n  </style>\n </defs>\n <g id=\"figure_1\">\n  <g id=\"patch_1\">\n   <path d=\"M 0 277.314375 \nL 385.78125 277.314375 \nL 385.78125 0 \nL 0 0 \nz\n\" style=\"fill:none;\"/>\n  </g>\n  <g id=\"axes_1\">\n   <g id=\"patch_2\">\n    <path d=\"M 43.78125 239.758125 \nL 378.58125 239.758125 \nL 378.58125 22.318125 \nL 43.78125 22.318125 \nz\n\" style=\"fill:#ffffff;\"/>\n   </g>\n   <g id=\"matplotlib.axis_1\">\n    <g id=\"xtick_1\">\n     <g id=\"line2d_1\">\n      <path clip-path=\"url(#p8a1c308154)\" d=\"M 58.999432 239.758125 \nL 58.999432 22.318125 \n\" style=\"fill:none;stroke:#b0b0b0;stroke-linecap:square;stroke-width:0.8;\"/>\n     </g>\n     <g id=\"line2d_2\">\n      <defs>\n       <path d=\"M 0 0 \nL 0 3.5 \n\" id=\"m14b72510ff\" style=\"stroke:#000000;stroke-width:0.8;\"/>\n      </defs>\n      <g>\n       <use style=\"stroke:#000000;stroke-width:0.8;\" x=\"58.999432\" xlink:href=\"#m14b72510ff\" y=\"239.758125\"/>\n      </g>\n     </g>\n     <g id=\"text_1\">\n      <!-- 0 -->\n      <defs>\n       <path d=\"M 31.78125 66.40625 \nQ 24.171875 66.40625 20.328125 58.90625 \nQ 16.5 51.421875 16.5 36.375 \nQ 16.5 21.390625 20.328125 13.890625 \nQ 24.171875 6.390625 31.78125 6.390625 \nQ 39.453125 6.390625 43.28125 13.890625 \nQ 47.125 21.390625 47.125 36.375 \nQ 47.125 51.421875 43.28125 58.90625 \nQ 39.453125 66.40625 31.78125 66.40625 \nz\nM 31.78125 74.21875 \nQ 44.046875 74.21875 50.515625 64.515625 \nQ 56.984375 54.828125 56.984375 36.375 \nQ 56.984375 17.96875 50.515625 8.265625 \nQ 44.046875 -1.421875 31.78125 -1.421875 \nQ 19.53125 -1.421875 13.0625 8.265625 \nQ 6.59375 17.96875 6.59375 36.375 \nQ 6.59375 54.828125 13.0625 64.515625 \nQ 19.53125 74.21875 31.78125 74.21875 \nz\n\" id=\"DejaVuSans-48\"/>\n      </defs>\n      <g transform=\"translate(55.818182 254.356562)scale(0.1 -0.1)\">\n       <use xlink:href=\"#DejaVuSans-48\"/>\n      </g>\n     </g>\n    </g>\n    <g id=\"xtick_2\">\n     <g id=\"line2d_3\">\n      <path clip-path=\"url(#p8a1c308154)\" d=\"M 108.090341 239.758125 \nL 108.090341 22.318125 \n\" style=\"fill:none;stroke:#b0b0b0;stroke-linecap:square;stroke-width:0.8;\"/>\n     </g>\n     <g id=\"line2d_4\">\n      <g>\n       <use style=\"stroke:#000000;stroke-width:0.8;\" x=\"108.090341\" xlink:href=\"#m14b72510ff\" y=\"239.758125\"/>\n      </g>\n     </g>\n     <g id=\"text_2\">\n      <!-- 10000 -->\n      <defs>\n       <path d=\"M 12.40625 8.296875 \nL 28.515625 8.296875 \nL 28.515625 63.921875 \nL 10.984375 60.40625 \nL 10.984375 69.390625 \nL 28.421875 72.90625 \nL 38.28125 72.90625 \nL 38.28125 8.296875 \nL 54.390625 8.296875 \nL 54.390625 0 \nL 12.40625 0 \nz\n\" id=\"DejaVuSans-49\"/>\n      </defs>\n      <g transform=\"translate(92.184091 254.356562)scale(0.1 -0.1)\">\n       <use xlink:href=\"#DejaVuSans-49\"/>\n       <use x=\"63.623047\" xlink:href=\"#DejaVuSans-48\"/>\n       <use x=\"127.246094\" xlink:href=\"#DejaVuSans-48\"/>\n       <use x=\"190.869141\" xlink:href=\"#DejaVuSans-48\"/>\n       <use x=\"254.492188\" xlink:href=\"#DejaVuSans-48\"/>\n      </g>\n     </g>\n    </g>\n    <g id=\"xtick_3\">\n     <g id=\"line2d_5\">\n      <path clip-path=\"url(#p8a1c308154)\" d=\"M 157.18125 239.758125 \nL 157.18125 22.318125 \n\" style=\"fill:none;stroke:#b0b0b0;stroke-linecap:square;stroke-width:0.8;\"/>\n     </g>\n     <g id=\"line2d_6\">\n      <g>\n       <use style=\"stroke:#000000;stroke-width:0.8;\" x=\"157.18125\" xlink:href=\"#m14b72510ff\" y=\"239.758125\"/>\n      </g>\n     </g>\n     <g id=\"text_3\">\n      <!-- 20000 -->\n      <defs>\n       <path d=\"M 19.1875 8.296875 \nL 53.609375 8.296875 \nL 53.609375 0 \nL 7.328125 0 \nL 7.328125 8.296875 \nQ 12.9375 14.109375 22.625 23.890625 \nQ 32.328125 33.6875 34.8125 36.53125 \nQ 39.546875 41.84375 41.421875 45.53125 \nQ 43.3125 49.21875 43.3125 52.78125 \nQ 43.3125 58.59375 39.234375 62.25 \nQ 35.15625 65.921875 28.609375 65.921875 \nQ 23.96875 65.921875 18.8125 64.3125 \nQ 13.671875 62.703125 7.8125 59.421875 \nL 7.8125 69.390625 \nQ 13.765625 71.78125 18.9375 73 \nQ 24.125 74.21875 28.421875 74.21875 \nQ 39.75 74.21875 46.484375 68.546875 \nQ 53.21875 62.890625 53.21875 53.421875 \nQ 53.21875 48.921875 51.53125 44.890625 \nQ 49.859375 40.875 45.40625 35.40625 \nQ 44.1875 33.984375 37.640625 27.21875 \nQ 31.109375 20.453125 19.1875 8.296875 \nz\n\" id=\"DejaVuSans-50\"/>\n      </defs>\n      <g transform=\"translate(141.275 254.356562)scale(0.1 -0.1)\">\n       <use xlink:href=\"#DejaVuSans-50\"/>\n       <use x=\"63.623047\" xlink:href=\"#DejaVuSans-48\"/>\n       <use x=\"127.246094\" xlink:href=\"#DejaVuSans-48\"/>\n       <use x=\"190.869141\" xlink:href=\"#DejaVuSans-48\"/>\n       <use x=\"254.492188\" xlink:href=\"#DejaVuSans-48\"/>\n      </g>\n     </g>\n    </g>\n    <g id=\"xtick_4\">\n     <g id=\"line2d_7\">\n      <path clip-path=\"url(#p8a1c308154)\" d=\"M 206.272159 239.758125 \nL 206.272159 22.318125 \n\" style=\"fill:none;stroke:#b0b0b0;stroke-linecap:square;stroke-width:0.8;\"/>\n     </g>\n     <g id=\"line2d_8\">\n      <g>\n       <use style=\"stroke:#000000;stroke-width:0.8;\" x=\"206.272159\" xlink:href=\"#m14b72510ff\" y=\"239.758125\"/>\n      </g>\n     </g>\n     <g id=\"text_4\">\n      <!-- 30000 -->\n      <defs>\n       <path d=\"M 40.578125 39.3125 \nQ 47.65625 37.796875 51.625 33 \nQ 55.609375 28.21875 55.609375 21.1875 \nQ 55.609375 10.40625 48.1875 4.484375 \nQ 40.765625 -1.421875 27.09375 -1.421875 \nQ 22.515625 -1.421875 17.65625 -0.515625 \nQ 12.796875 0.390625 7.625 2.203125 \nL 7.625 11.71875 \nQ 11.71875 9.328125 16.59375 8.109375 \nQ 21.484375 6.890625 26.8125 6.890625 \nQ 36.078125 6.890625 40.9375 10.546875 \nQ 45.796875 14.203125 45.796875 21.1875 \nQ 45.796875 27.640625 41.28125 31.265625 \nQ 36.765625 34.90625 28.71875 34.90625 \nL 20.21875 34.90625 \nL 20.21875 43.015625 \nL 29.109375 43.015625 \nQ 36.375 43.015625 40.234375 45.921875 \nQ 44.09375 48.828125 44.09375 54.296875 \nQ 44.09375 59.90625 40.109375 62.90625 \nQ 36.140625 65.921875 28.71875 65.921875 \nQ 24.65625 65.921875 20.015625 65.03125 \nQ 15.375 64.15625 9.8125 62.3125 \nL 9.8125 71.09375 \nQ 15.4375 72.65625 20.34375 73.4375 \nQ 25.25 74.21875 29.59375 74.21875 \nQ 40.828125 74.21875 47.359375 69.109375 \nQ 53.90625 64.015625 53.90625 55.328125 \nQ 53.90625 49.265625 50.4375 45.09375 \nQ 46.96875 40.921875 40.578125 39.3125 \nz\n\" id=\"DejaVuSans-51\"/>\n      </defs>\n      <g transform=\"translate(190.365909 254.356562)scale(0.1 -0.1)\">\n       <use xlink:href=\"#DejaVuSans-51\"/>\n       <use x=\"63.623047\" xlink:href=\"#DejaVuSans-48\"/>\n       <use x=\"127.246094\" xlink:href=\"#DejaVuSans-48\"/>\n       <use x=\"190.869141\" xlink:href=\"#DejaVuSans-48\"/>\n       <use x=\"254.492188\" xlink:href=\"#DejaVuSans-48\"/>\n      </g>\n     </g>\n    </g>\n    <g id=\"xtick_5\">\n     <g id=\"line2d_9\">\n      <path clip-path=\"url(#p8a1c308154)\" d=\"M 255.363068 239.758125 \nL 255.363068 22.318125 \n\" style=\"fill:none;stroke:#b0b0b0;stroke-linecap:square;stroke-width:0.8;\"/>\n     </g>\n     <g id=\"line2d_10\">\n      <g>\n       <use style=\"stroke:#000000;stroke-width:0.8;\" x=\"255.363068\" xlink:href=\"#m14b72510ff\" y=\"239.758125\"/>\n      </g>\n     </g>\n     <g id=\"text_5\">\n      <!-- 40000 -->\n      <defs>\n       <path d=\"M 37.796875 64.3125 \nL 12.890625 25.390625 \nL 37.796875 25.390625 \nz\nM 35.203125 72.90625 \nL 47.609375 72.90625 \nL 47.609375 25.390625 \nL 58.015625 25.390625 \nL 58.015625 17.1875 \nL 47.609375 17.1875 \nL 47.609375 0 \nL 37.796875 0 \nL 37.796875 17.1875 \nL 4.890625 17.1875 \nL 4.890625 26.703125 \nz\n\" id=\"DejaVuSans-52\"/>\n      </defs>\n      <g transform=\"translate(239.456818 254.356562)scale(0.1 -0.1)\">\n       <use xlink:href=\"#DejaVuSans-52\"/>\n       <use x=\"63.623047\" xlink:href=\"#DejaVuSans-48\"/>\n       <use x=\"127.246094\" xlink:href=\"#DejaVuSans-48\"/>\n       <use x=\"190.869141\" xlink:href=\"#DejaVuSans-48\"/>\n       <use x=\"254.492188\" xlink:href=\"#DejaVuSans-48\"/>\n      </g>\n     </g>\n    </g>\n    <g id=\"xtick_6\">\n     <g id=\"line2d_11\">\n      <path clip-path=\"url(#p8a1c308154)\" d=\"M 304.453977 239.758125 \nL 304.453977 22.318125 \n\" style=\"fill:none;stroke:#b0b0b0;stroke-linecap:square;stroke-width:0.8;\"/>\n     </g>\n     <g id=\"line2d_12\">\n      <g>\n       <use style=\"stroke:#000000;stroke-width:0.8;\" x=\"304.453977\" xlink:href=\"#m14b72510ff\" y=\"239.758125\"/>\n      </g>\n     </g>\n     <g id=\"text_6\">\n      <!-- 50000 -->\n      <defs>\n       <path d=\"M 10.796875 72.90625 \nL 49.515625 72.90625 \nL 49.515625 64.59375 \nL 19.828125 64.59375 \nL 19.828125 46.734375 \nQ 21.96875 47.46875 24.109375 47.828125 \nQ 26.265625 48.1875 28.421875 48.1875 \nQ 40.625 48.1875 47.75 41.5 \nQ 54.890625 34.8125 54.890625 23.390625 \nQ 54.890625 11.625 47.5625 5.09375 \nQ 40.234375 -1.421875 26.90625 -1.421875 \nQ 22.3125 -1.421875 17.546875 -0.640625 \nQ 12.796875 0.140625 7.71875 1.703125 \nL 7.71875 11.625 \nQ 12.109375 9.234375 16.796875 8.0625 \nQ 21.484375 6.890625 26.703125 6.890625 \nQ 35.15625 6.890625 40.078125 11.328125 \nQ 45.015625 15.765625 45.015625 23.390625 \nQ 45.015625 31 40.078125 35.4375 \nQ 35.15625 39.890625 26.703125 39.890625 \nQ 22.75 39.890625 18.8125 39.015625 \nQ 14.890625 38.140625 10.796875 36.28125 \nz\n\" id=\"DejaVuSans-53\"/>\n      </defs>\n      <g transform=\"translate(288.547727 254.356562)scale(0.1 -0.1)\">\n       <use xlink:href=\"#DejaVuSans-53\"/>\n       <use x=\"63.623047\" xlink:href=\"#DejaVuSans-48\"/>\n       <use x=\"127.246094\" xlink:href=\"#DejaVuSans-48\"/>\n       <use x=\"190.869141\" xlink:href=\"#DejaVuSans-48\"/>\n       <use x=\"254.492188\" xlink:href=\"#DejaVuSans-48\"/>\n      </g>\n     </g>\n    </g>\n    <g id=\"xtick_7\">\n     <g id=\"line2d_13\">\n      <path clip-path=\"url(#p8a1c308154)\" d=\"M 353.544886 239.758125 \nL 353.544886 22.318125 \n\" style=\"fill:none;stroke:#b0b0b0;stroke-linecap:square;stroke-width:0.8;\"/>\n     </g>\n     <g id=\"line2d_14\">\n      <g>\n       <use style=\"stroke:#000000;stroke-width:0.8;\" x=\"353.544886\" xlink:href=\"#m14b72510ff\" y=\"239.758125\"/>\n      </g>\n     </g>\n     <g id=\"text_7\">\n      <!-- 60000 -->\n      <defs>\n       <path d=\"M 33.015625 40.375 \nQ 26.375 40.375 22.484375 35.828125 \nQ 18.609375 31.296875 18.609375 23.390625 \nQ 18.609375 15.53125 22.484375 10.953125 \nQ 26.375 6.390625 33.015625 6.390625 \nQ 39.65625 6.390625 43.53125 10.953125 \nQ 47.40625 15.53125 47.40625 23.390625 \nQ 47.40625 31.296875 43.53125 35.828125 \nQ 39.65625 40.375 33.015625 40.375 \nz\nM 52.59375 71.296875 \nL 52.59375 62.3125 \nQ 48.875 64.0625 45.09375 64.984375 \nQ 41.3125 65.921875 37.59375 65.921875 \nQ 27.828125 65.921875 22.671875 59.328125 \nQ 17.53125 52.734375 16.796875 39.40625 \nQ 19.671875 43.65625 24.015625 45.921875 \nQ 28.375 48.1875 33.59375 48.1875 \nQ 44.578125 48.1875 50.953125 41.515625 \nQ 57.328125 34.859375 57.328125 23.390625 \nQ 57.328125 12.15625 50.6875 5.359375 \nQ 44.046875 -1.421875 33.015625 -1.421875 \nQ 20.359375 -1.421875 13.671875 8.265625 \nQ 6.984375 17.96875 6.984375 36.375 \nQ 6.984375 53.65625 15.1875 63.9375 \nQ 23.390625 74.21875 37.203125 74.21875 \nQ 40.921875 74.21875 44.703125 73.484375 \nQ 48.484375 72.75 52.59375 71.296875 \nz\n\" id=\"DejaVuSans-54\"/>\n      </defs>\n      <g transform=\"translate(337.638636 254.356562)scale(0.1 -0.1)\">\n       <use xlink:href=\"#DejaVuSans-54\"/>\n       <use x=\"63.623047\" xlink:href=\"#DejaVuSans-48\"/>\n       <use x=\"127.246094\" xlink:href=\"#DejaVuSans-48\"/>\n       <use x=\"190.869141\" xlink:href=\"#DejaVuSans-48\"/>\n       <use x=\"254.492188\" xlink:href=\"#DejaVuSans-48\"/>\n      </g>\n     </g>\n    </g>\n    <g id=\"text_8\">\n     <!-- Clocktime (seconds) -->\n     <defs>\n      <path d=\"M 64.40625 67.28125 \nL 64.40625 56.890625 \nQ 59.421875 61.53125 53.78125 63.8125 \nQ 48.140625 66.109375 41.796875 66.109375 \nQ 29.296875 66.109375 22.65625 58.46875 \nQ 16.015625 50.828125 16.015625 36.375 \nQ 16.015625 21.96875 22.65625 14.328125 \nQ 29.296875 6.6875 41.796875 6.6875 \nQ 48.140625 6.6875 53.78125 8.984375 \nQ 59.421875 11.28125 64.40625 15.921875 \nL 64.40625 5.609375 \nQ 59.234375 2.09375 53.4375 0.328125 \nQ 47.65625 -1.421875 41.21875 -1.421875 \nQ 24.65625 -1.421875 15.125 8.703125 \nQ 5.609375 18.84375 5.609375 36.375 \nQ 5.609375 53.953125 15.125 64.078125 \nQ 24.65625 74.21875 41.21875 74.21875 \nQ 47.75 74.21875 53.53125 72.484375 \nQ 59.328125 70.75 64.40625 67.28125 \nz\n\" id=\"DejaVuSans-67\"/>\n      <path d=\"M 9.421875 75.984375 \nL 18.40625 75.984375 \nL 18.40625 0 \nL 9.421875 0 \nz\n\" id=\"DejaVuSans-108\"/>\n      <path d=\"M 30.609375 48.390625 \nQ 23.390625 48.390625 19.1875 42.75 \nQ 14.984375 37.109375 14.984375 27.296875 \nQ 14.984375 17.484375 19.15625 11.84375 \nQ 23.34375 6.203125 30.609375 6.203125 \nQ 37.796875 6.203125 41.984375 11.859375 \nQ 46.1875 17.53125 46.1875 27.296875 \nQ 46.1875 37.015625 41.984375 42.703125 \nQ 37.796875 48.390625 30.609375 48.390625 \nz\nM 30.609375 56 \nQ 42.328125 56 49.015625 48.375 \nQ 55.71875 40.765625 55.71875 27.296875 \nQ 55.71875 13.875 49.015625 6.21875 \nQ 42.328125 -1.421875 30.609375 -1.421875 \nQ 18.84375 -1.421875 12.171875 6.21875 \nQ 5.515625 13.875 5.515625 27.296875 \nQ 5.515625 40.765625 12.171875 48.375 \nQ 18.84375 56 30.609375 56 \nz\n\" id=\"DejaVuSans-111\"/>\n      <path d=\"M 48.78125 52.59375 \nL 48.78125 44.1875 \nQ 44.96875 46.296875 41.140625 47.34375 \nQ 37.3125 48.390625 33.40625 48.390625 \nQ 24.65625 48.390625 19.8125 42.84375 \nQ 14.984375 37.3125 14.984375 27.296875 \nQ 14.984375 17.28125 19.8125 11.734375 \nQ 24.65625 6.203125 33.40625 6.203125 \nQ 37.3125 6.203125 41.140625 7.25 \nQ 44.96875 8.296875 48.78125 10.40625 \nL 48.78125 2.09375 \nQ 45.015625 0.34375 40.984375 -0.53125 \nQ 36.96875 -1.421875 32.421875 -1.421875 \nQ 20.0625 -1.421875 12.78125 6.34375 \nQ 5.515625 14.109375 5.515625 27.296875 \nQ 5.515625 40.671875 12.859375 48.328125 \nQ 20.21875 56 33.015625 56 \nQ 37.15625 56 41.109375 55.140625 \nQ 45.0625 54.296875 48.78125 52.59375 \nz\n\" id=\"DejaVuSans-99\"/>\n      <path d=\"M 9.078125 75.984375 \nL 18.109375 75.984375 \nL 18.109375 31.109375 \nL 44.921875 54.6875 \nL 56.390625 54.6875 \nL 27.390625 29.109375 \nL 57.625 0 \nL 45.90625 0 \nL 18.109375 26.703125 \nL 18.109375 0 \nL 9.078125 0 \nz\n\" id=\"DejaVuSans-107\"/>\n      <path d=\"M 18.3125 70.21875 \nL 18.3125 54.6875 \nL 36.8125 54.6875 \nL 36.8125 47.703125 \nL 18.3125 47.703125 \nL 18.3125 18.015625 \nQ 18.3125 11.328125 20.140625 9.421875 \nQ 21.96875 7.515625 27.59375 7.515625 \nL 36.8125 7.515625 \nL 36.8125 0 \nL 27.59375 0 \nQ 17.1875 0 13.234375 3.875 \nQ 9.28125 7.765625 9.28125 18.015625 \nL 9.28125 47.703125 \nL 2.6875 47.703125 \nL 2.6875 54.6875 \nL 9.28125 54.6875 \nL 9.28125 70.21875 \nz\n\" id=\"DejaVuSans-116\"/>\n      <path d=\"M 9.421875 54.6875 \nL 18.40625 54.6875 \nL 18.40625 0 \nL 9.421875 0 \nz\nM 9.421875 75.984375 \nL 18.40625 75.984375 \nL 18.40625 64.59375 \nL 9.421875 64.59375 \nz\n\" id=\"DejaVuSans-105\"/>\n      <path d=\"M 52 44.1875 \nQ 55.375 50.25 60.0625 53.125 \nQ 64.75 56 71.09375 56 \nQ 79.640625 56 84.28125 50.015625 \nQ 88.921875 44.046875 88.921875 33.015625 \nL 88.921875 0 \nL 79.890625 0 \nL 79.890625 32.71875 \nQ 79.890625 40.578125 77.09375 44.375 \nQ 74.3125 48.1875 68.609375 48.1875 \nQ 61.625 48.1875 57.5625 43.546875 \nQ 53.515625 38.921875 53.515625 30.90625 \nL 53.515625 0 \nL 44.484375 0 \nL 44.484375 32.71875 \nQ 44.484375 40.625 41.703125 44.40625 \nQ 38.921875 48.1875 33.109375 48.1875 \nQ 26.21875 48.1875 22.15625 43.53125 \nQ 18.109375 38.875 18.109375 30.90625 \nL 18.109375 0 \nL 9.078125 0 \nL 9.078125 54.6875 \nL 18.109375 54.6875 \nL 18.109375 46.1875 \nQ 21.1875 51.21875 25.484375 53.609375 \nQ 29.78125 56 35.6875 56 \nQ 41.65625 56 45.828125 52.96875 \nQ 50 49.953125 52 44.1875 \nz\n\" id=\"DejaVuSans-109\"/>\n      <path d=\"M 56.203125 29.59375 \nL 56.203125 25.203125 \nL 14.890625 25.203125 \nQ 15.484375 15.921875 20.484375 11.0625 \nQ 25.484375 6.203125 34.421875 6.203125 \nQ 39.59375 6.203125 44.453125 7.46875 \nQ 49.3125 8.734375 54.109375 11.28125 \nL 54.109375 2.78125 \nQ 49.265625 0.734375 44.1875 -0.34375 \nQ 39.109375 -1.421875 33.890625 -1.421875 \nQ 20.796875 -1.421875 13.15625 6.1875 \nQ 5.515625 13.8125 5.515625 26.8125 \nQ 5.515625 40.234375 12.765625 48.109375 \nQ 20.015625 56 32.328125 56 \nQ 43.359375 56 49.78125 48.890625 \nQ 56.203125 41.796875 56.203125 29.59375 \nz\nM 47.21875 32.234375 \nQ 47.125 39.59375 43.09375 43.984375 \nQ 39.0625 48.390625 32.421875 48.390625 \nQ 24.90625 48.390625 20.390625 44.140625 \nQ 15.875 39.890625 15.1875 32.171875 \nz\n\" id=\"DejaVuSans-101\"/>\n      <path id=\"DejaVuSans-32\"/>\n      <path d=\"M 31 75.875 \nQ 24.46875 64.65625 21.28125 53.65625 \nQ 18.109375 42.671875 18.109375 31.390625 \nQ 18.109375 20.125 21.3125 9.0625 \nQ 24.515625 -2 31 -13.1875 \nL 23.1875 -13.1875 \nQ 15.875 -1.703125 12.234375 9.375 \nQ 8.59375 20.453125 8.59375 31.390625 \nQ 8.59375 42.28125 12.203125 53.3125 \nQ 15.828125 64.359375 23.1875 75.875 \nz\n\" id=\"DejaVuSans-40\"/>\n      <path d=\"M 44.28125 53.078125 \nL 44.28125 44.578125 \nQ 40.484375 46.53125 36.375 47.5 \nQ 32.28125 48.484375 27.875 48.484375 \nQ 21.1875 48.484375 17.84375 46.4375 \nQ 14.5 44.390625 14.5 40.28125 \nQ 14.5 37.15625 16.890625 35.375 \nQ 19.28125 33.59375 26.515625 31.984375 \nL 29.59375 31.296875 \nQ 39.15625 29.25 43.1875 25.515625 \nQ 47.21875 21.78125 47.21875 15.09375 \nQ 47.21875 7.46875 41.1875 3.015625 \nQ 35.15625 -1.421875 24.609375 -1.421875 \nQ 20.21875 -1.421875 15.453125 -0.5625 \nQ 10.6875 0.296875 5.421875 2 \nL 5.421875 11.28125 \nQ 10.40625 8.6875 15.234375 7.390625 \nQ 20.0625 6.109375 24.8125 6.109375 \nQ 31.15625 6.109375 34.5625 8.28125 \nQ 37.984375 10.453125 37.984375 14.40625 \nQ 37.984375 18.0625 35.515625 20.015625 \nQ 33.0625 21.96875 24.703125 23.78125 \nL 21.578125 24.515625 \nQ 13.234375 26.265625 9.515625 29.90625 \nQ 5.8125 33.546875 5.8125 39.890625 \nQ 5.8125 47.609375 11.28125 51.796875 \nQ 16.75 56 26.8125 56 \nQ 31.78125 56 36.171875 55.265625 \nQ 40.578125 54.546875 44.28125 53.078125 \nz\n\" id=\"DejaVuSans-115\"/>\n      <path d=\"M 54.890625 33.015625 \nL 54.890625 0 \nL 45.90625 0 \nL 45.90625 32.71875 \nQ 45.90625 40.484375 42.875 44.328125 \nQ 39.84375 48.1875 33.796875 48.1875 \nQ 26.515625 48.1875 22.3125 43.546875 \nQ 18.109375 38.921875 18.109375 30.90625 \nL 18.109375 0 \nL 9.078125 0 \nL 9.078125 54.6875 \nL 18.109375 54.6875 \nL 18.109375 46.1875 \nQ 21.34375 51.125 25.703125 53.5625 \nQ 30.078125 56 35.796875 56 \nQ 45.21875 56 50.046875 50.171875 \nQ 54.890625 44.34375 54.890625 33.015625 \nz\n\" id=\"DejaVuSans-110\"/>\n      <path d=\"M 45.40625 46.390625 \nL 45.40625 75.984375 \nL 54.390625 75.984375 \nL 54.390625 0 \nL 45.40625 0 \nL 45.40625 8.203125 \nQ 42.578125 3.328125 38.25 0.953125 \nQ 33.9375 -1.421875 27.875 -1.421875 \nQ 17.96875 -1.421875 11.734375 6.484375 \nQ 5.515625 14.40625 5.515625 27.296875 \nQ 5.515625 40.1875 11.734375 48.09375 \nQ 17.96875 56 27.875 56 \nQ 33.9375 56 38.25 53.625 \nQ 42.578125 51.265625 45.40625 46.390625 \nz\nM 14.796875 27.296875 \nQ 14.796875 17.390625 18.875 11.75 \nQ 22.953125 6.109375 30.078125 6.109375 \nQ 37.203125 6.109375 41.296875 11.75 \nQ 45.40625 17.390625 45.40625 27.296875 \nQ 45.40625 37.203125 41.296875 42.84375 \nQ 37.203125 48.484375 30.078125 48.484375 \nQ 22.953125 48.484375 18.875 42.84375 \nQ 14.796875 37.203125 14.796875 27.296875 \nz\n\" id=\"DejaVuSans-100\"/>\n      <path d=\"M 8.015625 75.875 \nL 15.828125 75.875 \nQ 23.140625 64.359375 26.78125 53.3125 \nQ 30.421875 42.28125 30.421875 31.390625 \nQ 30.421875 20.453125 26.78125 9.375 \nQ 23.140625 -1.703125 15.828125 -13.1875 \nL 8.015625 -13.1875 \nQ 14.5 -2 17.703125 9.0625 \nQ 20.90625 20.125 20.90625 31.390625 \nQ 20.90625 42.671875 17.703125 53.65625 \nQ 14.5 64.65625 8.015625 75.875 \nz\n\" id=\"DejaVuSans-41\"/>\n     </defs>\n     <g transform=\"translate(160.372656 268.034687)scale(0.1 -0.1)\">\n      <use xlink:href=\"#DejaVuSans-67\"/>\n      <use x=\"69.824219\" xlink:href=\"#DejaVuSans-108\"/>\n      <use x=\"97.607422\" xlink:href=\"#DejaVuSans-111\"/>\n      <use x=\"158.789062\" xlink:href=\"#DejaVuSans-99\"/>\n      <use x=\"213.769531\" xlink:href=\"#DejaVuSans-107\"/>\n      <use x=\"271.679688\" xlink:href=\"#DejaVuSans-116\"/>\n      <use x=\"310.888672\" xlink:href=\"#DejaVuSans-105\"/>\n      <use x=\"338.671875\" xlink:href=\"#DejaVuSans-109\"/>\n      <use x=\"436.083984\" xlink:href=\"#DejaVuSans-101\"/>\n      <use x=\"497.607422\" xlink:href=\"#DejaVuSans-32\"/>\n      <use x=\"529.394531\" xlink:href=\"#DejaVuSans-40\"/>\n      <use x=\"568.408203\" xlink:href=\"#DejaVuSans-115\"/>\n      <use x=\"620.507812\" xlink:href=\"#DejaVuSans-101\"/>\n      <use x=\"682.03125\" xlink:href=\"#DejaVuSans-99\"/>\n      <use x=\"737.011719\" xlink:href=\"#DejaVuSans-111\"/>\n      <use x=\"798.193359\" xlink:href=\"#DejaVuSans-110\"/>\n      <use x=\"861.572266\" xlink:href=\"#DejaVuSans-100\"/>\n      <use x=\"925.048828\" xlink:href=\"#DejaVuSans-115\"/>\n      <use x=\"977.148438\" xlink:href=\"#DejaVuSans-41\"/>\n     </g>\n    </g>\n   </g>\n   <g id=\"matplotlib.axis_2\">\n    <g id=\"ytick_1\">\n     <g id=\"line2d_15\">\n      <path clip-path=\"url(#p8a1c308154)\" d=\"M 43.78125 229.874489 \nL 378.58125 229.874489 \n\" style=\"fill:none;stroke:#b0b0b0;stroke-linecap:square;stroke-width:0.8;\"/>\n     </g>\n     <g id=\"line2d_16\">\n      <defs>\n       <path d=\"M 0 0 \nL -3.5 0 \n\" id=\"mb388b65ab0\" style=\"stroke:#000000;stroke-width:0.8;\"/>\n      </defs>\n      <g>\n       <use style=\"stroke:#000000;stroke-width:0.8;\" x=\"43.78125\" xlink:href=\"#mb388b65ab0\" y=\"229.874489\"/>\n      </g>\n     </g>\n     <g id=\"text_9\">\n      <!-- 0.0 -->\n      <defs>\n       <path d=\"M 10.6875 12.40625 \nL 21 12.40625 \nL 21 0 \nL 10.6875 0 \nz\n\" id=\"DejaVuSans-46\"/>\n      </defs>\n      <g transform=\"translate(20.878125 233.673707)scale(0.1 -0.1)\">\n       <use xlink:href=\"#DejaVuSans-48\"/>\n       <use x=\"63.623047\" xlink:href=\"#DejaVuSans-46\"/>\n       <use x=\"95.410156\" xlink:href=\"#DejaVuSans-48\"/>\n      </g>\n     </g>\n    </g>\n    <g id=\"ytick_2\">\n     <g id=\"line2d_17\">\n      <path clip-path=\"url(#p8a1c308154)\" d=\"M 43.78125 195.556307 \nL 378.58125 195.556307 \n\" style=\"fill:none;stroke:#b0b0b0;stroke-linecap:square;stroke-width:0.8;\"/>\n     </g>\n     <g id=\"line2d_18\">\n      <g>\n       <use style=\"stroke:#000000;stroke-width:0.8;\" x=\"43.78125\" xlink:href=\"#mb388b65ab0\" y=\"195.556307\"/>\n      </g>\n     </g>\n     <g id=\"text_10\">\n      <!-- 0.1 -->\n      <g transform=\"translate(20.878125 199.355526)scale(0.1 -0.1)\">\n       <use xlink:href=\"#DejaVuSans-48\"/>\n       <use x=\"63.623047\" xlink:href=\"#DejaVuSans-46\"/>\n       <use x=\"95.410156\" xlink:href=\"#DejaVuSans-49\"/>\n      </g>\n     </g>\n    </g>\n    <g id=\"ytick_3\">\n     <g id=\"line2d_19\">\n      <path clip-path=\"url(#p8a1c308154)\" d=\"M 43.78125 161.238125 \nL 378.58125 161.238125 \n\" style=\"fill:none;stroke:#b0b0b0;stroke-linecap:square;stroke-width:0.8;\"/>\n     </g>\n     <g id=\"line2d_20\">\n      <g>\n       <use style=\"stroke:#000000;stroke-width:0.8;\" x=\"43.78125\" xlink:href=\"#mb388b65ab0\" y=\"161.238125\"/>\n      </g>\n     </g>\n     <g id=\"text_11\">\n      <!-- 0.2 -->\n      <g transform=\"translate(20.878125 165.037344)scale(0.1 -0.1)\">\n       <use xlink:href=\"#DejaVuSans-48\"/>\n       <use x=\"63.623047\" xlink:href=\"#DejaVuSans-46\"/>\n       <use x=\"95.410156\" xlink:href=\"#DejaVuSans-50\"/>\n      </g>\n     </g>\n    </g>\n    <g id=\"ytick_4\">\n     <g id=\"line2d_21\">\n      <path clip-path=\"url(#p8a1c308154)\" d=\"M 43.78125 126.919943 \nL 378.58125 126.919943 \n\" style=\"fill:none;stroke:#b0b0b0;stroke-linecap:square;stroke-width:0.8;\"/>\n     </g>\n     <g id=\"line2d_22\">\n      <g>\n       <use style=\"stroke:#000000;stroke-width:0.8;\" x=\"43.78125\" xlink:href=\"#mb388b65ab0\" y=\"126.919943\"/>\n      </g>\n     </g>\n     <g id=\"text_12\">\n      <!-- 0.3 -->\n      <g transform=\"translate(20.878125 130.719162)scale(0.1 -0.1)\">\n       <use xlink:href=\"#DejaVuSans-48\"/>\n       <use x=\"63.623047\" xlink:href=\"#DejaVuSans-46\"/>\n       <use x=\"95.410156\" xlink:href=\"#DejaVuSans-51\"/>\n      </g>\n     </g>\n    </g>\n    <g id=\"ytick_5\">\n     <g id=\"line2d_23\">\n      <path clip-path=\"url(#p8a1c308154)\" d=\"M 43.78125 92.601761 \nL 378.58125 92.601761 \n\" style=\"fill:none;stroke:#b0b0b0;stroke-linecap:square;stroke-width:0.8;\"/>\n     </g>\n     <g id=\"line2d_24\">\n      <g>\n       <use style=\"stroke:#000000;stroke-width:0.8;\" x=\"43.78125\" xlink:href=\"#mb388b65ab0\" y=\"92.601761\"/>\n      </g>\n     </g>\n     <g id=\"text_13\">\n      <!-- 0.4 -->\n      <g transform=\"translate(20.878125 96.40098)scale(0.1 -0.1)\">\n       <use xlink:href=\"#DejaVuSans-48\"/>\n       <use x=\"63.623047\" xlink:href=\"#DejaVuSans-46\"/>\n       <use x=\"95.410156\" xlink:href=\"#DejaVuSans-52\"/>\n      </g>\n     </g>\n    </g>\n    <g id=\"ytick_6\">\n     <g id=\"line2d_25\">\n      <path clip-path=\"url(#p8a1c308154)\" d=\"M 43.78125 58.28358 \nL 378.58125 58.28358 \n\" style=\"fill:none;stroke:#b0b0b0;stroke-linecap:square;stroke-width:0.8;\"/>\n     </g>\n     <g id=\"line2d_26\">\n      <g>\n       <use style=\"stroke:#000000;stroke-width:0.8;\" x=\"43.78125\" xlink:href=\"#mb388b65ab0\" y=\"58.28358\"/>\n      </g>\n     </g>\n     <g id=\"text_14\">\n      <!-- 0.5 -->\n      <g transform=\"translate(20.878125 62.082798)scale(0.1 -0.1)\">\n       <use xlink:href=\"#DejaVuSans-48\"/>\n       <use x=\"63.623047\" xlink:href=\"#DejaVuSans-46\"/>\n       <use x=\"95.410156\" xlink:href=\"#DejaVuSans-53\"/>\n      </g>\n     </g>\n    </g>\n    <g id=\"ytick_7\">\n     <g id=\"line2d_27\">\n      <path clip-path=\"url(#p8a1c308154)\" d=\"M 43.78125 23.965398 \nL 378.58125 23.965398 \n\" style=\"fill:none;stroke:#b0b0b0;stroke-linecap:square;stroke-width:0.8;\"/>\n     </g>\n     <g id=\"line2d_28\">\n      <g>\n       <use style=\"stroke:#000000;stroke-width:0.8;\" x=\"43.78125\" xlink:href=\"#mb388b65ab0\" y=\"23.965398\"/>\n      </g>\n     </g>\n     <g id=\"text_15\">\n      <!-- 0.6 -->\n      <g transform=\"translate(20.878125 27.764616)scale(0.1 -0.1)\">\n       <use xlink:href=\"#DejaVuSans-48\"/>\n       <use x=\"63.623047\" xlink:href=\"#DejaVuSans-46\"/>\n       <use x=\"95.410156\" xlink:href=\"#DejaVuSans-54\"/>\n      </g>\n     </g>\n    </g>\n    <g id=\"text_16\">\n     <!-- Hit@1 -->\n     <defs>\n      <path d=\"M 9.8125 72.90625 \nL 19.671875 72.90625 \nL 19.671875 43.015625 \nL 55.515625 43.015625 \nL 55.515625 72.90625 \nL 65.375 72.90625 \nL 65.375 0 \nL 55.515625 0 \nL 55.515625 34.71875 \nL 19.671875 34.71875 \nL 19.671875 0 \nL 9.8125 0 \nz\n\" id=\"DejaVuSans-72\"/>\n      <path d=\"M 37.203125 26.21875 \nQ 37.203125 19.234375 40.671875 15.25 \nQ 44.140625 11.28125 50.203125 11.28125 \nQ 56.203125 11.28125 59.640625 15.28125 \nQ 63.09375 19.28125 63.09375 26.21875 \nQ 63.09375 33.0625 59.578125 37.078125 \nQ 56.0625 41.109375 50.09375 41.109375 \nQ 44.1875 41.109375 40.6875 37.109375 \nQ 37.203125 33.109375 37.203125 26.21875 \nz\nM 63.8125 11.625 \nQ 60.890625 7.859375 57.109375 6.078125 \nQ 53.328125 4.296875 48.296875 4.296875 \nQ 39.890625 4.296875 34.640625 10.375 \nQ 29.390625 16.453125 29.390625 26.21875 \nQ 29.390625 35.984375 34.65625 42.078125 \nQ 39.9375 48.1875 48.296875 48.1875 \nQ 53.328125 48.1875 57.125 46.359375 \nQ 60.9375 44.53125 63.8125 40.828125 \nL 63.8125 47.21875 \nL 70.796875 47.21875 \nL 70.796875 11.28125 \nQ 77.9375 12.359375 81.953125 17.796875 \nQ 85.984375 23.25 85.984375 31.890625 \nQ 85.984375 37.109375 84.4375 41.703125 \nQ 82.90625 46.296875 79.78125 50.203125 \nQ 74.703125 56.59375 67.40625 59.984375 \nQ 60.109375 63.375 51.515625 63.375 \nQ 45.515625 63.375 39.984375 61.78125 \nQ 34.46875 60.203125 29.78125 57.078125 \nQ 22.125 52.09375 17.796875 44.015625 \nQ 13.484375 35.9375 13.484375 26.515625 \nQ 13.484375 18.75 16.28125 11.953125 \nQ 19.09375 5.171875 24.421875 0 \nQ 29.546875 -5.078125 36.28125 -7.734375 \nQ 43.015625 -10.40625 50.6875 -10.40625 \nQ 56.984375 -10.40625 63.0625 -8.28125 \nQ 69.140625 -6.15625 74.21875 -2.203125 \nL 78.609375 -7.625 \nQ 72.515625 -12.359375 65.3125 -14.875 \nQ 58.109375 -17.390625 50.6875 -17.390625 \nQ 41.65625 -17.390625 33.640625 -14.1875 \nQ 25.640625 -10.984375 19.390625 -4.890625 \nQ 13.140625 1.21875 9.859375 9.25 \nQ 6.59375 17.28125 6.59375 26.515625 \nQ 6.59375 35.40625 9.90625 43.453125 \nQ 13.234375 51.515625 19.390625 57.625 \nQ 25.6875 63.8125 33.9375 67.109375 \nQ 42.1875 70.40625 51.421875 70.40625 \nQ 61.765625 70.40625 70.625 66.15625 \nQ 79.5 61.921875 85.5 54.109375 \nQ 89.15625 49.3125 91.078125 43.703125 \nQ 93.015625 38.09375 93.015625 32.078125 \nQ 93.015625 19.234375 85.25 11.8125 \nQ 77.484375 4.390625 63.8125 4.109375 \nz\n\" id=\"DejaVuSans-64\"/>\n     </defs>\n     <g transform=\"translate(14.798438 146.32875)rotate(-90)scale(0.1 -0.1)\">\n      <use xlink:href=\"#DejaVuSans-72\"/>\n      <use x=\"75.195312\" xlink:href=\"#DejaVuSans-105\"/>\n      <use x=\"102.978516\" xlink:href=\"#DejaVuSans-116\"/>\n      <use x=\"142.1875\" xlink:href=\"#DejaVuSans-64\"/>\n      <use x=\"242.1875\" xlink:href=\"#DejaVuSans-49\"/>\n     </g>\n    </g>\n   </g>\n   <g id=\"line2d_29\">\n    <path clip-path=\"url(#p8a1c308154)\" d=\"M 58.999432 229.874489 \nL 95.817614 168.101761 \nL 157.18125 116.624489 \nL 191.544886 102.897216 \nL 255.363068 85.738125 \nL 304.453977 84.022216 \nL 328.999432 82.306307 \nL 363.363068 72.354034 \n\" style=\"fill:none;stroke:#1f77b4;stroke-linecap:square;stroke-width:1.5;\"/>\n   </g>\n   <g id=\"line2d_30\">\n    <path clip-path=\"url(#p8a1c308154)\" d=\"M 58.999432 229.874489 \nL 68.817614 161.238125 \nL 98.272159 126.919943 \nL 108.090341 132.06767 \nL 122.817614 123.488125 \nL 157.18125 120.056307 \nL 171.908523 123.488125 \nL 181.726705 116.624489 \nL 191.544886 120.056307 \nL 220.999432 118.340398 \nL 230.817614 120.056307 \nL 240.635795 118.340398 \nL 245.544886 120.056307 \n\" style=\"fill:none;stroke:#ff7f0e;stroke-linecap:square;stroke-width:1.5;\"/>\n   </g>\n   <g id=\"line2d_31\">\n    <path clip-path=\"url(#p8a1c308154)\" d=\"M 58.999432 229.874489 \nL 97.486705 181.14267 \nL 124.290341 75.785852 \nL 158.437977 49.360852 \nL 159.910705 40.781307 \n\" style=\"fill:none;stroke:#2ca02c;stroke-linecap:square;stroke-width:1.5;\"/>\n   </g>\n   <g id=\"line2d_32\">\n    <path clip-path=\"url(#p8a1c308154)\" d=\"M 58.999432 229.874489 \nL 59.49525 145.554716 \nL 59.740705 62.298807 \nL 59.986159 48.331307 \nL 60.231614 48.520057 \nL 60.472159 50.273716 \nL 60.722523 49.77267 \nL 61.213432 45.764307 \nL 61.458886 46.766398 \nL 63.417614 32.201761 \n\" style=\"fill:none;stroke:#d62728;stroke-linecap:square;stroke-width:1.5;\"/>\n   </g>\n   <g id=\"patch_3\">\n    <path d=\"M 43.78125 239.758125 \nL 43.78125 22.318125 \n\" style=\"fill:none;stroke:#000000;stroke-linecap:square;stroke-linejoin:miter;stroke-width:0.8;\"/>\n   </g>\n   <g id=\"patch_4\">\n    <path d=\"M 378.58125 239.758125 \nL 378.58125 22.318125 \n\" style=\"fill:none;stroke:#000000;stroke-linecap:square;stroke-linejoin:miter;stroke-width:0.8;\"/>\n   </g>\n   <g id=\"patch_5\">\n    <path d=\"M 43.78125 239.758125 \nL 378.58125 239.758125 \n\" style=\"fill:none;stroke:#000000;stroke-linecap:square;stroke-linejoin:miter;stroke-width:0.8;\"/>\n   </g>\n   <g id=\"patch_6\">\n    <path d=\"M 43.78125 22.318125 \nL 378.58125 22.318125 \n\" style=\"fill:none;stroke:#000000;stroke-linecap:square;stroke-linejoin:miter;stroke-width:0.8;\"/>\n   </g>\n   <g id=\"text_17\">\n    <!-- (900, 0.576) -->\n    <defs>\n     <path d=\"M 10.984375 1.515625 \nL 10.984375 10.5 \nQ 14.703125 8.734375 18.5 7.8125 \nQ 22.3125 6.890625 25.984375 6.890625 \nQ 35.75 6.890625 40.890625 13.453125 \nQ 46.046875 20.015625 46.78125 33.40625 \nQ 43.953125 29.203125 39.59375 26.953125 \nQ 35.25 24.703125 29.984375 24.703125 \nQ 19.046875 24.703125 12.671875 31.3125 \nQ 6.296875 37.9375 6.296875 49.421875 \nQ 6.296875 60.640625 12.9375 67.421875 \nQ 19.578125 74.21875 30.609375 74.21875 \nQ 43.265625 74.21875 49.921875 64.515625 \nQ 56.59375 54.828125 56.59375 36.375 \nQ 56.59375 19.140625 48.40625 8.859375 \nQ 40.234375 -1.421875 26.421875 -1.421875 \nQ 22.703125 -1.421875 18.890625 -0.6875 \nQ 15.09375 0.046875 10.984375 1.515625 \nz\nM 30.609375 32.421875 \nQ 37.25 32.421875 41.125 36.953125 \nQ 45.015625 41.5 45.015625 49.421875 \nQ 45.015625 57.28125 41.125 61.84375 \nQ 37.25 66.40625 30.609375 66.40625 \nQ 23.96875 66.40625 20.09375 61.84375 \nQ 16.21875 57.28125 16.21875 49.421875 \nQ 16.21875 41.5 20.09375 36.953125 \nQ 23.96875 32.421875 30.609375 32.421875 \nz\n\" id=\"DejaVuSans-57\"/>\n     <path d=\"M 11.71875 12.40625 \nL 22.015625 12.40625 \nL 22.015625 4 \nL 14.015625 -11.625 \nL 7.71875 -11.625 \nL 11.71875 4 \nz\n\" id=\"DejaVuSans-44\"/>\n     <path d=\"M 8.203125 72.90625 \nL 55.078125 72.90625 \nL 55.078125 68.703125 \nL 28.609375 0 \nL 18.3125 0 \nL 43.21875 64.59375 \nL 8.203125 64.59375 \nz\n\" id=\"DejaVuSans-55\"/>\n    </defs>\n    <g transform=\"translate(63.417614 32.201761)scale(0.1 -0.1)\">\n     <use xlink:href=\"#DejaVuSans-40\"/>\n     <use x=\"39.013672\" xlink:href=\"#DejaVuSans-57\"/>\n     <use x=\"102.636719\" xlink:href=\"#DejaVuSans-48\"/>\n     <use x=\"166.259766\" xlink:href=\"#DejaVuSans-48\"/>\n     <use x=\"229.882812\" xlink:href=\"#DejaVuSans-44\"/>\n     <use x=\"261.669922\" xlink:href=\"#DejaVuSans-32\"/>\n     <use x=\"293.457031\" xlink:href=\"#DejaVuSans-48\"/>\n     <use x=\"357.080078\" xlink:href=\"#DejaVuSans-46\"/>\n     <use x=\"388.867188\" xlink:href=\"#DejaVuSans-53\"/>\n     <use x=\"452.490234\" xlink:href=\"#DejaVuSans-55\"/>\n     <use x=\"516.113281\" xlink:href=\"#DejaVuSans-54\"/>\n     <use x=\"579.736328\" xlink:href=\"#DejaVuSans-41\"/>\n    </g>\n   </g>\n   <g id=\"text_18\">\n    <!-- Complex WebQuestions -->\n    <defs>\n     <path d=\"M 18.109375 8.203125 \nL 18.109375 -20.796875 \nL 9.078125 -20.796875 \nL 9.078125 54.6875 \nL 18.109375 54.6875 \nL 18.109375 46.390625 \nQ 20.953125 51.265625 25.265625 53.625 \nQ 29.59375 56 35.59375 56 \nQ 45.5625 56 51.78125 48.09375 \nQ 58.015625 40.1875 58.015625 27.296875 \nQ 58.015625 14.40625 51.78125 6.484375 \nQ 45.5625 -1.421875 35.59375 -1.421875 \nQ 29.59375 -1.421875 25.265625 0.953125 \nQ 20.953125 3.328125 18.109375 8.203125 \nz\nM 48.6875 27.296875 \nQ 48.6875 37.203125 44.609375 42.84375 \nQ 40.53125 48.484375 33.40625 48.484375 \nQ 26.265625 48.484375 22.1875 42.84375 \nQ 18.109375 37.203125 18.109375 27.296875 \nQ 18.109375 17.390625 22.1875 11.75 \nQ 26.265625 6.109375 33.40625 6.109375 \nQ 40.53125 6.109375 44.609375 11.75 \nQ 48.6875 17.390625 48.6875 27.296875 \nz\n\" id=\"DejaVuSans-112\"/>\n     <path d=\"M 54.890625 54.6875 \nL 35.109375 28.078125 \nL 55.90625 0 \nL 45.3125 0 \nL 29.390625 21.484375 \nL 13.484375 0 \nL 2.875 0 \nL 24.125 28.609375 \nL 4.6875 54.6875 \nL 15.28125 54.6875 \nL 29.78125 35.203125 \nL 44.28125 54.6875 \nz\n\" id=\"DejaVuSans-120\"/>\n     <path d=\"M 3.328125 72.90625 \nL 13.28125 72.90625 \nL 28.609375 11.28125 \nL 43.890625 72.90625 \nL 54.984375 72.90625 \nL 70.3125 11.28125 \nL 85.59375 72.90625 \nL 95.609375 72.90625 \nL 77.296875 0 \nL 64.890625 0 \nL 49.515625 63.28125 \nL 33.984375 0 \nL 21.578125 0 \nz\n\" id=\"DejaVuSans-87\"/>\n     <path d=\"M 48.6875 27.296875 \nQ 48.6875 37.203125 44.609375 42.84375 \nQ 40.53125 48.484375 33.40625 48.484375 \nQ 26.265625 48.484375 22.1875 42.84375 \nQ 18.109375 37.203125 18.109375 27.296875 \nQ 18.109375 17.390625 22.1875 11.75 \nQ 26.265625 6.109375 33.40625 6.109375 \nQ 40.53125 6.109375 44.609375 11.75 \nQ 48.6875 17.390625 48.6875 27.296875 \nz\nM 18.109375 46.390625 \nQ 20.953125 51.265625 25.265625 53.625 \nQ 29.59375 56 35.59375 56 \nQ 45.5625 56 51.78125 48.09375 \nQ 58.015625 40.1875 58.015625 27.296875 \nQ 58.015625 14.40625 51.78125 6.484375 \nQ 45.5625 -1.421875 35.59375 -1.421875 \nQ 29.59375 -1.421875 25.265625 0.953125 \nQ 20.953125 3.328125 18.109375 8.203125 \nL 18.109375 0 \nL 9.078125 0 \nL 9.078125 75.984375 \nL 18.109375 75.984375 \nz\n\" id=\"DejaVuSans-98\"/>\n     <path d=\"M 39.40625 66.21875 \nQ 28.65625 66.21875 22.328125 58.203125 \nQ 16.015625 50.203125 16.015625 36.375 \nQ 16.015625 22.609375 22.328125 14.59375 \nQ 28.65625 6.59375 39.40625 6.59375 \nQ 50.140625 6.59375 56.421875 14.59375 \nQ 62.703125 22.609375 62.703125 36.375 \nQ 62.703125 50.203125 56.421875 58.203125 \nQ 50.140625 66.21875 39.40625 66.21875 \nz\nM 53.21875 1.3125 \nL 66.21875 -12.890625 \nL 54.296875 -12.890625 \nL 43.5 -1.21875 \nQ 41.890625 -1.3125 41.03125 -1.359375 \nQ 40.1875 -1.421875 39.40625 -1.421875 \nQ 24.03125 -1.421875 14.8125 8.859375 \nQ 5.609375 19.140625 5.609375 36.375 \nQ 5.609375 53.65625 14.8125 63.9375 \nQ 24.03125 74.21875 39.40625 74.21875 \nQ 54.734375 74.21875 63.90625 63.9375 \nQ 73.09375 53.65625 73.09375 36.375 \nQ 73.09375 23.6875 67.984375 14.640625 \nQ 62.890625 5.609375 53.21875 1.3125 \nz\n\" id=\"DejaVuSans-81\"/>\n     <path d=\"M 8.5 21.578125 \nL 8.5 54.6875 \nL 17.484375 54.6875 \nL 17.484375 21.921875 \nQ 17.484375 14.15625 20.5 10.265625 \nQ 23.53125 6.390625 29.59375 6.390625 \nQ 36.859375 6.390625 41.078125 11.03125 \nQ 45.3125 15.671875 45.3125 23.6875 \nL 45.3125 54.6875 \nL 54.296875 54.6875 \nL 54.296875 0 \nL 45.3125 0 \nL 45.3125 8.40625 \nQ 42.046875 3.421875 37.71875 1 \nQ 33.40625 -1.421875 27.6875 -1.421875 \nQ 18.265625 -1.421875 13.375 4.4375 \nQ 8.5 10.296875 8.5 21.578125 \nz\nM 31.109375 56 \nz\n\" id=\"DejaVuSans-117\"/>\n    </defs>\n    <g transform=\"translate(139.460625 16.318125)scale(0.12 -0.12)\">\n     <use xlink:href=\"#DejaVuSans-67\"/>\n     <use x=\"69.824219\" xlink:href=\"#DejaVuSans-111\"/>\n     <use x=\"131.005859\" xlink:href=\"#DejaVuSans-109\"/>\n     <use x=\"228.417969\" xlink:href=\"#DejaVuSans-112\"/>\n     <use x=\"291.894531\" xlink:href=\"#DejaVuSans-108\"/>\n     <use x=\"319.677734\" xlink:href=\"#DejaVuSans-101\"/>\n     <use x=\"381.185547\" xlink:href=\"#DejaVuSans-120\"/>\n     <use x=\"440.365234\" xlink:href=\"#DejaVuSans-32\"/>\n     <use x=\"472.152344\" xlink:href=\"#DejaVuSans-87\"/>\n     <use x=\"570.951172\" xlink:href=\"#DejaVuSans-101\"/>\n     <use x=\"632.474609\" xlink:href=\"#DejaVuSans-98\"/>\n     <use x=\"695.951172\" xlink:href=\"#DejaVuSans-81\"/>\n     <use x=\"774.662109\" xlink:href=\"#DejaVuSans-117\"/>\n     <use x=\"838.041016\" xlink:href=\"#DejaVuSans-101\"/>\n     <use x=\"899.564453\" xlink:href=\"#DejaVuSans-115\"/>\n     <use x=\"951.664062\" xlink:href=\"#DejaVuSans-116\"/>\n     <use x=\"990.873047\" xlink:href=\"#DejaVuSans-105\"/>\n     <use x=\"1018.65625\" xlink:href=\"#DejaVuSans-111\"/>\n     <use x=\"1079.837891\" xlink:href=\"#DejaVuSans-110\"/>\n     <use x=\"1143.216797\" xlink:href=\"#DejaVuSans-115\"/>\n    </g>\n   </g>\n   <g id=\"legend_1\">\n    <g id=\"patch_7\">\n     <path d=\"M 285.04375 234.758125 \nL 371.58125 234.758125 \nQ 373.58125 234.758125 373.58125 232.758125 \nL 373.58125 175.045625 \nQ 373.58125 173.045625 371.58125 173.045625 \nL 285.04375 173.045625 \nQ 283.04375 173.045625 283.04375 175.045625 \nL 283.04375 232.758125 \nQ 283.04375 234.758125 285.04375 234.758125 \nz\n\" style=\"fill:#ffffff;opacity:0.8;stroke:#cccccc;stroke-linejoin:miter;\"/>\n    </g>\n    <g id=\"line2d_33\">\n     <path d=\"M 287.04375 181.144062 \nL 307.04375 181.144062 \n\" style=\"fill:none;stroke:#1f77b4;stroke-linecap:square;stroke-width:1.5;\"/>\n    </g>\n    <g id=\"line2d_34\"/>\n    <g id=\"text_19\">\n     <!-- PullNet -->\n     <defs>\n      <path d=\"M 19.671875 64.796875 \nL 19.671875 37.40625 \nL 32.078125 37.40625 \nQ 38.96875 37.40625 42.71875 40.96875 \nQ 46.484375 44.53125 46.484375 51.125 \nQ 46.484375 57.671875 42.71875 61.234375 \nQ 38.96875 64.796875 32.078125 64.796875 \nz\nM 9.8125 72.90625 \nL 32.078125 72.90625 \nQ 44.34375 72.90625 50.609375 67.359375 \nQ 56.890625 61.8125 56.890625 51.125 \nQ 56.890625 40.328125 50.609375 34.8125 \nQ 44.34375 29.296875 32.078125 29.296875 \nL 19.671875 29.296875 \nL 19.671875 0 \nL 9.8125 0 \nz\n\" id=\"DejaVuSans-80\"/>\n      <path d=\"M 9.8125 72.90625 \nL 23.09375 72.90625 \nL 55.421875 11.921875 \nL 55.421875 72.90625 \nL 64.984375 72.90625 \nL 64.984375 0 \nL 51.703125 0 \nL 19.390625 60.984375 \nL 19.390625 0 \nL 9.8125 0 \nz\n\" id=\"DejaVuSans-78\"/>\n     </defs>\n     <g transform=\"translate(315.04375 184.644062)scale(0.1 -0.1)\">\n      <use xlink:href=\"#DejaVuSans-80\"/>\n      <use x=\"60.287109\" xlink:href=\"#DejaVuSans-117\"/>\n      <use x=\"123.666016\" xlink:href=\"#DejaVuSans-108\"/>\n      <use x=\"151.449219\" xlink:href=\"#DejaVuSans-108\"/>\n      <use x=\"179.232422\" xlink:href=\"#DejaVuSans-78\"/>\n      <use x=\"254.037109\" xlink:href=\"#DejaVuSans-101\"/>\n      <use x=\"315.560547\" xlink:href=\"#DejaVuSans-116\"/>\n     </g>\n    </g>\n    <g id=\"line2d_35\">\n     <path d=\"M 287.04375 195.822187 \nL 307.04375 195.822187 \n\" style=\"fill:none;stroke:#ff7f0e;stroke-linecap:square;stroke-width:1.5;\"/>\n    </g>\n    <g id=\"line2d_36\"/>\n    <g id=\"text_20\">\n     <!-- GRAFT-Net -->\n     <defs>\n      <path d=\"M 59.515625 10.40625 \nL 59.515625 29.984375 \nL 43.40625 29.984375 \nL 43.40625 38.09375 \nL 69.28125 38.09375 \nL 69.28125 6.78125 \nQ 63.578125 2.734375 56.6875 0.65625 \nQ 49.8125 -1.421875 42 -1.421875 \nQ 24.90625 -1.421875 15.25 8.5625 \nQ 5.609375 18.5625 5.609375 36.375 \nQ 5.609375 54.25 15.25 64.234375 \nQ 24.90625 74.21875 42 74.21875 \nQ 49.125 74.21875 55.546875 72.453125 \nQ 61.96875 70.703125 67.390625 67.28125 \nL 67.390625 56.78125 \nQ 61.921875 61.421875 55.765625 63.765625 \nQ 49.609375 66.109375 42.828125 66.109375 \nQ 29.4375 66.109375 22.71875 58.640625 \nQ 16.015625 51.171875 16.015625 36.375 \nQ 16.015625 21.625 22.71875 14.15625 \nQ 29.4375 6.6875 42.828125 6.6875 \nQ 48.046875 6.6875 52.140625 7.59375 \nQ 56.25 8.5 59.515625 10.40625 \nz\n\" id=\"DejaVuSans-71\"/>\n      <path d=\"M 44.390625 34.1875 \nQ 47.5625 33.109375 50.5625 29.59375 \nQ 53.5625 26.078125 56.59375 19.921875 \nL 66.609375 0 \nL 56 0 \nL 46.6875 18.703125 \nQ 43.0625 26.03125 39.671875 28.421875 \nQ 36.28125 30.8125 30.421875 30.8125 \nL 19.671875 30.8125 \nL 19.671875 0 \nL 9.8125 0 \nL 9.8125 72.90625 \nL 32.078125 72.90625 \nQ 44.578125 72.90625 50.734375 67.671875 \nQ 56.890625 62.453125 56.890625 51.90625 \nQ 56.890625 45.015625 53.6875 40.46875 \nQ 50.484375 35.9375 44.390625 34.1875 \nz\nM 19.671875 64.796875 \nL 19.671875 38.921875 \nL 32.078125 38.921875 \nQ 39.203125 38.921875 42.84375 42.21875 \nQ 46.484375 45.515625 46.484375 51.90625 \nQ 46.484375 58.296875 42.84375 61.546875 \nQ 39.203125 64.796875 32.078125 64.796875 \nz\n\" id=\"DejaVuSans-82\"/>\n      <path d=\"M 34.1875 63.1875 \nL 20.796875 26.90625 \nL 47.609375 26.90625 \nz\nM 28.609375 72.90625 \nL 39.796875 72.90625 \nL 67.578125 0 \nL 57.328125 0 \nL 50.6875 18.703125 \nL 17.828125 18.703125 \nL 11.1875 0 \nL 0.78125 0 \nz\n\" id=\"DejaVuSans-65\"/>\n      <path d=\"M 9.8125 72.90625 \nL 51.703125 72.90625 \nL 51.703125 64.59375 \nL 19.671875 64.59375 \nL 19.671875 43.109375 \nL 48.578125 43.109375 \nL 48.578125 34.8125 \nL 19.671875 34.8125 \nL 19.671875 0 \nL 9.8125 0 \nz\n\" id=\"DejaVuSans-70\"/>\n      <path d=\"M -0.296875 72.90625 \nL 61.375 72.90625 \nL 61.375 64.59375 \nL 35.5 64.59375 \nL 35.5 0 \nL 25.59375 0 \nL 25.59375 64.59375 \nL -0.296875 64.59375 \nz\n\" id=\"DejaVuSans-84\"/>\n      <path d=\"M 4.890625 31.390625 \nL 31.203125 31.390625 \nL 31.203125 23.390625 \nL 4.890625 23.390625 \nz\n\" id=\"DejaVuSans-45\"/>\n     </defs>\n     <g transform=\"translate(315.04375 199.322187)scale(0.1 -0.1)\">\n      <use xlink:href=\"#DejaVuSans-71\"/>\n      <use x=\"77.490234\" xlink:href=\"#DejaVuSans-82\"/>\n      <use x=\"146.910156\" xlink:href=\"#DejaVuSans-65\"/>\n      <use x=\"215.318359\" xlink:href=\"#DejaVuSans-70\"/>\n      <use x=\"272.822266\" xlink:href=\"#DejaVuSans-84\"/>\n      <use x=\"333.765625\" xlink:href=\"#DejaVuSans-45\"/>\n      <use x=\"369.849609\" xlink:href=\"#DejaVuSans-78\"/>\n      <use x=\"444.654297\" xlink:href=\"#DejaVuSans-101\"/>\n      <use x=\"506.177734\" xlink:href=\"#DejaVuSans-116\"/>\n     </g>\n    </g>\n    <g id=\"line2d_37\">\n     <path d=\"M 287.04375 210.500312 \nL 307.04375 210.500312 \n\" style=\"fill:none;stroke:#2ca02c;stroke-linecap:square;stroke-width:1.5;\"/>\n    </g>\n    <g id=\"line2d_38\"/>\n    <g id=\"text_21\">\n     <!-- ours -->\n     <defs>\n      <path d=\"M 41.109375 46.296875 \nQ 39.59375 47.171875 37.8125 47.578125 \nQ 36.03125 48 33.890625 48 \nQ 26.265625 48 22.1875 43.046875 \nQ 18.109375 38.09375 18.109375 28.8125 \nL 18.109375 0 \nL 9.078125 0 \nL 9.078125 54.6875 \nL 18.109375 54.6875 \nL 18.109375 46.1875 \nQ 20.953125 51.171875 25.484375 53.578125 \nQ 30.03125 56 36.53125 56 \nQ 37.453125 56 38.578125 55.875 \nQ 39.703125 55.765625 41.0625 55.515625 \nz\n\" id=\"DejaVuSans-114\"/>\n     </defs>\n     <g transform=\"translate(315.04375 214.000312)scale(0.1 -0.1)\">\n      <use xlink:href=\"#DejaVuSans-111\"/>\n      <use x=\"61.181641\" xlink:href=\"#DejaVuSans-117\"/>\n      <use x=\"124.560547\" xlink:href=\"#DejaVuSans-114\"/>\n      <use x=\"165.673828\" xlink:href=\"#DejaVuSans-115\"/>\n     </g>\n    </g>\n    <g id=\"line2d_39\">\n     <path d=\"M 287.04375 225.178437 \nL 307.04375 225.178437 \n\" style=\"fill:none;stroke:#d62728;stroke-linecap:square;stroke-width:1.5;\"/>\n    </g>\n    <g id=\"line2d_40\"/>\n    <g id=\"text_22\">\n     <!-- seq2seq -->\n     <defs>\n      <path d=\"M 14.796875 27.296875 \nQ 14.796875 17.390625 18.875 11.75 \nQ 22.953125 6.109375 30.078125 6.109375 \nQ 37.203125 6.109375 41.296875 11.75 \nQ 45.40625 17.390625 45.40625 27.296875 \nQ 45.40625 37.203125 41.296875 42.84375 \nQ 37.203125 48.484375 30.078125 48.484375 \nQ 22.953125 48.484375 18.875 42.84375 \nQ 14.796875 37.203125 14.796875 27.296875 \nz\nM 45.40625 8.203125 \nQ 42.578125 3.328125 38.25 0.953125 \nQ 33.9375 -1.421875 27.875 -1.421875 \nQ 17.96875 -1.421875 11.734375 6.484375 \nQ 5.515625 14.40625 5.515625 27.296875 \nQ 5.515625 40.1875 11.734375 48.09375 \nQ 17.96875 56 27.875 56 \nQ 33.9375 56 38.25 53.625 \nQ 42.578125 51.265625 45.40625 46.390625 \nL 45.40625 54.6875 \nL 54.390625 54.6875 \nL 54.390625 -20.796875 \nL 45.40625 -20.796875 \nz\n\" id=\"DejaVuSans-113\"/>\n     </defs>\n     <g transform=\"translate(315.04375 228.678437)scale(0.1 -0.1)\">\n      <use xlink:href=\"#DejaVuSans-115\"/>\n      <use x=\"52.099609\" xlink:href=\"#DejaVuSans-101\"/>\n      <use x=\"113.623047\" xlink:href=\"#DejaVuSans-113\"/>\n      <use x=\"177.099609\" xlink:href=\"#DejaVuSans-50\"/>\n      <use x=\"240.722656\" xlink:href=\"#DejaVuSans-115\"/>\n      <use x=\"292.822266\" xlink:href=\"#DejaVuSans-101\"/>\n      <use x=\"354.345703\" xlink:href=\"#DejaVuSans-113\"/>\n     </g>\n    </g>\n   </g>\n  </g>\n </g>\n <defs>\n  <clipPath id=\"p8a1c308154\">\n   <rect height=\"217.44\" width=\"334.8\" x=\"43.78125\" y=\"22.318125\"/>\n  </clipPath>\n </defs>\n</svg>\n",
      "image/png": "[encoded data removed]"
     },
     "metadata": {
      "needs_background": "light"
     }
    }
   ],
   "source": [
    "\n",
    "x1 = [0, 7500, 20000, 27000, 40000, 50000, 55000, 62000]\n",
    "y1 = [0, 0.18, 0.33, 0.37, 0.42, 0.425, 0.43, 0.459]\n",
    "x2 = [0, 2000, 8000, 10000, 13000, 20000, 23000, 25000, 27000, 33000, 35000, 37000, 38000]\n",
    "y2 = [0, 0.2, 0.3, 0.285, 0.31, 0.32, 0.31, 0.33, 0.32, 0.325, 0.32, 0.325, 0.32]\n",
    "x3 = [0, 7840, 13300, 20256, 20256 + 300]\n",
    "y3 = [0, 0.142, 0.449, 0.526, 0.551]\n",
    "x4 = [0, 101, 151, 201, 251, 300, 351, 451,  501,  900,]\n",
    "y4 = [0, 24.57, 48.83, 52.9, 52.845, 52.334, 52.48, 53.648, 53.356, 57.6]\n",
    "y4 = np.array(y4) / 100\n",
    "\n",
    "plt.plot(x1, y1, label='PullNet')\n",
    "plt.plot(x2, y2, label='GRAFT-Net')\n",
    "plt.plot(x3, y3, label='ours')\n",
    "plt.plot(x4, y4, label='seq2seq')\n",
    "plt.annotate(\"(900, 0.576)\", (900, 0.576))\n",
    "# plt.annotate(\"(23256, 0.551)\", (20256 + 300, 0.551))\n",
    "# plt.annotate(\"(38000, 0.32)\", (38000, 0.32))\n",
    "# plt.annotate(\"(62000, 0.459)\", (62000, 0.459))\n",
    "\n",
    "plt.title('Complex WebQuestions')\n",
    "plt.xlabel('Clocktime (seconds)')\n",
    "plt.ylabel('Hit@1')\n",
    "plt.legend()\n",
    "plt.grid('-')\n",
    "plt.savefig('efficency.png', dpi=300)"
   ]
  },
  {
   "cell_type": "code",
   "execution_count": 50,
   "metadata": {},
   "outputs": [
    {
     "name": "stdout",
     "output_type": "stream",
     "text": [
      "PREFIX ns: <http://rdf.freebase.com/ns/>\n",
      "SELECT DISTINCT ?x\n",
      "WHERE {\n",
      "FILTER (?x != ?c)\n",
      "FILTER (!isLiteral(?x) OR lang(?x) = '' OR langMatches(lang(?x), 'en'))\n",
      "?c ns:film.film.starring ?k .\n",
      "?k ns:film.performance.character ns:m.05m1x3_ . \n",
      "?c ns:film.film.starring ?y .\n",
      "?y ns:film.performance.actor ?x .\n",
      "?y ns:film.performance.character ns:m.02qd_td .\n",
      "}\n",
      "\n"
     ]
    }
   ],
   "source": [
    "print(test_data[54]['sparql'])"
   ]
  },
  {
   "cell_type": "code",
   "execution_count": 5,
   "metadata": {
    "tags": [
     "outputPrepend"
    ]
   },
   "outputs": [
    {
     "name": "stdout",
     "output_type": "stream",
     "text": [
      "PREFIX ns: <http://rdf.freebase.com/ns/>\n",
      "SELECT DISTINCT ?x\n",
      "WHERE {\n",
      "FILTER (?x != ?c)\n",
      "FILTER (!isLiteral(?x) OR lang(?x) = '' OR langMatches(lang(?x), 'en'))\n",
      "?c ns:religion.religious_leadership_jurisdiction.leader ?k .\n",
      "?k ns:religion.religious_organization_leadership.leader ns:m.02qmnw . \n",
      "?c ns:location.statistical_region.religions ?y .\n",
      "?y ns:location.religion_percentage.religion ?x .\n",
      "?y ns:location.religion_percentage.percentage ?sk0 .\n",
      "}\n",
      "ORDER BY DESC(xsd:float(?sk0))\n",
      "LIMIT 1\n",
      "\n",
      "\n"
     ]
    }
   ],
   "source": [
    "print([e for e in test_data if e['sparql'].count('ORDER') > 0][1]['sparql'])\n",
    "print()"
   ]
  },
  {
   "cell_type": "code",
   "execution_count": 79,
   "metadata": {
    "tags": [
     "outputPrepend"
    ]
   },
   "outputs": [
    {
     "name": "stdout",
     "output_type": "stream",
     "text": [
      "PREFIX ns: <http://rdf.freebase.com/ns/>\n",
      "SELECT DISTINCT ?x\n",
      "WHERE {\n",
      "FILTER (?x != ?c)\n",
      "FILTER (!isLiteral(?x) OR lang(?x) = '' OR langMatches(lang(?x), 'en'))\n",
      "?c ns:film.film.starring ?k .\n",
      "?k ns:film.performance.character ns:m.0yj6trj . \n",
      "?c ns:film.film.starring ?y .\n",
      "?y ns:film.performance.actor ?x .\n",
      "?y ns:film.performance.character ns:m.020hj1 .\n",
      "}\n",
      "\n",
      "\n",
      "PREFIX ns: <http://rdf.freebase.com/ns/>\n",
      "SELECT DISTINCT ?x\n",
      "WHERE {\n",
      "FILTER (?x != ?c)\n",
      "FILTER (!isLiteral(?x) OR lang(?x) = '' OR langMatches(lang(?x), 'en'))\n",
      "?c ns:location.country.administrative_divisions ns:m.04lj5y . \n",
      "?c ns:government.governmental_jurisdiction.governing_officials ?y .\n",
      "?y ns:government.government_position_held.office_holder ?x .\n",
      "?y ns:government.government_position_held.basic_title ns:m.060bp .\n",
      "FILTER(NOT EXISTS {?y ns:government.government_position_held.from ?sk0} || \n",
      "EXISTS {?y ns:government.government_position_held.from ?sk1 . \n",
      "FILTER(xsd:datetime(?sk1) <= \"2015-08-10\"^^xsd:dateTime) })\n",
      "FILTER(NOT EXISTS {?y ns:government.government_position_held.to ?sk2} || \n",
      "EXISTS {?y ns:government.government_position_held.to ?sk3 . \n",
      "FILTER(xsd:datetime(?sk3) >= \"2015-08-10\"^^xsd:dateTime) })\n",
      "}\n",
      "\n",
      "\n",
      "PREFIX ns: <http://rdf.freebase.com/ns/>\n",
      "SELECT DISTINCT ?x\n",
      "WHERE {\n",
      "FILTER (?x != ns:m.09c7w0)\n",
      "FILTER (!isLiteral(?x) OR lang(?x) = '' OR langMatches(lang(?x), 'en'))\n",
      "ns:m.09c7w0 ns:location.statistical_region.religions ?y .\n",
      "?y ns:location.religion_percentage.religion ?x .\n",
      "?x ns:religion.religion.organizations ns:m.010ffmhn . \n",
      "}\n",
      "\n",
      "PREFIX ns: <http://rdf.freebase.com/ns/>\n",
      "SELECT DISTINCT ?x\n",
      "WHERE {\n",
      "FILTER (?x != ns:m.05zjd)\n",
      "FILTER (!isLiteral(?x) OR lang(?x) = '' OR langMatches(lang(?x), 'en'))\n",
      "ns:m.05zjd ns:language.human_language.countries_spoken_in ?x .\n",
      "?x ns:location.statistical_region.places_imported_from ?c .\n",
      "?c ns:location.imports_and_exports.imported_from ns:m.015fr . \n",
      "}\n",
      "\n",
      "#MANUAL SPARQL\n",
      "PREFIX ns: <http://rdf.freebase.com/ns/>\n",
      "SELECT DISTINCT ?x\n",
      "WHERE {\n",
      "  ns:m.081pw ns:time.event.start_date ?start ;\n",
      "             ns:time.event.end_date ?end .\n",
      "  ?x ns:government.politician.government_positions_held  ?y .\n",
      "  ?y ns:government.government_position_held.office_position_or_title ns:m.060d2 ; # President of the United States\n",
      "     ns:government.government_position_held.from  ?from ;\n",
      "     ns:government.government_position_held.to  ?to .\n",
      "  FILTER (?from < ?end)\n",
      "  FILTER (?to > ?start)?x ns:government.politician.government_positions_held ?c .\n",
      "?c ns:government.government_position_held.from ?num .\n",
      "FILTER (?num > \"1933-03-04\"^^xsd:dateTime) . \n",
      "}\n",
      "\n",
      "PREFIX ns: <http://rdf.freebase.com/ns/>\n",
      "SELECT DISTINCT ?x\n",
      "WHERE {\n",
      "FILTER (?x != ns:m.0dl567)\n",
      "FILTER (!isLiteral(?x) OR lang(?x) = '' OR langMatches(lang(?x), 'en'))\n",
      "ns:m.0dl567 ns:film.actor.film ?y .\n",
      "?y ns:film.performance.film ?x .\n",
      "?x ns:film.film.starring ?c .\n",
      "?c ns:film.performance.character ns:m.02t2k3 . \n",
      "}\n",
      "\n",
      "PREFIX ns: <http://rdf.freebase.com/ns/>\n",
      "SELECT DISTINCT ?x\n",
      "WHERE {\n",
      "FILTER (?x != ns:m.04ykz)\n",
      "FILTER (!isLiteral(?x) OR lang(?x) = '' OR langMatches(lang(?x), 'en'))\n",
      "ns:m.04ykz ns:location.location.partially_contained_by ?y .\n",
      "?y ns:location.partial_containment_relationship.partially_contained_by ?x .\n",
      "?x ns:government.governmental_jurisdiction.governing_officials ?c .\n",
      "?c ns:government.government_position_held.appointed_by ns:m.0bb5tw . \n",
      "}\n",
      "\n",
      "#MANUAL SPARQL\n",
      "PREFIX ns: <http://rdf.freebase.com/ns/>\n",
      "SELECT DISTINCT ?x \n",
      "WHERE {\n",
      "\tFILTER (?x != ns:m.0d05w3)\n",
      "\t{ \n",
      "\t  ns:m.0d05w3 ns:location.statistical_region.places_exported_to ?y .\n",
      "\t  ?y ns:location.imports_and_exports.exported_to ?x . \n",
      "\t}\n",
      "\tUNION\n",
      "\t{\n",
      "\t  ns:m.0d05w3 ns:location.statistical_region.places_imported_from ?y .\n",
      "\t  ?y ns:location.imports_and_exports.imported_from ?x . \n",
      "\t}?x ns:location.location.time_zones ns:m.03bdv . \n",
      "}\n",
      "\n",
      "PREFIX ns: <http://rdf.freebase.com/ns/>\n",
      "SELECT DISTINCT ?x\n",
      "WHERE {\n",
      "FILTER (?x != ns:m.0cns5)\n",
      "FILTER (!isLiteral(?x) OR lang(?x) = '' OR langMatches(lang(?x), 'en'))\n",
      "ns:m.0cns5 ns:travel.tourist_attraction.near_travel_destination ?x .\n",
      "?x ns:location.location.time_zones ns:m.02hczc . \n",
      "}\n",
      "\n",
      "PREFIX ns: <http://rdf.freebase.com/ns/>\n",
      "SELECT DISTINCT ?x\n",
      "WHERE {\n",
      "FILTER (?x != ns:m.04f1s6)\n",
      "FILTER (!isLiteral(?x) OR lang(?x) = '' OR langMatches(lang(?x), 'en'))\n",
      "ns:m.04f1s6 ns:film.actor.film ?y .\n",
      "?y ns:film.performance.film ?x .\n",
      "?x ns:film.film.starring ?c .\n",
      "?c ns:film.performance.character ns:g.122sg15v . \n",
      "}\n",
      "\n",
      "PREFIX ns: <http://rdf.freebase.com/ns/>\n",
      "SELECT DISTINCT ?x\n",
      "WHERE {\n",
      "FILTER (?x != ?c)\n",
      "FILTER (!isLiteral(?x) OR lang(?x) = '' OR langMatches(lang(?x), 'en'))\n",
      "?c ns:sports.sports_team.team_mascot ns:m.0nz45zc . \n",
      "?c ns:sports.sports_team.championships ?x .\n",
      "?x ns:common.topic.notable_types ns:m.01xljv1 .\n",
      "}\n",
      "\n",
      "\n",
      "PREFIX ns: <http://rdf.freebase.com/ns/>\n",
      "SELECT DISTINCT ?x\n",
      "WHERE {\n",
      "FILTER (?x != ns:m.04ykz)\n",
      "FILTER (!isLiteral(?x) OR lang(?x) = '' OR langMatches(lang(?x), 'en'))\n",
      "ns:m.04ykz ns:location.location.partially_contained_by ?y .\n",
      "?y ns:location.partial_containment_relationship.partially_contained_by ?x .\n",
      "?x ns:government.governmental_jurisdiction.governing_officials ?c .\n",
      "?c ns:government.government_position_held.appointed_by ns:m.02722_ . \n",
      "}\n",
      "\n",
      "PREFIX ns: <http://rdf.freebase.com/ns/>\n",
      "SELECT DISTINCT ?x\n",
      "WHERE {\n",
      "FILTER (?x != ns:m.06mkj)\n",
      "FILTER (!isLiteral(?x) OR lang(?x) = '' OR langMatches(lang(?x), 'en'))\n",
      "ns:m.06mkj ns:sports.sports_team_location.teams ?x .\n",
      "?x ns:sports.sports_team.championships ns:m.010wxwln . \n",
      "}\n",
      "\n",
      "#MANUAL SPARQL\n",
      "PREFIX ns: <http://rdf.freebase.com/ns/>\n",
      "SELECT DISTINCT ?x \n",
      "WHERE {\n",
      "\tFILTER (?x != ns:m.01znc_)\n",
      "\t{ \n",
      "\t  ns:m.01znc_ ns:location.statistical_region.places_exported_to ?y .\n",
      "\t  ?y ns:location.imports_and_exports.exported_to ?x . \n",
      "\t}\n",
      "\tUNION\n",
      "\t{\n",
      "\t  ns:m.01znc_ ns:location.statistical_region.places_imported_from ?y .\n",
      "\t  ?y ns:location.imports_and_exports.imported_from ?x . \n",
      "\t}?x ns:location.country.administrative_divisions ns:m.018h9n . \n",
      "}\n",
      "\n",
      "PREFIX ns: <http://rdf.freebase.com/ns/>\n",
      "SELECT DISTINCT ?x\n",
      "WHERE {\n",
      "FILTER (?x != ns:m.09c7w0)\n",
      "FILTER (!isLiteral(?x) OR lang(?x) = '' OR langMatches(lang(?x), 'en'))\n",
      "ns:m.09c7w0 ns:location.statistical_region.religions ?y .\n",
      "?y ns:location.religion_percentage.religion ?x .\n",
      "?x ns:religion.religion.sacred_sites ns:m.01c_w6 . \n",
      "}\n",
      "\n",
      "#MANUAL SPARQL\n",
      "PREFIX ns: <http://rdf.freebase.com/ns/>\n",
      "SELECT DISTINCT ?x\n",
      "WHERE {\n",
      "ns:m.027jv8 ns:people.person.parents ?y .\n",
      "?y ns:people.person.gender ns:m.05zppz . #Male\n",
      "?y ns:sports.pro_athlete.teams ?z .\n",
      "?z ns:sports.sports_team_roster.team ?x .?x ns:sports.sports_team.team_mascot ns:m.052tn0n . \n",
      "}\n",
      "\n",
      "PREFIX ns: <http://rdf.freebase.com/ns/>\n",
      "SELECT DISTINCT ?x\n",
      "WHERE {\n",
      "FILTER (?x != ns:m.03ryn)\n",
      "FILTER (!isLiteral(?x) OR lang(?x) = '' OR langMatches(lang(?x), 'en'))\n",
      "ns:m.03ryn ns:location.statistical_region.religions ?y .\n",
      "?y ns:location.religion_percentage.religion ?x .\n",
      "?x ns:religion.religion.notable_figures ns:m.04n7gc6 . \n",
      "}\n",
      "\n",
      "#MANUAL SPARQL\n",
      "PREFIX ns: <http://rdf.freebase.com/ns/>\n",
      "SELECT DISTINCT ?x\n",
      "WHERE {\n",
      "  ns:m.081pw ns:time.event.start_date ?start ;\n",
      "             ns:time.event.end_date ?end .\n",
      "  ?x ns:government.politician.government_positions_held  ?y .\n",
      "  ?y ns:government.government_position_held.office_position_or_title ns:m.060d2 ; # President of the United States\n",
      "     ns:government.government_position_held.from  ?from ;\n",
      "     ns:government.government_position_held.to  ?to .\n",
      "  FILTER (?from < ?end)\n",
      "  FILTER (?to > ?start)?x ns:government.politician.government_positions_held ?c .\n",
      "?c ns:government.government_position_held.from ?num .\n",
      "}\n",
      "ORDER BY ?num LIMIT 1\n",
      "\n",
      "PREFIX ns: <http://rdf.freebase.com/ns/>\n",
      "SELECT DISTINCT ?x\n",
      "WHERE {\n",
      "FILTER (?x != ?c)\n",
      "FILTER (!isLiteral(?x) OR lang(?x) = '' OR langMatches(lang(?x), 'en'))\n",
      "?c ns:location.country.national_anthem ?k .\n",
      "?k ns:government.national_anthem_of_a_country.anthem ns:m.036y70 . \n",
      "?c ns:government.governmental_jurisdiction.governing_officials ?y .\n",
      "?y ns:government.government_position_held.office_holder ?x .\n",
      "?y ns:government.government_position_held.office_position_or_title ns:m.0j5wjnc .\n",
      "FILTER(NOT EXISTS {?y ns:government.government_position_held.from ?sk0} || \n",
      "EXISTS {?y ns:government.government_position_held.from ?sk1 . \n",
      "FILTER(xsd:datetime(?sk1) <= \"2015-08-10\"^^xsd:dateTime) })\n",
      "FILTER(NOT EXISTS {?y ns:government.government_position_held.to ?sk2} || \n",
      "EXISTS {?y ns:government.government_position_held.to ?sk3 . \n",
      "FILTER(xsd:datetime(?sk3) >= \"2015-08-10\"^^xsd:dateTime) })\n",
      "}\n",
      "\n",
      "\n",
      "PREFIX ns: <http://rdf.freebase.com/ns/>\n",
      "SELECT DISTINCT ?x\n",
      "WHERE {\n",
      "FILTER (?x != ns:m.09c7w0)\n",
      "FILTER (!isLiteral(?x) OR lang(?x) = '' OR langMatches(lang(?x), 'en'))\n",
      "ns:m.09c7w0 ns:location.statistical_region.religions ?y .\n",
      "?y ns:location.religion_percentage.religion ?x .\n",
      "?x ns:religion.religion.notable_figures ns:m.014kt . \n",
      "}\n",
      "\n"
     ]
    }
   ],
   "source": [
    "for idx in range(20, 40):\n",
    "    print([e for e in test_data if len(e['entities']) == 2][idx]['sparql'])\n",
    "    print()"
   ]
  },
  {
   "cell_type": "code",
   "execution_count": 42,
   "metadata": {},
   "outputs": [
    {
     "name": "stdout",
     "output_type": "stream",
     "text": [
      "PREFIX ns: <http://rdf.freebase.com/ns/>\n",
      "SELECT DISTINCT ?x\n",
      "WHERE {\n",
      "FILTER (?x != ns:m.02_nkp)\n",
      "FILTER (!isLiteral(?x) OR lang(?x) = '' OR langMatches(lang(?x), 'en'))\n",
      "ns:m.02_nkp ns:sports.pro_athlete.teams ?y .\n",
      "?y ns:sports.sports_team_roster.team ?x .\n",
      "?x ns:sports.sports_team.championships ns:m.08x9_6 . \n",
      "}\n",
      "m.02_nkp {'label': ['Lamar Odom'], 'types': ['award winner', 'agent', 'animate', 'physically instantiable', 'topic', 'olympic athlete', 'measured person', 'person', 'pro athlete', 'award nominee', 'actor', 'person or entity appearing in film', 'athlete extra', 'basketball player', 'tv personality', 'celebrity', 'social network user', 'topic', 'person extra', 'tv program guest', 'daylife id', 'topic', 'olympic medalist'], 'prom_types': 'celebrities.celebrity'}\n",
      "m.08x9_6 {'label': ['1980 NBA Finals'], 'types': ['base.type_ontology.abstract', 'base.type_ontology.inanimate', 'base.type_ontology.non_agent', 'common.topic', 'time.event', 'book.book_subject', 'sports.sports_championship_event'], 'prom_types': 'sports.sports_championship_event'}\n",
      "['m.0jmk7']\n",
      "{'types': ['award.award_winner', 'award.award_nominee', 'business.business_operation', 'organization.organization', 'sports.sports_team', 'business.employer', 'user.alust.default_domain.processed_with_review_queue', 'sports.professional_sports_team', 'basketball.basketball_team', 'user.guest.default_domain.basketball_team', 'user.hsisjason.default_domain.national_basketball_association_team'], 'prom_types': ['sports.professional_sports_team']}\n",
      "{'m.0j2gtf_'}\n",
      "{'types': ['sports.sports_team_roster'], 'prom_types': []}\n",
      "Who were the 1980 NBA Finals champions that Lamar Odom is now playing for?\n"
     ]
    }
   ],
   "source": [
    "for e in train_data:\n",
    "    if len(e['entities']) == 2:\n",
    "        if 'label' in features[e['entities'][0]] and 'label' in features[e['entities'][1]]:\n",
    "            print(e['sparql'])\n",
    "            print(e['entities'][0], features[e['entities'][0]])\n",
    "            print(e['entities'][1], features[e['entities'][1]])\n",
    "            print(e['answers'])\n",
    "            print(features[e['answers'][0]])\n",
    "            print(set(facts['m.0jmk7']['sports.sports_team_roster.team'].keys()) & \n",
    "                  set(facts['m.02_nkp']['sports.pro_athlete.teams'].keys()))\n",
    "            print(features['m.0j2gtf_'])\n",
    "            print(e['question'])\n",
    "            break"
   ]
  },
  {
   "cell_type": "code",
   "execution_count": 29,
   "metadata": {},
   "outputs": [
    {
     "name": "stdout",
     "output_type": "stream",
     "text": [
      "PREFIX ns: <http://rdf.freebase.com/ns/>\n",
      "SELECT DISTINCT ?x\n",
      "WHERE {\n",
      "FILTER (?x != ?c)\n",
      "FILTER (!isLiteral(?x) OR lang(?x) = '' OR langMatches(lang(?x), 'en'))\n",
      "?c ns:people.person.places_lived ?k .\n",
      "?k ns:people.place_lived.location ns:m.025s1y5 . \n",
      "?c ns:people.person.religion ?x .\n",
      "}\n",
      "\n"
     ]
    }
   ],
   "source": [
    "print(train_data[36]['sparql'])"
   ]
  },
  {
   "cell_type": "code",
   "execution_count": 30,
   "metadata": {},
   "outputs": [
    {
     "data": {
      "text/plain": [
       "{'types': ['location.location',\n",
       "  'architecture.structure',\n",
       "  'architecture.building',\n",
       "  'projects.project_focus',\n",
       "  'symbols.name_source'],\n",
       " 'prom_types': ['architecture.structure']}"
      ]
     },
     "execution_count": 30,
     "metadata": {},
     "output_type": "execute_result"
    }
   ],
   "source": [
    "features['m.025s1y5']"
   ]
  },
  {
   "cell_type": "code",
   "execution_count": 17,
   "metadata": {},
   "outputs": [],
   "source": [
    "features = load_json(cfg['data_folder'] + 'features.json')"
   ]
  },
  {
   "cell_type": "code",
   "execution_count": null,
   "metadata": {},
   "outputs": [],
   "source": [
    "#### total = 0\n",
    "wrong = 0\n",
    "for e in test_data:\n",
    "    sparql = e['sparql']\n",
    "    if sparql.count('FILTER') > 2 or sparql.count('ORDER') > 0:\n",
    "        print(sparql)\n",
    "        wrong += 1\n",
    "        break\n",
    "print((1 - wrong / len(test_data)) * 0.72)"
   ]
  },
  {
   "cell_type": "code",
   "execution_count": 4,
   "metadata": {},
   "outputs": [],
   "source": [
    "train_ground_truth = load_json(cfg['data_folder'] + 'train_grounded_queries.json')\n",
    "dev_ground_truth = load_json(cfg['data_folder'] + 'dev_grounded_queries.json')\n",
    "test_ground_truth = load_json(cfg['data_folder'] + 'test_grounded_queries.json')"
   ]
  },
  {
   "cell_type": "code",
   "execution_count": 7,
   "metadata": {},
   "outputs": [],
   "source": [
    "train_ids = {e['ID'] for e in train_data}\n",
    "dev_ids = {e['ID'] for e in dev_data}\n",
    "test_ids = {e['ID'] for e in test_data}"
   ]
  },
  {
   "cell_type": "code",
   "execution_count": 8,
   "metadata": {},
   "outputs": [],
   "source": [
    "all_path = load_json(cfg['data_folder'] + 'all_questions_v3.json')"
   ]
  },
  {
   "cell_type": "code",
   "execution_count": 14,
   "metadata": {},
   "outputs": [],
   "source": [
    "facts = load_json(cfg['data_folder'] + 'all_facts_all_new2.json')"
   ]
  },
  {
   "cell_type": "code",
   "execution_count": 6,
   "metadata": {},
   "outputs": [],
   "source": [
    "facts_old = load_json(cfg['data_folder'] + 'all_facts.json')"
   ]
  },
  {
   "cell_type": "code",
   "execution_count": 220,
   "metadata": {},
   "outputs": [
    {
     "name": "stderr",
     "output_type": "stream",
     "text": [
      "100%|██████████| 7606655/7606655 [00:52<00:00, 144854.88it/s]\n"
     ]
    }
   ],
   "source": [
    "# Fix facts\n",
    "for s in tqdm(facts):\n",
    "    for p in facts[s]:\n",
    "        for o in facts[s][p]:\n",
    "            if o not in facts:\n",
    "                facts[o] = dict()\n",
    "            if p not in facts[o]:\n",
    "                facts[o][p] = dict()\n",
    "            if s not in facts[o][p]:\n",
    "                facts[o][p][s] = 0 if facts[s][p][o] == 1 else 1"
   ]
  },
  {
   "cell_type": "code",
   "execution_count": 224,
   "metadata": {},
   "outputs": [],
   "source": [
    "save_json(facts, cfg['data_folder'] + 'all_facts_all_new.json')"
   ]
  },
  {
   "cell_type": "markdown",
   "metadata": {},
   "source": [
    "## Find inference chain"
   ]
  },
  {
   "cell_type": "code",
   "execution_count": 13,
   "metadata": {},
   "outputs": [],
   "source": [
    "raw_data_map = {}\n",
    "for q in train_data + dev_data + test_data:\n",
    "    raw_data_map[q['ID']] = q"
   ]
  },
  {
   "cell_type": "code",
   "execution_count": 12,
   "metadata": {},
   "outputs": [],
   "source": [
    "for q in all_path:\n",
    "    if 'all_paths' in q:  \n",
    "        del q['all_paths']\n",
    "    if 'path_v2' in q:\n",
    "        del q['path_v2']\n",
    "    if 'subgraph' in q:\n",
    "        del q['subgraph']"
   ]
  },
  {
   "cell_type": "code",
   "execution_count": 95,
   "metadata": {},
   "outputs": [
    {
     "data": {
      "text/plain": [
       "34689"
      ]
     },
     "execution_count": 95,
     "metadata": {},
     "output_type": "execute_result"
    }
   ],
   "source": [
    "len(train_data) + len(dev_data)"
   ]
  },
  {
   "cell_type": "code",
   "execution_count": 73,
   "metadata": {},
   "outputs": [],
   "source": [
    "TOPIC_ENTITY_RE = re.compile('ns:[mg]\\.[a-zA-Z_0-9]*')"
   ]
  },
  {
   "cell_type": "code",
   "execution_count": 137,
   "metadata": {},
   "outputs": [],
   "source": [
    "for q in all_path:\n",
    "    raw_data = raw_data_map[q['ID']]\n",
    "    q['machine_question'] = raw_data['machine_question']"
   ]
  },
  {
   "cell_type": "code",
   "execution_count": 230,
   "metadata": {},
   "outputs": [
    {
     "name": "stdout",
     "output_type": "stream",
     "text": [
      "['m.0hn47qp', [[1, 'sports.sports_team.fight_song']], ['m.01ct6', 'm.01ct6'], [[0, 'sports.sports_team.championships']], ['m.0642vqv', 'm.076yq']]\n",
      "['m.06x5s', [[1, 'sports.sports_championship_event.championship']], ['m.0642vqv', 'm.076yq']]\n",
      "PREFIX ns: <http://rdf.freebase.com/ns/>\n",
      "SELECT DISTINCT ?x ?c\n",
      "WHERE {\n",
      "FILTER (?x != ?c)\n",
      "FILTER (!isLiteral(?x) OR lang(?x) = '' OR langMatches(lang(?x), 'en'))\n",
      "?c ns:sports.sports_team.fight_song ns:m.0hn47qp . \n",
      "?c ns:sports.sports_team.championships ?x .\n",
      "?x ns:sports.sports_championship_event.championship ns:m.06x5s .\n",
      "}\n",
      "\n",
      "What year did the team with Baltimore Fight Song win the Superbowl?\n",
      "[{'aliases': ['Super Bowl 2013', 'Super Bowl 47'], 'answer': 'Super Bowl XLVII', 'answer_id': 'm.0642vqv'}, {'aliases': [], 'answer': 'Super Bowl XXXV', 'answer_id': 'm.076yq'}]\n",
      "['m.0hn47qp', 'm.06x5s']\n",
      "\n",
      "\n",
      "1\n"
     ]
    }
   ],
   "source": [
    "qs = []\n",
    "for q in all_path:\n",
    "    flag = False\n",
    "    for path in q['path']:\n",
    "        if flag:\n",
    "            break\n",
    "        for idx in range(1, len(path) - 1, 2):\n",
    "            rel = path[idx][0][1]\n",
    "            if 'common' in rel:\n",
    "                flag = True\n",
    "                qs.append(q)\n",
    "                break\n",
    "wrong = 0\n",
    "wrong2 = 0\n",
    "for q in all_path:\n",
    "    leads_to_answers = []\n",
    "    for path in q['path']:\n",
    "        if len(path) % 2 == 0:\n",
    "            continue\n",
    "        leads_to_answer = True\n",
    "        visited = set()\n",
    "        for idx in range(0, len(path) - 2, 2):\n",
    "            s = path[idx]\n",
    "            if isinstance(s, list):\n",
    "                visited.update(s)\n",
    "                s = s[0]\n",
    "            else:\n",
    "                visited.add(s)\n",
    "            p = path[idx+1][0][1]\n",
    "            if 'common' in p or 'with_no_name_entry' in s:\n",
    "                break\n",
    "            o = path[idx+2]\n",
    "            next_neighbors = set(facts[s][p].keys())\n",
    "            if len(next_neighbors - visited) != len(set(o)):\n",
    "                leads_to_answer = False\n",
    "        leads_to_answers.append(leads_to_answer)\n",
    "    if sum(leads_to_answers) == 0:\n",
    "        wrong += 1\n",
    "        print(q['path'][0])\n",
    "        print(q['path'][1])\n",
    "        print(q['sparql'])\n",
    "        print(q['question'])\n",
    "        print(q['answers'])\n",
    "        print(q['entities'])\n",
    "        print()\n",
    "        print()\n",
    "        break\n",
    "print(wrong)"
   ]
  },
  {
   "cell_type": "code",
   "execution_count": 229,
   "metadata": {},
   "outputs": [
    {
     "data": {
      "text/plain": [
       "{'m.0_gtz8t': 0, 'm.0_gt_qt': 0, 'm.076yq': 0, 'm.0642vqv': 0, 'm.018fzs': 1}"
      ]
     },
     "execution_count": 229,
     "metadata": {},
     "output_type": "execute_result"
    }
   ],
   "source": [
    "facts['m.01ct6']['sports.sports_team.championships']"
   ]
  },
  {
   "cell_type": "code",
   "execution_count": 198,
   "metadata": {},
   "outputs": [],
   "source": [
    "# Fix the knowledge base to include the correct path\n",
    "for q in all_path:\n",
    "    for path in q['path']:\n",
    "        if len(path) % 2 == 0:\n",
    "            continue\n",
    "        for idx in range(0, len(path) - 2, 2):\n",
    "            ss = path[idx]\n",
    "            if not isinstance(ss, list):\n",
    "                ss = [ss]\n",
    "            p = path[idx+1][0][1]\n",
    "            os = path[idx+2]\n",
    "            for s in ss:\n",
    "                if s not in facts:\n",
    "                    facts[s] = dict()\n",
    "                if p not in facts[s]:\n",
    "                    facts[s][p] = dict()\n",
    "                for o in os:\n",
    "                    if o not in facts[s][p]:\n",
    "                        facts[s][p][o] = 0\n",
    "            for o in os:\n",
    "                if o not in facts:\n",
    "                    facts[o] = dict()\n",
    "                if p not in facts[o]:\n",
    "                    facts[o][p] = dict()\n",
    "                for s in ss:\n",
    "                    if s not in facts[o][p]:\n",
    "                        facts[o][p][s] = 1"
   ]
  },
  {
   "cell_type": "code",
   "execution_count": 200,
   "metadata": {},
   "outputs": [],
   "source": [
    "save_json(facts, cfg['data_folder'] + 'all_facts_v3.json')"
   ]
  },
  {
   "cell_type": "code",
   "execution_count": 201,
   "metadata": {},
   "outputs": [
    {
     "data": {
      "text/plain": [
       "7606701"
      ]
     },
     "execution_count": 201,
     "metadata": {},
     "output_type": "execute_result"
    }
   ],
   "source": [
    "len(facts)"
   ]
  },
  {
   "cell_type": "code",
   "execution_count": 14,
   "metadata": {},
   "outputs": [],
   "source": [
    "for q in all_path:\n",
    "    q_rel_path = defaultdict(list)\n",
    "    for path in q['path']:\n",
    "        if len(path) % 2 == 0:\n",
    "            continue\n",
    "        for idx in range(0, len(path) - 2, 2):\n",
    "            s = path[idx]\n",
    "            if isinstance(s, list):\n",
    "                s = s[0]\n",
    "            p = path[idx+1][0][1]\n",
    "            if 'common' in p or 'with_no_name_entry' in s:\n",
    "                continue\n",
    "            q_rel_path[idx // 2].append(p)\n",
    "    q['stage_rel_path'] = q_rel_path"
   ]
  },
  {
   "cell_type": "code",
   "execution_count": 263,
   "metadata": {},
   "outputs": [
    {
     "name": "stdout",
     "output_type": "stream",
     "text": [
      "0.9998025390587375\n"
     ]
    }
   ],
   "source": [
    "avg_recall = 0.0\n",
    "count = 0\n",
    "for q in all_path:\n",
    "    entities = q['entities']\n",
    "    cand_rels = set()\n",
    "    for entity in entities:\n",
    "        for rel in list(facts[entity].keys())[:200]:\n",
    "            cand_rels.add(rel)\n",
    "    targets = set(q['stage_rel_path'][0])\n",
    "    avg_recall += len(cand_rels & targets) / len(targets) if targets else 1\n",
    "    count += 1\n",
    "print(avg_recall / count)"
   ]
  },
  {
   "cell_type": "code",
   "execution_count": 28,
   "metadata": {},
   "outputs": [
    {
     "data": {
      "text/plain": [
       "{'m.0g39h': 1,\n",
       " 'm.06mtq': 1,\n",
       " 'm.07cfx': 1,\n",
       " 'm.05fly': 1,\n",
       " 'm.0chgr2': 1,\n",
       " 'm.0847q': 1}"
      ]
     },
     "execution_count": 28,
     "metadata": {},
     "output_type": "execute_result"
    }
   ],
   "source": [
    "facts['m.02_8yfs']"
   ]
  },
  {
   "cell_type": "code",
   "execution_count": 65,
   "metadata": {},
   "outputs": [
    {
     "ename": "NameError",
     "evalue": "name 'all_path' is not defined",
     "output_type": "error",
     "traceback": [
      "\u001b[0;31m---------------------------------------------------------------------------\u001b[0m",
      "\u001b[0;31mNameError\u001b[0m                                 Traceback (most recent call last)",
      "\u001b[0;32m<ipython-input-65-07f9fccc76c5>\u001b[0m in \u001b[0;36m<module>\u001b[0;34m\u001b[0m\n\u001b[1;32m      1\u001b[0m \u001b[0mwrong\u001b[0m \u001b[0;34m=\u001b[0m \u001b[0;36m0\u001b[0m\u001b[0;34m\u001b[0m\u001b[0;34m\u001b[0m\u001b[0m\n\u001b[0;32m----> 2\u001b[0;31m \u001b[0;32mfor\u001b[0m \u001b[0mq\u001b[0m \u001b[0;32min\u001b[0m \u001b[0mall_path\u001b[0m\u001b[0;34m:\u001b[0m\u001b[0;34m\u001b[0m\u001b[0;34m\u001b[0m\u001b[0m\n\u001b[0m\u001b[1;32m      3\u001b[0m     \u001b[0;32mif\u001b[0m \u001b[0;32mnot\u001b[0m \u001b[0mq\u001b[0m\u001b[0;34m[\u001b[0m\u001b[0;34m'stage_rel_path'\u001b[0m\u001b[0;34m]\u001b[0m \u001b[0;32mor\u001b[0m \u001b[0;32mnot\u001b[0m \u001b[0mset\u001b[0m\u001b[0;34m(\u001b[0m\u001b[0mq\u001b[0m\u001b[0;34m[\u001b[0m\u001b[0;34m'stage_rel_path'\u001b[0m\u001b[0;34m]\u001b[0m\u001b[0;34m[\u001b[0m\u001b[0;36m0\u001b[0m\u001b[0;34m]\u001b[0m\u001b[0;34m)\u001b[0m\u001b[0;34m:\u001b[0m\u001b[0;34m\u001b[0m\u001b[0;34m\u001b[0m\u001b[0m\n\u001b[1;32m      4\u001b[0m         \u001b[0mwrong\u001b[0m \u001b[0;34m+=\u001b[0m \u001b[0;36m1\u001b[0m\u001b[0;34m\u001b[0m\u001b[0;34m\u001b[0m\u001b[0m\n\u001b[1;32m      5\u001b[0m \u001b[0;31m#         print(q['question'])\u001b[0m\u001b[0;34m\u001b[0m\u001b[0;34m\u001b[0m\u001b[0;34m\u001b[0m\u001b[0m\n",
      "\u001b[0;31mNameError\u001b[0m: name 'all_path' is not defined"
     ]
    }
   ],
   "source": [
    "wrong = 0\n",
    "for q in all_path:\n",
    "    if not q['stage_rel_path'] or not set(q['stage_rel_path'][0]):\n",
    "        wrong += 1\n",
    "#         print(q['question'])\n",
    "#         print(q['sparql'])\n",
    "#         print(q['path'])\n",
    "#         print(q['answers'])\n",
    "#         print(q['entities'])\n",
    "#         print(len(q['answers']))\n",
    "        entities = list(set(q['entities']))\n",
    "        ground_truths = train_ground_truth[q['ID']]\n",
    "        \n",
    "        ground_truth_path_to_entities = defaultdict(list)\n",
    "        for idx, gt in enumerate(ground_truths):\n",
    "            g = nx.json_graph.node_link_graph(gt['graph'])\n",
    "            g = nx.Graph(g)\n",
    "            g = g.to_undirected()\n",
    "            answer = gt['answer'].strip()\n",
    "            for topic_entity in entities:\n",
    "                try:\n",
    "                    topic_entity = topic_entity.strip()\n",
    "                    answer = answer.strip()\n",
    "                    ground_answer_path = list(nx.all_simple_paths(g, topic_entity, answer))\n",
    "                    if len(ground_answer_path) > 0:\n",
    "                        ground_truth_path_to_entities[idx].append(topic_entity)\n",
    "                except Exception as e:\n",
    "                    print(e)\n",
    "                    continue\n",
    "#             for s, o, p in g.edges(data='label'):\n",
    "#                 if s in entities or o in entities:\n",
    "#                     print(p)\n",
    "        print(ground_truth_path_to_entities)\n",
    "        break\n",
    "print(wrong)"
   ]
  },
  {
   "cell_type": "code",
   "execution_count": 255,
   "metadata": {},
   "outputs": [
    {
     "data": {
      "text/plain": [
       "680"
      ]
     },
     "execution_count": 255,
     "metadata": {},
     "output_type": "execute_result"
    }
   ],
   "source": [
    "len(facts['m.018fzs'])"
   ]
  },
  {
   "cell_type": "code",
   "execution_count": 249,
   "metadata": {},
   "outputs": [
    {
     "name": "stdout",
     "output_type": "stream",
     "text": [
      "39.28191643067676\n"
     ]
    },
    {
     "data": {
      "image/png": "[encoded data removed]",
      "text/plain": [
       "<Figure size 432x288 with 1 Axes>"
      ]
     },
     "metadata": {
      "needs_background": "light"
     },
     "output_type": "display_data"
    }
   ],
   "source": [
    "import matplotlib.pyplot as plt\n",
    "\n",
    "cand_rel_lens = [len(q['cand_rels']) for q in all_path]\n",
    "plt.plot(cand_rel_lens)\n",
    "print(np.mean(cand_rel_lens))"
   ]
  },
  {
   "cell_type": "code",
   "execution_count": 238,
   "metadata": {},
   "outputs": [],
   "source": [
    "new_train_data = [e for e in all_path if e['ID'] in train_ids]\n",
    "new_dev_data = [e for e in all_path if e['ID'] in dev_ids]\n",
    "new_test_data = [e for e in all_path if e['ID'] in test_ids]\n",
    "save_json(new_train_data, cfg['data_folder'] + 'train_iternet.json')\n",
    "save_json(new_dev_data, cfg['data_folder'] + 'train_iternet.json')\n",
    "save_json(new_test_data, cfg['data_folder'] + 'train_iternet.json')"
   ]
  },
  {
   "cell_type": "markdown",
   "metadata": {},
   "source": [
    "# Fix the ground truth of all_path"
   ]
  },
  {
   "cell_type": "code",
   "execution_count": 47,
   "metadata": {},
   "outputs": [
    {
     "data": {
      "text/plain": [
       "{'ID': 'WebQTrn-3513_7c4117891abf63781b892537979054c6',\n",
       " 'answers': [{'aliases': ['Washington D.C.',\n",
       "    'Washington',\n",
       "    'The District',\n",
       "    'U.S. Capital',\n",
       "    'District of Columbia / Washington city',\n",
       "    'The District of Columbia',\n",
       "    'District of Columbia',\n",
       "    'Washington DC'],\n",
       "   'answer': 'Washington, D.C.',\n",
       "   'answer_id': 'm.0rh6k'}],\n",
       " 'composition_answer': 'george washington university',\n",
       " 'compositionality_type': 'composition',\n",
       " 'question': \"What state is home to the university that is represented in sports by George Washington Colonials men's basketball?\",\n",
       " 'entities': ['m.03d0l76'],\n",
       " 'sparql': \"PREFIX ns: <http://rdf.freebase.com/ns/>\\nSELECT DISTINCT ?x ?c ?y\\nWHERE {\\nFILTER (?x != ?c)\\nFILTER (!isLiteral(?x) OR lang(?x) = '' OR langMatches(lang(?x), 'en'))\\n?c ns:education.educational_institution.sports_teams ns:m.03d0l76 . \\n?c ns:organization.organization.headquarters ?y .\\n?y ns:location.mailing_address.state_province_region ?x .\\n}\\n\",\n",
       " 'path': [['m.03d0l76',\n",
       "   [[1, 'education.educational_institution.sports_teams']],\n",
       "   ['m.01nnsv'],\n",
       "   [[0, 'organization.organization.headquarters']],\n",
       "   ['m.0cnnz2d'],\n",
       "   [[0, 'location.mailing_address.state_province_region']],\n",
       "   ['m.0rh6k']]],\n",
       " 'keywords': 'state home university represented sports george washington colonials men basketball',\n",
       " 'stage_rel_path': defaultdict(list,\n",
       "             {0: ['education.educational_institution.sports_teams'],\n",
       "              1: ['organization.organization.headquarters'],\n",
       "              2: ['location.mailing_address.state_province_region']})}"
      ]
     },
     "execution_count": 47,
     "metadata": {},
     "output_type": "execute_result"
    }
   ],
   "source": [
    "all_path[0]"
   ]
  },
  {
   "cell_type": "code",
   "execution_count": 9,
   "metadata": {},
   "outputs": [],
   "source": [
    "all_ground_truths = dict()\n",
    "all_ground_truths.update(train_ground_truth)\n",
    "all_ground_truths.update(dev_ground_truth)\n",
    "all_ground_truths.update(test_ground_truth)"
   ]
  },
  {
   "cell_type": "code",
   "execution_count": 73,
   "metadata": {},
   "outputs": [],
   "source": [
    "new_ground_truths = dict()"
   ]
  },
  {
   "cell_type": "code",
   "execution_count": 74,
   "metadata": {},
   "outputs": [
    {
     "name": "stderr",
     "output_type": "stream",
     "text": [
      "100%|██████████| 34606/34606 [00:14<00:00, 2355.03it/s]\n"
     ]
    }
   ],
   "source": [
    "for q in tqdm(all_path):\n",
    "    entities = list(set(q['entities']))\n",
    "    ground_truths = all_ground_truths[q['ID']]\n",
    "    for idx, gt in enumerate(ground_truths):\n",
    "        g = nx.json_graph.node_link_graph(gt['graph'])\n",
    "        g = nx.Graph(g)\n",
    "        g = g.to_undirected()\n",
    "        answer = gt['answer']\n",
    "        graph_topic_entities = set()\n",
    "        for topic_entity in entities:\n",
    "            try:\n",
    "                topic_entity = topic_entity.strip()\n",
    "                answer = answer.strip()\n",
    "                ground_answer_path = list(nx.all_simple_paths(g, topic_entity, answer))\n",
    "                if len(ground_answer_path) > 0:\n",
    "                    graph_topic_entities.add(topic_entity)\n",
    "                gt['entities'] = list(graph_topic_entities)\n",
    "            except Exception as e:\n",
    "                continue\n",
    "    new_ground_truths[q['ID']] = ground_truths"
   ]
  },
  {
   "cell_type": "code",
   "execution_count": 149,
   "metadata": {},
   "outputs": [
    {
     "name": "stderr",
     "output_type": "stream",
     "text": [
      "100%|██████████| 34606/34606 [00:10<00:00, 3261.95it/s]\n"
     ]
    }
   ],
   "source": [
    "# Fix new path\n",
    "for q in tqdm(all_path):\n",
    "    q_id = q['ID']\n",
    "    ground_truths = new_ground_truths[q_id]\n",
    "    path = []\n",
    "    all_paths = []\n",
    "    for gt in ground_truths:\n",
    "        g = nx.json_graph.node_link_graph(gt['graph'])\n",
    "        g = nx.Graph(g)\n",
    "        answer = gt['answer'].strip()\n",
    "        entities = gt['entities']\n",
    "        for topic_entity in entities:\n",
    "            gt_paths = list(nx.all_simple_paths(g, topic_entity, answer))\n",
    "            for path in map(nx.utils.pairwise, gt_paths):\n",
    "                tmp_path = []\n",
    "                path_list = list(path)\n",
    "                for i, p in enumerate(path_list):\n",
    "                    s = p[0]\n",
    "                    o = p[1]\n",
    "                    edge_label = g.get_edge_data(p[0], p[1])['label']\n",
    "                    if i == 0:\n",
    "                        tmp_path.append(s)\n",
    "                    tmp_path.append(edge_label)\n",
    "                    tmp_path.append(o)\n",
    "                all_paths.append(tmp_path)\n",
    "    q['new_path'] = all_paths"
   ]
  },
  {
   "cell_type": "code",
   "execution_count": 154,
   "metadata": {},
   "outputs": [
    {
     "name": "stdout",
     "output_type": "stream",
     "text": [
      "What state is home to the university that is represented in sports by George Washington Colonials men's basketball?\n",
      "['m.03d0l76']\n",
      "[{'aliases': ['Washington D.C.', 'Washington', 'The District', 'U.S. Capital', 'District of Columbia / Washington city', 'The District of Columbia', 'District of Columbia', 'Washington DC'], 'answer': 'Washington, D.C.', 'answer_id': 'm.0rh6k'}]\n",
      "dict_keys(['base.marchmadness.ncaa_tournament_seed.team', 'base.marchmadness.ncaa_basketball_tournament_game.losing_team', 'sports.sports_team_roster.team', 'sports.team_venue_relationship.team', 'sports.sports_facility.teams', 'base.marchmadness.ncaa_basketball_tournament_game.winning_team', 'basketball.basketball_coach.team', 'basketball.basketball_division.teams', 'education.athletics_brand.teams', 'sports.sports_team.colors', 'basketball.basketball_conference.teams', 'sports.sport.teams', 'education.educational_institution.sports_teams', 'common.topic.notable_types'])\n",
      "PREFIX ns: <http://rdf.freebase.com/ns/>\n",
      "SELECT DISTINCT ?x ?c ?y\n",
      "WHERE {\n",
      "FILTER (?x != ?c)\n",
      "FILTER (!isLiteral(?x) OR lang(?x) = '' OR langMatches(lang(?x), 'en'))\n",
      "?c ns:education.educational_institution.sports_teams ns:m.03d0l76 . \n",
      "?c ns:organization.organization.headquarters ?y .\n",
      "?y ns:location.mailing_address.state_province_region ?x .\n",
      "}\n",
      "\n",
      "[['m.03d0l76', 'education.educational_institution.sports_teams', 'm.01nnsv', 'NotEquals', 'm.0rh6k'], ['m.03d0l76', 'education.educational_institution.sports_teams', 'm.01nnsv', 'organization.organization.headquarters', 'm.0cnnz2d', 'location.mailing_address.state_province_region', 'm.0rh6k']]\n"
     ]
    }
   ],
   "source": [
    "idx = 0\n",
    "q = all_path[idx]\n",
    "print(q['question'])\n",
    "print(q['entities'])\n",
    "print(q['answers'])\n",
    "for e in q['entities']:\n",
    "    print(facts[e].keys())\n",
    "print(q['sparql'])\n",
    "print(q['new_path'])"
   ]
  },
  {
   "cell_type": "code",
   "execution_count": 161,
   "metadata": {},
   "outputs": [
    {
     "data": {
      "text/plain": [
       "{'m.0rh6k': 0}"
      ]
     },
     "execution_count": 161,
     "metadata": {},
     "output_type": "execute_result"
    }
   ],
   "source": [
    "facts['m.0cnnz2d']['location.mailing_address.state_province_region']"
   ]
  },
  {
   "cell_type": "markdown",
   "metadata": {},
   "source": [
    "# Walk from the topic entity to the answer, and see if there are ambious roads"
   ]
  },
  {
   "cell_type": "code",
   "execution_count": 257,
   "metadata": {
    "scrolled": true
   },
   "outputs": [
    {
     "name": "stderr",
     "output_type": "stream",
     "text": [
      "100%|██████████| 90/90 [00:00<00:00, 10976.02it/s]"
     ]
    },
    {
     "name": "stdout",
     "output_type": "stream",
     "text": [
      "The artist from the HIStory World Tour concert tour played what character on the Wiz?\n",
      "PREFIX ns: <http://rdf.freebase.com/ns/>\n",
      "SELECT DISTINCT ?x ?c ?y\n",
      "WHERE {\n",
      "FILTER (?x != ?c)\n",
      "FILTER (!isLiteral(?x) OR lang(?x) = '' OR langMatches(lang(?x), 'en'))\n",
      "?c ns:music.artist.concert_tours ns:m.09x1nf . \n",
      "?c ns:film.actor.film ?y .\n",
      "?y ns:film.performance.character ?x .\n",
      "?y ns:film.performance.film ns:m.027fwmt .\n",
      "}\n",
      "\n",
      "\n",
      "What team with mascot named Champ did Tyson Chandler play for?\n",
      "PREFIX ns: <http://rdf.freebase.com/ns/>\n",
      "SELECT DISTINCT ?x ?y\n",
      "WHERE {\n",
      "FILTER (?x != ns:m.05j8c8)\n",
      "FILTER (!isLiteral(?x) OR lang(?x) = '' OR langMatches(lang(?x), 'en'))\n",
      "ns:m.05j8c8 ns:sports.pro_athlete.teams ?y .\n",
      "?y ns:sports.sports_team_roster.team ?x .\n",
      "?x ns:sports.sports_team.team_mascot ns:m.0kh6jz4 . \n",
      "}\n",
      "\n",
      "Who was the creator of the communist party that had Parkinson's disease?\n",
      "PREFIX ns: <http://rdf.freebase.com/ns/>\n",
      "SELECT DISTINCT ?x \n",
      "WHERE {\n",
      "FILTER (?x != ns:m.02189)\n",
      "FILTER (!isLiteral(?x) OR lang(?x) = '' OR langMatches(lang(?x), 'en'))\n",
      "ns:m.02189 ns:organization.organization.founders ?x .\n",
      "?x ns:medicine.notable_person_with_medical_condition.condition ns:m.0g02vk . \n",
      "}\n",
      "\n",
      "Which college featured Riptide the pelican as a mascot and includes Newt Gincrich as an alumni?\n",
      "PREFIX ns: <http://rdf.freebase.com/ns/>\n",
      "SELECT DISTINCT ?x ?y\n",
      "WHERE {\n",
      "FILTER (?x != ns:m.018fzs)\n",
      "FILTER (!isLiteral(?x) OR lang(?x) = '' OR langMatches(lang(?x), 'en'))\n",
      "ns:m.018fzs ns:people.person.education ?y .\n",
      "?y ns:education.education.institution ?x .\n",
      "?x ns:common.topic.notable_types ns:m.01y2hnl .\n",
      "?x ns:education.educational_institution.mascot ns:m.05g1yr7 . \n",
      "}\n",
      "\n",
      "When did the team who has Terry Collins in leadership last win the world series?\n",
      "PREFIX ns: <http://rdf.freebase.com/ns/>\n",
      "SELECT DISTINCT ?x ?c ?k\n",
      "WHERE {\n",
      "FILTER (?x != ?c)\n",
      "FILTER (!isLiteral(?x) OR lang(?x) = '' OR langMatches(lang(?x), 'en'))\n",
      "?c ns:organization.organization.leadership ?k .\n",
      "?k ns:organization.leadership.person ns:m.0bz4qr . \n",
      "?c ns:sports.sports_team.championships ?x .\n",
      "?x ns:time.event.end_date ?sk0 .\n",
      "}\n",
      "ORDER BY DESC(xsd:datetime(?sk0))\n",
      "LIMIT 1\n",
      "\n",
      "\n",
      "What country speaks Arabic in the Central Time Zone?\n",
      "PREFIX ns: <http://rdf.freebase.com/ns/>\n",
      "SELECT DISTINCT ?x \n",
      "WHERE {\n",
      "FILTER (?x != ns:m.0jzc)\n",
      "FILTER (!isLiteral(?x) OR lang(?x) = '' OR langMatches(lang(?x), 'en'))\n",
      "ns:m.0jzc ns:language.human_language.countries_spoken_in ?x .\n",
      "?x ns:location.location.time_zones ns:m.02fqwt . \n",
      "}\n",
      "\n",
      "What language is spoken in the country that has Southern Peninsular?\n",
      "PREFIX ns: <http://rdf.freebase.com/ns/>\n",
      "SELECT DISTINCT ?x ?c\n",
      "WHERE {\n",
      "FILTER (?x != ?c)\n",
      "FILTER (!isLiteral(?x) OR lang(?x) = '' OR langMatches(lang(?x), 'en'))\n",
      "?c ns:location.country.administrative_divisions ns:m.08kmfj . \n",
      "?c ns:location.country.languages_spoken ?x .\n",
      "}\n",
      "\n",
      "\n",
      "Which country with religious organization leadership Noddfa, Treorchy borders England?\n",
      "PREFIX ns: <http://rdf.freebase.com/ns/>\n",
      "SELECT DISTINCT ?x ?y ?c\n",
      "WHERE {\n",
      "FILTER (?x != ns:m.02jx1)\n",
      "FILTER (!isLiteral(?x) OR lang(?x) = '' OR langMatches(lang(?x), 'en'))\n",
      "ns:m.02jx1 ns:location.location.adjoin_s ?y .\n",
      "?y ns:location.adjoining_relationship.adjoins ?x .\n",
      "?x ns:base.biblioness.bibs_location.loc_type ?sk0 .\n",
      "FILTER (str(?sk0) = \"Country\")\n",
      "?x ns:religion.religious_leadership_jurisdiction.leader ?c .\n",
      "?c ns:religion.religious_organization_leadership.organization ns:m.0_gw15p . \n",
      "}\n",
      "\n",
      "What sport was played by the winners of the 1948 Stanley Cup?\n",
      "PREFIX ns: <http://rdf.freebase.com/ns/>\n",
      "SELECT DISTINCT ?x ?c ?y\n",
      "WHERE {\n",
      "FILTER (?x != ?c)\n",
      "FILTER (!isLiteral(?x) OR lang(?x) = '' OR langMatches(lang(?x), 'en'))\n",
      "?c ns:sports.sports_team.championships ns:m.03cjpsk . \n",
      "?c ns:base.events.event_presenting_organisation.event_feed ?y .\n",
      "?y ns:base.events.event_feed.type_of_event ?x .\n",
      "}\n",
      "\n",
      "\n",
      "Which city is home to the University that is known for Purdue Boilermakers men's basketball?\n",
      "PREFIX ns: <http://rdf.freebase.com/ns/>\n",
      "SELECT DISTINCT ?x ?c ?y\n",
      "WHERE {\n",
      "FILTER (?x != ?c)\n",
      "FILTER (!isLiteral(?x) OR lang(?x) = '' OR langMatches(lang(?x), 'en'))\n",
      "?c ns:education.educational_institution.sports_teams ns:m.026w398 . \n",
      "?c ns:location.location.street_address ?y .\n",
      "?y ns:location.mailing_address.citytown ?x .\n",
      "}\n",
      "\n",
      "\n",
      "What zoo that opened earliest is there to see in Dallas, TX?\n",
      "PREFIX ns: <http://rdf.freebase.com/ns/>\n",
      "SELECT DISTINCT ?x \n",
      "WHERE {\n",
      "FILTER (?x != ns:m.0f2rq)\n",
      "FILTER (!isLiteral(?x) OR lang(?x) = '' OR langMatches(lang(?x), 'en'))\n",
      "ns:m.0f2rq ns:travel.travel_destination.tourist_attractions ?x .\n",
      "?x ns:zoos.zoo.opened ?num .\n",
      "}\n",
      "ORDER BY ?num LIMIT 1\n",
      "\n",
      "What team that won the 1956 PequeÃ±a Copa del Mundo de Clubes championship does Cristiano Ronaldo play for in 2012?\n",
      "PREFIX ns: <http://rdf.freebase.com/ns/>\n",
      "SELECT DISTINCT ?x ?y\n",
      "WHERE {\n",
      "FILTER (?x != ns:m.02xt6q)\n",
      "FILTER (!isLiteral(?x) OR lang(?x) = '' OR langMatches(lang(?x), 'en'))\n",
      "ns:m.02xt6q ns:sports.pro_athlete.teams ?y .\n",
      "?y ns:sports.sports_team_roster.team ?x .\n",
      "FILTER(NOT EXISTS {?y ns:sports.sports_team_roster.from ?sk0} || \n",
      "EXISTS {?y ns:sports.sports_team_roster.from ?sk1 . \n",
      "FILTER(xsd:datetime(?sk1) <= \"2012-12-31\"^^xsd:dateTime) })\n",
      "FILTER(NOT EXISTS {?y ns:sports.sports_team_roster.to ?sk2} || \n",
      "EXISTS {?y ns:sports.sports_team_roster.to ?sk3 . \n",
      "FILTER(xsd:datetime(?sk3) >= \"2012-01-01\"^^xsd:dateTime) })\n",
      "?x ns:sports.sports_team.championships ns:m.011q6011 . \n",
      "}\n",
      "\n",
      "A person attending education institution Assuptuion Saint Bridget is from where?\n",
      "PREFIX ns: <http://rdf.freebase.com/ns/>\n",
      "SELECT DISTINCT ?x ?c ?k\n",
      "WHERE {\n",
      "FILTER (?x != ?c)\n",
      "FILTER (!isLiteral(?x) OR lang(?x) = '' OR langMatches(lang(?x), 'en'))\n",
      "?c ns:people.person.education ?k .\n",
      "?k ns:education.education.institution ns:m.02wsngb . \n",
      "?c ns:people.person.place_of_birth ?x .\n",
      "}\n",
      "\n",
      "\n",
      "What sports team has a mascot with the name of Homer?\n",
      "PREFIX ns: <http://rdf.freebase.com/ns/>\n",
      "SELECT DISTINCT ?x ?c\n",
      "WHERE {\n",
      "FILTER (?x != ?c)\n",
      "FILTER (!isLiteral(?x) OR lang(?x) = '' OR langMatches(lang(?x), 'en'))\n",
      "?c ns:sports.sports_team.team_mascot ns:m.07vbb7 . \n",
      "?c ns:sports.sports_team.team_mascot ?x .\n",
      "}\n",
      "\n",
      "\n",
      "What is the name of the president of the geographic location where Nicolas Sarkozy was appointed to a governmental position?\n",
      "PREFIX ns: <http://rdf.freebase.com/ns/>\n",
      "SELECT DISTINCT ?x ?c ?y ?k\n",
      "WHERE {\n",
      "FILTER (?x != ?c)\n",
      "FILTER (!isLiteral(?x) OR lang(?x) = '' OR langMatches(lang(?x), 'en'))\n",
      "?c ns:government.governmental_jurisdiction.governing_officials ?k .\n",
      "?k ns:government.government_position_held.appointed_by ns:m.02ps9k . \n",
      "?c ns:government.governmental_jurisdiction.governing_officials ?y .\n",
      "?y ns:government.government_position_held.office_holder ?x .\n",
      "?y ns:government.government_position_held.basic_title ns:m.060c4 .\n",
      "FILTER(NOT EXISTS {?y ns:government.government_position_held.from ?sk0} || \n",
      "EXISTS {?y ns:government.government_position_held.from ?sk1 . \n",
      "FILTER(xsd:datetime(?sk1) <= \"2015-08-10\"^^xsd:dateTime) })\n",
      "FILTER(NOT EXISTS {?y ns:government.government_position_held.to ?sk2} || \n",
      "EXISTS {?y ns:government.government_position_held.to ?sk3 . \n",
      "FILTER(xsd:datetime(?sk3) >= \"2015-08-10\"^^xsd:dateTime) })\n",
      "}\n",
      "\n",
      "\n",
      "What country in the United Kingdom contains the Down District Council?\n",
      "PREFIX ns: <http://rdf.freebase.com/ns/>\n",
      "SELECT DISTINCT ?x \n",
      "WHERE {\n",
      "FILTER (?x != ns:m.07ssc)\n",
      "FILTER (!isLiteral(?x) OR lang(?x) = '' OR langMatches(lang(?x), 'en'))\n",
      "ns:m.07ssc ns:base.aareas.schema.administrative_area.administrative_children ?x .\n",
      "?x ns:base.aareas.schema.administrative_area.administrative_area_type ns:m.0hzjlmp .\n",
      "?x ns:location.country.administrative_divisions ns:m.02dv8y . \n",
      "}\n",
      "\n",
      "What is the largest populated country that partially contains Denmark?\n",
      "PREFIX ns: <http://rdf.freebase.com/ns/>\n",
      "SELECT DISTINCT ?x ?c ?k\n",
      "WHERE {\n",
      "FILTER (?x != ?c)\n",
      "FILTER (!isLiteral(?x) OR lang(?x) = '' OR langMatches(lang(?x), 'en'))\n",
      "?c ns:location.location.partiallycontains ?k .\n",
      "?k ns:location.partial_containment_relationship.partially_contains ns:m.0k6nt . \n",
      "?c ns:location.location.contains ?x .\n",
      "?x ns:common.topic.notable_types ns:m.01mp .\n",
      "?x ns:topic_server.population_number ?sk0 .\n",
      "}\n",
      "ORDER BY DESC(xsd:float(?sk0))\n",
      "LIMIT 1\n",
      "\n",
      "\n",
      "Who is the brother of the actor who played the character Alien on TV Monitors #2?\n",
      "PREFIX ns: <http://rdf.freebase.com/ns/>\n",
      "SELECT DISTINCT ?x ?c ?y ?k\n",
      "WHERE {\n",
      "FILTER (?x != ?c)\n",
      "FILTER (!isLiteral(?x) OR lang(?x) = '' OR langMatches(lang(?x), 'en'))\n",
      "?c ns:film.actor.film ?k .\n",
      "?k ns:film.performance.character ns:m.0pbzq16 . \n",
      "?c ns:people.person.sibling_s ?y .\n",
      "?y ns:people.sibling_relationship.sibling ?x .\n",
      "?x ns:people.person.gender ns:m.05zppz .\n",
      "}\n",
      "\n",
      "\n",
      "What form of currency is used in the nation where you'd find Rio de Janeiro?\n",
      "PREFIX ns: <http://rdf.freebase.com/ns/>\n",
      "SELECT DISTINCT ?x ?c\n",
      "WHERE {\n",
      "FILTER (?x != ?c)\n",
      "FILTER (!isLiteral(?x) OR lang(?x) = '' OR langMatches(lang(?x), 'en'))\n",
      "?c ns:location.country.administrative_divisions ns:m.01hd4s . \n",
      "?c ns:location.country.currency_used ?x .\n",
      "}\n",
      "\n",
      "\n",
      "Where did the illustrator of \"De Divina Proportione\" die?\n",
      "PREFIX ns: <http://rdf.freebase.com/ns/>\n",
      "SELECT DISTINCT ?x ?c\n",
      "WHERE {\n",
      "FILTER (?x != ?c)\n",
      "FILTER (!isLiteral(?x) OR lang(?x) = '' OR langMatches(lang(?x), 'en'))\n",
      "?c ns:book.illustrator.books_illustrated ns:m.06pqb_7 . \n",
      "?c ns:people.deceased_person.place_of_death ?x .\n",
      "}\n",
      "\n",
      "\n",
      "Who trades with China and has a capital city called Khartoum?\n",
      "#MANUAL SPARQL\n",
      "PREFIX ns: <http://rdf.freebase.com/ns/>\n",
      "SELECT DISTINCT ?x  ?y\n",
      "WHERE {\n",
      "\tFILTER (?x != ns:m.0d05w3)\n",
      "\t{ \n",
      "\t  ns:m.0d05w3 ns:location.statistical_region.places_exported_to ?y .\n",
      "\t  ?y ns:location.imports_and_exports.exported_to ?x . \n",
      "\t}\n",
      "\tUNION\n",
      "\t{\n",
      "\t  ns:m.0d05w3 ns:location.statistical_region.places_imported_from ?y .\n",
      "\t  ?y ns:location.imports_and_exports.imported_from ?x . \n",
      "\t}?x ns:location.country.capital ns:m.04d_m . \n",
      "}\n",
      "\n",
      "Who is the head coach of the basketball team whose head coach is Tom Thibodeau?\n",
      "PREFIX ns: <http://rdf.freebase.com/ns/>\n",
      "SELECT DISTINCT ?x ?c\n",
      "WHERE {\n",
      "FILTER (?x != ?c)\n",
      "FILTER (!isLiteral(?x) OR lang(?x) = '' OR langMatches(lang(?x), 'en'))\n",
      "?c ns:basketball.basketball_team.head_coach ns:m.043jv80 . \n",
      "?c ns:basketball.basketball_team.head_coach ?x .\n",
      "}\n",
      "\n",
      "\n",
      "The Yale Herald is the newspaper of the educational institution located where?\n",
      "PREFIX ns: <http://rdf.freebase.com/ns/>\n",
      "SELECT DISTINCT ?x ?c ?y\n",
      "WHERE {\n",
      "FILTER (?x != ?c)\n",
      "FILTER (!isLiteral(?x) OR lang(?x) = '' OR langMatches(lang(?x), 'en'))\n",
      "?c ns:education.educational_institution.newspaper ns:m.0544pz . \n",
      "?c ns:organization.organization.headquarters ?y .\n",
      "?y ns:location.mailing_address.citytown ?x .\n",
      "}\n",
      "\n",
      "\n",
      "What is the capital city of the geographic division where the religious organizational leadership is called the Orthodox Autocephalous Church of Albania?\n",
      "PREFIX ns: <http://rdf.freebase.com/ns/>\n",
      "SELECT DISTINCT ?x ?c ?k\n",
      "WHERE {\n",
      "FILTER (?x != ?c)\n",
      "FILTER (!isLiteral(?x) OR lang(?x) = '' OR langMatches(lang(?x), 'en'))\n",
      "?c ns:religion.religious_leadership_jurisdiction.leader ?k .\n",
      "?k ns:religion.religious_organization_leadership.organization ns:m.06yy_g . \n",
      "?c ns:location.country.capital ?x .\n",
      "}\n",
      "\n",
      "\n",
      "Which countries are located in a place that slightly contains Italy?\n",
      "PREFIX ns: <http://rdf.freebase.com/ns/>\n",
      "SELECT DISTINCT ?x ?c ?y ?k\n",
      "WHERE {\n",
      "FILTER (?x != ?c)\n",
      "FILTER (!isLiteral(?x) OR lang(?x) = '' OR langMatches(lang(?x), 'en'))\n",
      "?c ns:location.location.partiallycontains ?k .\n",
      "?k ns:location.partial_containment_relationship.partially_contains ns:m.03rjj . \n",
      "?c ns:location.location.adjoin_s ?y .\n",
      "?y ns:location.adjoining_relationship.adjoins ?x .\n",
      "?x ns:common.topic.notable_types ns:m.01mp .\n",
      "}\n",
      "\n",
      "\n",
      "Which state senator from Georgia took this position at the earliest date?\n",
      "PREFIX ns: <http://rdf.freebase.com/ns/>\n",
      "SELECT DISTINCT ?x ?y ?c\n",
      "WHERE {\n",
      "FILTER (?x != ns:m.0d0x8)\n",
      "FILTER (!isLiteral(?x) OR lang(?x) = '' OR langMatches(lang(?x), 'en'))\n",
      "ns:m.0d0x8 ns:government.political_district.representatives ?y .\n",
      "?y ns:government.government_position_held.office_holder ?x .\n",
      "?y ns:government.government_position_held.governmental_body ns:m.07t58 .\n",
      "FILTER(NOT EXISTS {?y ns:government.government_position_held.from ?sk0} || \n",
      "EXISTS {?y ns:government.government_position_held.from ?sk1 . \n",
      "FILTER(xsd:datetime(?sk1) <= \"2015-08-10\"^^xsd:dateTime) })\n",
      "FILTER(NOT EXISTS {?y ns:government.government_position_held.to ?sk2} || \n",
      "EXISTS {?y ns:government.government_position_held.to ?sk3 . \n",
      "FILTER(xsd:datetime(?sk3) >= \"2015-08-10\"^^xsd:dateTime) })\n",
      "?x ns:government.politician.government_positions_held ?c .\n",
      "?c ns:government.government_position_held.from ?num .\n",
      "}\n",
      "ORDER BY ?num LIMIT 1\n",
      "\n",
      "What religion was followed by the person who once lived in Fotheringhay Castle?\n",
      "PREFIX ns: <http://rdf.freebase.com/ns/>\n",
      "SELECT DISTINCT ?x ?c ?k\n",
      "WHERE {\n",
      "FILTER (?x != ?c)\n",
      "FILTER (!isLiteral(?x) OR lang(?x) = '' OR langMatches(lang(?x), 'en'))\n",
      "?c ns:people.person.places_lived ?k .\n",
      "?k ns:people.place_lived.location ns:m.025s1y5 . \n",
      "?c ns:people.person.religion ?x .\n",
      "}\n",
      "\n",
      "\n",
      "What college football team has the mascot of a duck and included John Madden as a former player?\n",
      "PREFIX ns: <http://rdf.freebase.com/ns/>\n",
      "SELECT DISTINCT ?x ?y\n",
      "WHERE {\n",
      "FILTER (?x != ns:m.0frmb1)\n",
      "FILTER (!isLiteral(?x) OR lang(?x) = '' OR langMatches(lang(?x), 'en'))\n",
      "ns:m.0frmb1 ns:sports.pro_athlete.teams ?y .\n",
      "?y ns:sports.sports_team_roster.team ?x .\n",
      "?x ns:sports.sports_team.team_mascot ns:m.03d53pb . \n",
      "}\n",
      "\n",
      "What type of money does the country where El Seibo Province is use?\n",
      "PREFIX ns: <http://rdf.freebase.com/ns/>\n",
      "SELECT DISTINCT ?x ?c\n",
      "WHERE {\n",
      "FILTER (?x != ?c)\n",
      "FILTER (!isLiteral(?x) OR lang(?x) = '' OR langMatches(lang(?x), 'en'))\n",
      "?c ns:location.country.administrative_divisions ns:m.03xplf . \n",
      "?c ns:location.country.currency_used ?x .\n",
      "}\n",
      "\n",
      "\n",
      "Who held his governmental position from March 20, 1943 and created the Chinese Communist Party?\n",
      "PREFIX ns: <http://rdf.freebase.com/ns/>\n",
      "SELECT DISTINCT ?x ?c\n",
      "WHERE {\n",
      "FILTER (?x != ns:m.02189)\n",
      "FILTER (!isLiteral(?x) OR lang(?x) = '' OR langMatches(lang(?x), 'en'))\n",
      "ns:m.02189 ns:organization.organization.founders ?x .\n",
      "?x ns:government.politician.government_positions_held ?c .\n",
      "?c ns:government.government_position_held.from \"1943-03-20\"^^xsd:dateTime . \n",
      "}\n",
      "\n",
      "What is the religion that has an organization called Army of the Lord and was also the religion of Massachusetts?\n",
      "PREFIX ns: <http://rdf.freebase.com/ns/>\n",
      "SELECT DISTINCT ?x ?y\n",
      "WHERE {\n",
      "FILTER (?x != ns:m.05k7sb)\n",
      "FILTER (!isLiteral(?x) OR lang(?x) = '' OR langMatches(lang(?x), 'en'))\n",
      "ns:m.05k7sb ns:location.statistical_region.religions ?y .\n",
      "?y ns:location.religion_percentage.religion ?x .\n",
      "?x ns:religion.religion.organizations ns:m.010hq7jr . \n",
      "}\n",
      "\n",
      "People from the country that uses the Costa Rican Colon speak what languages?\n",
      "PREFIX ns: <http://rdf.freebase.com/ns/>\n",
      "SELECT DISTINCT ?x ?c\n",
      "WHERE {\n",
      "FILTER (?x != ?c)\n",
      "FILTER (!isLiteral(?x) OR lang(?x) = '' OR langMatches(lang(?x), 'en'))\n",
      "?c ns:location.country.currency_used ns:m.04wccn . \n",
      "?c ns:location.country.languages_spoken ?x .\n",
      "}\n",
      "\n",
      "\n",
      "Who held their governmental position from 1786 and was the British General of the Revolutionary War?\n",
      "PREFIX ns: <http://rdf.freebase.com/ns/>\n",
      "SELECT DISTINCT ?x ?y ?c\n",
      "WHERE {\n",
      "FILTER (?x != ns:m.0jnh)\n",
      "FILTER (!isLiteral(?x) OR lang(?x) = '' OR langMatches(lang(?x), 'en'))\n",
      "ns:m.0jnh ns:military.military_conflict.commanders ?y .\n",
      "?y ns:military.military_command.military_commander ?x .\n",
      "?x ns:people.person.nationality ns:m.014tss .\n",
      "?x ns:government.politician.government_positions_held ?c .\n",
      "?c ns:government.government_position_held.from \"1786\"^^xsd:dateTime . \n",
      "}\n",
      "\n",
      "In what year did the basketball team whose head coach is Kevin McHale win their first championship game?\n",
      "PREFIX ns: <http://rdf.freebase.com/ns/>\n",
      "SELECT DISTINCT ?x ?c\n",
      "WHERE {\n",
      "FILTER (?x != ?c)\n",
      "FILTER (!isLiteral(?x) OR lang(?x) = '' OR langMatches(lang(?x), 'en'))\n",
      "?c ns:basketball.basketball_team.head_coach ns:m.04b87b . \n",
      "?c ns:sports.sports_team.championships ?x .\n",
      "?x ns:time.event.start_date ?sk0 .\n",
      "}\n",
      "ORDER BY xsd:datetime(?sk0)\n",
      "LIMIT 1\n",
      "\n",
      "\n",
      "What style of music did the artist that went to Cry of Love Tour play?\n",
      "PREFIX ns: <http://rdf.freebase.com/ns/>\n",
      "SELECT DISTINCT ?x ?c\n",
      "WHERE {\n",
      "FILTER (?x != ?c)\n",
      "FILTER (!isLiteral(?x) OR lang(?x) = '' OR langMatches(lang(?x), 'en'))\n",
      "?c ns:music.artist.concert_tours ns:m.04gkgs_ . \n",
      "?c ns:music.artist.genre ?x .\n",
      "}\n",
      "\n",
      "\n",
      "A person from Rathfarnham is of what nationality?\n",
      "PREFIX ns: <http://rdf.freebase.com/ns/>\n",
      "SELECT DISTINCT ?x ?c ?k\n",
      "WHERE {\n",
      "FILTER (?x != ?c)\n",
      "FILTER (!isLiteral(?x) OR lang(?x) = '' OR langMatches(lang(?x), 'en'))\n",
      "?c ns:people.person.places_lived ?k .\n",
      "?k ns:people.place_lived.location ns:m.02bm4m . \n",
      "?c ns:people.person.nationality ?x .\n",
      "}\n",
      "\n",
      "\n",
      "What educational institution that has a mascot named Mustang did Jackie Robinson go to?\n",
      "PREFIX ns: <http://rdf.freebase.com/ns/>\n",
      "SELECT DISTINCT ?x ?y\n",
      "WHERE {\n",
      "FILTER (?x != ns:m.0443c)\n",
      "FILTER (!isLiteral(?x) OR lang(?x) = '' OR langMatches(lang(?x), 'en'))\n",
      "ns:m.0443c ns:people.person.education ?y .\n",
      "?y ns:education.education.institution ?x .\n",
      "?x ns:education.educational_institution.mascot ns:m.02_fkk . \n",
      "}\n",
      "\n",
      "The nation with National Anthem of Colombia as its national anthem is located in which geographic regions?\n",
      "PREFIX ns: <http://rdf.freebase.com/ns/>\n",
      "SELECT DISTINCT ?x ?c ?k\n",
      "WHERE {\n",
      "FILTER (?x != ?c)\n",
      "FILTER (!isLiteral(?x) OR lang(?x) = '' OR langMatches(lang(?x), 'en'))\n",
      "?c ns:location.country.national_anthem ?k .\n",
      "?k ns:government.national_anthem_of_a_country.anthem ns:m.01prgy . \n",
      "?c ns:location.location.containedby ?x .\n",
      "}\n",
      "\n",
      "\n",
      "What language is spoken in the location that appointed Margrethe II of Denmark to a governmental position?\n",
      "PREFIX ns: <http://rdf.freebase.com/ns/>\n",
      "SELECT DISTINCT ?x ?c ?k\n",
      "WHERE {\n",
      "FILTER (?x != ?c)\n",
      "FILTER (!isLiteral(?x) OR lang(?x) = '' OR langMatches(lang(?x), 'en'))\n",
      "?c ns:government.governmental_jurisdiction.governing_officials ?k .\n",
      "?k ns:government.government_position_held.appointed_by ns:m.0g2kv . \n",
      "?c ns:location.country.languages_spoken ?x .\n",
      "}\n",
      "\n",
      "\n",
      "What pro athlete married to Jessica Simpson started his career in 2000?\n",
      "PREFIX ns: <http://rdf.freebase.com/ns/>\n",
      "SELECT DISTINCT ?x ?y\n",
      "WHERE {\n",
      "FILTER (?x != ns:m.0c7xjb)\n",
      "FILTER (!isLiteral(?x) OR lang(?x) = '' OR langMatches(lang(?x), 'en'))\n",
      "ns:m.0c7xjb ns:people.person.spouse_s ?y .\n",
      "?y ns:people.marriage.spouse ?x .\n",
      "?y ns:people.marriage.type_of_union ns:m.04ztj .\n",
      "?x ns:sports.pro_athlete.career_start \"2000\"^^xsd:dateTime . \n",
      "}\n",
      "\n",
      "What sports team owned by George  Steinbrenner did Deion Sanders play baseball for?\n",
      "PREFIX ns: <http://rdf.freebase.com/ns/>\n",
      "SELECT DISTINCT ?x ?y\n",
      "WHERE {\n",
      "FILTER (?x != ns:m.03n69x)\n",
      "FILTER (!isLiteral(?x) OR lang(?x) = '' OR langMatches(lang(?x), 'en'))\n",
      "ns:m.03n69x ns:sports.pro_athlete.teams ?y .\n",
      "?y ns:sports.sports_team_roster.team ?x .\n",
      "?x ns:sports.sports_team.sport ns:m.018jz .\n",
      "?x ns:sports.professional_sports_team.owner_s ns:m.01q5t3 . \n",
      "}\n",
      "\n",
      "Which film had no TV series based on it and starred Taylor Lautner?\n",
      "PREFIX ns: <http://rdf.freebase.com/ns/>\n",
      "SELECT DISTINCT ?x ?y\n",
      "WHERE {\n",
      "FILTER (?x != ns:m.07ldhs)\n",
      "FILTER (!isLiteral(?x) OR lang(?x) = '' OR langMatches(lang(?x), 'en'))\n",
      "ns:m.07ldhs ns:film.actor.film ?y .\n",
      "?y ns:film.performance.film ?x .\n",
      "?x ns:tv.tv_series_episode.season_number \"0\" . \n",
      "}\n",
      "\n",
      "When Andrew Jackson was president and held his governmental position from 1795, who was the Secretary of State?\n",
      "PREFIX ns: <http://rdf.freebase.com/ns/>\n",
      "SELECT DISTINCT ?x ?y ?c\n",
      "WHERE {\n",
      "FILTER (?x != ns:m.0rlz)\n",
      "FILTER (!isLiteral(?x) OR lang(?x) = '' OR langMatches(lang(?x), 'en'))\n",
      "ns:m.0rlz ns:government.political_appointer.appointees ?y .\n",
      "?y ns:government.government_position_held.office_holder ?x .\n",
      "?y ns:government.government_position_held.basic_title ns:m.0789n .\n",
      "?x ns:government.politician.government_positions_held ?c .\n",
      "?c ns:government.government_position_held.from \"1795\"^^xsd:dateTime . \n",
      "}\n",
      "\n",
      "What is the home town of the NFL team owned by Daniel Snyder?\n",
      "PREFIX ns: <http://rdf.freebase.com/ns/>\n",
      "SELECT DISTINCT ?x ?c\n",
      "WHERE {\n",
      "FILTER (?x != ?c)\n",
      "FILTER (!isLiteral(?x) OR lang(?x) = '' OR langMatches(lang(?x), 'en'))\n",
      "?c ns:sports.professional_sports_team.owner_s ns:m.04pn7c . \n",
      "?c ns:sports.sports_team.location ?x .\n",
      "}\n",
      "\n",
      "\n",
      "In the film with the character named Tyler Crowley, who played Jacob Black?\n",
      "PREFIX ns: <http://rdf.freebase.com/ns/>\n",
      "SELECT DISTINCT ?x ?c ?y ?k\n",
      "WHERE {\n",
      "FILTER (?x != ?c)\n",
      "FILTER (!isLiteral(?x) OR lang(?x) = '' OR langMatches(lang(?x), 'en'))\n",
      "?c ns:film.film.starring ?k .\n",
      "?k ns:film.performance.character ns:m.05m1x3_ . \n",
      "?c ns:film.film.starring ?y .\n",
      "?y ns:film.performance.actor ?x .\n",
      "?y ns:film.performance.character ns:m.02qd_td .\n",
      "}\n",
      "\n",
      "\n",
      "What European country bordering Romania also contains Chernivtsi Oblast?\n",
      "PREFIX ns: <http://rdf.freebase.com/ns/>\n",
      "SELECT DISTINCT ?x ?y\n",
      "WHERE {\n",
      "FILTER (?x != ns:m.06c1y)\n",
      "FILTER (!isLiteral(?x) OR lang(?x) = '' OR langMatches(lang(?x), 'en'))\n",
      "ns:m.06c1y ns:location.location.adjoin_s ?y .\n",
      "?y ns:location.adjoining_relationship.adjoins ?x .\n",
      "?x ns:common.topic.notable_types ns:m.01mp .\n",
      "?x ns:location.country.administrative_divisions ns:m.01_07_ . \n",
      "}\n",
      "\n",
      "What country did Osama bin Laden live in that uses Afghan Afghani?\n",
      "PREFIX ns: <http://rdf.freebase.com/ns/>\n",
      "SELECT DISTINCT ?x ?y\n",
      "WHERE {\n",
      "FILTER (?x != ns:m.05mg9)\n",
      "FILTER (!isLiteral(?x) OR lang(?x) = '' OR langMatches(lang(?x), 'en'))\n",
      "ns:m.05mg9 ns:people.person.places_lived ?y .\n",
      "?y ns:people.place_lived.location ?x .\n",
      "?x ns:location.country.currency_used ns:m.019vxc . \n",
      "}\n",
      "\n",
      "What organization is owned by Nestle Belarusia?\n",
      "PREFIX ns: <http://rdf.freebase.com/ns/>\n",
      "SELECT DISTINCT ?x ?c ?k\n",
      "WHERE {\n",
      "FILTER (?x != ?c)\n",
      "FILTER (!isLiteral(?x) OR lang(?x) = '' OR langMatches(lang(?x), 'en'))\n",
      "?c ns:organization.organization.child ?k .\n",
      "?k ns:organization.organization_relationship.child ns:m.075sdjl . \n",
      "?c ns:business.business_operation.industry ?x .\n",
      "}\n",
      "\n",
      "\n",
      "What country has Yardymli District in it?\n",
      "PREFIX ns: <http://rdf.freebase.com/ns/>\n",
      "SELECT DISTINCT ?x ?c\n",
      "WHERE {\n",
      "FILTER (?x != ?c)\n",
      "FILTER (!isLiteral(?x) OR lang(?x) = '' OR langMatches(lang(?x), 'en'))\n",
      "?c ns:location.country.administrative_divisions ns:m.055njn . \n",
      "?c ns:base.locations.countries.continent ?x .\n",
      "}\n",
      "\n",
      "\n",
      "Where is the Oral Fixation Tour artist from?\n",
      "PREFIX ns: <http://rdf.freebase.com/ns/>\n",
      "SELECT DISTINCT ?x ?c\n",
      "WHERE {\n",
      "FILTER (?x != ?c)\n",
      "FILTER (!isLiteral(?x) OR lang(?x) = '' OR langMatches(lang(?x), 'en'))\n",
      "?c ns:music.artist.concert_tours ns:m.0g2n_6 . \n",
      "?c ns:music.artist.origin ?x .\n",
      "}\n",
      "\n",
      "\n",
      "Which nation that has Azua Province within its borders is a place where Hurricane Irene landed?\n",
      "PREFIX ns: <http://rdf.freebase.com/ns/>\n",
      "SELECT DISTINCT ?x \n",
      "WHERE {\n",
      "FILTER (?x != ns:m.02p70bg)\n",
      "FILTER (!isLiteral(?x) OR lang(?x) = '' OR langMatches(lang(?x), 'en'))\n",
      "ns:m.02p70bg ns:meteorology.tropical_cyclone.affected_areas ?x .\n",
      "?x ns:location.country.administrative_divisions ns:m.028cgkl . \n",
      "}\n",
      "\n",
      "What type of currency is used where the El Seibo Province is located?\n",
      "PREFIX ns: <http://rdf.freebase.com/ns/>\n",
      "SELECT DISTINCT ?x ?c\n",
      "WHERE {\n",
      "FILTER (?x != ?c)\n",
      "FILTER (!isLiteral(?x) OR lang(?x) = '' OR langMatches(lang(?x), 'en'))\n",
      "?c ns:location.country.administrative_divisions ns:m.03xplf . \n",
      "?c ns:location.country.currency_used ?x .\n",
      "}\n",
      "\n",
      "\n",
      "What are the official bird and flower of the state whose capital is Lansing?\n",
      "#MANUAL SPARQL\n",
      "PREFIX ns: <http://rdf.freebase.com/ns/>\n",
      "SELECT DISTINCT  ?x ?c ?y\n",
      "WHERE {\n",
      "?c ns:location.us_state.capital ns:m.04pry . \n",
      "?c ns:government.governmental_jurisdiction.official_symbols ?y . # Michigan\n",
      "  ?y ns:location.location_symbol_relationship.symbol ?x .\n",
      "  ?y ns:location.location_symbol_relationship.Kind_of_symbol ?k .\n",
      "\n",
      "  FILTER (?k = ns:m.04627hw || ?k = ns:m.04627gn)  # State Bird & State Flower\n",
      "}\n",
      "\n",
      "What is the nationalilty of the artist who had a concert tour named Tour Anfibio's?\n",
      "PREFIX ns: <http://rdf.freebase.com/ns/>\n",
      "SELECT DISTINCT ?x ?c\n",
      "WHERE {\n",
      "FILTER (?x != ?c)\n",
      "FILTER (!isLiteral(?x) OR lang(?x) = '' OR langMatches(lang(?x), 'en'))\n",
      "?c ns:music.artist.concert_tours ns:m.09ncdd . \n",
      "?c ns:people.person.nationality ?x .\n",
      "}\n",
      "\n",
      "\n",
      "Which bordering country of Spain that has the wine regions that produces Lancers wine?\n",
      "PREFIX ns: <http://rdf.freebase.com/ns/>\n",
      "SELECT DISTINCT ?x ?y\n",
      "WHERE {\n",
      "FILTER (?x != ns:m.06mkj)\n",
      "FILTER (!isLiteral(?x) OR lang(?x) = '' OR langMatches(lang(?x), 'en'))\n",
      "ns:m.06mkj ns:location.location.adjoin_s ?y .\n",
      "?y ns:location.adjoining_relationship.adjoins ?x .\n",
      "?x ns:common.topic.notable_types ns:m.01mp .\n",
      "?x ns:wine.wine_region.wine_styles ns:m.0c4r71 . \n",
      "}\n",
      "\n",
      "What is the state capital where the major export is Apple trees?\n",
      "PREFIX ns: <http://rdf.freebase.com/ns/>\n",
      "SELECT DISTINCT ?x ?c ?k\n",
      "WHERE {\n",
      "FILTER (?x != ?c)\n",
      "FILTER (!isLiteral(?x) OR lang(?x) = '' OR langMatches(lang(?x), 'en'))\n",
      "?c ns:location.statistical_region.major_exports ?k .\n",
      "?k ns:location.imports_exports_by_industry.industry ns:m.014j1m . \n",
      "?c ns:base.aareas.schema.administrative_area.capital ?x .\n",
      "}\n",
      "\n",
      "\n",
      "The country that has the national anthem Shche ne vmerla Ukraina uses what kind of money?\n",
      "PREFIX ns: <http://rdf.freebase.com/ns/>\n",
      "SELECT DISTINCT ?x ?c ?k\n",
      "WHERE {\n",
      "FILTER (?x != ?c)\n",
      "FILTER (!isLiteral(?x) OR lang(?x) = '' OR langMatches(lang(?x), 'en'))\n",
      "?c ns:location.country.national_anthem ?k .\n",
      "?k ns:government.national_anthem_of_a_country.anthem ns:m.01kvjf . \n",
      "?c ns:location.country.currency_used ?x .\n",
      "}\n",
      "\n",
      "\n",
      "The nation where Michoacan is located uses which form of currency?\n",
      "PREFIX ns: <http://rdf.freebase.com/ns/>\n",
      "SELECT DISTINCT ?x ?c\n",
      "WHERE {\n",
      "FILTER (?x != ?c)\n",
      "FILTER (!isLiteral(?x) OR lang(?x) = '' OR langMatches(lang(?x), 'en'))\n",
      "?c ns:location.country.administrative_divisions ns:m.01btry . \n",
      "?c ns:location.country.currency_used ?x .\n",
      "}\n",
      "\n",
      "\n",
      "What type of government is run in the country with the anthem titled \"God Defend New Zealand\"?\n",
      "PREFIX ns: <http://rdf.freebase.com/ns/>\n",
      "SELECT DISTINCT ?x ?c ?k\n",
      "WHERE {\n",
      "FILTER (?x != ?c)\n",
      "FILTER (!isLiteral(?x) OR lang(?x) = '' OR langMatches(lang(?x), 'en'))\n",
      "?c ns:location.country.national_anthem ?k .\n",
      "?k ns:government.national_anthem_of_a_country.anthem ns:m.03b03 . \n",
      "?c ns:location.country.form_of_government ?x .\n",
      "}\n",
      "\n",
      "\n",
      "What college was attended by the famous alumni of Luitpold Gymnasium ?\n",
      "PREFIX ns: <http://rdf.freebase.com/ns/>\n",
      "SELECT DISTINCT ?x ?c ?y ?k\n",
      "WHERE {\n",
      "FILTER (?x != ?c)\n",
      "FILTER (!isLiteral(?x) OR lang(?x) = '' OR langMatches(lang(?x), 'en'))\n",
      "?c ns:people.person.education ?k .\n",
      "?k ns:education.education.institution ns:m.07yfzw . \n",
      "?c ns:people.person.education ?y .\n",
      "?y ns:education.education.institution ?x .\n",
      "?x ns:common.topic.notable_types ns:m.01y2hnl .\n",
      "}\n",
      "\n",
      "\n",
      "What is the type of government where the national anthem is \"Tien Quan Ca\"?\n",
      "PREFIX ns: <http://rdf.freebase.com/ns/>\n",
      "SELECT DISTINCT ?x ?c ?k\n",
      "WHERE {\n",
      "FILTER (?x != ?c)\n",
      "FILTER (!isLiteral(?x) OR lang(?x) = '' OR langMatches(lang(?x), 'en'))\n",
      "?c ns:location.country.national_anthem ?k .\n",
      "?k ns:government.national_anthem_of_a_country.anthem ns:m.01kvf8 . \n",
      "?c ns:location.country.form_of_government ?x .\n",
      "}\n",
      "\n",
      "\n",
      "What country close to Russia has a religious organization named Ukrainian Greek Catholic Church?\n",
      "PREFIX ns: <http://rdf.freebase.com/ns/>\n",
      "SELECT DISTINCT ?x ?y ?c\n",
      "WHERE {\n",
      "FILTER (?x != ns:m.06bnz)\n",
      "FILTER (!isLiteral(?x) OR lang(?x) = '' OR langMatches(lang(?x), 'en'))\n",
      "ns:m.06bnz ns:location.location.adjoin_s ?y .\n",
      "?y ns:location.adjoining_relationship.adjoins ?x .\n",
      "?x ns:common.topic.notable_types ns:m.01mp .\n",
      "?x ns:religion.religious_leadership_jurisdiction.leader ?c .\n",
      "?c ns:religion.religious_organization_leadership.organization ns:m.02cd38 . \n",
      "}\n",
      "\n",
      "When did the sports team whose mascot is Mrs. Met most recently win the World Series?\n",
      "PREFIX ns: <http://rdf.freebase.com/ns/>\n",
      "SELECT DISTINCT ?x ?c\n",
      "WHERE {\n",
      "FILTER (?x != ?c)\n",
      "FILTER (!isLiteral(?x) OR lang(?x) = '' OR langMatches(lang(?x), 'en'))\n",
      "?c ns:sports.sports_team.team_mascot ns:m.0w7lzvh . \n",
      "?c ns:sports.sports_team.championships ?x .\n",
      "?x ns:time.event.end_date ?sk0 .\n",
      "}\n",
      "ORDER BY DESC(xsd:datetime(?sk0))\n",
      "LIMIT 1\n",
      "\n",
      "\n",
      "Michelle D. Johnson is a leader of the organization established in what state?\n",
      "PREFIX ns: <http://rdf.freebase.com/ns/>\n",
      "SELECT DISTINCT ?x ?c ?y ?k\n",
      "WHERE {\n",
      "FILTER (?x != ?c)\n",
      "FILTER (!isLiteral(?x) OR lang(?x) = '' OR langMatches(lang(?x), 'en'))\n",
      "?c ns:organization.organization.leadership ?k .\n",
      "?k ns:organization.leadership.person ns:m.0c56jn . \n",
      "?c ns:organization.organization.headquarters ?y .\n",
      "?y ns:location.mailing_address.state_province_region ?x .\n",
      "}\n",
      "\n",
      "\n",
      "What is the official language of the country that uses Renminbi as its currency?\n",
      "PREFIX ns: <http://rdf.freebase.com/ns/>\n",
      "SELECT DISTINCT ?x ?c\n",
      "WHERE {\n",
      "FILTER (?x != ?c)\n",
      "FILTER (!isLiteral(?x) OR lang(?x) = '' OR langMatches(lang(?x), 'en'))\n",
      "?c ns:location.country.currency_used ns:m.0hn4_ . \n",
      "?c ns:location.country.official_language ?x .\n",
      "}\n",
      "\n",
      "\n",
      "What is the religion of the people where Benjamin Netanyahu is in a government position?\n",
      "PREFIX ns: <http://rdf.freebase.com/ns/>\n",
      "SELECT DISTINCT ?x ?c ?y ?k\n",
      "WHERE {\n",
      "FILTER (?x != ?c)\n",
      "FILTER (!isLiteral(?x) OR lang(?x) = '' OR langMatches(lang(?x), 'en'))\n",
      "?c ns:government.governmental_jurisdiction.governing_officials ?k .\n",
      "?k ns:government.government_position_held.appointed_by ns:m.0fm2h . \n",
      "?c ns:location.statistical_region.religions ?y .\n",
      "?y ns:location.religion_percentage.religion ?x .\n",
      "}\n",
      "\n",
      "\n",
      "What North American country located within Eastern Time Zone includes the city of Victoria, British Columbia?\n",
      "PREFIX ns: <http://rdf.freebase.com/ns/>\n",
      "SELECT DISTINCT ?x \n",
      "WHERE {\n",
      "FILTER (?x != ns:m.07ypt)\n",
      "FILTER (!isLiteral(?x) OR lang(?x) = '' OR langMatches(lang(?x), 'en'))\n",
      "ns:m.07ypt ns:location.location.containedby ?x .\n",
      "?x ns:location.location.time_zones ns:m.02hcv8 . \n",
      "}\n",
      "\n",
      "What religion in Australia has a sacred site named Kishinagar?\n",
      "PREFIX ns: <http://rdf.freebase.com/ns/>\n",
      "SELECT DISTINCT ?x ?y\n",
      "WHERE {\n",
      "FILTER (?x != ns:m.0chghy)\n",
      "FILTER (!isLiteral(?x) OR lang(?x) = '' OR langMatches(lang(?x), 'en'))\n",
      "ns:m.0chghy ns:location.statistical_region.religions ?y .\n",
      "?y ns:location.religion_percentage.religion ?x .\n",
      "?x ns:religion.religion.sacred_sites ns:m.01h0lq . \n",
      "}\n",
      "\n",
      "What NCAA football team won the 1993 College World Series championship?\n",
      "PREFIX ns: <http://rdf.freebase.com/ns/>\n",
      "SELECT DISTINCT ?x ?y\n",
      "WHERE {\n",
      "FILTER (?x != ns:m.0gh43)\n",
      "FILTER (!isLiteral(?x) OR lang(?x) = '' OR langMatches(lang(?x), 'en'))\n",
      "ns:m.0gh43 ns:sports.sports_league.teams ?y .\n",
      "?y ns:sports.sports_league_participation.team ?x .\n",
      "?x ns:common.topic.notable_types ns:m.01xljyt .\n",
      "?x ns:sports.sports_team.championships ns:m.0287wy5 . \n",
      "}\n",
      "\n",
      "Which prominent Russia religion has Mecca as a sacred location?\n",
      "PREFIX ns: <http://rdf.freebase.com/ns/>\n",
      "SELECT DISTINCT ?x ?y\n",
      "WHERE {\n",
      "FILTER (?x != ns:m.06bnz)\n",
      "FILTER (!isLiteral(?x) OR lang(?x) = '' OR langMatches(lang(?x), 'en'))\n",
      "ns:m.06bnz ns:location.statistical_region.religions ?y .\n",
      "?y ns:location.religion_percentage.religion ?x .\n",
      "?x ns:religion.religion.sacred_sites ns:m.058wp . \n",
      "}\n",
      "\n",
      "In which location, does Bradley Walsh live, where the location time zone, is in the Pacific Time Zone?\n",
      "PREFIX ns: <http://rdf.freebase.com/ns/>\n",
      "SELECT DISTINCT ?x ?y\n",
      "WHERE {\n",
      "FILTER (?x != ns:m.05h48b)\n",
      "FILTER (!isLiteral(?x) OR lang(?x) = '' OR langMatches(lang(?x), 'en'))\n",
      "ns:m.05h48b ns:people.person.places_lived ?y .\n",
      "?y ns:people.place_lived.location ?x .\n",
      "FILTER(NOT EXISTS {?y ns:people.place_lived.end_date ?sk0} || \n",
      "EXISTS {?y ns:people.place_lived.end_date ?sk1 . \n",
      "FILTER(xsd:datetime(?sk1) >= \"2015-08-10\"^^xsd:dateTime) })\n",
      "FILTER(NOT EXISTS {?y ns:people.place_lived.start_date ?sk2} || \n",
      "EXISTS {?y ns:people.place_lived.start_date ?sk3 . \n",
      "FILTER(xsd:datetime(?sk3) <= \"2015-08-10\"^^xsd:dateTime) })\n",
      "?x ns:location.location.time_zones ns:m.02lcqs . \n",
      "}\n",
      "\n",
      "Where did Obama supposedly go to school that has the newspaper the Columbia Daily Spectator?\n",
      "PREFIX ns: <http://rdf.freebase.com/ns/>\n",
      "SELECT DISTINCT ?x ?y\n",
      "WHERE {\n",
      "FILTER (?x != ns:m.02mjmr)\n",
      "FILTER (!isLiteral(?x) OR lang(?x) = '' OR langMatches(lang(?x), 'en'))\n",
      "ns:m.02mjmr ns:people.person.education ?y .\n",
      "?y ns:education.education.institution ?x .\n",
      "?x ns:education.educational_institution.newspaper ns:m.0b6q54 . \n",
      "}\n",
      "\n",
      "The country that contains Lopburi Province would require me to take what type of currency?\n",
      "PREFIX ns: <http://rdf.freebase.com/ns/>\n",
      "SELECT DISTINCT ?x ?c\n",
      "WHERE {\n",
      "FILTER (?x != ?c)\n",
      "FILTER (!isLiteral(?x) OR lang(?x) = '' OR langMatches(lang(?x), 'en'))\n",
      "?c ns:location.country.administrative_divisions ns:m.01kjwm . \n",
      "?c ns:location.country.currency_used ?x .\n",
      "}\n",
      "\n",
      "\n",
      "What state is the school where Stephen G. Haines is a grad student in?\n",
      "PREFIX ns: <http://rdf.freebase.com/ns/>\n",
      "SELECT DISTINCT ?x ?c ?y ?k\n",
      "WHERE {\n",
      "FILTER (?x != ?c)\n",
      "FILTER (!isLiteral(?x) OR lang(?x) = '' OR langMatches(lang(?x), 'en'))\n",
      "?c ns:education.educational_institution.students_graduates ?k .\n",
      "?k ns:education.education.student ns:m.06619nf . \n",
      "?c ns:organization.organization.headquarters ?y .\n",
      "?y ns:location.mailing_address.state_province_region ?x .\n",
      "}\n",
      "\n",
      "\n",
      "What Central European Time Zone countries are member of the Security Council?\n",
      "PREFIX ns: <http://rdf.freebase.com/ns/>\n",
      "SELECT DISTINCT ?x ?y\n",
      "WHERE {\n",
      "FILTER (?x != ns:m.07vnr)\n",
      "FILTER (!isLiteral(?x) OR lang(?x) = '' OR langMatches(lang(?x), 'en'))\n",
      "ns:m.07vnr ns:base.unitednations.united_nations_body.members ?y .\n",
      "?y ns:base.unitednations.united_nations_body_membership.member ?x .\n",
      "FILTER(NOT EXISTS {?y ns:base.unitednations.united_nations_body_membership.from ?sk0} || \n",
      "EXISTS {?y ns:base.unitednations.united_nations_body_membership.from ?sk1 . \n",
      "FILTER(xsd:datetime(?sk1) <= \"2015-08-10\"^^xsd:dateTime) })\n",
      "FILTER(NOT EXISTS {?y ns:base.unitednations.united_nations_body_membership.to ?sk2} || \n",
      "EXISTS {?y ns:base.unitednations.united_nations_body_membership.to ?sk3 . \n",
      "FILTER(xsd:datetime(?sk3) >= \"2015-08-10\"^^xsd:dateTime) })\n",
      "?x ns:location.location.time_zones ns:m.02llzg . \n",
      "}\n",
      "\n",
      "What country that Queen Victoria ruled that appointed George IV of the UK to a government position?\n",
      "PREFIX ns: <http://rdf.freebase.com/ns/>\n",
      "SELECT DISTINCT ?x ?y ?c\n",
      "WHERE {\n",
      "FILTER (?x != ns:m.0cw10)\n",
      "FILTER (!isLiteral(?x) OR lang(?x) = '' OR langMatches(lang(?x), 'en'))\n",
      "ns:m.0cw10 ns:government.political_appointer.appointees ?y .\n",
      "?y ns:government.government_position_held.jurisdiction_of_office ?x .\n",
      "?x ns:government.governmental_jurisdiction.governing_officials ?c .\n",
      "?c ns:government.government_position_held.appointed_by ns:m.0b0sx . \n",
      "}\n",
      "\n",
      "What is the religion belief of the person who once lived in Qunu, Eastern Cape?\n",
      "PREFIX ns: <http://rdf.freebase.com/ns/>\n",
      "SELECT DISTINCT ?x ?c ?k\n",
      "WHERE {\n",
      "FILTER (?x != ?c)\n",
      "FILTER (!isLiteral(?x) OR lang(?x) = '' OR langMatches(lang(?x), 'en'))\n",
      "?c ns:people.person.places_lived ?k .\n",
      "?k ns:people.place_lived.location ns:m.0b3jmh . \n",
      "?c ns:people.person.religion ?x .\n",
      "}\n",
      "\n",
      "\n",
      "What is the name of the language where The National Anthem of Russia is used?\n",
      "PREFIX ns: <http://rdf.freebase.com/ns/>\n",
      "SELECT DISTINCT ?x ?c ?k\n",
      "WHERE {\n",
      "FILTER (?x != ?c)\n",
      "FILTER (!isLiteral(?x) OR lang(?x) = '' OR langMatches(lang(?x), 'en'))\n",
      "?c ns:location.country.national_anthem ?k .\n",
      "?k ns:government.national_anthem_of_a_country.anthem ns:m.01ptxd . \n",
      "?c ns:location.country.official_language ?x .\n",
      "}\n",
      "\n",
      "\n",
      "Lyon is a city/town in what country surrounding Spain?\n",
      "PREFIX ns: <http://rdf.freebase.com/ns/>\n",
      "SELECT DISTINCT ?x ?y ?c\n",
      "WHERE {\n",
      "FILTER (?x != ns:m.06mkj)\n",
      "FILTER (!isLiteral(?x) OR lang(?x) = '' OR langMatches(lang(?x), 'en'))\n",
      "ns:m.06mkj ns:location.location.adjoin_s ?y .\n",
      "?y ns:location.adjoining_relationship.adjoins ?x .\n",
      "?x ns:common.topic.notable_types ns:m.01mp .\n",
      "?x ns:location.location.contains ?c .\n",
      "?c ns:location.mailing_address.citytown ns:m.0dprg . \n",
      "}\n",
      "\n",
      "Who is Serena Williams sports team quarterback?\n",
      "PREFIX ns: <http://rdf.freebase.com/ns/>\n",
      "SELECT DISTINCT ?x ?c ?y\n",
      "WHERE {\n",
      "FILTER (?x != ?c)\n",
      "FILTER (!isLiteral(?x) OR lang(?x) = '' OR langMatches(lang(?x), 'en'))\n",
      "?c ns:sports.professional_sports_team.owner_s ns:m.015z4j . \n",
      "?c ns:sports.sports_team.roster ?y .\n",
      "?y ns:sports.sports_team_roster.player ?x .\n",
      "?y ns:sports.sports_team_roster.position ns:m.06b1q .\n",
      "FILTER(NOT EXISTS {?y ns:sports.sports_team_roster.from ?sk0} || \n",
      "EXISTS {?y ns:sports.sports_team_roster.from ?sk1 . \n",
      "FILTER(xsd:datetime(?sk1) <= \"2015-08-10\"^^xsd:dateTime) })\n",
      "FILTER(NOT EXISTS {?y ns:sports.sports_team_roster.to ?sk2} || \n",
      "EXISTS {?y ns:sports.sports_team_roster.to ?sk3 . \n",
      "FILTER(xsd:datetime(?sk3) >= \"2015-08-10\"^^xsd:dateTime) })\n",
      "}\n",
      "\n",
      "\n",
      "The country that includes Ulsan uses what system of government?\n",
      "PREFIX ns: <http://rdf.freebase.com/ns/>\n",
      "SELECT DISTINCT ?x ?c\n",
      "WHERE {\n",
      "FILTER (?x != ?c)\n",
      "FILTER (!isLiteral(?x) OR lang(?x) = '' OR langMatches(lang(?x), 'en'))\n",
      "?c ns:location.country.administrative_divisions ns:m.01vsdq . \n",
      "?c ns:location.country.form_of_government ?x .\n",
      "}\n",
      "\n",
      "\n",
      "Lyon is a city/town in what Western European country?\n",
      "PREFIX ns: <http://rdf.freebase.com/ns/>\n",
      "SELECT DISTINCT ?x ?c\n",
      "WHERE {\n",
      "FILTER (?x != ns:m.0852h)\n",
      "FILTER (!isLiteral(?x) OR lang(?x) = '' OR langMatches(lang(?x), 'en'))\n",
      "ns:m.0852h ns:location.location.contains ?x .\n",
      "?x ns:base.biblioness.bibs_location.loc_type ?sk0 .\n",
      "FILTER (str(?sk0) = \"Country\")\n",
      "?x ns:location.location.contains ?c .\n",
      "?c ns:location.mailing_address.citytown ns:m.0dprg . \n",
      "}\n",
      "\n",
      "Who was the Virginia Senator in 2013 that held his government position from 5-1-1987?\n",
      "PREFIX ns: <http://rdf.freebase.com/ns/>\n",
      "SELECT DISTINCT ?x ?y ?c\n",
      "WHERE {\n",
      "FILTER (?x != ns:m.07z1m)\n",
      "FILTER (!isLiteral(?x) OR lang(?x) = '' OR langMatches(lang(?x), 'en'))\n",
      "ns:m.07z1m ns:government.political_district.representatives ?y .\n",
      "?y ns:government.government_position_held.office_holder ?x .\n",
      "?y ns:government.government_position_held.governmental_body ns:m.07t58 .\n",
      "FILTER(NOT EXISTS {?y ns:government.government_position_held.from ?sk0} || \n",
      "EXISTS {?y ns:government.government_position_held.from ?sk1 . \n",
      "FILTER(xsd:datetime(?sk1) <= \"2013-12-31\"^^xsd:dateTime) })\n",
      "FILTER(NOT EXISTS {?y ns:government.government_position_held.to ?sk2} || \n",
      "EXISTS {?y ns:government.government_position_held.to ?sk3 . \n",
      "FILTER(xsd:datetime(?sk3) >= \"2013-01-01\"^^xsd:dateTime) })\n",
      "?x ns:government.politician.government_positions_held ?c .\n",
      "?c ns:government.government_position_held.from \"1987-05-01\"^^xsd:dateTime . \n",
      "}\n",
      "\n",
      "What country includes the GIlbert Islands and imports good from Japan?\n",
      "PREFIX ns: <http://rdf.freebase.com/ns/>\n",
      "SELECT DISTINCT ?x ?y\n",
      "WHERE {\n",
      "FILTER (?x != ns:m.03_3d)\n",
      "FILTER (!isLiteral(?x) OR lang(?x) = '' OR langMatches(lang(?x), 'en'))\n",
      "ns:m.03_3d ns:location.statistical_region.places_imported_from ?y .\n",
      "?y ns:location.imports_and_exports.imported_from ?x .\n",
      "?x ns:location.country.administrative_divisions ns:m.0101msg_ . \n",
      "}\n",
      "\n",
      "Where in the Eastern Time Zone does Jeb Bush live?\n",
      "PREFIX ns: <http://rdf.freebase.com/ns/>\n",
      "SELECT DISTINCT ?x ?y\n",
      "WHERE {\n",
      "FILTER (?x != ns:m.019x9z)\n",
      "FILTER (!isLiteral(?x) OR lang(?x) = '' OR langMatches(lang(?x), 'en'))\n",
      "ns:m.019x9z ns:people.person.places_lived ?y .\n",
      "?y ns:people.place_lived.location ?x .\n",
      "FILTER(NOT EXISTS {?y ns:people.place_lived.end_date ?sk0} || \n",
      "EXISTS {?y ns:people.place_lived.end_date ?sk1 . \n",
      "FILTER(xsd:datetime(?sk1) >= \"2015-08-10\"^^xsd:dateTime) })\n",
      "FILTER(NOT EXISTS {?y ns:people.place_lived.start_date ?sk2} || \n",
      "EXISTS {?y ns:people.place_lived.start_date ?sk3 . \n",
      "FILTER(xsd:datetime(?sk3) <= \"2015-08-10\"^^xsd:dateTime) })\n",
      "?x ns:location.location.time_zones ns:m.02hcv8 . \n",
      "}\n",
      "\n",
      "The Nassau Weekly is the newspaper of which educational institution F Scott Fitzgerald attended?\n",
      "PREFIX ns: <http://rdf.freebase.com/ns/>\n",
      "SELECT DISTINCT ?x ?y\n",
      "WHERE {\n",
      "FILTER (?x != ns:m.02zjd)\n",
      "FILTER (!isLiteral(?x) OR lang(?x) = '' OR langMatches(lang(?x), 'en'))\n",
      "ns:m.02zjd ns:people.person.education ?y .\n",
      "?y ns:education.education.institution ?x .\n",
      "?x ns:education.educational_institution.newspaper ns:m.08zwhp . \n",
      "}\n",
      "\n",
      "What years did the team who won the 1995 championship win the World Series?\n",
      "PREFIX ns: <http://rdf.freebase.com/ns/>\n",
      "SELECT DISTINCT ?x ?c\n",
      "WHERE {\n",
      "FILTER (?x != ?c)\n",
      "FILTER (!isLiteral(?x) OR lang(?x) = '' OR langMatches(lang(?x), 'en'))\n",
      "?c ns:sports.sports_team.championships ns:m.04j712 . \n",
      "?c ns:sports.sports_team.championships ?x .\n",
      "}\n",
      "\n",
      "\n",
      "Who is the current coach of the sports team owned by James D. Stern?\n",
      "PREFIX ns: <http://rdf.freebase.com/ns/>\n",
      "SELECT DISTINCT ?x ?c\n",
      "WHERE {\n",
      "FILTER (?x != ?c)\n",
      "FILTER (!isLiteral(?x) OR lang(?x) = '' OR langMatches(lang(?x), 'en'))\n",
      "?c ns:sports.professional_sports_team.owner_s ns:m.0ggb8tz . \n",
      "?c ns:basketball.basketball_team.head_coach ?x .\n",
      "}\n",
      "\n",
      "\n",
      "Which division did the 2007 AFC champions play in?\n",
      "PREFIX ns: <http://rdf.freebase.com/ns/>\n",
      "SELECT DISTINCT ?x ?c\n",
      "WHERE {\n",
      "FILTER (?x != ?c)\n",
      "FILTER (!isLiteral(?x) OR lang(?x) = '' OR langMatches(lang(?x), 'en'))\n",
      "?c ns:sports.sports_team.championships ns:m.0_gt_mg . \n",
      "?c ns:american_football.football_team.division ?x .\n",
      "}\n",
      "\n",
      "\n",
      "What style of art did the person who majored in Perspective do?\n",
      "PREFIX ns: <http://rdf.freebase.com/ns/>\n",
      "SELECT DISTINCT ?x ?c ?k\n",
      "WHERE {\n",
      "FILTER (?x != ?c)\n",
      "FILTER (!isLiteral(?x) OR lang(?x) = '' OR langMatches(lang(?x), 'en'))\n",
      "?c ns:people.person.education ?k .\n",
      "?k ns:education.education.major_field_of_study ns:m.021hz5 . \n",
      "?c ns:visual_art.visual_artist.associated_periods_or_movements ?x .\n",
      "}\n",
      "\n",
      "\n",
      "88\n"
     ]
    },
    {
     "name": "stderr",
     "output_type": "stream",
     "text": [
      "\n"
     ]
    }
   ],
   "source": [
    "wrong = 0\n",
    "for q in tqdm(all_path[10:100]):\n",
    "    print(q['question'])\n",
    "    print(q['sparql'])\n",
    "    print()\n",
    "#     print(q['ID'])\n",
    "#     print('topic', q['entities'])\n",
    "#     print('answers', list(map(lambda x: x['answer_id'], q['answers'])))\n",
    "    ans2right = defaultdict(bool)\n",
    "    for ans in list(map(lambda x: x['answer_id'], q['answers'])):\n",
    "        ans2right[ans] = False\n",
    "    correct_path = []\n",
    "    for path in paths:\n",
    "        visited = set()\n",
    "        tmp_wrong = False\n",
    "#         print('new_path', path)\n",
    "        for idx in range(0, len(path)-2, 2):\n",
    "            s = path[idx]\n",
    "            p = path[idx+1]\n",
    "            o = path[idx+2]\n",
    "            visited.add(s)\n",
    "            if s not in facts or p not in facts[s]:\n",
    "                tmp_wrong = True\n",
    "                continue\n",
    "            next_neighbors = set(facts[s][p].keys())\n",
    "            if len(next_neighbors - visited) != 1:\n",
    "                tmp_wrong = True\n",
    "                break\n",
    "        if not tmp_wrong:\n",
    "            ans2right[path[-1]] = True\n",
    "            correct_path.append(path)\n",
    "    if sum((ans2right.values())) < len(ans2right):\n",
    "        wrong += 1\n",
    "print(wrong)"
   ]
  },
  {
   "cell_type": "code",
   "execution_count": 228,
   "metadata": {},
   "outputs": [
    {
     "data": {
      "text/plain": [
       "[]"
      ]
     },
     "execution_count": 228,
     "metadata": {},
     "output_type": "execute_result"
    }
   ],
   "source": [
    "all_path[1]['correct_path']"
   ]
  },
  {
   "cell_type": "code",
   "execution_count": 260,
   "metadata": {},
   "outputs": [
    {
     "data": {
      "text/plain": [
       "{'m.02k_bcp', 'm.02sf29t', 'm.0jyw9hw', 'm.0jyw9j6'}"
      ]
     },
     "execution_count": 260,
     "metadata": {},
     "output_type": "execute_result"
    }
   ],
   "source": [
    "set(facts['m.02xt6q']['sports.pro_athlete.teams'].keys())"
   ]
  },
  {
   "cell_type": "code",
   "execution_count": 589,
   "metadata": {},
   "outputs": [
    {
     "name": "stdout",
     "output_type": "stream",
     "text": [
      "{'directed': True, 'multigraph': True, 'graph': {'id': 'WebQTrn-2136_d95da5fb8a16d81fe56cd4ce00843254'}, 'nodes': [{'id': 'm.0642vqv'}, {'id': 'm.01ct6'}, {'id': 'm.0hn47qp'}, {'id': 'm.06x5s'}], 'links': [{'label': 'NotEquals', 'source': 'm.0642vqv', 'target': 'm.01ct6', 'key': 0}, {'label': 'sports.sports_championship_event.championship', 'source': 'm.0642vqv', 'target': 'm.06x5s', 'key': 0}, {'label': 'sports.sports_team.fight_song', 'source': 'm.01ct6', 'target': 'm.0hn47qp', 'key': 0}, {'label': 'sports.sports_team.championships', 'source': 'm.01ct6', 'target': 'm.0642vqv', 'key': 0}]}\n",
      "{'directed': True, 'multigraph': True, 'graph': {'id': 'WebQTrn-2136_d95da5fb8a16d81fe56cd4ce00843254'}, 'nodes': [{'id': 'm.076yq'}, {'id': 'm.01ct6'}, {'id': 'm.0hn47qp'}, {'id': 'm.06x5s'}], 'links': [{'label': 'NotEquals', 'source': 'm.076yq', 'target': 'm.01ct6', 'key': 0}, {'label': 'sports.sports_championship_event.championship', 'source': 'm.076yq', 'target': 'm.06x5s', 'key': 0}, {'label': 'sports.sports_team.fight_song', 'source': 'm.01ct6', 'target': 'm.0hn47qp', 'key': 0}, {'label': 'sports.sports_team.championships', 'source': 'm.01ct6', 'target': 'm.076yq', 'key': 0}]}\n"
     ]
    },
    {
     "data": {
      "image/png": "[encoded data removed]",
      "text/plain": [
       "<Figure size 432x288 with 1 Axes>"
      ]
     },
     "metadata": {},
     "output_type": "display_data"
    }
   ],
   "source": [
    "for gt in train_ground_truth['WebQTrn-2136_d95da5fb8a16d81fe56cd4ce00843254']:\n",
    "    g = nx.json_graph.node_link_graph(gt['graph'])\n",
    "    pos = nx.circular_layout(g)\n",
    "    nx.draw_networkx_labels(g, pos)\n",
    "    nx.draw_networkx_nodes(g, pos)\n",
    "    nx.draw_networkx_edge_labels(g, pos)"
   ]
  },
  {
   "cell_type": "code",
   "execution_count": null,
   "metadata": {},
   "outputs": [],
   "source": [
    "for q in all_path:\n",
    "    paths = q['new_path']\n",
    "    for path in paths:"
   ]
  },
  {
   "cell_type": "markdown",
   "metadata": {},
   "source": [
    "## Load mid features"
   ]
  },
  {
   "cell_type": "code",
   "execution_count": 176,
   "metadata": {},
   "outputs": [
    {
     "name": "stderr",
     "output_type": "stream",
     "text": [
      "100%|██████████| 94/94 [02:44<00:00,  1.75s/it]\n"
     ]
    }
   ],
   "source": [
    "all_features = dict()\n",
    "for file_name in tqdm(os.listdir('/home/hxssg1124/Developer/astar/ASTAR-complexQA/complexQA/data/features/')):\n",
    "    file_path = os.path.join('/home/hxssg1124/Developer/astar/ASTAR-complexQA/complexQA/data/features/', file_name)\n",
    "    r = load_json(file_path)\n",
    "    all_features.update(r)"
   ]
  },
  {
   "cell_type": "code",
   "execution_count": 180,
   "metadata": {},
   "outputs": [
    {
     "data": {
      "text/plain": [
       "{'types': ['user.robert.earthquakes.earthquake_epicenter',\n",
       "  'location.country',\n",
       "  'location.location',\n",
       "  'location.statistical_region',\n",
       "  'location.dated_location',\n",
       "  'business.business_location',\n",
       "  'business.employer',\n",
       "  'book.book_subject',\n",
       "  'organization.organization_founder',\n",
       "  'sports.sports_team_location',\n",
       "  'government.governmental_jurisdiction',\n",
       "  'film.film_location',\n",
       "  'location.administrative_division',\n",
       "  'royalty.kingdom',\n",
       "  'organization.organization_scope',\n",
       "  'olympics.olympic_participating_country',\n",
       "  'organization.organization_member',\n",
       "  'user.robert.military.military_power',\n",
       "  'media_common.netflix_genre',\n",
       "  'symbols.flag_referent',\n",
       "  'periodicals.newspaper_circulation_area',\n",
       "  'travel.travel_destination',\n",
       "  'military.military_combatant',\n",
       "  'user.tsegaran.random.taxonomy_subject',\n",
       "  'food.beer_country_region',\n",
       "  'royalty.system_of_nobility',\n",
       "  'biology.breed_origin',\n",
       "  'sports.sport_country',\n",
       "  'user.skud.legal.treaty_signatory',\n",
       "  'user.skud.boats.naval_combatant'],\n",
       " 'prom_types': ['location.country']}"
      ]
     },
     "execution_count": 180,
     "metadata": {},
     "output_type": "execute_result"
    }
   ],
   "source": [
    "all_features['m.06mkj']"
   ]
  },
  {
   "cell_type": "code",
   "execution_count": 299,
   "metadata": {},
   "outputs": [
    {
     "name": "stdout",
     "output_type": "stream",
     "text": [
      "A person who was once born in Gingins was born where?\n",
      "PREFIX ns: <http://rdf.freebase.com/ns/>\n",
      "SELECT DISTINCT ?x ?c ?k\n",
      "WHERE {\n",
      "FILTER (?x != ?c)\n",
      "FILTER (!isLiteral(?x) OR lang(?x) = '' OR langMatches(lang(?x), 'en'))\n",
      "?c ns:people.person.places_lived ?k .\n",
      "?k ns:people.place_lived.location ns:m.09nx79 . \n",
      "?c ns:people.person.place_of_birth ?x .\n",
      "}\n",
      "\n"
     ]
    },
    {
     "ename": "KeyError",
     "evalue": "'answers'",
     "output_type": "error",
     "traceback": [
      "\u001b[0;31m---------------------------------------------------------------------------\u001b[0m",
      "\u001b[0;31mKeyError\u001b[0m                                  Traceback (most recent call last)",
      "\u001b[0;32m<ipython-input-299-3bdb014db64a>\u001b[0m in \u001b[0;36m<module>\u001b[0;34m\u001b[0m\n\u001b[1;32m      2\u001b[0m \u001b[0mprint\u001b[0m\u001b[0;34m(\u001b[0m\u001b[0mall_path\u001b[0m\u001b[0;34m[\u001b[0m\u001b[0midx\u001b[0m\u001b[0;34m]\u001b[0m\u001b[0;34m[\u001b[0m\u001b[0;34m'question'\u001b[0m\u001b[0;34m]\u001b[0m\u001b[0;34m)\u001b[0m\u001b[0;34m\u001b[0m\u001b[0;34m\u001b[0m\u001b[0m\n\u001b[1;32m      3\u001b[0m \u001b[0mprint\u001b[0m\u001b[0;34m(\u001b[0m\u001b[0mall_path\u001b[0m\u001b[0;34m[\u001b[0m\u001b[0midx\u001b[0m\u001b[0;34m]\u001b[0m\u001b[0;34m[\u001b[0m\u001b[0;34m'sparql'\u001b[0m\u001b[0;34m]\u001b[0m\u001b[0;34m)\u001b[0m\u001b[0;34m\u001b[0m\u001b[0;34m\u001b[0m\u001b[0m\n\u001b[0;32m----> 4\u001b[0;31m \u001b[0mprint\u001b[0m\u001b[0;34m(\u001b[0m\u001b[0mall_path\u001b[0m\u001b[0;34m[\u001b[0m\u001b[0midx\u001b[0m\u001b[0;34m]\u001b[0m\u001b[0;34m[\u001b[0m\u001b[0;34m'answers'\u001b[0m\u001b[0;34m]\u001b[0m\u001b[0;34m)\u001b[0m\u001b[0;34m\u001b[0m\u001b[0;34m\u001b[0m\u001b[0m\n\u001b[0m",
      "\u001b[0;31mKeyError\u001b[0m: 'answers'"
     ]
    }
   ],
   "source": [
    "idx = 31301\n",
    "print(all_path[idx]['question'])\n",
    "print(all_path[idx]['sparql'])\n",
    "print(all_path[idx]['answers'])"
   ]
  },
  {
   "cell_type": "markdown",
   "metadata": {},
   "source": [
    "## Fix Groundtruth"
   ]
  },
  {
   "cell_type": "code",
   "execution_count": 358,
   "metadata": {},
   "outputs": [],
   "source": [
    "wrong = 0\n",
    "for q in train_data:\n",
    "    gt = train_ground_truth[q['ID']]\n",
    "    answers = list(set(e['answer'].strip() for e in gt))\n",
    "    if answers:\n",
    "        q['answers'] = answers\n",
    "    else:\n",
    "        q['answers'] = list(e['answer_id'] for e in q['answers'])\n",
    "for q in dev_data:\n",
    "    gt = dev_ground_truth[q['ID']]\n",
    "    answers = list(set(e['answer'].strip() for e in gt))\n",
    "    if answers:\n",
    "        q['answers'] = answers\n",
    "    else:\n",
    "        q['answers'] = list(e['answer_id'] for e in q['answers'])\n",
    "for q in test_data:\n",
    "    gt = test_ground_truth[q['ID']]\n",
    "    answers = list(set(e['answer'].strip() for e in gt))\n",
    "    q['answers'] = answers\n",
    "    \n",
    "    \n",
    "save_json(train_data, cfg['data_folder'] + 'complex_train_processed.json')\n",
    "save_json(dev_data, cfg['data_folder'] + 'complex_dev_processed.json')\n",
    "save_json(test_data, cfg['data_folder'] + 'complex_test_processed.json')"
   ]
  },
  {
   "cell_type": "code",
   "execution_count": 341,
   "metadata": {},
   "outputs": [
    {
     "name": "stdout",
     "output_type": "stream",
     "text": [
      "PREFIX ns: <http://rdf.freebase.com/ns/>\n",
      "SELECT DISTINCT ?x\n",
      "WHERE {\n",
      "FILTER (?x != ?c)\n",
      "FILTER (!isLiteral(?x) OR lang(?x) = '' OR langMatches(lang(?x), 'en'))\n",
      "?c ns:organization.organization.child ?k .\n",
      "?k ns:organization.organization_relationship.child ns:m.09mqm6y . \n",
      "?c ns:organization.organization.headquarters ?y .\n",
      "?y ns:location.mailing_address.citytown ?x .\n",
      "}\n",
      "\n",
      "[]\n",
      "[{'aliases': ['Milwaukee, Wisconsin', 'Waukesha County / Milwaukee city'], 'answer': 'Milwaukee', 'answer_id': 'm.0dyl9'}]\n",
      "6\n",
      "6\n"
     ]
    }
   ],
   "source": [
    "wrong = 0\n",
    "wrong2 = 0\n",
    "for idx, q in enumerate(new_train_data):\n",
    "    gt = train_ground_truth[q['ID']]\n",
    "    answers = set(e['answer'].strip() for e in gt)\n",
    "    if set(q['answers']) != set(e['answer_id'] for e in train_data[idx]['answers']):\n",
    "#         print(q['sparql'])\n",
    "#         print(q['answers'])\n",
    "#         print(train_data[idx]['answers'])\n",
    "        wrong += 1\n",
    "    if answers != set(q['answers']):\n",
    "        wrong2 += 1\n",
    "        if wrong2 > 5:\n",
    "            print(q['sparql'])\n",
    "            print(q['answers'])\n",
    "            print(train_data[idx]['answers'])\n",
    "            break\n",
    "    \n",
    "print(wrong)\n",
    "print(wrong2)"
   ]
  },
  {
   "cell_type": "code",
   "execution_count": 361,
   "metadata": {},
   "outputs": [],
   "source": [
    "for q in test_data:\n",
    "    if 'answers' not in q or not q['answers']:\n",
    "        print(q['ID'])\n",
    "        print(q['sparql'])"
   ]
  },
  {
   "cell_type": "code",
   "execution_count": 475,
   "metadata": {},
   "outputs": [
    {
     "name": "stderr",
     "output_type": "stream",
     "text": [
      "34689it [00:00, 48809.67it/s]"
     ]
    },
    {
     "name": "stdout",
     "output_type": "stream",
     "text": [
      "0.9652627634120327\n"
     ]
    },
    {
     "name": "stderr",
     "output_type": "stream",
     "text": [
      "\n"
     ]
    }
   ],
   "source": [
    "wrong = 0\n",
    "wrong_ql = []\n",
    "avg_cover_answer_recall = 0.0\n",
    "\n",
    "def is_mid(entity):\n",
    "    return entity.startswith('ns:m.') or entity.startswith('ns:g.') or entity.startswith('?')\n",
    "\n",
    "for i, q in tqdm(enumerate(train_data + dev_data + test_data)):\n",
    "    sparql = q['sparql']\n",
    "    sparql = sparql.replace('{', '{\\n').replace('}', '\\n}\\n')\n",
    "    related_triples = []\n",
    "    for idx, line in enumerate(sparql.split('\\n')):\n",
    "        if not line.strip():\n",
    "            continue\n",
    "        line = line.strip()\n",
    "        if line.startswith('ns:') or line.startswith('?'):\n",
    "            related_triples.append(tuple(line.split()[:3]))\n",
    "    local_kb = defaultdict(dict)\n",
    "    topic_entities = set()\n",
    "    first_element_complete_triple = None\n",
    "    for t in related_triples:\n",
    "        if len(t) > 2 and (t[2].strip() == '.' or t[2].strip() == ';'):\n",
    "            t = (t[0], t[1])\n",
    "        if len(t) == 3:\n",
    "            first_element_complete_triple = t[0]\n",
    "        if len(t) < 3:\n",
    "            t = (first_element_complete_triple, t[0], t[1])\n",
    "        if not is_mid(t[0]) or not is_mid(t[2]):\n",
    "            continue\n",
    "        if t[0].startswith('ns:'):\n",
    "            topic_entities.add(''.join(t[0][3:]))\n",
    "        elif t[2].startswith('ns:'):\n",
    "            topic_entities.add(''.join(t[2][3:]))\n",
    "        t_0 = t[0].replace('ns:', '')\n",
    "        t_2 = t[2].replace('ns:', '')\n",
    "        t_1 = t[1].replace('ns:', '')\n",
    "        local_kb[t_2][t_0] = t_1\n",
    "        local_kb[t_0][t_2] = t_1\n",
    "    topic_entities = list(topic_entities)\n",
    "    q['entities'] = topic_entities\n",
    "    if 'education.university' in topic_entities:\n",
    "        print(sparql)\n",
    "        break\n",
    "    first_hop_relations = set()\n",
    "    first_hop_entities = set()\n",
    "    second_hop_relations = set()\n",
    "    second_hop_entities = set()\n",
    "    third_hop_relations = set()\n",
    "    third_hop_entities = set()\n",
    "    visited = set()\n",
    "    for topic_entity in topic_entities:\n",
    "        visited.add(topic_entity)\n",
    "        for ie in local_kb[topic_entity]:\n",
    "            first_hop_entities.add(ie)\n",
    "            first_hop_relations.add(local_kb[topic_entity][ie])\n",
    "    for topic_entity in first_hop_entities:\n",
    "        if topic_entity in visited:\n",
    "            continue\n",
    "        visited.add(topic_entity)\n",
    "        for ie in local_kb[topic_entity]:\n",
    "            second_hop_entities.add(ie)\n",
    "            second_hop_relations.add(local_kb[topic_entity][ie])\n",
    "    for topic_entity in second_hop_entities:\n",
    "        if topic_entity in visited:\n",
    "            continue\n",
    "        visited.add(topic_entity)\n",
    "        for ie in local_kb[topic_entity]:\n",
    "            third_hop_entities.add(ie)\n",
    "            third_hop_relations.add(local_kb[topic_entity][ie])\n",
    "    first_hop_relations = list(first_hop_relations)\n",
    "    second_hop_relations = list(second_hop_relations)\n",
    "    third_hop_relations = list(third_hop_relations)\n",
    "    q['rel_\n",
    "      _multi'] = [first_hop_relations, second_hop_relations , third_hop_relations]\n",
    "    recall = len((first_hop_entities | second_hop_entities | third_hop_entities) & set(['?x'])) == 1\n",
    "    avg_cover_answer_recall += recall\n",
    "print(avg_cover_answer_recall / len(train_data + dev_data + test_data))"
   ]
  },
  {
   "cell_type": "code",
   "execution_count": 476,
   "metadata": {},
   "outputs": [
    {
     "name": "stdout",
     "output_type": "stream",
     "text": [
      "1.519934273112514\n",
      "2.6760068033094067\n",
      "1.2115656259909482\n"
     ]
    }
   ],
   "source": [
    "wrong = 0\n",
    "avg_first_hop_relations = 0\n",
    "avg_second_hop_relations = 0\n",
    "avg_third_hop_relations = 0\n",
    "for q in train_data + dev_data + test_data:\n",
    "    if 'rel_cands_multi' not in q:\n",
    "        wrong += 1\n",
    "    elif not q['rel_cands_multi']:\n",
    "        wrong += 1\n",
    "    avg_first_hop_relations += len(q['rel_cands_multi'][0])\n",
    "    avg_second_hop_relations += (len(q['rel_cands_multi'][1]) if len(q['rel_cands_multi']) > 1 else 0)\n",
    "    avg_third_hop_relations += (len(q['rel_cands_multi'][2]) if len(q['rel_cands_multi']) > 2 else 0)\n",
    "avg_first_hop_relations /= (len(train_data + dev_data +test_data))\n",
    "avg_second_hop_relations /= (len(train_data + dev_data +test_data))\n",
    "avg_third_hop_relations /= (len(train_data + dev_data +test_data))\n",
    "print(avg_first_hop_relations)\n",
    "print(avg_second_hop_relations)\n",
    "print(avg_third_hop_relations)"
   ]
  },
  {
   "cell_type": "code",
   "execution_count": 573,
   "metadata": {},
   "outputs": [
    {
     "name": "stdout",
     "output_type": "stream",
     "text": [
      "['base.aareas.schema.administrative_area.administrative_children', 'location.country.administrative_divisions', 'base.aareas.schema.administrative_area.administrative_area_type']\n",
      "['m.07ssc', 'm.0hzjlmp', 'm.02dv8y']\n",
      "47.46153846153846\n",
      "0.0007399079439207434\n"
     ]
    }
   ],
   "source": [
    "len_cands = []\n",
    "avg_recall = 0\n",
    "for q in train_data + dev_data + test_data:\n",
    "    entities = q['entities']\n",
    "    adj_relations = set()\n",
    "    for entity in entities:\n",
    "        for adj_relation in facts[entity]:\n",
    "            adj_relations.add(adj_relation)\n",
    "    ground_rels = q['rel_cands_multi'][0]\n",
    "    recall = len(set(ground_rels) & adj_relations) / len(ground_rels) if len(ground_rels) > 0 else 0\n",
    "    adj_relations = list(adj_relations)\n",
    "    #q['rel_cands_multi_cands'] = adj_relations\n",
    "    len_cands.append(len(adj_relations))\n",
    "    avg_recall += recall\n",
    "    if recall < 1:\n",
    "        print(ground_rels)\n",
    "        print(entities)\n",
    "        break\n",
    "avg_recall /= len(train_data + dev_data + test_data)\n",
    "print(np.mean(len_cands))\n",
    "print(avg_recall)"
   ]
  },
  {
   "cell_type": "code",
   "execution_count": 577,
   "metadata": {},
   "outputs": [
    {
     "ename": "KeyError",
     "evalue": "'base.aareas.schema.administrative_area.administrative_children'",
     "output_type": "error",
     "traceback": [
      "\u001b[0;31m---------------------------------------------------------------------------\u001b[0m",
      "\u001b[0;31mKeyError\u001b[0m                                  Traceback (most recent call last)",
      "\u001b[0;32m<ipython-input-577-d554955e4787>\u001b[0m in \u001b[0;36m<module>\u001b[0;34m\u001b[0m\n\u001b[0;32m----> 1\u001b[0;31m \u001b[0mfacts\u001b[0m\u001b[0;34m[\u001b[0m\u001b[0;34m'm.02dv8y'\u001b[0m\u001b[0;34m]\u001b[0m\u001b[0;34m[\u001b[0m\u001b[0;34m'base.aareas.schema.administrative_area.administrative_children'\u001b[0m\u001b[0;34m]\u001b[0m\u001b[0;34m\u001b[0m\u001b[0;34m\u001b[0m\u001b[0m\n\u001b[0m",
      "\u001b[0;31mKeyError\u001b[0m: 'base.aareas.schema.administrative_area.administrative_children'"
     ]
    }
   ],
   "source": [
    "facts['m.02dv8y']['base.aareas.schema.administrative_area.administrative_children']"
   ]
  },
  {
   "cell_type": "code",
   "execution_count": 496,
   "metadata": {},
   "outputs": [
    {
     "data": {
      "text/plain": [
       "{'ID': 'WebQTrn-2136_d95da5fb8a16d81fe56cd4ce00843254',\n",
       " 'answers': ['m.0642vqv', 'm.076yq'],\n",
       " 'composition_answer': 'baltimore ravens',\n",
       " 'compositionality_type': 'composition',\n",
       " 'created': '2018-02-12T23:27:26',\n",
       " 'machine_question': 'what year did the sports team with the fight song The Baltimore Fight Song win the superbowl',\n",
       " 'question': 'What year did the team with Baltimore Fight Song win the Superbowl?',\n",
       " 'sparql': \"PREFIX ns: <http://rdf.freebase.com/ns/>\\nSELECT DISTINCT ?x\\nWHERE {\\nFILTER (?x != ?c)\\nFILTER (!isLiteral(?x) OR lang(?x) = '' OR langMatches(lang(?x), 'en'))\\n?c ns:sports.sports_team.fight_song ns:m.0hn47qp . \\n?c ns:sports.sports_team.championships ?x .\\n?x ns:sports.sports_championship_event.championship ns:m.06x5s .\\n}\\n\",\n",
       " 'webqsp_ID': 'WebQTrn-2136',\n",
       " 'webqsp_question': 'what year did baltimore ravens win the superbowl',\n",
       " 'entities': ['m.0hn47qp', 'm.06x5s'],\n",
       " 'rel_cands_multi': [['sports.sports_team.fight_song',\n",
       "   'sports.sports_championship_event.championship'],\n",
       "  ['sports.sports_team.championships',\n",
       "   'sports.sports_team.fight_song',\n",
       "   'sports.sports_championship_event.championship'],\n",
       "  []],\n",
       " 'rel_cands_multi_cands': ['base.yupgrade.user.topics',\n",
       "  'business.business_operation.major_customer',\n",
       "  'time.recurring_event.instances',\n",
       "  'book.written_work.subjects',\n",
       "  'sports.sports_championship_event.championship',\n",
       "  'freebase.valuenotation.is_reviewed',\n",
       "  'time.event.instance_of_recurring_event',\n",
       "  'business.customer.supplier',\n",
       "  'common.topic.notable_types',\n",
       "  'book.book_subject.works',\n",
       "  'symbols.namesake.named_after',\n",
       "  'sports.sports_team.fight_song',\n",
       "  'sports.sports_championship.league',\n",
       "  'freebase.equivalent_topic.equivalent_type',\n",
       "  'freebase.type_profile.equivalent_topic',\n",
       "  'tv.the_colbert_report_episode.intro_topics',\n",
       "  'freebase.valuenotation.has_no_value',\n",
       "  'sports.sports_league.championship',\n",
       "  'common.image.appears_in_topic_gallery',\n",
       "  'symbols.name_source.namesakes',\n",
       "  'time.recurring_event.current_frequency',\n",
       "  'common.topic.image']}"
      ]
     },
     "execution_count": 496,
     "metadata": {},
     "output_type": "execute_result"
    }
   ],
   "source": [
    "test_data[1]"
   ]
  },
  {
   "cell_type": "code",
   "execution_count": 498,
   "metadata": {},
   "outputs": [],
   "source": [
    "save_json(train_data, 'complex_train_processed.json')\n",
    "save_json(dev_data, 'complex_dev_processed.json')\n",
    "save_json(test_data, 'complex_test_processed.json')"
   ]
  },
  {
   "cell_type": "code",
   "execution_count": 395,
   "metadata": {},
   "outputs": [
    {
     "ename": "KeyError",
     "evalue": "'military.military_combatant_group.combatants'",
     "output_type": "error",
     "traceback": [
      "\u001b[0;31m---------------------------------------------------------------------------\u001b[0m",
      "\u001b[0;31mKeyError\u001b[0m                                  Traceback (most recent call last)",
      "\u001b[0;32m<ipython-input-395-92735f976209>\u001b[0m in \u001b[0;36m<module>\u001b[0;34m\u001b[0m\n\u001b[1;32m      6\u001b[0m       \u001b[0;31m?\u001b[0m\u001b[0my\u001b[0m \u001b[0mns\u001b[0m\u001b[0;34m:\u001b[0m\u001b[0mmilitary\u001b[0m\u001b[0;34m.\u001b[0m\u001b[0mmilitary_combatant_group\u001b[0m\u001b[0;34m.\u001b[0m\u001b[0mcombatants\u001b[0m \u001b[0mns\u001b[0m\u001b[0;34m:\u001b[0m\u001b[0mm\u001b[0m\u001b[0;36m.09\u001b[0m\u001b[0mc7w0\u001b[0m \u001b[0;34m.\u001b[0m  \u001b[0;31m# United States of America\u001b[0m\u001b[0;34m\u001b[0m\u001b[0;34m\u001b[0m\u001b[0m\n\u001b[1;32m      7\u001b[0m \"\"\"\n\u001b[0;32m----> 8\u001b[0;31m \u001b[0mprint\u001b[0m\u001b[0;34m(\u001b[0m\u001b[0mfacts\u001b[0m\u001b[0;34m[\u001b[0m\u001b[0;34m'm.09c7w0'\u001b[0m\u001b[0;34m]\u001b[0m\u001b[0;34m[\u001b[0m\u001b[0;34m'military.military_combatant_group.combatants'\u001b[0m\u001b[0;34m]\u001b[0m\u001b[0;34m)\u001b[0m\u001b[0;34m\u001b[0m\u001b[0;34m\u001b[0m\u001b[0m\n\u001b[0m\u001b[1;32m      9\u001b[0m \u001b[0;31m# set(facts['m.02h76fz']['common.topic.notable_types'].keys()) & set(facts['m.09c7w0']['military.military_combatant_group.combatants'])\u001b[0m\u001b[0;34m\u001b[0m\u001b[0;34m\u001b[0m\u001b[0;34m\u001b[0m\u001b[0m\n",
      "\u001b[0;31mKeyError\u001b[0m: 'military.military_combatant_group.combatants'"
     ]
    }
   ],
   "source": [
    "\"\"\"\n",
    "?x ns:common.topic.notable_types ns:m.02h76fz . # Military Conflict\n",
    "      ?x ns:time.event.start_date ?from . \n",
    "      ?x ns:time.event.end_date ?to . \n",
    "      ?x ns:military.military_conflict.combatants ?y .\n",
    "      ?y ns:military.military_combatant_group.combatants ns:m.09c7w0 .  # United States of America\n",
    "\"\"\"\n",
    "print(facts['m.09c7w0']['military.military_combatant_group.combatants'])\n",
    "# set(facts['m.02h76fz']['common.topic.notable_types'].keys()) & set(facts['m.09c7w0']['military.military_combatant_group.combatants'])"
   ]
  },
  {
   "cell_type": "code",
   "execution_count": 518,
   "metadata": {
    "scrolled": true
   },
   "outputs": [
    {
     "name": "stdout",
     "output_type": "stream",
     "text": [
      "american_football.football_historical_coach_position.to\n",
      "american_football.football_historical_coach_position.from\n",
      "base.biblioness.bibs_location.loc_type\n",
      "base.events.event_feed.type_of_event\n",
      "zoos.zoo.opened\n",
      "sports.sports_team_roster.to\n",
      "sports.sports_team_roster.from\n",
      "government.government_position_held.to\n",
      "government.government_position_held.from\n",
      "topic_server.population_number\n",
      "time.event.start_date\n",
      "time.event.end_date\n",
      "people.place_lived.start_date\n",
      "people.place_lived.end_date\n",
      "base.unitednations.united_nations_body_membership.from\n",
      "base.unitednations.united_nations_body_membership.to\n",
      "people.marriage.from\n",
      "people.marriage.to\n",
      "architecture.structure.construction_started\n",
      "sports.team_venue_relationship.from\n",
      "sports.team_venue_relationship.to\n",
      "architecture.museum.established\n",
      "award.award_honor.year\n",
      "architecture.structure.opened\n",
      "sports.pro_athlete.career_start\n",
      "music.album.release_date\n",
      "measurement_unit.dated_percentage.rate\n",
      "measurement_unit.dated_integer.number\n",
      "law.judicial_tenure.to_date\n",
      "law.judicial_tenure.from_date\n",
      "sports.sports_team_roster.number\n",
      "film.film.initial_release_date\n",
      "tv.tv_series_episode.episode_number\n",
      "measurement_unit.adjusted_money_value.adjusted_value\n",
      "organization.organization.date_founded\n",
      "organization.organization_membership.to\n",
      "organization.organization_membership.from\n",
      "measurement_unit.dated_money_value.amount\n",
      "architecture.structure.height_meters\n",
      "aviation.aircraft_model.maiden_flight\n",
      "measurement_unit.dated_index_value.index_value\n",
      "tennis.tennis_tournament_championship.year\n",
      "book.written_work.copyright_date\n",
      "sports.sports_team_coach_tenure.to\n",
      "sports.sports_team_coach_tenure.from\n",
      "location.country.calling_code\n",
      "sports.sports_team.founded\n",
      "sports.pro_athlete.career_end\n",
      "location.location_symbol_relationship.date_adopted\n",
      "location.country.iso_numeric\n",
      "people.deceased_person.date_of_death\n",
      "tv.tv_program.episode_running_time\n",
      "organization.leadership.to\n",
      "organization.leadership.from\n",
      "government.us_vice_president.vice_president_number\n",
      "book.written_work.date_of_first_publication\n",
      "tv.tv_program.number_of_seasons\n",
      "tv.regular_tv_appearance.from\n",
      "tv.regular_tv_appearance.to\n",
      "location.religion_percentage.percentage\n",
      "tv.tv_program.thetvdb_id\n",
      "film.film.netflix_id\n",
      "tv.tv_program.tvrage_id\n",
      "architecture.venue.capacity\n",
      "base.schemastaging.context_name.nickname\n",
      "location.location.gnis_feature_id\n",
      "celebrities.romantic_relationship.start_date\n",
      "celebrities.romantic_relationship.end_date\n",
      "amusement_parks.park.opened\n",
      "tv.tv_program.number_of_episodes\n",
      "exhibitions.exhibition_run.opened_on\n",
      "organization.organization_relationship.to\n",
      "organization.organization_relationship.from\n",
      "freebase.linguistic_hint.subject_form\n",
      "book.book_edition.publication_date\n",
      "award.award_category.date_established\n",
      "geography.river.discharge\n",
      "film.film_regional_release_date.release_date\n",
      "architecture.ownership.end_date\n",
      "architecture.ownership.start_date\n",
      "protected_sites.protected_site.date_established\n",
      "time.recurring_event.date_of_first_occurance\n",
      "education.school.nces_school_id\n",
      "architecture.building.floors\n",
      "chemistry.chemical_compound.pubchem_id\n",
      "base.saints.saint.patronage\n",
      "people.deceased_person.date_of_burial\n",
      "tv.tv_series_season.from\n",
      "government.us_president.presidency_number\n",
      "government.political_party_tenure.to\n",
      "tv.tv_program.air_date_of_first_episode\n",
      "tv.tv_series_season.to\n",
      "government.political_party_tenure.from\n",
      "measurement_unit.dated_metric_ton.date\n"
     ]
    }
   ],
   "source": [
    "for e in train_data:\n",
    "    for multi in e['rel_cands_multi']:\n",
    "        for rel in multi:\n",
    "            if rel not in relation2id:\n",
    "                print(rel)\n",
    "                relation2id[rel] = len(relation2id)"
   ]
  },
  {
   "cell_type": "code",
   "execution_count": 519,
   "metadata": {},
   "outputs": [
    {
     "data": {
      "text/plain": [
       "8594"
      ]
     },
     "execution_count": 519,
     "metadata": {},
     "output_type": "execute_result"
    }
   ],
   "source": [
    "len(relation2id)"
   ]
  },
  {
   "cell_type": "code",
   "execution_count": 555,
   "metadata": {},
   "outputs": [],
   "source": [
    "wrong = 0\n",
    "for idx in range(len(train_data)):\n",
    "    for multi in train_data[idx]['rel_cands_multi']:\n",
    "        for rel in multi:\n",
    "            if 'common' in rel:\n",
    "                wrong += 1\n",
    "                break"
   ]
  },
  {
   "cell_type": "code",
   "execution_count": 520,
   "metadata": {},
   "outputs": [],
   "source": [
    "with open('datasets/complexwebq/relations.txt', 'w') as f:\n",
    "    for e in relation2id:\n",
    "        f.writelines(e + '\\n')"
   ]
  },
  {
   "cell_type": "code",
   "execution_count": 569,
   "metadata": {},
   "outputs": [],
   "source": [
    "lens = []\n",
    "for e in test_data:\n",
    "    lens.append(len(e['rel_cands_multi_cands']))"
   ]
  },
  {
   "cell_type": "code",
   "execution_count": 570,
   "metadata": {},
   "outputs": [
    {
     "data": {
      "text/plain": [
       "296"
      ]
     },
     "execution_count": 570,
     "metadata": {},
     "output_type": "execute_result"
    }
   ],
   "source": [
    "np.max(lens)"
   ]
  },
  {
   "cell_type": "markdown",
   "metadata": {},
   "source": [
    "## Check question and relation vocabulary"
   ]
  },
  {
   "cell_type": "code",
   "execution_count": 537,
   "metadata": {},
   "outputs": [
    {
     "name": "stderr",
     "output_type": "stream",
     "text": [
      "100%|██████████| 27639/27639 [00:01<00:00, 26959.83it/s]\n"
     ]
    }
   ],
   "source": [
    "# check question vocab\n",
    "total_words = set()\n",
    "for q in tqdm(train_data):\n",
    "    q_words = clean_text(q['question'])\n",
    "    total_words.update(q_words)"
   ]
  },
  {
   "cell_type": "code",
   "execution_count": 530,
   "metadata": {},
   "outputs": [
    {
     "name": "stdout",
     "output_type": "stream",
     "text": [
      "0.9948761742100769\n"
     ]
    }
   ],
   "source": [
    "print(len(set(word2id.keys()) & total_words) / len(total_words))"
   ]
  },
  {
   "cell_type": "code",
   "execution_count": 538,
   "metadata": {},
   "outputs": [
    {
     "name": "stderr",
     "output_type": "stream",
     "text": [
      "100%|██████████| 8594/8594 [00:00<00:00, 23832.33it/s]\n"
     ]
    }
   ],
   "source": [
    "# check relation vocab\n",
    "for rel in tqdm(relation2id):\n",
    "    q_words = clean_text(rel, True)\n",
    "    total_words.update(q_words)"
   ]
  },
  {
   "cell_type": "code",
   "execution_count": 543,
   "metadata": {},
   "outputs": [],
   "source": [
    "with open('datasets/complexwebq/vocab.txt', 'w') as f:\n",
    "    for e in sorted(total_words):\n",
    "        f.writelines(e + '\\n')"
   ]
  },
  {
   "cell_type": "markdown",
   "metadata": {},
   "source": [
    "## Fix Missing facts data"
   ]
  },
  {
   "cell_type": "code",
   "execution_count": 598,
   "metadata": {},
   "outputs": [
    {
     "name": "stderr",
     "output_type": "stream",
     "text": [
      "34689it [00:05, 5835.96it/s]"
     ]
    },
    {
     "name": "stdout",
     "output_type": "stream",
     "text": [
      "0.9997982069243853\n"
     ]
    },
    {
     "name": "stderr",
     "output_type": "stream",
     "text": [
      "\n"
     ]
    }
   ],
   "source": [
    "# Replace variable with actual intermediate entity.\n",
    "recall = 0\n",
    "\n",
    "def is_mid(entity):\n",
    "    return entity.startswith('ns:m.') or entity.startswith('ns:g.') or entity.startswith('?')\n",
    "\n",
    "for i, q in tqdm(enumerate(train_data + dev_data + test_data)):\n",
    "    sparql = q['sparql']\n",
    "    sparql = sparql.replace('{', '{\\n').replace('}', '\\n}\\n')\n",
    "    related_triples = []\n",
    "    for idx, line in enumerate(sparql.split('\\n')):\n",
    "        if not line.strip():\n",
    "            continue\n",
    "        line = line.strip()\n",
    "        if line.startswith('ns:') or line.startswith('?'):\n",
    "            related_triples.append(tuple(line.split()[:3]))\n",
    "    local_kb = defaultdict(dict)\n",
    "    topic_entities = set()\n",
    "    first_element_complete_triple = None\n",
    "    related_relations = set()\n",
    "    for t in related_triples:\n",
    "        if len(t) > 2 and (t[2].strip() == '.' or t[2].strip() == ';'):\n",
    "            t = (t[0], t[1])\n",
    "        if len(t) == 3:\n",
    "            first_element_complete_triple = t[0]\n",
    "        if len(t) < 3:\n",
    "            t = (first_element_complete_triple, t[0], t[1])\n",
    "        if not is_mid(t[0]) or not is_mid(t[2]):\n",
    "            continue\n",
    "        if t[0].startswith('ns:'):\n",
    "            topic_entities.add(''.join(t[0][3:]))\n",
    "        elif t[2].startswith('ns:'):\n",
    "            topic_entities.add(''.join(t[2][3:]))\n",
    "        t_0 = t[0].replace('ns:', '')\n",
    "        t_2 = t[2].replace('ns:', '')\n",
    "        t_1 = t[1].replace('ns:', '')\n",
    "        related_relations.add(t_1)\n",
    "#         print(t_0, t_1, t_2)\n",
    "    gt_relations = set()\n",
    "    gts = all_ground_truths[q['ID']]\n",
    "    for gt in gts:\n",
    "        g = nx.json_graph.node_link_graph(gt['graph'])\n",
    "        for graph_triple in g.edges(data='label'):\n",
    "            gt_s, gt_p, gt_o = graph_triple[0], graph_triple[2], graph_triple[1]\n",
    "#             print(gt_s, gt_p, gt_o)\n",
    "            gt_relations.add(gt_p)\n",
    "    recall += len(gt_relations & related_relations) / len(related_relations)\n",
    "print(recall / len(train_data + dev_data + test_data))"
   ]
  },
  {
   "cell_type": "code",
   "execution_count": 602,
   "metadata": {},
   "outputs": [
    {
     "data": {
      "text/plain": [
       "dict_keys(['film.film.production_companies', 'film.film_film_distributor_relationship.distributor', 'organization.organization.place_founded', 'award.award_nomination.award_nominee', 'common.image.appears_in_topic_gallery', 'organization.organization.headquarters', 'business.industry.companies', 'organization.organization_relationship.parent', 'award.award_honor.award_winner', 'cvg.computer_videogame.publisher', 'cvg.game_version.publisher', 'business.company_type.companies_of_this_type', 'organization.organization_relationship.child', 'organization.organization_type.organizations_of_this_type', 'common.topic.notable_types', 'business.employment_tenure.company', 'business.company_name_change.company', 'organization.organization_founder.organizations_founded', 'film.production_company.films', 'film.film_distributor.films_distributed', 'cvg.cvg_publisher.games_published', 'award.award_nominee.award_nominations', 'business.employer.employees', 'award.award_winner.awards_won', 'common.topic.image', 'organization.organization.parent', 'cvg.cvg_publisher.game_versions_published', 'organization.organization.organization_type', 'organization.organization.previous_names', 'organization.organization.founders', 'business.business_operation.industry', 'organization.organization.child', 'organization.organization.legal_structure'])"
      ]
     },
     "execution_count": 602,
     "metadata": {},
     "output_type": "execute_result"
    }
   ],
   "source": [
    "facts['m.020h2v'].keys()"
   ]
  },
  {
   "cell_type": "markdown",
   "metadata": {},
   "source": [
    "## Fix ground truth data"
   ]
  },
  {
   "cell_type": "code",
   "execution_count": 662,
   "metadata": {},
   "outputs": [
    {
     "name": "stderr",
     "output_type": "stream",
     "text": [
      "34689it [00:14, 2427.44it/s]\n"
     ]
    }
   ],
   "source": [
    "for idx, q in tqdm(enumerate(train_data + dev_data + test_data)):\n",
    "    gts = all_ground_truths[q['ID']]\n",
    "    topics = q['entities']\n",
    "    all_paths = set()\n",
    "    for gt in gts:\n",
    "        g = nx.json_graph.node_link_graph(gt['graph'])\n",
    "        g = g.to_undirected()\n",
    "        answer = gt['answer'].strip()\n",
    "        for topic in topics:\n",
    "            try:\n",
    "                paths = nx.all_simple_paths(g, topic, answer)\n",
    "                for path in map(nx.utils.pairwise, paths):\n",
    "                    tmp_path = []\n",
    "                    path_list = list(path)\n",
    "                    flag = False\n",
    "                    for i, p in enumerate(path_list):\n",
    "                        # Filter special relations\n",
    "                        s = p[0]\n",
    "                        o = p[1]\n",
    "                        edge_label = g.get_edge_data(s, o)[0]['label']\n",
    "                        if edge_label in ('Equals', 'GreaterThan', 'GreaterThanOrEqual', 'LessThan', 'LessThanOrEqual', 'NotEquals'):\n",
    "                            flag = True\n",
    "                        if i == 0:\n",
    "                            tmp_path.append(s)\n",
    "                        tmp_path.append(edge_label)\n",
    "                        tmp_path.append(o)\n",
    "                    if not flag:\n",
    "                        all_paths.add(tuple(tmp_path))\n",
    "            except Exception as e:\n",
    "                continue\n",
    "        # Loop answer\n",
    "        if answer in topics:\n",
    "            for e in g.edges(data='label'):\n",
    "                if (e[0] == answer or e[1] == answer) and e[2] not in ('Equals', 'GreaterThan', 'GreaterThanOrEqual', 'LessThan', 'LessThanOrEqual', 'NotEquals'):\n",
    "                    all_paths.add((answer, e[2], answer))\n",
    "                    break\n",
    "    all_paths = list(all_paths)\n",
    "    q['ground_truth_path'] = all_paths "
   ]
  },
  {
   "cell_type": "code",
   "execution_count": 629,
   "metadata": {
    "scrolled": true
   },
   "outputs": [
    {
     "name": "stderr",
     "output_type": "stream",
     "text": [
      "34689it [00:00, 1862995.36it/s]"
     ]
    },
    {
     "name": "stdout",
     "output_type": "stream",
     "text": [
      "508\n",
      "1112\n",
      "2123\n",
      "3136\n",
      "9930\n",
      "10669\n",
      "10881\n",
      "13193\n",
      "14919\n",
      "17372\n",
      "17484\n",
      "18786\n",
      "21467\n",
      "23879\n",
      "24766\n"
     ]
    },
    {
     "name": "stderr",
     "output_type": "stream",
     "text": [
      "\n"
     ]
    }
   ],
   "source": [
    "for idx, q in tqdm(enumerate(train_data + dev_data + test_data)):\n",
    "    if not q['ground_truth_path']:\n",
    "        print(idx)"
   ]
  },
  {
   "cell_type": "code",
   "execution_count": 115,
   "metadata": {},
   "outputs": [
    {
     "name": "stderr",
     "output_type": "stream",
     "text": [
      "100%|██████████| 34689/34689 [00:05<00:00, 6711.81it/s]\n"
     ]
    }
   ],
   "source": [
    "for qid, gts in tqdm(all_ground_truths.items()):\n",
    "    for gt in gts:\n",
    "        g = nx.json_graph.node_link_graph(gt['graph'])\n",
    "        for e in g.edges(data='label'):\n",
    "            s, o, p = e\n",
    "            if s not in facts:\n",
    "                facts[s] = dict()\n",
    "            if p not in facts[s]:\n",
    "                facts[s][p] = dict()\n",
    "            if o not in facts[s][p]:\n",
    "                facts[s][p][o] = 0\n",
    "            if o not in facts:\n",
    "                facts[o] = dict()\n",
    "            if p not in facts[o]:\n",
    "                facts[o][p] = dict()\n",
    "            if s not in facts[o][p]:\n",
    "                facts[o][p][s] = 1"
   ]
  },
  {
   "cell_type": "code",
   "execution_count": 117,
   "metadata": {},
   "outputs": [],
   "source": [
    "save_json(facts, cfg['data_folder'] + 'all_facts_all_new2.json')"
   ]
  },
  {
   "cell_type": "code",
   "execution_count": 120,
   "metadata": {},
   "outputs": [
    {
     "name": "stderr",
     "output_type": "stream",
     "text": [
      "100%|██████████| 7624604/7624604 [00:07<00:00, 1072836.66it/s]\n"
     ]
    }
   ],
   "source": [
    "all_rels = set()\n",
    "for k in tqdm(facts):\n",
    "    for k2 in facts[k]:\n",
    "        all_rels.add(k2)"
   ]
  },
  {
   "cell_type": "code",
   "execution_count": 122,
   "metadata": {},
   "outputs": [],
   "source": [
    "all_rels = list(sorted(all_rels))"
   ]
  },
  {
   "cell_type": "code",
   "execution_count": 123,
   "metadata": {},
   "outputs": [],
   "source": [
    "with open('datasets/complexwebq/relations.txt', 'w') as f:\n",
    "    for e in all_rels:\n",
    "        f.writelines(e + '\\n')"
   ]
  },
  {
   "cell_type": "markdown",
   "metadata": {},
   "source": [
    "## Set ground truth relation paths."
   ]
  },
  {
   "cell_type": "code",
   "execution_count": 771,
   "metadata": {},
   "outputs": [
    {
     "name": "stderr",
     "output_type": "stream",
     "text": [
      "100%|██████████| 34689/34689 [00:00<00:00, 98544.49it/s]\n"
     ]
    }
   ],
   "source": [
    "# Set ground truth relation paths\n",
    "for e in tqdm(train_data + dev_data + test_data):\n",
    "    rel_cands_multi = []\n",
    "    for gt_path in e['ground_truth_path']:\n",
    "        i_range = list(range(1, len(gt_path) - 1, 2))\n",
    "        for idx, i in enumerate(i_range):\n",
    "            rel = [gt_path[i_idx] for i_idx in i_range[:(idx+1)]]\n",
    "            rel_hop = i // 2\n",
    "            if rel_hop >= len(rel_cands_multi):\n",
    "                rel_cands_multi.append(set())\n",
    "            rel_cands_multi[rel_hop].add(tuple(rel))\n",
    "            \n",
    "    rel_cands_multi = list(map(lambda x: list(x), rel_cands_multi))\n",
    "    e['rel_cands_multi'] = rel_cands_multi"
   ]
  },
  {
   "cell_type": "code",
   "execution_count": 779,
   "metadata": {},
   "outputs": [
    {
     "name": "stdout",
     "output_type": "stream",
     "text": [
      "nan\n",
      "0.0\n",
      "0.0\n",
      "0.0\n"
     ]
    }
   ],
   "source": [
    "# Set candidate relation paths\n",
    "len_cands = []\n",
    "avg_recall1 = 0\n",
    "avg_recall2 = 0\n",
    "avg_recall3 = 0\n",
    "wrong = 0\n",
    "for q in (train_data + dev_data + test_data):\n",
    "    if not q['rel_cands_multi']:\n",
    "        wrong += 1\n",
    "        avg_recall += 1\n",
    "        continue\n",
    "    if 'rel_cands_multi_cands' in q:\n",
    "        del q['rel_cands_multi_cands']\n",
    "    # first hop\n",
    "    # entities = q['entities']\n",
    "    entities1 = set()\n",
    "    entities2 = set()\n",
    "    entities3 = set()\n",
    "    filter_rels = {'Equals', 'GreaterThan', 'GreaterThanOrEqual', 'LessThan', 'LessThanOrEqual', 'NotEquals'}\n",
    "    for gt_path in q['ground_truth_path']:\n",
    "        if len(gt_path) > 4:\n",
    "            entities3.add((gt_path[4], gt_path[3], gt_path[1]))\n",
    "        if len(gt_path) > 2:\n",
    "            entities2.add((gt_path[2], gt_path[1]))\n",
    "        entities1.add(gt_path[0])\n",
    "    adj_relations1 = set()\n",
    "    for entity in entities1:\n",
    "        for adj_relation in facts[entity]:\n",
    "            adj_relations1.add((adj_relation,))\n",
    "    adj_relations2 = set()\n",
    "    for entity in entities2:\n",
    "        for adj_relation in facts[entity[0]]:\n",
    "            if entity[1] not in filter_rels:\n",
    "                adj_relations2.add((entity[1], adj_relation))\n",
    "    adj_relations3 = set()\n",
    "    for entity in entities3:\n",
    "        for adj_relation in facts[entity[0]]:\n",
    "            if entity[2] not in filter_rels:\n",
    "                adj_relations3.add((entity[2], entity[1], adj_relation))\n",
    "    adj_relations1 -= filter_rels\n",
    "#     ground_rels1 = q['rel_cands_multi'][0]\n",
    "#     ground_rels2 = q['rel_cands_multi'][1] if len(q['rel_cands_multi']) > 1 else ['EOD']\n",
    "#     ground_rels3 = q['rel_cands_multi'][2] if len(q['rel_cands_multi']) > 2 else ['EOD']\n",
    "#     recall1 = len(set(ground_rels1) & adj_relations1) / len(ground_rels1) if len(ground_rels1) > 0 else 1\n",
    "#     recall2 = len(set(ground_rels2) & adj_relations2) / len(ground_rels2) if len(ground_rels2) > 1 else 1\n",
    "#     recall3 = len(set(ground_rels3) & adj_relations3) / len(ground_rels3) if len(ground_rels3) > 2 else 1\n",
    "    adj_relations1 = list(adj_relations1)\n",
    "    adj_relations2 = list(adj_relations2)\n",
    "    adj_relations3 = list(adj_relations3)\n",
    "    q['rel_cands_multi_cands1'] = adj_relations1\n",
    "    q['rel_cands_multi_cands2'] = adj_relations2\n",
    "    q['rel_cands_multi_cands3'] = adj_relations3\n",
    "#     avg_recall1 += recall1\n",
    "#     avg_recall2 += recall2\n",
    "#     avg_recall3 += recall3\n",
    "\n",
    "avg_recall1 /= len(train_data + dev_data + test_data)\n",
    "avg_recall2 /= len(train_data + dev_data + test_data)\n",
    "avg_recall3 /= len(train_data + dev_data + test_data)\n",
    "print(np.mean(len_cands))\n",
    "print(avg_recall1)\n",
    "print(avg_recall2)\n",
    "print(avg_recall3)"
   ]
  },
  {
   "cell_type": "code",
   "execution_count": 781,
   "metadata": {},
   "outputs": [
    {
     "data": {
      "text/plain": [
       "[('education.educational_institution.sports_teams',)]"
      ]
     },
     "execution_count": 781,
     "metadata": {},
     "output_type": "execute_result"
    }
   ],
   "source": [
    "train_data[0]['rel_cands_multi'][0]"
   ]
  },
  {
   "cell_type": "code",
   "execution_count": 782,
   "metadata": {},
   "outputs": [],
   "source": [
    "save_json(train_data, cfg['data_folder'] + 'complex_train_processed.json')\n",
    "save_json(dev_data, cfg['data_folder'] + 'complex_dev_processed.json')\n",
    "save_json(test_data, cfg['data_folder'] + 'complex_test_processed.json')"
   ]
  },
  {
   "cell_type": "code",
   "execution_count": 651,
   "metadata": {},
   "outputs": [
    {
     "name": "stdout",
     "output_type": "stream",
     "text": [
      "datasets/complexwebq/complex_train_processed.json\n"
     ]
    }
   ],
   "source": [
    "print(cfg['data_folder'] + 'complex_train_processed.json')"
   ]
  },
  {
   "cell_type": "code",
   "execution_count": 726,
   "metadata": {},
   "outputs": [
    {
     "name": "stdout",
     "output_type": "stream",
     "text": [
      "0.7037668040782\n"
     ]
    }
   ],
   "source": [
    "# Step 1-hop recall:\n",
    "avg_recall = 0.0\n",
    "for e in train_data + dev_data + test_data:\n",
    "    rel_cands_multi = e['rel_cands_multi']\n",
    "    gt_rels = set(e2 for e in rel_cands_multi for e2 in e)\n",
    "    cands_rels = set(e['rel_cands_multi_cands'])\n",
    "    recall = len(cands_rels & gt_rels) / len(gt_rels) if len(gt_rels) > 0 else 1\n",
    "    avg_recall += recall\n",
    "avg_recall /= len(train_data + dev_data + test_data)\n",
    "print(avg_recall)"
   ]
  },
  {
   "cell_type": "code",
   "execution_count": 777,
   "metadata": {},
   "outputs": [
    {
     "data": {
      "text/plain": [
       "['education.educational_institution.sports_teams',\n",
       " 'sports.sport.teams',\n",
       " 'base.marchmadness.ncaa_basketball_team.tournament_games_won',\n",
       " 'base.marchmadness.ncaa_basketball_team.ncaa_tournament_seeds',\n",
       " 'sports.sports_team.arena_stadium',\n",
       " 'base.marchmadness.ncaa_tournament_seed.team',\n",
       " 'basketball.basketball_division.teams',\n",
       " 'basketball.basketball_conference.teams',\n",
       " 'sports.sports_team.roster',\n",
       " 'common.topic.notable_types',\n",
       " 'sports.sports_team_roster.team',\n",
       " 'sports.team_venue_relationship.team',\n",
       " 'sports.sports_facility.teams',\n",
       " 'education.athletics_brand.teams',\n",
       " 'basketball.basketball_team.head_coach',\n",
       " 'base.marchmadness.ncaa_basketball_tournament_game.losing_team',\n",
       " 'sports.school_sports_team.school',\n",
       " 'basketball.basketball_coach.team',\n",
       " 'sports.sports_team.colors',\n",
       " 'base.marchmadness.ncaa_basketball_team.tournament_games_lost',\n",
       " 'base.marchmadness.ncaa_basketball_tournament_game.winning_team']"
      ]
     },
     "execution_count": 777,
     "metadata": {},
     "output_type": "execute_result"
    }
   ],
   "source": [
    "train_data[0]['rel_cands_multi_cands1']"
   ]
  },
  {
   "cell_type": "code",
   "execution_count": 695,
   "metadata": {},
   "outputs": [
    {
     "name": "stdout",
     "output_type": "stream",
     "text": [
      "0.9438698146386998\n",
      "0.9995675862665399\n",
      "96.2461786929688\n"
     ]
    }
   ],
   "source": [
    "# Step 2-hop recall:\n",
    "avg_recall = 0.0\n",
    "avg_recall2 = 0.0\n",
    "len_cands = []\n",
    "for e in train_data + dev_data + test_data:\n",
    "    if not e['ground_truth_path']:\n",
    "        continue\n",
    "    hop2_entities = list(set([gp[2] for gp in e['ground_truth_path']]))\n",
    "    gt_2hop_rels = set()\n",
    "    for gp in e['ground_truth_path']:\n",
    "        if len(gp) < 4:\n",
    "            continue\n",
    "        gt_2hop_rels.add(gp[3])\n",
    "    \n",
    "    rel_cands_multi = e['rel_cands_multi']\n",
    "    gt_rels = set(e2 for e in rel_cands_multi for e2 in e)\n",
    "    cands_rels = set(e['rel_cands_multi_cands'])\n",
    "    \n",
    "    for hop2_e in hop2_entities:\n",
    "        for rel in facts[hop2_e]:\n",
    "            cands_rels.add(rel)\n",
    "    \n",
    "    len_cands.append(len(cands_rels))\n",
    "    recall = len(cands_rels & gt_rels) / len(gt_rels) if len(gt_rels) > 0 else 1\n",
    "    recall2 = len(cands_rels & gt_2hop_rels) / len(gt_2hop_rels) if len(gt_2hop_rels) > 0 else 1\n",
    "    avg_recall += recall\n",
    "    avg_recall2 += recall2\n",
    "avg_recall /= len(train_data + dev_data + test_data)\n",
    "avg_recall2 /= len(train_data + dev_data + test_data)\n",
    "print(avg_recall)\n",
    "print(avg_recall2)\n",
    "print(np.mean(len_cands))"
   ]
  },
  {
   "cell_type": "code",
   "execution_count": null,
   "metadata": {},
   "outputs": [],
   "source": [
    "# Step 3-hop recall:\n",
    "avg_recall = 0.0\n",
    "for e in train_data + dev_data + test_data:\n",
    "    if not e['ground_truth_path']:\n",
    "        continue\n",
    "    hop2_entities = list(set([gp[2] for gp in e['ground_truth_path']]))\n",
    "    \n",
    "    rel_cands_multi = e['rel_cands_multi']\n",
    "    gt_rels = set(e2 for e in rel_cands_multi for e2 in e)\n",
    "    cands_rels = set(e['rel_cands_multi_cands'])\n",
    "    \n",
    "    for hop2_e in hop2_entities:\n",
    "        for rel in facts[hop2_e]:\n",
    "            cands_rels.add(rel)\n",
    "    \n",
    "    recall = len(cands_rels & gt_rels) / len(gt_rels) if len(gt_rels) > 0 else 1\n",
    "    avg_recall += recall\n",
    "avg_recall /= len(train_data + dev_data + test_data)\n",
    "print(avg_recall)"
   ]
  },
  {
   "cell_type": "code",
   "execution_count": 692,
   "metadata": {},
   "outputs": [
    {
     "data": {
      "image/png": "[encoded data removed]",
      "text/plain": [
       "<Figure size 432x288 with 1 Axes>"
      ]
     },
     "metadata": {
      "needs_background": "light"
     },
     "output_type": "display_data"
    }
   ],
   "source": [
    "train_loss = []\n",
    "valid_loss = []\n",
    "with open('progress.txt') as f:\n",
    "    lines = f.readlines()\n",
    "    for e in lines:\n",
    "        e = e.strip()\n",
    "        if e.startswith('avg_training_loss'):\n",
    "            train_loss.append(float(e.split()[1]))\n",
    "        if 'avg_loss' in e:\n",
    "            if e.index('avg_loss') == 0:\n",
    "                valid_loss.append(float(e.split()[1]))\n",
    "            else:\n",
    "                valid_loss.append(float(''.join(e[56:])))\n",
    "plt.plot(train_loss)\n",
    "plt.plot(valid_loss, 'r')\n",
    "plt.show()"
   ]
  },
  {
   "cell_type": "markdown",
   "metadata": {},
   "source": [
    "## Setup input of entity predictor"
   ]
  },
  {
   "cell_type": "code",
   "execution_count": 4,
   "metadata": {},
   "outputs": [
    {
     "name": "stderr",
     "output_type": "stream",
     "text": [
      "100%|██████████| 94/94 [02:48<00:00,  1.79s/it]\n"
     ]
    }
   ],
   "source": [
    "base_path = 'datasets/complexwebq/features'\n",
    "all_features = dict()\n",
    "for p in tqdm(os.listdir(base_path)):\n",
    "    f_dir = os.path.join(base_path, p)\n",
    "    f_features = load_json(f_dir)\n",
    "    all_features.update(f_features)"
   ]
  },
  {
   "cell_type": "code",
   "execution_count": 11,
   "metadata": {},
   "outputs": [],
   "source": [
    "save_features = dict()\n",
    "for e in facts:\n",
    "    if e in all_features:\n",
    "        save_features[e] = all_features[e]"
   ]
  },
  {
   "cell_type": "code",
   "execution_count": 13,
   "metadata": {},
   "outputs": [],
   "source": [
    "save_json(save_features, 'datasets/complexwebq/features.json')"
   ]
  },
  {
   "cell_type": "code",
   "execution_count": 75,
   "metadata": {},
   "outputs": [
    {
     "name": "stderr",
     "output_type": "stream",
     "text": [
      "1it [00:00, 1558.64it/s]"
     ]
    },
    {
     "name": "stdout",
     "output_type": "stream",
     "text": [
      "gt: [['m.0hn47qp', 'sports.sports_team.fight_song', 'm.01ct6', 'sports.sports_team.championships', 'm.0642vqv'], ['m.0hn47qp', 'sports.sports_team.fight_song', 'm.01ct6', 'sports.sports_team.championships', 'm.076yq'], ['m.06x5s', 'sports.sports_championship_event.championship', 'm.076yq'], ['m.06x5s', 'sports.sports_championship_event.championship', 'm.0642vqv']]\n",
      "adj_relations2 {'m.076yq': [('sports.sports_championship_event.championship', 'time.recurring_event.instances'), ('sports.sports_championship_event.championship', 'user.dylanrocks.national_football_league.super_bowl_site.super_bowl'), ('sports.sports_championship_event.championship', 'sports.sports_team.championships'), ('sports.sports_championship_event.championship', 'sports.sports_championship_event.season'), ('sports.sports_championship_event.championship', 'sports.sports_league_season.championship'), ('sports.sports_championship_event.championship', 'time.event.end_date'), ('sports.sports_championship_event.championship', 'time.event.locations'), ('sports.sports_championship_event.championship', 'sports.sports_championship_event.championship'), ('sports.sports_championship_event.championship', 'sports.sports_championship_event.result'), ('sports.sports_championship_event.championship', 'common.topic.notable_types'), ('sports.sports_championship_event.championship', 'sports.sports_championship_event.runner_up'), ('sports.sports_championship_event.championship', 'NotEquals')], 'm.0642vqv': [('sports.sports_championship_event.championship', 'freebase.valuenotation.is_reviewed'), ('sports.sports_championship_event.championship', 'sports.sports_team.championships'), ('sports.sports_championship_event.championship', 'time.recurring_event.instances'), ('sports.sports_championship_event.championship', 'sports.sports_championship_event.season'), ('sports.sports_championship_event.championship', 'sports.sports_league_season.championship'), ('sports.sports_championship_event.championship', 'time.event.end_date'), ('sports.sports_championship_event.championship', 'time.event.included_in_event'), ('sports.sports_championship_event.championship', 'time.event.locations'), ('sports.sports_championship_event.championship', 'time.event.includes_event'), ('sports.sports_championship_event.championship', 'sports.sports_championship_event.championship'), ('sports.sports_championship_event.championship', 'sports.sports_championship_event.result'), ('sports.sports_championship_event.championship', 'location.location.events'), ('sports.sports_championship_event.championship', 'common.topic.notable_types'), ('sports.sports_championship_event.championship', 'sports.sports_championship_event.runner_up'), ('sports.sports_championship_event.championship', 'NotEquals')]}\n",
      "-------------------------\n",
      "\n"
     ]
    },
    {
     "name": "stderr",
     "output_type": "stream",
     "text": [
      "\n"
     ]
    }
   ],
   "source": [
    "max_max_len = 0\n",
    "for idx, e in tqdm(enumerate((train_data + dev_data + test_data))):\n",
    "    if 'rel_cands_multi' in e:\n",
    "        del e['rel_cands_multi']\n",
    "    if 'rel_cands_multi_cands1' in e:\n",
    "        del e['rel_cands_multi_cands1']\n",
    "    if 'rel_cands_multi_cands2' in e:\n",
    "        del e['rel_cands_multi_cands2']\n",
    "    if 'rel_cands_multi_cands3' in e:\n",
    "        del e['rel_cands_multi_cands3']\n",
    "    if 'entities1' in e:\n",
    "        del e['entities1']\n",
    "    if 'entities2' in e:\n",
    "        del e['entities2']\n",
    "    if 'entities3' in e:\n",
    "        del e['entities3']\n",
    "    if 'ground_truth_map' in e:\n",
    "        del e['ground_truth_map']\n",
    "    if 'ground_truth_cands_1' in e:\n",
    "        del e['ground_truth_cands_1']\n",
    "    if 'ground_truth_cands_2' in e:\n",
    "        del e['ground_truth_cands_2']\n",
    "    if 'ground_truth_cands_3' in e:\n",
    "        del e['ground_truth_cands_3']\n",
    "    block_rels = {'Equals', 'GreaterThan', 'GreaterThanOrEqual', 'LessThan', 'LessThanOrEqual', 'NotEquals'}\n",
    "    entities1 = set()\n",
    "    entities2 = set()\n",
    "    entities3 = set()\n",
    "    for gtp in e['ground_truth_path']:\n",
    "        if len(gtp) > 0:\n",
    "            entities1.add((gtp[0],))\n",
    "        if len(gtp) > 2:\n",
    "            entities2.add((gtp[2], gtp[1]))\n",
    "        if len(gtp) > 4:\n",
    "            entities3.add((gtp[4], gtp[1], gtp[3]))\n",
    "    entities1 = list(entities1)\n",
    "    entities2 = list(entities2)\n",
    "    entities3 = list(entities3)\n",
    "    e['entities1'] = entities1\n",
    "    e['entities2'] = entities2\n",
    "    e['entities3'] = entities3\n",
    "    \n",
    "    #FIX EOD special relationship.\n",
    "    rel_cands_multi_map = defaultdict(set)\n",
    "    for gt_path in e['ground_truth_path']:\n",
    "        i_range = list(range(1, len(gt_path) - 1, 2))\n",
    "#         print('gp___: ', gt_path)\n",
    "        for idx, i in enumerate(i_range):\n",
    "            rel = [gt_path[i_idx] for i_idx in i_range[:(idx+1)]]\n",
    "            rel_hop = i // 2\n",
    "            cur_entity = gt_path[i - 1]\n",
    "            rel_cands_multi_map['%s___%d' % (cur_entity, rel_hop)].add(tuple(rel))\n",
    "    rel_cands_multi_map = {k: list(v) for k, v in rel_cands_multi_map.items()}\n",
    "    for k in rel_cands_multi_map.keys():\n",
    "        k_spt = k.split('___')[1]\n",
    "        \n",
    "    e['ground_truth_map'] = rel_cands_multi_map\n",
    "    \n",
    "    adj_relations1 = dict()\n",
    "    for entity in entities1:\n",
    "        adj_relations1_tmp = set()\n",
    "        for adj_relation in facts[entity[0]]:\n",
    "            adj_relations1_tmp.add((adj_relation,))\n",
    "        adj_relations1_tmp -= block_rels\n",
    "        adj_relations1[entity[0]] = list(adj_relations1_tmp)\n",
    "    adj_relations2 = dict()\n",
    "    for entity in entities2:\n",
    "        adj_relations2_tmp = set()\n",
    "        for adj_relation in facts[entity[0]]:\n",
    "            if entity[1] not in block_rels:\n",
    "                adj_relations2_tmp.add((entity[1], adj_relation))\n",
    "        adj_relations2_tmp.add((entity[1], 'EOD'))\n",
    "        adj_relations2[entity[0]] = list(adj_relations2_tmp)\n",
    "    adj_relations3 = dict()\n",
    "    for entity in entities3:\n",
    "        adj_relations3_tmp = set()\n",
    "        for adj_relation in facts[entity[0]]:\n",
    "            if entity[2] not in block_rels:\n",
    "                adj_relations3_tmp.add((entity[2], entity[1], adj_relation))\n",
    "        adj_relations3_tmp.add((entity[2], entity[1], 'EOD'))\n",
    "        adj_relations3[entity[0]] = list(adj_relations3_tmp)\n",
    "    \n",
    "#     max_len = max([len(e) for e in rel_cands_multi_map.values()])\n",
    "#     max_max_len = max(max_max_len, max_len)\n",
    "    e['ground_truth_cands_1'] = adj_relations1\n",
    "    e['ground_truth_cands_2'] = adj_relations2\n",
    "    e['ground_truth_cands_3'] = adj_relations3\n",
    "#     print('adj_relations1', adj_relations1)\n",
    "#     print('adj_relations2', adj_relations2)\n",
    "    print('adj_relations3', adj_relations3)\n",
    "    break\n",
    "#     print(max_len)\n",
    "#     print('-------------------------')\n",
    "#     print()\n",
    "# print(max_max_len)\n",
    "#         print(entities2)\n",
    "#         print(entities3)\n",
    "#         print(e['ground_truth_path'])"
   ]
  },
  {
   "cell_type": "code",
   "execution_count": 263,
   "metadata": {},
   "outputs": [
    {
     "name": "stderr",
     "output_type": "stream",
     "text": [
      "34689it [00:05, 5855.38it/s]"
     ]
    },
    {
     "name": "stdout",
     "output_type": "stream",
     "text": [
      "0.6955073521513021\n",
      "30.169655551553525\n"
     ]
    },
    {
     "name": "stderr",
     "output_type": "stream",
     "text": [
      "\n"
     ]
    }
   ],
   "source": [
    "# new method\n",
    "avg_recall = 0\n",
    "recall_cnt = 0\n",
    "avg_recall2 = 0\n",
    "recall_cnt2 = 0\n",
    "avg_len_cands = 0\n",
    "total_len_cands = 0\n",
    "for idx, e in tqdm(enumerate((train_data + dev_data + test_data))):\n",
    "    if 'rel_cands_multi' in e:\n",
    "        del e['rel_cands_multi']\n",
    "    if 'rel_cands_multi_cands1' in e:\n",
    "        del e['rel_cands_multi_cands1']\n",
    "    if 'rel_cands_multi_cands2' in e:\n",
    "        del e['rel_cands_multi_cands2']\n",
    "    if 'rel_cands_multi_cands3' in e:\n",
    "        del e['rel_cands_multi_cands3']\n",
    "    if 'entities1' in e:\n",
    "        del e['entities1']\n",
    "    if 'entities2' in e:\n",
    "        del e['entities2']\n",
    "    if 'entities3' in e:\n",
    "        del e['entities3']\n",
    "    if 'ground_truth_map' in e:\n",
    "        del e['ground_truth_map']\n",
    "    if 'ground_truth_cands_1' in e:\n",
    "        del e['ground_truth_cands_1']\n",
    "    if 'ground_truth_cands_2' in e:\n",
    "        del e['ground_truth_cands_2']\n",
    "    if 'ground_truth_cands_3' in e:\n",
    "        del e['ground_truth_cands_3']\n",
    "    if 'rel_chaim_map' in e:\n",
    "        del e['rel_chaim_map']\n",
    "    if 'rel_chain_entity_map' in e:\n",
    "        del e['rel_chain_entity_map']\n",
    "    block_rels = {'Equals', 'GreaterThan', 'GreaterThanOrEqual', 'LessThan', 'LessThanOrEqual', 'NotEquals'}\n",
    "#     print(e['sparql'])\n",
    "    \n",
    "    rel_chain_map = dict()\n",
    "    rel_chain_entity_map = dict()\n",
    "    for hop in range(1, 5):\n",
    "        rel_chain_with_hop_map =  dict()\n",
    "        rel_chain_entity_with_hop_map = dict()\n",
    "        # Find the following relations based on the previous entity-relation chain.\n",
    "        local_entity_rel_chain_map = defaultdict(set)\n",
    "        # Find the intermediate entities based on the topic entity with the given hop\n",
    "        local_entity_inter_entities_map = defaultdict(set)\n",
    "        for gt in e['ground_truth_path']:\n",
    "            topic_entity = gt[0]\n",
    "            target_relation = gt[2*hop-1] if (2*hop-1 < len(gt)) else 'EOD'\n",
    "            prev_relations = [(gt[idx] if idx < len(gt) else 'EOD') for idx in range(1, 2*hop-1, 2)]\n",
    "#             if 'EOD' in prev_relations:\n",
    "#                 continue\n",
    "            local_entity_rel_chain_map[topic_entity].add(tuple(prev_relations + [target_relation]))\n",
    "            if 2*(hop-1) < len(gt):\n",
    "                local_entity_inter_entities_map[topic_entity].add(tuple([gt[2*(hop-1)]] + [gt_e for idx_e, gt_e in enumerate(gt[:2*(hop-1)]) if idx_e % 2 == 1]))\n",
    "#         print('hop:', hop)\n",
    "#         print('local_entity_rel_chain_map', local_entity_rel_chain_map)\n",
    "#         print('entitysssss:', entities)\n",
    "        for k, v in local_entity_rel_chain_map.items():\n",
    "#             print('entity:', entity)\n",
    "            rel_chain_with_hop_entity_map = dict()\n",
    "            ground_truth = list(v)\n",
    "#             print('asdasdasd',ground_truth)\n",
    "            new_cand_rels = set()\n",
    "            for inter_entity_prev_relations in local_entity_inter_entities_map[k]:\n",
    "                inter_entity = inter_entity_prev_relations[0]\n",
    "                prev_relations = inter_entity_prev_relations[1:]\n",
    "                temp_rels = set(facts[inter_entity].keys())\n",
    "                temp_rels = list(filter(lambda x: x not in block_rels, temp_rels))\n",
    "                temp_rels.append('EOD')\n",
    "                temp_rels = set(map(lambda x: tuple(list(prev_relations) + [x]), temp_rels))\n",
    "                new_cand_rels.update(temp_rels)\n",
    "            new_cand_rels = list(new_cand_rels)\n",
    "            \n",
    "            rel_chain_with_hop_entity_map['ground_truth'] = ground_truth\n",
    "            rel_chain_with_hop_entity_map['cands'] = list(new_cand_rels)\n",
    "            avg_len_cands += len(new_cand_rels)\n",
    "            total_len_cands += 1\n",
    "            rel_chain_with_hop_map[k] = rel_chain_with_hop_entity_map\n",
    "            \n",
    "            recall = len(set(new_cand_rels) & set([tuple(e) for e in ground_truth])) / len(ground_truth)\n",
    "#             if recall < 1:\n",
    "#                 print(idx)\n",
    "#                 print(new_cand_rels)\n",
    "#                 print('-----------------------------------')\n",
    "#                 print(ground_truth)\n",
    "#                 print()\n",
    "#                 asdsdsds\n",
    "            avg_recall += recall\n",
    "            recall_cnt += 1\n",
    "        rel_chain_map[hop] = rel_chain_with_hop_map\n",
    "#         print()\n",
    "    e['rel_chain_map'] = rel_chain_map\n",
    "#     print(rel_chain_map)\n",
    "    #e['rel_chain_entity_map'] = rel_chain_entity_map\n",
    "#     break\n",
    "            \n",
    "#     for k, v in rel_chain_map.items():\n",
    "#         print('%s--> %s' % (k, v))\n",
    "print(avg_recall / recall_cnt)\n",
    "print(avg_len_cands / total_len_cands)\n",
    "    "
   ]
  },
  {
   "cell_type": "code",
   "execution_count": 264,
   "metadata": {},
   "outputs": [],
   "source": [
    "save_json(train_data, cfg['data_folder'] + 'complex_train_processed_new2.json')\n",
    "save_json(dev_data, cfg['data_folder'] + 'complex_dev_processed_new2.json')\n",
    "save_json(test_data, cfg['data_folder'] + 'complex_test_processed_new2.json')"
   ]
  },
  {
   "cell_type": "code",
   "execution_count": 226,
   "metadata": {},
   "outputs": [
    {
     "name": "stdout",
     "output_type": "stream",
     "text": [
      "{1: {'m.07ssc|||base.aareas.schema.administrative_area.administrative_children': {'ground_truth': ['m.05bcl'], 'cands': ['m.0j5g9', 'm.02jx1', 'm.05bcl', 'm.06q1r']}, 'm.02dv8y|||location.country.administrative_divisions': {'ground_truth': ['m.05bcl'], 'cands': ['m.05bcl']}, 'm.0hzjlmp|||base.aareas.schema.administrative_area.administrative_area_type': {'ground_truth': ['m.05bcl'], 'cands': ['m.05bcl', 'm.06q1r', 'm.02jx1', 'm.0j5g9']}}, 2: {}, 3: {}}\n"
     ]
    }
   ],
   "source": [
    "print(train_data[25]['rel_chain_entity_map'])"
   ]
  },
  {
   "cell_type": "code",
   "execution_count": 196,
   "metadata": {},
   "outputs": [
    {
     "data": {
      "text/plain": [
       "{'m.092bf5': 0}"
      ]
     },
     "execution_count": 196,
     "metadata": {},
     "output_type": "execute_result"
    }
   ],
   "source": [
    "facts['m.03q1lvy']['location.religion_percentage.religion']"
   ]
  },
  {
   "cell_type": "code",
   "execution_count": 194,
   "metadata": {},
   "outputs": [
    {
     "data": {
      "text/plain": [
       "{'m.092bf5': 1}"
      ]
     },
     "execution_count": 194,
     "metadata": {},
     "output_type": "execute_result"
    }
   ],
   "source": [
    "facts['m.01c_w6']['religion.religion.sacred_sites']"
   ]
  },
  {
   "cell_type": "code",
   "execution_count": 203,
   "metadata": {},
   "outputs": [
    {
     "name": "stdout",
     "output_type": "stream",
     "text": [
      "16.87120177534995\n",
      "0.8247695459201092\n"
     ]
    }
   ],
   "source": [
    "avg_entity = 0\n",
    "avg_recall = 0\n",
    "total = 0\n",
    "for q in test_data:\n",
    "    for gt in q['ground_truth_path']:\n",
    "        s = gt[0]\n",
    "        p = gt[1]\n",
    "        o = gt[2]\n",
    "        next_hop_ents = set(list(facts[s][p].keys())[:50])\n",
    "        avg_recall += 1 if o in next_hop_ents else 0\n",
    "        avg_entity += len(next_hop_ents)\n",
    "        total += 1\n",
    "print(avg_entity / total)\n",
    "print(avg_recall / total)"
   ]
  },
  {
   "cell_type": "markdown",
   "metadata": {},
   "source": [
    "# New Check facts"
   ]
  },
  {
   "cell_type": "code",
   "execution_count": 229,
   "metadata": {},
   "outputs": [
    {
     "name": "stdout",
     "output_type": "stream",
     "text": [
      "m.0f4yh media_common.adapted_work.adaptations m.0j9qgt6\n",
      "True\n"
     ]
    }
   ],
   "source": [
    "# Check if all objects with the same predicate have the same direction\n",
    "flag = False\n",
    "for s in facts:\n",
    "    if flag:\n",
    "        break\n",
    "    for p in facts[s]:\n",
    "        if flag:\n",
    "            break\n",
    "        prev_direction = None\n",
    "        for o in facts[s][p]:\n",
    "            direction = facts[s][p][o]\n",
    "            if prev_direction is None:\n",
    "                prev_direction = direction\n",
    "            elif direction != prev_direction:\n",
    "                print(s, p, o)\n",
    "                flag = True\n",
    "print(flag)"
   ]
  },
  {
   "cell_type": "code",
   "execution_count": 230,
   "metadata": {},
   "outputs": [
    {
     "data": {
      "text/plain": [
       "{'m.02pst7z': 1, 'm.0j9qgt6': 0}"
      ]
     },
     "execution_count": 230,
     "metadata": {},
     "output_type": "execute_result"
    }
   ],
   "source": [
    "facts['m.0f4yh']['media_common.adapted_work.adaptations']"
   ]
  },
  {
   "cell_type": "code",
   "execution_count": 259,
   "metadata": {},
   "outputs": [
    {
     "name": "stderr",
     "output_type": "stream",
     "text": [
      "34689it [00:00, 610054.68it/s]"
     ]
    },
    {
     "name": "stdout",
     "output_type": "stream",
     "text": [
      "defaultdict(<class 'int'>, {3: 31197, 2: 57361, 1: 28143, 4: 21879, 6: 3, 5: 270})\n"
     ]
    },
    {
     "name": "stderr",
     "output_type": "stream",
     "text": [
      "\n"
     ]
    }
   ],
   "source": [
    "lens_gt = defaultdict(int)\n",
    "for idx, e in tqdm(enumerate((train_data + dev_data + test_data))):\n",
    "    for gt in e['ground_truth_path']:\n",
    "        lens_gt[(len(gt) - 1) // 2] += 1\n",
    "print(lens_gt)"
   ]
  },
  {
   "cell_type": "code",
   "execution_count": 269,
   "metadata": {},
   "outputs": [
    {
     "data": {
      "text/plain": [
       "{1: {'m.0hn47qp': {'ground_truth': [('sports.sports_team.fight_song',)],\n",
       "   'cands': [('sports.sports_team.fight_song',),\n",
       "    ('common.topic.notable_types',),\n",
       "    ('EOD',)]},\n",
       "  'm.06x5s': {'ground_truth': [('sports.sports_championship_event.championship',)],\n",
       "   'cands': [('time.recurring_event.instances',),\n",
       "    ('freebase.type_profile.equivalent_topic',),\n",
       "    ('freebase.equivalent_topic.equivalent_type',),\n",
       "    ('symbols.namesake.named_after',),\n",
       "    ('book.written_work.subjects',),\n",
       "    ('tv.the_colbert_report_episode.intro_topics',),\n",
       "    ('sports.sports_championship.events',),\n",
       "    ('symbols.name_source.namesakes',),\n",
       "    ('time.recurring_event.current_frequency',),\n",
       "    ('common.image.appears_in_topic_gallery',),\n",
       "    ('common.topic.image',),\n",
       "    ('sports.sports_championship_event.championship',),\n",
       "    ('book.book_subject.works',),\n",
       "    ('sports.sports_championship.league',),\n",
       "    ('freebase.valuenotation.is_reviewed',),\n",
       "    ('business.business_operation.major_customer',),\n",
       "    ('base.yupgrade.user.topics',),\n",
       "    ('time.event.instance_of_recurring_event',),\n",
       "    ('sports.sports_league.championship',),\n",
       "    ('EOD',),\n",
       "    ('common.topic.notable_types',),\n",
       "    ('freebase.valuenotation.has_no_value',),\n",
       "    ('business.customer.supplier',)]}},\n",
       " 2: {'m.0hn47qp': {'ground_truth': [('sports.sports_team.fight_song',\n",
       "     'sports.sports_team.championships')],\n",
       "   'cands': [('sports.sports_team.fight_song', 'tv.tv_subject.tv_episodes'),\n",
       "    ('sports.sports_team.fight_song',\n",
       "     'user.szaijan.fantasy_football.player.nfl_team'),\n",
       "    ('sports.sports_team.fight_song', 'symbols.namesake.named_after'),\n",
       "    ('sports.sports_team.fight_song', 'sports.sports_team.arena_stadium'),\n",
       "    ('sports.sports_team.fight_song',\n",
       "     'american_football.game_rushing_statistics.team'),\n",
       "    ('sports.sports_team.fight_song', 'film.film_subject.films'),\n",
       "    ('sports.sports_team.fight_song',\n",
       "     'sports.sports_league_participation.team'),\n",
       "    ('sports.sports_team.fight_song',\n",
       "     'american_football.player_receiving_statistics.team'),\n",
       "    ('sports.sports_team.fight_song', 'sports.sports_team.season_record'),\n",
       "    ('sports.sports_team.fight_song',\n",
       "     'american_football.player_game_statistics.team'),\n",
       "    ('sports.sports_team.fight_song', 'tv.tv_actor.guest_roles'),\n",
       "    ('sports.sports_team.fight_song',\n",
       "     'user.dylanrocks.national_football_league.nfl_teams_that_have_moved_cities.original_city'),\n",
       "    ('sports.sports_team.fight_song',\n",
       "     'film.person_or_entity_appearing_in_film.films'),\n",
       "    ('sports.sports_team.fight_song',\n",
       "     'base.schemastaging.athlete_salary.team'),\n",
       "    ('sports.sports_team.fight_song', 'sports.sports_team.venue'),\n",
       "    ('sports.sports_team.fight_song',\n",
       "     'american_football.game_passing_statistics.team'),\n",
       "    ('sports.sports_team.fight_song', 'sports.sports_team.league'),\n",
       "    ('sports.sports_team.fight_song',\n",
       "     'american_football.football_game.away_team'),\n",
       "    ('sports.sports_team.fight_song', 'symbols.name_source.namesakes'),\n",
       "    ('sports.sports_team.fight_song',\n",
       "     'american_football.football_team.current_head_coach'),\n",
       "    ('sports.sports_team.fight_song', 'common.topic.image'),\n",
       "    ('sports.sports_team.fight_song', 'sports.sports_team_roster.team'),\n",
       "    ('sports.sports_team.fight_song',\n",
       "     'american_football.football_game.home_team'),\n",
       "    ('sports.sports_team.fight_song',\n",
       "     'american_football.player_passing_statistics.team'),\n",
       "    ('sports.sports_team.fight_song',\n",
       "     'sports.sports_championship_event.runner_up'),\n",
       "    ('sports.sports_team.fight_song', 'EOD'),\n",
       "    ('sports.sports_team.fight_song',\n",
       "     'american_football.football_game_score.team'),\n",
       "    ('sports.sports_team.fight_song', 'sports.sports_team.fight_song'),\n",
       "    ('sports.sports_team.fight_song', 'sports.sports_team.founded'),\n",
       "    ('sports.sports_team.fight_song',\n",
       "     'user.dylanrocks.national_football_league.nfl_cheerleader.team'),\n",
       "    ('sports.sports_team.fight_song',\n",
       "     'american_football.football_team.home_games'),\n",
       "    ('sports.sports_team.fight_song', 'sports.sports_facility.teams'),\n",
       "    ('sports.sports_team.fight_song', 'sports.sports_team.sport'),\n",
       "    ('sports.sports_team.fight_song', 'sports.sports_team_owner.teams_owned'),\n",
       "    ('sports.sports_team.fight_song',\n",
       "     'american_football.football_team.conference'),\n",
       "    ('sports.sports_team.fight_song',\n",
       "     'american_football.game_receiving_statistics.team'),\n",
       "    ('sports.sports_team.fight_song', 'sports.sports_team_location.teams'),\n",
       "    ('sports.sports_team.fight_song', 'award.award_nominee.award_nominations'),\n",
       "    ('sports.sports_team.fight_song', 'sports.sports_team.coaches'),\n",
       "    ('sports.sports_team.fight_song',\n",
       "     'american_football.football_team.historical_coaching_staff'),\n",
       "    ('sports.sports_team.fight_song', 'sports.sports_team.team_mascot'),\n",
       "    ('sports.sports_team.fight_song', 'sports.sport.teams'),\n",
       "    ('sports.sports_team.fight_song',\n",
       "     'sports.professional_sports_team.owner_s'),\n",
       "    ('sports.sports_team.fight_song',\n",
       "     'sports.professional_sports_team.draft_picks'),\n",
       "    ('sports.sports_team.fight_song', 'sports.sports_team_season_record.team'),\n",
       "    ('sports.sports_team.fight_song',\n",
       "     'american_football.football_team.division'),\n",
       "    ('sports.sports_team.fight_song', 'sports.sports_team.roster'),\n",
       "    ('sports.sports_team.fight_song', 'sports.sports_team.championships'),\n",
       "    ('sports.sports_team.fight_song',\n",
       "     'user.szaijan.fantasy_football.player.projection'),\n",
       "    ('sports.sports_team.fight_song',\n",
       "     'american_football.football_team.away_games'),\n",
       "    ('sports.sports_team.fight_song',\n",
       "     'american_football.player_rushing_statistics.team'),\n",
       "    ('sports.sports_team.fight_song', 'sports.sports_team.colors'),\n",
       "    ('sports.sports_team.fight_song', 'common.topic.notable_types')]},\n",
       "  'm.06x5s': {'ground_truth': [('sports.sports_championship_event.championship',\n",
       "     'EOD')],\n",
       "   'cands': [('sports.sports_championship_event.championship',\n",
       "     'time.recurring_event.instances'),\n",
       "    ('sports.sports_championship_event.championship',\n",
       "     'sports.sports_team.championships'),\n",
       "    ('sports.sports_championship_event.championship',\n",
       "     'sports.sports_championship_event.season'),\n",
       "    ('sports.sports_championship_event.championship', 'time.event.end_date'),\n",
       "    ('sports.sports_championship_event.championship', 'time.event.locations'),\n",
       "    ('sports.sports_championship_event.championship',\n",
       "     'time.event.includes_event'),\n",
       "    ('sports.sports_championship_event.championship',\n",
       "     'sports.sports_championship_event.result'),\n",
       "    ('sports.sports_championship_event.championship',\n",
       "     'sports.sports_championship_event.championship'),\n",
       "    ('sports.sports_championship_event.championship',\n",
       "     'common.topic.notable_types'),\n",
       "    ('sports.sports_championship_event.championship',\n",
       "     'sports.sports_championship_event.runner_up'),\n",
       "    ('sports.sports_championship_event.championship',\n",
       "     'freebase.valuenotation.is_reviewed'),\n",
       "    ('sports.sports_championship_event.championship',\n",
       "     'user.dylanrocks.national_football_league.super_bowl_site.super_bowl'),\n",
       "    ('sports.sports_championship_event.championship',\n",
       "     'sports.sports_league_season.championship'),\n",
       "    ('sports.sports_championship_event.championship',\n",
       "     'time.event.included_in_event'),\n",
       "    ('sports.sports_championship_event.championship',\n",
       "     'location.location.events'),\n",
       "    ('sports.sports_championship_event.championship', 'EOD')]}},\n",
       " 3: {'m.0hn47qp': {'ground_truth': [('sports.sports_team.fight_song',\n",
       "     'sports.sports_team.championships',\n",
       "     'EOD')],\n",
       "   'cands': [('sports.sports_team.fight_song',\n",
       "     'sports.sports_team.championships',\n",
       "     'sports.sports_championship_event.runner_up'),\n",
       "    ('sports.sports_team.fight_song',\n",
       "     'sports.sports_team.championships',\n",
       "     'time.event.locations'),\n",
       "    ('sports.sports_team.fight_song',\n",
       "     'sports.sports_team.championships',\n",
       "     'time.event.includes_event'),\n",
       "    ('sports.sports_team.fight_song',\n",
       "     'sports.sports_team.championships',\n",
       "     'sports.sports_championship_event.season'),\n",
       "    ('sports.sports_team.fight_song',\n",
       "     'sports.sports_team.championships',\n",
       "     'time.event.end_date'),\n",
       "    ('sports.sports_team.fight_song',\n",
       "     'sports.sports_team.championships',\n",
       "     'sports.sports_team.championships'),\n",
       "    ('sports.sports_team.fight_song',\n",
       "     'sports.sports_team.championships',\n",
       "     'time.recurring_event.instances'),\n",
       "    ('sports.sports_team.fight_song',\n",
       "     'sports.sports_team.championships',\n",
       "     'sports.sports_championship_event.championship'),\n",
       "    ('sports.sports_team.fight_song',\n",
       "     'sports.sports_team.championships',\n",
       "     'location.location.events'),\n",
       "    ('sports.sports_team.fight_song',\n",
       "     'sports.sports_team.championships',\n",
       "     'sports.sports_league_season.championship'),\n",
       "    ('sports.sports_team.fight_song',\n",
       "     'sports.sports_team.championships',\n",
       "     'EOD'),\n",
       "    ('sports.sports_team.fight_song',\n",
       "     'sports.sports_team.championships',\n",
       "     'time.event.included_in_event'),\n",
       "    ('sports.sports_team.fight_song',\n",
       "     'sports.sports_team.championships',\n",
       "     'sports.sports_championship_event.result'),\n",
       "    ('sports.sports_team.fight_song',\n",
       "     'sports.sports_team.championships',\n",
       "     'freebase.valuenotation.is_reviewed'),\n",
       "    ('sports.sports_team.fight_song',\n",
       "     'sports.sports_team.championships',\n",
       "     'common.topic.notable_types'),\n",
       "    ('sports.sports_team.fight_song',\n",
       "     'sports.sports_team.championships',\n",
       "     'user.dylanrocks.national_football_league.super_bowl_site.super_bowl')]},\n",
       "  'm.06x5s': {'ground_truth': [('sports.sports_championship_event.championship',\n",
       "     'EOD',\n",
       "     'EOD')],\n",
       "   'cands': []}},\n",
       " 4: {'m.0hn47qp': {'ground_truth': [('sports.sports_team.fight_song',\n",
       "     'sports.sports_team.championships',\n",
       "     'EOD',\n",
       "     'EOD')],\n",
       "   'cands': []},\n",
       "  'm.06x5s': {'ground_truth': [('sports.sports_championship_event.championship',\n",
       "     'EOD',\n",
       "     'EOD',\n",
       "     'EOD')],\n",
       "   'cands': []}}}"
      ]
     },
     "execution_count": 269,
     "metadata": {},
     "output_type": "execute_result"
    }
   ],
   "source": [
    "train_data[1]['rel_chain_map']"
   ]
  },
  {
   "cell_type": "code",
   "execution_count": null,
   "metadata": {},
   "outputs": [],
   "source": []
  }
 ],
 "metadata": {
  "kernelspec": {
   "display_name": "Python 3",
   "language": "python",
   "name": "python3"
  },
  "language_info": {
   "codemirror_mode": {
    "name": "ipython",
    "version": 3
   },
   "file_extension": ".py",
   "mimetype": "text/x-python",
   "name": "python",
   "nbconvert_exporter": "python",
   "pygments_lexer": "ipython3",
   "version": "3.7.4-final"
  }
 },
 "nbformat": 4,
 "nbformat_minor": 4
}